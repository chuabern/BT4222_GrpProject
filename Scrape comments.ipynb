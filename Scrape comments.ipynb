{
 "cells": [
  {
   "cell_type": "code",
   "execution_count": 52,
   "metadata": {},
   "outputs": [],
   "source": [
    "import pandas as pd\n",
    "import re\n",
    "import json\n",
    "import glob\n",
    "from tqdm import tqdm\n",
    "from selenium import webdriver\n",
    "from selenium.webdriver.common.by import By\n",
    "from selenium.webdriver.support.ui import WebDriverWait\n",
    "from selenium.webdriver.support import expected_conditions as EC\n",
    "\n",
    "# Define range for file, friends change this help me download when you're free lel\n",
    "start_int = 0\n",
    "end_int = 100"
   ]
  },
  {
   "cell_type": "code",
   "execution_count": 26,
   "metadata": {},
   "outputs": [],
   "source": [
    "# Combine CSV, generate output\n",
    "\n",
    "files = glob.glob(\"Clean_data/*.csv\")\n",
    "\n",
    "csv = []\n",
    "\n",
    "for file in files:\n",
    "    df = pd.read_csv(file, index_col=None, header=0)\n",
    "    csv.append(df)\n",
    "\n",
    "df = pd.concat(csv, axis=0, ignore_index=True)"
   ]
  },
  {
   "cell_type": "code",
   "execution_count": 27,
   "metadata": {},
   "outputs": [
    {
     "name": "stdout",
     "output_type": "stream",
     "text": [
      "(195933, 27) \n",
      " Index(['Unnamed: 0', 'backers_count', 'blurb', 'category',\n",
      "       'converted_pledged_amount', 'country', 'created_at', 'current_currency',\n",
      "       'deadline', 'fx_rate', 'goal', 'id', 'launched_at', 'location', 'name',\n",
      "       'pledged', 'profile', 'slug', 'source_url', 'spotlight', 'staff_pick',\n",
      "       'state', 'state_changed_at', 'static_usd_rate', 'urls', 'usd_pledged',\n",
      "       'usd_type'],\n",
      "      dtype='object')\n"
     ]
    }
   ],
   "source": [
    "print(df.shape, \"\\n\",df.columns)"
   ]
  },
  {
   "cell_type": "code",
   "execution_count": 34,
   "metadata": {},
   "outputs": [
    {
     "data": {
      "text/plain": [
       "'https://www.kickstarter.com/projects/toadthewetsprocket/new-studio-album-from-toad-the-wet-sprocket?ref=discovery_category_newest'"
      ]
     },
     "execution_count": 34,
     "metadata": {},
     "output_type": "execute_result"
    }
   ],
   "source": [
    "#urls = df.urls\n",
    "#ids = df.id\n",
    "\n",
    "#urls_ = list(map(lambda url:json.loads(url)[\"web\"][\"project\"],urls))\n",
    "#urls = urls_\n",
    "\n",
    "#get url\n",
    "url = df[df.state == \"successful\"].urls.reset_index().urls[1]\n",
    "url = json.loads(url)\n",
    "url = url[\"web\"][\"project\"]\n",
    "url"
   ]
  },
  {
   "cell_type": "code",
   "execution_count": 54,
   "metadata": {},
   "outputs": [],
   "source": [
    "#path = \"Webdriver/chromedriver.exe\"\n",
    "#driver = webdriver.Chrome(path)\n",
    "#driver = webdriver.Chrome(executable_path='/path/to/chromedriver')\n",
    "\n",
    "#from webdriver_manager.chrome import ChromeDriverManager\n",
    "#driver = webdriver.Chrome(ChromeDriverManager().install())\n",
    "\n",
    "\n",
    "from selenium.webdriver.support import ui\n",
    "from selenium.common.exceptions import TimeoutException\n",
    "driver = webdriver.Chrome()\n",
    "\n",
    "comments = []\n",
    "\n",
    "#for i in tqdm(range(start_int,end_int)):\n",
    "    #driver.get(urls[i])\n",
    "driver.get(url)\n",
    "\n",
    "\n",
    "try:\n",
    "    wait = ui.WebDriverWait(driver, 10)\n",
    "    wait.until(lambda driver: driver.find_element_by_xpath('//div[@id=\"comments-emoji\"]')).click()\n",
    "    #driver.find_element_by_id('comments-emoji').click()\n",
    "except TimeoutException:\n",
    "    pass\n",
    "    \n",
    "\n",
    "try: \n",
    "    comments_raw = WebDriverWait(driver,10).until(\n",
    "    EC.presence_of_element_located((By.XPATH,\"//div[@id='react-project-comments']\"))\n",
    ")\n",
    "    #for comment in comments_raw:\n",
    "    comments.append(comments_raw.text)\n",
    "\n",
    "except TimeoutException:\n",
    "    pass\n",
    "\n",
    "driver.quit()"
   ]
  },
  {
   "cell_type": "code",
   "execution_count": 55,
   "metadata": {},
   "outputs": [
    {
     "data": {
      "text/plain": [
       "[]"
      ]
     },
     "execution_count": 55,
     "metadata": {},
     "output_type": "execute_result"
    }
   ],
   "source": [
    "comments"
   ]
  },
  {
   "cell_type": "code",
   "execution_count": null,
   "metadata": {},
   "outputs": [],
   "source": [
    "df_export = pd.DataFrame({\"index\":list(range(start_int,end_int)),\n",
    "                         \"comments\":comments}, index = None)\n",
    "filename = \"Comments_\" + str(start_int) + \"-\" + str(end_int)\n",
    "df_export.to_csv(\"Output/Comments/{}.csv\".format(filename))"
   ]
  }
 ],
 "metadata": {
  "kernelspec": {
   "display_name": "Python 3",
   "language": "python",
   "name": "python3"
  },
  "language_info": {
   "codemirror_mode": {
    "name": "ipython",
    "version": 3
   },
   "file_extension": ".py",
   "mimetype": "text/x-python",
   "name": "python",
   "nbconvert_exporter": "python",
   "pygments_lexer": "ipython3",
   "version": "3.8.3"
  }
 },
 "nbformat": 4,
 "nbformat_minor": 4
}
