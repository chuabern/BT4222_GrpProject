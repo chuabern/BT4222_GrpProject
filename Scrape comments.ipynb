{
 "cells": [
  {
   "cell_type": "code",
   "execution_count": 24,
   "metadata": {},
   "outputs": [],
   "source": [
    "import pandas as pd\n",
    "import re\n",
    "import json\n",
    "import glob\n",
    "from tqdm import tqdm\n",
    "from selenium import webdriver\n",
    "from selenium.webdriver.common.by import By\n",
    "from selenium.webdriver.support.ui import WebDriverWait\n",
    "from selenium.webdriver.support import expected_conditions as EC\n",
    "\n",
    "# Define range for file, friends change this help me download when you're free lel\n",
    "start_int = 0\n",
    "end_int = 100"
   ]
  },
  {
   "cell_type": "code",
   "execution_count": 25,
   "metadata": {},
   "outputs": [],
   "source": [
    "# Combine CSV, generate output\n",
    "\n",
    "files = glob.glob(\"Clean_data/*.csv\")\n",
    "\n",
    "csv = []\n",
    "\n",
    "for file in files:\n",
    "    df = pd.read_csv(file, index_col=None, header=0)\n",
    "    csv.append(df)\n",
    "\n",
    "df = pd.concat(csv, axis=0, ignore_index=True)"
   ]
  },
  {
   "cell_type": "code",
   "execution_count": 26,
   "metadata": {},
   "outputs": [
    {
     "name": "stdout",
     "output_type": "stream",
     "text": [
      "(195933, 27) \n",
      " Index(['Unnamed: 0', 'backers_count', 'blurb', 'category',\n",
      "       'converted_pledged_amount', 'country', 'created_at', 'current_currency',\n",
      "       'deadline', 'fx_rate', 'goal', 'id', 'launched_at', 'location', 'name',\n",
      "       'pledged', 'profile', 'slug', 'source_url', 'spotlight', 'staff_pick',\n",
      "       'state', 'state_changed_at', 'static_usd_rate', 'urls', 'usd_pledged',\n",
      "       'usd_type'],\n",
      "      dtype='object')\n"
     ]
    }
   ],
   "source": [
    "print(df.shape, \"\\n\",df.columns)"
   ]
  },
  {
   "cell_type": "code",
   "execution_count": 28,
   "metadata": {},
   "outputs": [],
   "source": [
    "urls = df.urls\n",
    "ids = df.id\n",
    "\n",
    "urls_ = list(map(lambda url:json.loads(url)[\"web\"][\"project\"],urls))\n",
    "urls = list(map(lambda url:url.replace(\"?ref=discovery_category_newest\",\"/comments\"),urls_))\n",
    "#urls = urls_\n",
    "\n",
    "#get url\n",
    "#url = df[df.state == \"successful\"].urls.reset_index().urls[1]\n",
    "#url = json.loads(url)\n",
    "#url = url[\"web\"][\"project\"]\n",
    "#url"
   ]
  },
  {
   "cell_type": "code",
   "execution_count": 29,
   "metadata": {},
   "outputs": [
    {
     "name": "stderr",
     "output_type": "stream",
     "text": [
      "[WDM] - ====== WebDriver manager ======\n"
     ]
    },
    {
     "name": "stdout",
     "output_type": "stream",
     "text": [
      "\n",
      "\n"
     ]
    },
    {
     "name": "stderr",
     "output_type": "stream",
     "text": [
      "[WDM] - Current google-chrome version is 89.0.4389\n",
      "[WDM] - Get LATEST driver version for 89.0.4389\n",
      "[WDM] - Driver [/Users/amandatan/.wdm/drivers/chromedriver/mac64/89.0.4389.23/chromedriver] found in cache\n",
      "100%|██████████| 10/10 [00:25<00:00,  2.58s/it]\n"
     ]
    }
   ],
   "source": [
    "#path = \"Webdriver/chromedriver.exe\"\n",
    "#driver = webdriver.Chrome(path)\n",
    "\n",
    "from selenium.webdriver.support import ui\n",
    "from selenium.common.exceptions import TimeoutException\n",
    "\n",
    "from webdriver_manager.chrome import ChromeDriverManager\n",
    "driver = webdriver.Chrome(ChromeDriverManager().install())\n",
    "driver = webdriver.Chrome('/Users/amandatan/Downloads/chromedriver') \n",
    "\n",
    "\n",
    "comments = []\n",
    "\n",
    "for i in tqdm(range(start_int,end_int)):\n",
    "    driver.get(urls[i])\n",
    "#driver.get(url)\n",
    "\n",
    "#wait = ui.WebDriverWait(driver, 10)\n",
    "#wait.until(lambda driver: driver.find_element_by_xpath('//a[@id=\"comments-emoji\"]')).click()\n",
    "#driver.find_element_by_id('comments-emoji').click()\n",
    "\n",
    "    comments_raw = WebDriverWait(driver,10).until(\n",
    "        EC.presence_of_element_located((By.XPATH,\"//div[@id='react-project-comments']\"))\n",
    "    )\n",
    "    #for comment in comments_raw:\n",
    "\n",
    "    while True:\n",
    "        if len(comments_raw.text) >0:\n",
    "            comments.append(comments_raw.text)\n",
    "            break\n",
    "\n",
    "\n",
    "driver.quit()"
   ]
  },
  {
   "cell_type": "code",
   "execution_count": 30,
   "metadata": {},
   "outputs": [
    {
     "data": {
      "text/plain": [
       "['Only backers can post comments. Log in\\nNo comments yet.',\n",
       " 'Only backers can post comments. Log in\\nNo comments yet.',\n",
       " 'Only backers can post comments. Log in\\nGilles Jankowski\\nalmost 4 years ago\\nGilles Jankowski\\n26 op Reilend\\nL-7391 Blaschette',\n",
       " 'Only backers can post comments. Log in\\nNo comments yet.',\n",
       " 'Only backers can post comments. Log in\\nYannig Marchegay\\nover 9 years ago\\nCome on, only 9 backers? :-(',\n",
       " 'Only backers can post comments. Log in\\nNo comments yet.',\n",
       " 'Only backers can post comments. Log in\\nNo comments yet.',\n",
       " 'Only backers can post comments. Log in\\nLisa TeslerSuperbacker\\nover 3 years ago\\nTried to see TTWS at Kaaboo last weekend. The stage area was too small, and I couldn\\'t get anywhere even close! I literally couldn\\'t see a thing. I had a Hang Five pass, but it was so jammed I couldn\\'t even get to that special entrance!\\nBummed to have missed them, but glad to see how popular their set was. I feel like I had something to do with that, as one of their backers. :-)\\nAdam Winther\\nalmost 7 years ago\\nWell, Still waiting to get my signed vinyl. I have screenshots supporting this as well as an email from a representative that said we were all supposed to get it and it was an error. She also said that they would be doing another printing art to sign for the album. This is a breech of trust. Come on!\\nKyle Collins\\nabout 7 years ago\\nNow that I\\'ve listened to the album for a few months, I\\'ve found that the mix is actually alright and fairly smooth to listen to. The CD\\'s sadly a casualty of the loudness war (even the 96k files fall victim to this), however the songwriting is up there with their older stuff.\\nGeorge Mack\\nabout 7 years ago\\nExactly Kyle, and Adam, I didn\\'t say the album was horrible. I think any album with more than a few good tracks to my opinion is a good album. Not every track will please every listener.\\nKyle Collins\\nabout 7 years ago\\n@Adam Winther - I\\'ve heard several versions of information regarding the vinyl. Originally it was stated that all vinyl would be signed. When mine arrived unsigned, I used the contact form on this site and was told that the vinyl was signed at the $125 level. Now I have heard that there was some sort of mistake, and that all vinyl was indeed supposed to be signed? I\\'m curious as to whoever organized and implemented this whole thing... seems it\\'s a bit of a mess.\\nGeorge Mack\\nabout 7 years ago\\nPretty much...\\nAdam Winther\\nabout 7 years ago\\nBtw, They made it right with me when they made a mistake so....I guess I\\'m a psycho.\\nAdam Winther\\nabout 7 years ago\\nOnce again with the \"Toad and the Wet Sprocket\". Please, if you are going to flame, get the name of the band right.\\nGeorge Mack\\nabout 7 years ago\\nOh boo hoo Adam, you\\'re right, I never claimed to be a huge toad and the wet sprocket fan. And I\\'ve never claimed to be a massive fan of the other albums I backed either.\\nI sure do know how I feel because it\\'s my feelings, what an idiotic statement on your part.\\nHuge management team or not, a quarter of million dollars for an album release should allow you to hire additional help.\\nRegardless this project was handled poorly and I am not the minority, just look at when the album was released in stores and people did not have their CD\\'s yet or how about when people had the show in their town and had no contact information for their $1,500 meet and greet.\\nYou can be a huge fan all you want but it\\'s really borderline psycho-fan how you are defending them even with all the facts in place. When my favorite artist pulls some kind of crap I call him and let him know and he usually corrects his mistake(s).\\n\"When will we fall down?\" Hopefully they won\\'t, after poor management on their big return to music.\\nAdam Winther\\nabout 7 years ago\\n@George Mack...you got your cd even after a mix up and you are complaining? You do realize this was mainly for fans to back an album so that it could happen? I am pretty sure the limited CD is different artwork. I know the vinyl is. I didn\\'t get my album signed because of a mistake but they are signing it for me at a concert. Sounds like they do care or they could have just blown me off. You are in the minority as far as how you rate the album. I have been a fan for decades and this is by far their best effort. You sure seem to know a lot about how they feel. They are not that huge a band I can only imagine that they don\\'t have a huge management team. I hope this makes you feel better now that you have vented and shown how inflexible you are. Have a nice day, buttercup. Btw, I can tell how big a fan of Toad AND the Wet Sprocket you are.\\nGeorge Mack\\nabout 7 years ago\\nThe management on this project really rubbed me the wrong way. I got my limited CD a month after you could buy the normal CD. This was blamed on a lost shipment but no proof could be made of the first shipment, only the second shipment had proof.\\nI have backed other artist albums on kickstarter and some ran late but no matter what I got my CD before the public.\\nI think a lot of the loss of customer care comes from the fact artist management was involved and the artist was left out of it on this project.\\nHonestly I feel like Toad and the wet sprocket are just happy we funded them and never really cared past that. I was so let down I just listened to the album for the first time recently. I liked half the tracks which is good for a full release.\\nI won\\'t be backing anymore artist album releases without asking if the artist will be directly monitoring kickstarter to make sure their fans are not let down.\\nBen FrederickSuperbacker\\nabout 7 years ago\\nIt\\'s awesome! Not signed, but you know... I\\'d rather get it signed in person. :) I\\'ll bring it next time you guys are in Indy! Thanks!\\nAdam Winther\\nabout 7 years ago\\n@Mary Chang- I was told in an email from their rep that it was a \"manufacturing\" mistake. (not sure what that means, lol) and that all LP\\'s were to be signed. I was also told they are working at getting insert reprints done and sent out. Hope that helps.\\nRichard Sintchak\\nabout 7 years ago\\nStill have not gotten my code either despite request being made. What\\'s up??\\nMary Chang\\nabout 7 years ago\\nLove the new music, have enjoyed my t-shirt, and stickers, and am so happy you are touring. Sadly, there has been some miscommunication and resulting disappointment involving the vinyl. After waiting as patiently as possible for months, mine finally arrived. No signatures were evident. Hmm, I thought. They must have signed the liner notes. So, I unsealed and inspected everything, but sadly found nothing. So, I came on to the forums, and found that I am not alone. Others received their albums unsigned, even though several months ago y\\'all said the albums would be signed. Could someone please let me know how you plan to deal with this? Thanks and have a great day : )\\nPamela Silverman\\nabout 7 years ago\\nhi - i still haven\\'t received the code for the digital download. can anyone assist? thanks!\\nKatherine Smock\\nabout 7 years ago\\nThe June 6th update said all vinyl would be signed :( was rather disappointed when I opened mine and alas, no signature. Still love the album, but would have loved the signed vinyl as that update was what pushed me to chose the $50 vinyl option instead of another one.\\nAdam Winther\\nabout 7 years ago\\nI remember asking about the vinyl autographs because the 50 dollar CD\\'s were signed. I was told they were too.\\nIs there anyway I can get it signed at the Portland, OR. Concert I am going to?\\nAdam Winther\\nabout 7 years ago\\nI was told all vinyl was autographed when I asked months ago. this is a super bummer!\\nMichael Grosvenor\\nabout 7 years ago\\nHey all... here\\'s some clarification on the signed vinyl.. if you did the $50 level.. your album will be unsigned.... if you pledged $125.. your vinyl cover will be signed... I would\\'ve thought that $50 would get you a signature... Wrong.\\nMichael Grosvenor\\nabout 7 years ago\\nThe vinyl arrived today... UNSIGNED.. Big bummer.. anyone else not get a signed copy? I sent a message to the team here.. hopefully they\\'re able to get it to me.. Wonder what happened there!?\\nBen FrederickSuperbacker\\nabout 7 years ago\\nApparently it\\'s \"ask and ye shall receive!\" Thanks guys, and Merry Christmas!\\nBen FrederickSuperbacker\\nabout 7 years ago\\nPoke! Any updates on vinyl? Not worried at all, just checking up. I\\'ve been enjoying the heck out of the digital edition. :)\\nJeff Archibald\\nabout 7 years ago\\nCould we please get an update on the vinyl and when it might start shipping?\\nAdam Winther\\nabout 7 years ago\\nFor those worried about the vinyl being sold on Amazon. I was told months ago that our version is also signed..so there\\'s that along with the different artwork.\\nShowing 25 of 531 comments\\nLoad more',\n",
       " \"Only backers can post comments. Log in\\nDavid Head\\n4 months ago\\nSo I leave a comment on the update regarding how bad the factory floor prototype looks, that it looks hardly anything like the design, or the wax prototype pictures, and you remove my comment. That's awesome. Says a lot about you guys.\\nSea Demon VinylCreator\\n4 months ago\\nHi David, not really sure where you're looking. The comment is still there where you left it in update #3. I haven't removed it at all. I also sent you a message regarding refunds in case you were interested.\",\n",
       " \"Only backers can post comments. Log in\\nJamie Bowker\\n8 months ago\\nI received the shirt. Small issued though, the logo is backwards. 😟\\nBrian MedeirosCreator\\n8 months ago\\nHey, Jamie! That’s very odd... can you please email me a photo of it so I can see what’s going on?\\nmedeiros.brian90@gmail.com\\nAngie McKeough\\n10 months ago\\nCongratulations! So happy that this was able to succeed and I can't wait to get all my goodies. I'm excited to hang your art in my home!\\nBrian MedeirosCreator\\n10 months ago\\nYou're amazing, thank you!\\nMel Renee\\n11 months ago\\nCongratulations ! Can’t wait to see your book bought to life !\\nBrian MedeirosCreator\\n10 months ago\\nThank you so much, Mel!\\nScott E Spahr\\n11 months ago\\nAmazing! So happy for you Brian! Doing great things!\\nBrian MedeirosCreator\\n10 months ago\\nMuch appreciated, Scott! Miss you!\"]"
      ]
     },
     "execution_count": 30,
     "metadata": {},
     "output_type": "execute_result"
    }
   ],
   "source": [
    "comments"
   ]
  },
  {
   "cell_type": "code",
   "execution_count": null,
   "metadata": {},
   "outputs": [],
   "source": [
    "df_export = pd.DataFrame({\"index\":list(range(start_int,end_int)),\n",
    "                         \"comments\":comments}, index = None)\n",
    "filename = \"Comments_\" + str(start_int) + \"-\" + str(end_int)\n",
    "df_export.to_csv(\"Output/Comments/{}.csv\".format(filename))"
   ]
  }
 ],
 "metadata": {
  "kernelspec": {
   "display_name": "Python 3",
   "language": "python",
   "name": "python3"
  },
  "language_info": {
   "codemirror_mode": {
    "name": "ipython",
    "version": 3
   },
   "file_extension": ".py",
   "mimetype": "text/x-python",
   "name": "python",
   "nbconvert_exporter": "python",
   "pygments_lexer": "ipython3",
   "version": "3.8.3"
  }
 },
 "nbformat": 4,
 "nbformat_minor": 4
}
