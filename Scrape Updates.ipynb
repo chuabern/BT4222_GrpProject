{
 "cells": [
  {
   "cell_type": "code",
   "execution_count": 2,
   "metadata": {},
   "outputs": [],
   "source": [
    "import pandas as pd\n",
    "import re\n",
    "import json\n",
    "import glob\n",
    "from tqdm import tqdm\n",
    "from selenium import webdriver\n",
    "from selenium.webdriver.common.by import By\n",
    "from selenium.webdriver.support.ui import WebDriverWait\n",
    "from selenium.webdriver.support import expected_conditions as EC\n",
    "\n"
   ]
  },
  {
   "cell_type": "code",
   "execution_count": null,
   "metadata": {},
   "outputs": [],
   "source": [
    "# Define range for file, friends change this help me download when you're free lel\n",
    "start_int = 0\n",
    "end_int = 100\n",
    "\n",
    "total_int = 0\n",
    "haochen_start_int = 0\n",
    "haochen_end_int = 100\n",
    "\n",
    "bernard_start_int = 0\n",
    "bernard_end_int = 0\n",
    "\n",
    "yanshiang_start_int = 0\n",
    "yanshiang_end_int = 0\n",
    "\n",
    "amanda_start_int = 0\n",
    "amanda_end_int = 0\n",
    "\n",
    "tujin_start_int = 0\n",
    "tujin_end_int = 0\n",
    "# to update with proper intervals once we know the numbers we want"
   ]
  },
  {
   "cell_type": "code",
   "execution_count": 3,
   "metadata": {},
   "outputs": [],
   "source": [
    "# Combine CSV, generate output\n",
    "\n",
    "files = glob.glob(\"Clean_data/*.csv\")\n",
    "\n",
    "csv = []\n",
    "\n",
    "for file in files:\n",
    "    df = pd.read_csv(file, index_col=None, header=0)\n",
    "    csv.append(df)\n",
    "\n",
    "df = pd.concat(csv, axis=0, ignore_index=True)"
   ]
  },
  {
   "cell_type": "code",
   "execution_count": 4,
   "metadata": {},
   "outputs": [
    {
     "name": "stdout",
     "output_type": "stream",
     "text": [
      "(195933, 27) \n",
      " Index(['Unnamed: 0', 'backers_count', 'blurb', 'category',\n",
      "       'converted_pledged_amount', 'country', 'created_at', 'current_currency',\n",
      "       'deadline', 'fx_rate', 'goal', 'id', 'launched_at', 'location', 'name',\n",
      "       'pledged', 'profile', 'slug', 'source_url', 'spotlight', 'staff_pick',\n",
      "       'state', 'state_changed_at', 'static_usd_rate', 'urls', 'usd_pledged',\n",
      "       'usd_type'],\n",
      "      dtype='object')\n"
     ]
    }
   ],
   "source": [
    "print(df.shape, \"\\n\",df.columns)"
   ]
  },
  {
   "cell_type": "code",
   "execution_count": 5,
   "metadata": {},
   "outputs": [],
   "source": [
    "urls = df.urls\n",
    "\n",
    "urls_ = list(map(lambda url:json.loads(url)[\"web\"][\"project\"],urls))\n",
    "urls = urls_"
   ]
  },
  {
   "cell_type": "code",
   "execution_count": 56,
   "metadata": {},
   "outputs": [
    {
     "name": "stderr",
     "output_type": "stream",
     "text": [
      "100%|████████████████████████████████████████████████████████████████████████████████████| 5/5 [02:46<00:00, 33.37s/it]\n"
     ]
    }
   ],
   "source": [
    "from selenium.common.exceptions import TimeoutException\n",
    "from selenium.webdriver.common.action_chains import ActionChains\n",
    "\n",
    "path = \"Webdriver/chromedriver.exe\"\n",
    "driver = webdriver.Chrome(path)\n",
    "\n",
    "updates_all = []\n",
    "\n",
    "for i in tqdm(range(start_int,end_int)):\n",
    "    driver.get(urls[i])\n",
    "\n",
    "    # 1. Load all results\n",
    "    while True:\n",
    "        try:\n",
    "            ActionChains(driver).move_to_element(WebDriverWait(driver, 20).until(EC.element_to_be_clickable((By.XPATH, \"//button[contains(., 'Load more')]\")))).pause(5).click().perform()\n",
    "    #         print(\"LOAD MORE button clicked\")\n",
    "        except TimeoutException:\n",
    "    #         print(\"No more LOAD MORE button to be clicked\")\n",
    "            break\n",
    "\n",
    "    # 2. Get all updates and save as a list\n",
    "    updates = []\n",
    "    try: \n",
    "        elements = WebDriverWait(driver,10).until(EC.visibility_of_all_elements_located((By.XPATH,\"//article\")))\n",
    "        for element in elements:\n",
    "            updates.append(element.text)\n",
    "\n",
    "    except TimeoutException:\n",
    "        pass\n",
    "    \n",
    "    updates_all.append(updates)\n",
    "\n",
    "driver.quit()"
   ]
  },
  {
   "cell_type": "code",
   "execution_count": 61,
   "metadata": {},
   "outputs": [],
   "source": [
    "df_export = pd.DataFrame({\"index\":list(range(start_int,end_int)),\n",
    "                         \"update\":updates_all}, index = None)\n",
    "filename = \"Update_\" + str(start_int) + \"-\" + str(end_int)\n",
    "df_export.to_csv(\"Output/Update/{}.csv\".format(filename))"
   ]
  },
  {
   "cell_type": "code",
   "execution_count": null,
   "metadata": {},
   "outputs": [],
   "source": []
  }
 ],
 "metadata": {
  "kernelspec": {
   "display_name": "Python 3",
   "language": "python",
   "name": "python3"
  },
  "language_info": {
   "codemirror_mode": {
    "name": "ipython",
    "version": 3
   },
   "file_extension": ".py",
   "mimetype": "text/x-python",
   "name": "python",
   "nbconvert_exporter": "python",
   "pygments_lexer": "ipython3",
   "version": "3.8.3"
  },
  "toc": {
   "base_numbering": 1,
   "nav_menu": {},
   "number_sections": true,
   "sideBar": true,
   "skip_h1_title": false,
   "title_cell": "Table of Contents",
   "title_sidebar": "Contents",
   "toc_cell": false,
   "toc_position": {},
   "toc_section_display": true,
   "toc_window_display": false
  }
 },
 "nbformat": 4,
 "nbformat_minor": 4
}
