{
 "cells": [
  {
   "cell_type": "code",
   "execution_count": 3,
   "metadata": {},
   "outputs": [],
   "source": [
    "import pandas as pd\n",
    "import re\n",
    "import json\n",
    "import glob\n",
    "from tqdm import tqdm\n",
    "from selenium import webdriver\n",
    "from selenium.webdriver.common.by import By\n",
    "from selenium.webdriver.support.ui import WebDriverWait\n",
    "from selenium.webdriver.support import expected_conditions as EC"
   ]
  },
  {
   "cell_type": "code",
   "execution_count": 4,
   "metadata": {},
   "outputs": [],
   "source": [
    "# Define range for file, friends change this help me download when you're free lel\n",
    "start_int = 0\n",
    "end_int = 100\n",
    "\n",
    "total_int = 0\n",
    "haochen_start_int = 0\n",
    "haochen_end_int = 100\n",
    "\n",
    "bernard_start_int = 0\n",
    "bernard_end_int = 0\n",
    "\n",
    "yanshiang_start_int = 0\n",
    "yanshiang_end_int = 0\n",
    "\n",
    "amanda_start_int = 0\n",
    "amanda_end_int = 0\n",
    "\n",
    "tujin_start_int = 0\n",
    "tujin_end_int = 0\n",
    "# to update with proper intervals once we know the numbers we want"
   ]
  },
  {
   "cell_type": "code",
   "execution_count": 5,
   "metadata": {},
   "outputs": [],
   "source": [
    "# Combine CSV, generate output\n",
    "\n",
    "files = glob.glob(\"Clean_data/*.csv\")\n",
    "\n",
    "csv = []\n",
    "\n",
    "for file in files:\n",
    "    df = pd.read_csv(file, index_col=None, header=0)\n",
    "    csv.append(df)\n",
    "\n",
    "df = pd.concat(csv, axis=0, ignore_index=True)"
   ]
  },
  {
   "cell_type": "code",
   "execution_count": 7,
   "metadata": {},
   "outputs": [
    {
     "output_type": "execute_result",
     "data": {
      "text/plain": [
       "   Unnamed: 0  backers_count  \\\n",
       "0           0              1   \n",
       "1           1              1   \n",
       "2           2            131   \n",
       "3           3              0   \n",
       "4           4             25   \n",
       "\n",
       "                                               blurb  \\\n",
       "0  Vorrei realizzare un calendario 2021 a tema pe...   \n",
       "1  A browser extension which displays expert opin...   \n",
       "2  Help me fund the production run of my first bo...   \n",
       "3               A symphony of Tibetan Singing Bowls.   \n",
       "4  Parties are a dime a dozen in New York City, b...   \n",
       "\n",
       "                                            category  \\\n",
       "0  {\"id\":325,\"name\":\"Calendars\",\"slug\":\"publishin...   \n",
       "1  {\"id\":342,\"name\":\"Web\",\"slug\":\"technology/web\"...   \n",
       "2  {\"id\":280,\"name\":\"Photobooks\",\"slug\":\"photogra...   \n",
       "3  {\"id\":44,\"name\":\"World Music\",\"slug\":\"music/wo...   \n",
       "4  {\"id\":44,\"name\":\"World Music\",\"slug\":\"music/wo...   \n",
       "\n",
       "   converted_pledged_amount country           created_at current_currency  \\\n",
       "0                         1      IT  2020-01-25 08:31:25              USD   \n",
       "1                         1      GB  2020-05-28 16:11:48              USD   \n",
       "2                     13096      LU  2017-01-06 16:41:08              USD   \n",
       "3                         0      US  2016-08-23 18:07:40              USD   \n",
       "4                      1216      US  2011-09-19 23:51:20              USD   \n",
       "\n",
       "              deadline   fx_rate  ...  \\\n",
       "0  2020-03-27 19:13:12  1.212886  ...   \n",
       "1  2020-08-26 17:34:24  1.382164  ...   \n",
       "2  2017-03-01 14:00:00  1.212886  ...   \n",
       "3  2016-10-05 12:11:00  1.000000  ...   \n",
       "4  2011-11-04 23:59:00  1.000000  ...   \n",
       "\n",
       "                                                slug  \\\n",
       "0                         calendario-fairytales-2021   \n",
       "1                    uptick-expert-verifying-the-web   \n",
       "2  e-fotografesche-reckbleck-367-deeg-am-ausland-...   \n",
       "3                              singing-bowl-symphony   \n",
       "4   fest-noz-vraz-2011-breton-music-lives-in-the-usa   \n",
       "\n",
       "                                          source_url spotlight staff_pick  \\\n",
       "0  https://www.kickstarter.com/discover/categorie...     False      False   \n",
       "1  https://www.kickstarter.com/discover/categorie...     False      False   \n",
       "2  https://www.kickstarter.com/discover/categorie...      True      False   \n",
       "3  https://www.kickstarter.com/discover/categorie...     False      False   \n",
       "4  https://www.kickstarter.com/discover/categorie...     False      False   \n",
       "\n",
       "        state     state_changed_at static_usd_rate  \\\n",
       "0      failed  2020-03-27 19:13:12        1.102539   \n",
       "1      failed  2020-08-26 17:34:24        1.279150   \n",
       "2  successful  2017-03-01 14:00:02        1.069976   \n",
       "3      failed  2016-10-05 12:11:02        1.000000   \n",
       "4      failed  2011-11-04 23:59:00        1.000000   \n",
       "\n",
       "                                                urls   usd_pledged  \\\n",
       "0  {\"web\":{\"project\":\"https://www.kickstarter.com...      1.102539   \n",
       "1  {\"web\":{\"project\":\"https://www.kickstarter.com...      1.279150   \n",
       "2  {\"web\":{\"project\":\"https://www.kickstarter.com...  13278.942857   \n",
       "3  {\"web\":{\"project\":\"https://www.kickstarter.com...      0.000000   \n",
       "4  {\"web\":{\"project\":\"https://www.kickstarter.com...   1216.000000   \n",
       "\n",
       "        usd_type  \n",
       "0  international  \n",
       "1  international  \n",
       "2       domestic  \n",
       "3       domestic  \n",
       "4       domestic  \n",
       "\n",
       "[5 rows x 27 columns]"
      ],
      "text/html": "<div>\n<style scoped>\n    .dataframe tbody tr th:only-of-type {\n        vertical-align: middle;\n    }\n\n    .dataframe tbody tr th {\n        vertical-align: top;\n    }\n\n    .dataframe thead th {\n        text-align: right;\n    }\n</style>\n<table border=\"1\" class=\"dataframe\">\n  <thead>\n    <tr style=\"text-align: right;\">\n      <th></th>\n      <th>Unnamed: 0</th>\n      <th>backers_count</th>\n      <th>blurb</th>\n      <th>category</th>\n      <th>converted_pledged_amount</th>\n      <th>country</th>\n      <th>created_at</th>\n      <th>current_currency</th>\n      <th>deadline</th>\n      <th>fx_rate</th>\n      <th>...</th>\n      <th>slug</th>\n      <th>source_url</th>\n      <th>spotlight</th>\n      <th>staff_pick</th>\n      <th>state</th>\n      <th>state_changed_at</th>\n      <th>static_usd_rate</th>\n      <th>urls</th>\n      <th>usd_pledged</th>\n      <th>usd_type</th>\n    </tr>\n  </thead>\n  <tbody>\n    <tr>\n      <th>0</th>\n      <td>0</td>\n      <td>1</td>\n      <td>Vorrei realizzare un calendario 2021 a tema pe...</td>\n      <td>{\"id\":325,\"name\":\"Calendars\",\"slug\":\"publishin...</td>\n      <td>1</td>\n      <td>IT</td>\n      <td>2020-01-25 08:31:25</td>\n      <td>USD</td>\n      <td>2020-03-27 19:13:12</td>\n      <td>1.212886</td>\n      <td>...</td>\n      <td>calendario-fairytales-2021</td>\n      <td>https://www.kickstarter.com/discover/categorie...</td>\n      <td>False</td>\n      <td>False</td>\n      <td>failed</td>\n      <td>2020-03-27 19:13:12</td>\n      <td>1.102539</td>\n      <td>{\"web\":{\"project\":\"https://www.kickstarter.com...</td>\n      <td>1.102539</td>\n      <td>international</td>\n    </tr>\n    <tr>\n      <th>1</th>\n      <td>1</td>\n      <td>1</td>\n      <td>A browser extension which displays expert opin...</td>\n      <td>{\"id\":342,\"name\":\"Web\",\"slug\":\"technology/web\"...</td>\n      <td>1</td>\n      <td>GB</td>\n      <td>2020-05-28 16:11:48</td>\n      <td>USD</td>\n      <td>2020-08-26 17:34:24</td>\n      <td>1.382164</td>\n      <td>...</td>\n      <td>uptick-expert-verifying-the-web</td>\n      <td>https://www.kickstarter.com/discover/categorie...</td>\n      <td>False</td>\n      <td>False</td>\n      <td>failed</td>\n      <td>2020-08-26 17:34:24</td>\n      <td>1.279150</td>\n      <td>{\"web\":{\"project\":\"https://www.kickstarter.com...</td>\n      <td>1.279150</td>\n      <td>international</td>\n    </tr>\n    <tr>\n      <th>2</th>\n      <td>2</td>\n      <td>131</td>\n      <td>Help me fund the production run of my first bo...</td>\n      <td>{\"id\":280,\"name\":\"Photobooks\",\"slug\":\"photogra...</td>\n      <td>13096</td>\n      <td>LU</td>\n      <td>2017-01-06 16:41:08</td>\n      <td>USD</td>\n      <td>2017-03-01 14:00:00</td>\n      <td>1.212886</td>\n      <td>...</td>\n      <td>e-fotografesche-reckbleck-367-deeg-am-ausland-...</td>\n      <td>https://www.kickstarter.com/discover/categorie...</td>\n      <td>True</td>\n      <td>False</td>\n      <td>successful</td>\n      <td>2017-03-01 14:00:02</td>\n      <td>1.069976</td>\n      <td>{\"web\":{\"project\":\"https://www.kickstarter.com...</td>\n      <td>13278.942857</td>\n      <td>domestic</td>\n    </tr>\n    <tr>\n      <th>3</th>\n      <td>3</td>\n      <td>0</td>\n      <td>A symphony of Tibetan Singing Bowls.</td>\n      <td>{\"id\":44,\"name\":\"World Music\",\"slug\":\"music/wo...</td>\n      <td>0</td>\n      <td>US</td>\n      <td>2016-08-23 18:07:40</td>\n      <td>USD</td>\n      <td>2016-10-05 12:11:00</td>\n      <td>1.000000</td>\n      <td>...</td>\n      <td>singing-bowl-symphony</td>\n      <td>https://www.kickstarter.com/discover/categorie...</td>\n      <td>False</td>\n      <td>False</td>\n      <td>failed</td>\n      <td>2016-10-05 12:11:02</td>\n      <td>1.000000</td>\n      <td>{\"web\":{\"project\":\"https://www.kickstarter.com...</td>\n      <td>0.000000</td>\n      <td>domestic</td>\n    </tr>\n    <tr>\n      <th>4</th>\n      <td>4</td>\n      <td>25</td>\n      <td>Parties are a dime a dozen in New York City, b...</td>\n      <td>{\"id\":44,\"name\":\"World Music\",\"slug\":\"music/wo...</td>\n      <td>1216</td>\n      <td>US</td>\n      <td>2011-09-19 23:51:20</td>\n      <td>USD</td>\n      <td>2011-11-04 23:59:00</td>\n      <td>1.000000</td>\n      <td>...</td>\n      <td>fest-noz-vraz-2011-breton-music-lives-in-the-usa</td>\n      <td>https://www.kickstarter.com/discover/categorie...</td>\n      <td>False</td>\n      <td>False</td>\n      <td>failed</td>\n      <td>2011-11-04 23:59:00</td>\n      <td>1.000000</td>\n      <td>{\"web\":{\"project\":\"https://www.kickstarter.com...</td>\n      <td>1216.000000</td>\n      <td>domestic</td>\n    </tr>\n  </tbody>\n</table>\n<p>5 rows × 27 columns</p>\n</div>"
     },
     "metadata": {},
     "execution_count": 7
    }
   ],
   "source": [
    "df.head()"
   ]
  },
  {
   "cell_type": "code",
   "execution_count": 6,
   "metadata": {},
   "outputs": [
    {
     "output_type": "stream",
     "name": "stdout",
     "text": [
      "(195933, 27) \n Index(['Unnamed: 0', 'backers_count', 'blurb', 'category',\n       'converted_pledged_amount', 'country', 'created_at', 'current_currency',\n       'deadline', 'fx_rate', 'goal', 'id', 'launched_at', 'location', 'name',\n       'pledged', 'profile', 'slug', 'source_url', 'spotlight', 'staff_pick',\n       'state', 'state_changed_at', 'static_usd_rate', 'urls', 'usd_pledged',\n       'usd_type'],\n      dtype='object')\n"
     ]
    }
   ],
   "source": [
    "print(df.shape, \"\\n\",df.columns)"
   ]
  },
  {
   "cell_type": "code",
   "execution_count": 8,
   "metadata": {},
   "outputs": [],
   "source": [
    "urls = df.urls\n",
    "\n",
    "urls_ = list(map(lambda url:json.loads(url)[\"web\"][\"project\"],urls))\n",
    "urls = urls_"
   ]
  },
  {
   "cell_type": "code",
   "execution_count": 12,
   "metadata": {},
   "outputs": [
    {
     "output_type": "execute_result",
     "data": {
      "text/plain": [
       "'/Users/bernard.chua/Desktop/BT4222_project/BT4222_GrpProject'"
      ]
     },
     "metadata": {},
     "execution_count": 12
    }
   ],
   "source": [
    "os.getcwd()"
   ]
  },
  {
   "cell_type": "code",
   "execution_count": 19,
   "metadata": {},
   "outputs": [
    {
     "output_type": "stream",
     "name": "stderr",
     "text": [
      "[WDM] - ====== WebDriver manager ======\n",
      "\n",
      "\n",
      "[WDM] - Current google-chrome version is 89.0.4389\n",
      "[WDM] - Get LATEST driver version for 89.0.4389\n",
      "[WDM] - Get LATEST driver version for 89.0.4389\n",
      "[WDM] - Trying to download new driver from https://chromedriver.storage.googleapis.com/89.0.4389.23/chromedriver_mac64.zip\n",
      "[WDM] - Driver has been saved in cache [/Users/bernard.chua/.wdm/drivers/chromedriver/mac64/89.0.4389.23]\n",
      "  1%|          | 1/100 [01:06<1:49:27, 66.34s/it]\n"
     ]
    },
    {
     "output_type": "error",
     "ename": "KeyboardInterrupt",
     "evalue": "",
     "traceback": [
      "\u001b[0;31m---------------------------------------------------------------------------\u001b[0m",
      "\u001b[0;31mKeyboardInterrupt\u001b[0m                         Traceback (most recent call last)",
      "\u001b[0;32m<ipython-input-19-8b666fd6cdab>\u001b[0m in \u001b[0;36m<module>\u001b[0;34m\u001b[0m\n\u001b[1;32m     26\u001b[0m     \u001b[0mupdates\u001b[0m \u001b[0;34m=\u001b[0m \u001b[0;34m[\u001b[0m\u001b[0;34m]\u001b[0m\u001b[0;34m\u001b[0m\u001b[0;34m\u001b[0m\u001b[0m\n\u001b[1;32m     27\u001b[0m     \u001b[0;32mtry\u001b[0m\u001b[0;34m:\u001b[0m\u001b[0;34m\u001b[0m\u001b[0;34m\u001b[0m\u001b[0m\n\u001b[0;32m---> 28\u001b[0;31m         \u001b[0melements\u001b[0m \u001b[0;34m=\u001b[0m \u001b[0mWebDriverWait\u001b[0m\u001b[0;34m(\u001b[0m\u001b[0mdriver\u001b[0m\u001b[0;34m,\u001b[0m\u001b[0;36m10\u001b[0m\u001b[0;34m)\u001b[0m\u001b[0;34m.\u001b[0m\u001b[0muntil\u001b[0m\u001b[0;34m(\u001b[0m\u001b[0mEC\u001b[0m\u001b[0;34m.\u001b[0m\u001b[0mvisibility_of_all_elements_located\u001b[0m\u001b[0;34m(\u001b[0m\u001b[0;34m(\u001b[0m\u001b[0mBy\u001b[0m\u001b[0;34m.\u001b[0m\u001b[0mXPATH\u001b[0m\u001b[0;34m,\u001b[0m\u001b[0;34m\"//article\"\u001b[0m\u001b[0;34m)\u001b[0m\u001b[0;34m)\u001b[0m\u001b[0;34m)\u001b[0m\u001b[0;34m\u001b[0m\u001b[0;34m\u001b[0m\u001b[0m\n\u001b[0m\u001b[1;32m     29\u001b[0m         \u001b[0;32mfor\u001b[0m \u001b[0melement\u001b[0m \u001b[0;32min\u001b[0m \u001b[0melements\u001b[0m\u001b[0;34m:\u001b[0m\u001b[0;34m\u001b[0m\u001b[0;34m\u001b[0m\u001b[0m\n\u001b[1;32m     30\u001b[0m             \u001b[0mupdates\u001b[0m\u001b[0;34m.\u001b[0m\u001b[0mappend\u001b[0m\u001b[0;34m(\u001b[0m\u001b[0melement\u001b[0m\u001b[0;34m.\u001b[0m\u001b[0mtext\u001b[0m\u001b[0;34m)\u001b[0m\u001b[0;34m\u001b[0m\u001b[0;34m\u001b[0m\u001b[0m\n",
      "\u001b[0;32m~/Desktop/BT4222_project/BT4222_GrpProject/venv/lib/python3.7/site-packages/selenium/webdriver/support/wait.py\u001b[0m in \u001b[0;36muntil\u001b[0;34m(self, method, message)\u001b[0m\n\u001b[1;32m     75\u001b[0m                 \u001b[0mscreen\u001b[0m \u001b[0;34m=\u001b[0m \u001b[0mgetattr\u001b[0m\u001b[0;34m(\u001b[0m\u001b[0mexc\u001b[0m\u001b[0;34m,\u001b[0m \u001b[0;34m'screen'\u001b[0m\u001b[0;34m,\u001b[0m \u001b[0;32mNone\u001b[0m\u001b[0;34m)\u001b[0m\u001b[0;34m\u001b[0m\u001b[0;34m\u001b[0m\u001b[0m\n\u001b[1;32m     76\u001b[0m                 \u001b[0mstacktrace\u001b[0m \u001b[0;34m=\u001b[0m \u001b[0mgetattr\u001b[0m\u001b[0;34m(\u001b[0m\u001b[0mexc\u001b[0m\u001b[0;34m,\u001b[0m \u001b[0;34m'stacktrace'\u001b[0m\u001b[0;34m,\u001b[0m \u001b[0;32mNone\u001b[0m\u001b[0;34m)\u001b[0m\u001b[0;34m\u001b[0m\u001b[0;34m\u001b[0m\u001b[0m\n\u001b[0;32m---> 77\u001b[0;31m             \u001b[0mtime\u001b[0m\u001b[0;34m.\u001b[0m\u001b[0msleep\u001b[0m\u001b[0;34m(\u001b[0m\u001b[0mself\u001b[0m\u001b[0;34m.\u001b[0m\u001b[0m_poll\u001b[0m\u001b[0;34m)\u001b[0m\u001b[0;34m\u001b[0m\u001b[0;34m\u001b[0m\u001b[0m\n\u001b[0m\u001b[1;32m     78\u001b[0m             \u001b[0;32mif\u001b[0m \u001b[0mtime\u001b[0m\u001b[0;34m.\u001b[0m\u001b[0mtime\u001b[0m\u001b[0;34m(\u001b[0m\u001b[0;34m)\u001b[0m \u001b[0;34m>\u001b[0m \u001b[0mend_time\u001b[0m\u001b[0;34m:\u001b[0m\u001b[0;34m\u001b[0m\u001b[0;34m\u001b[0m\u001b[0m\n\u001b[1;32m     79\u001b[0m                 \u001b[0;32mbreak\u001b[0m\u001b[0;34m\u001b[0m\u001b[0;34m\u001b[0m\u001b[0m\n",
      "\u001b[0;31mKeyboardInterrupt\u001b[0m: "
     ]
    }
   ],
   "source": [
    "from selenium.common.exceptions import TimeoutException\n",
    "from selenium.webdriver.common.action_chains import ActionChains\n",
    "\n",
    "# Run these two lines if chromedriver does not execute (and comment out path and driver lines)\n",
    "# from webdriver_manager.chrome import ChromeDriverManager\n",
    "# driver = webdriver.Chrome(ChromeDriverManager().install())\n",
    "\n",
    "path = \"Webdriver/chromedriver.exe\"\n",
    "driver = webdriver.Chrome(executable_path = path)\n",
    "\n",
    "\n",
    "\n",
    "\n",
    "updates_all = []\n",
    "\n",
    "for i in tqdm(range(start_int,end_int)):\n",
    "    driver.get(urls[i])\n",
    "\n",
    "    # 1. Load all results\n",
    "    while True:\n",
    "        try:\n",
    "            ActionChains(driver).move_to_element(WebDriverWait(driver, 20).until(EC.element_to_be_clickable((By.XPATH, \"//button[contains(., 'Load more')]\")))).pause(5).click().perform()\n",
    "    #         print(\"LOAD MORE button clicked\")\n",
    "        except TimeoutException:\n",
    "    #         print(\"No more LOAD MORE button to be clicked\")\n",
    "            break\n",
    "\n",
    "    # 2. Get all updates and save as a list\n",
    "    updates = []\n",
    "    try: \n",
    "        elements = WebDriverWait(driver,10).until(EC.visibility_of_all_elements_located((By.XPATH,\"//article\")))\n",
    "        for element in elements:\n",
    "            updates.append(element.text)\n",
    "\n",
    "    except TimeoutException:\n",
    "        pass\n",
    "    \n",
    "    updates_all.append(updates)\n",
    "\n",
    "driver.quit()"
   ]
  },
  {
   "cell_type": "code",
   "execution_count": 61,
   "metadata": {},
   "outputs": [],
   "source": [
    "df_export = pd.DataFrame({\"index\":list(range(start_int,end_int)),\n",
    "                         \"update\":updates_all}, index = None)\n",
    "filename = \"Update_\" + str(start_int) + \"-\" + str(end_int)\n",
    "df_export.to_csv(\"Output/Update/{}.csv\".format(filename))"
   ]
  },
  {
   "cell_type": "code",
   "execution_count": null,
   "metadata": {},
   "outputs": [],
   "source": []
  }
 ],
 "metadata": {
  "kernelspec": {
   "name": "python3",
   "display_name": "Python 3.7.4 64-bit ('venv')",
   "metadata": {
    "interpreter": {
     "hash": "eb67d233b77d48e6688f9bfc91edd03ddb7060a183dfa2c2a9ae907e861ae809"
    }
   }
  },
  "language_info": {
   "codemirror_mode": {
    "name": "ipython",
    "version": 3
   },
   "file_extension": ".py",
   "mimetype": "text/x-python",
   "name": "python",
   "nbconvert_exporter": "python",
   "pygments_lexer": "ipython3",
   "version": "3.7.4-final"
  },
  "toc": {
   "base_numbering": 1,
   "nav_menu": {},
   "number_sections": true,
   "sideBar": true,
   "skip_h1_title": false,
   "title_cell": "Table of Contents",
   "title_sidebar": "Contents",
   "toc_cell": false,
   "toc_position": {},
   "toc_section_display": true,
   "toc_window_display": false
  }
 },
 "nbformat": 4,
 "nbformat_minor": 4
}