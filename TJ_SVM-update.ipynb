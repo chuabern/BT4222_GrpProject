{
 "cells": [
  {
   "cell_type": "code",
   "execution_count": 2,
   "metadata": {},
   "outputs": [
    {
     "data": {
      "text/plain": [
       "'D:\\\\NUS\\\\GitHub\\\\BT4222_GrpProject'"
      ]
     },
     "execution_count": 2,
     "metadata": {},
     "output_type": "execute_result"
    }
   ],
   "source": [
    "import pandas as pd\n",
    "import numpy as np\n",
    "import seaborn as sns\n",
    "import matplotlib.pyplot as plt\n",
    "import pandas as pd\n",
    "import numpy as np\n",
    "import json \n",
    "import matplotlib.pyplot as plt\n",
    "import seaborn as sns\n",
    "from pandas.api.types import CategoricalDtype \n",
    "from sklearn import model_selection, metrics\n",
    "\n",
    "import os\n",
    "os.getcwd()"
   ]
  },
  {
   "cell_type": "code",
   "execution_count": 3,
   "metadata": {},
   "outputs": [],
   "source": [
    "data = pd.read_csv(\"./Output/data_clean&processed.csv\")\n",
    "data = data.drop('Unnamed: 0', axis=1)"
   ]
  },
  {
   "cell_type": "code",
   "execution_count": 4,
   "metadata": {},
   "outputs": [
    {
     "data": {
      "text/html": [
       "<div>\n",
       "<style scoped>\n",
       "    .dataframe tbody tr th:only-of-type {\n",
       "        vertical-align: middle;\n",
       "    }\n",
       "\n",
       "    .dataframe tbody tr th {\n",
       "        vertical-align: top;\n",
       "    }\n",
       "\n",
       "    .dataframe thead th {\n",
       "        text-align: right;\n",
       "    }\n",
       "</style>\n",
       "<table border=\"1\" class=\"dataframe\">\n",
       "  <thead>\n",
       "    <tr style=\"text-align: right;\">\n",
       "      <th></th>\n",
       "      <th>backers_count</th>\n",
       "      <th>blurb</th>\n",
       "      <th>category</th>\n",
       "      <th>converted_pledged_amount</th>\n",
       "      <th>country</th>\n",
       "      <th>created_at</th>\n",
       "      <th>current_currency</th>\n",
       "      <th>deadline</th>\n",
       "      <th>fx_rate</th>\n",
       "      <th>goal</th>\n",
       "      <th>...</th>\n",
       "      <th>backers_count_log</th>\n",
       "      <th>goal_log</th>\n",
       "      <th>pledged_log</th>\n",
       "      <th>duration_log</th>\n",
       "      <th>n_comments_log</th>\n",
       "      <th>num_faq_bool</th>\n",
       "      <th>avg_fund_per_backer</th>\n",
       "      <th>comments_afinn</th>\n",
       "      <th>blurb_name</th>\n",
       "      <th>faq_comments</th>\n",
       "    </tr>\n",
       "  </thead>\n",
       "  <tbody>\n",
       "    <tr>\n",
       "      <th>614</th>\n",
       "      <td>36</td>\n",
       "      <td>We've set up our project on this site primaril...</td>\n",
       "      <td>{'id': 44, 'name': 'World Music', 'slug': 'mus...</td>\n",
       "      <td>2679</td>\n",
       "      <td>US</td>\n",
       "      <td>2011-02-03 8:53</td>\n",
       "      <td>USD</td>\n",
       "      <td>2011-03-06 16:22</td>\n",
       "      <td>1.000000</td>\n",
       "      <td>1500</td>\n",
       "      <td>...</td>\n",
       "      <td>0.207049</td>\n",
       "      <td>-0.530729</td>\n",
       "      <td>0.363278</td>\n",
       "      <td>-0.012145</td>\n",
       "      <td>-0.710711</td>\n",
       "      <td>0</td>\n",
       "      <td>74.416667</td>\n",
       "      <td>-1.0</td>\n",
       "      <td>We've set up our project on this site primaril...</td>\n",
       "      <td>['   ']No comments yet.</td>\n",
       "    </tr>\n",
       "    <tr>\n",
       "      <th>675</th>\n",
       "      <td>71</td>\n",
       "      <td>A young man in his darkest hours meets a Chris...</td>\n",
       "      <td>{'id': 291, 'name': 'Action', 'slug': 'film &amp; ...</td>\n",
       "      <td>22206</td>\n",
       "      <td>US</td>\n",
       "      <td>2016-03-03 17:30</td>\n",
       "      <td>USD</td>\n",
       "      <td>2016-04-06 13:40</td>\n",
       "      <td>1.000000</td>\n",
       "      <td>22000</td>\n",
       "      <td>...</td>\n",
       "      <td>0.571576</td>\n",
       "      <td>0.892529</td>\n",
       "      <td>1.032388</td>\n",
       "      <td>0.155021</td>\n",
       "      <td>0.630534</td>\n",
       "      <td>0</td>\n",
       "      <td>312.760563</td>\n",
       "      <td>25.0</td>\n",
       "      <td>A young man in his darkest hours meets a Chris...</td>\n",
       "      <td>['   ']Mark Myer\\nover 4 years ago\\nI know I'm...</td>\n",
       "    </tr>\n",
       "    <tr>\n",
       "      <th>973</th>\n",
       "      <td>2</td>\n",
       "      <td>OPERACIÓN DOUVE es un cortometraje que narra l...</td>\n",
       "      <td>{'id': 291, 'name': 'Action', 'slug': 'film &amp; ...</td>\n",
       "      <td>22</td>\n",
       "      <td>ES</td>\n",
       "      <td>2016-02-25 4:10</td>\n",
       "      <td>USD</td>\n",
       "      <td>2016-05-01 13:09</td>\n",
       "      <td>1.212209</td>\n",
       "      <td>100</td>\n",
       "      <td>...</td>\n",
       "      <td>-1.168550</td>\n",
       "      <td>-1.961308</td>\n",
       "      <td>-1.171084</td>\n",
       "      <td>1.797704</td>\n",
       "      <td>-0.710711</td>\n",
       "      <td>0</td>\n",
       "      <td>10.000000</td>\n",
       "      <td>-1.0</td>\n",
       "      <td>OPERACIÓN DOUVE es un cortometraje que narra l...</td>\n",
       "      <td>['   ']No comments yet.</td>\n",
       "    </tr>\n",
       "  </tbody>\n",
       "</table>\n",
       "<p>3 rows × 47 columns</p>\n",
       "</div>"
      ],
      "text/plain": [
       "     backers_count                                              blurb  \\\n",
       "614             36  We've set up our project on this site primaril...   \n",
       "675             71  A young man in his darkest hours meets a Chris...   \n",
       "973              2  OPERACIÓN DOUVE es un cortometraje que narra l...   \n",
       "\n",
       "                                              category  \\\n",
       "614  {'id': 44, 'name': 'World Music', 'slug': 'mus...   \n",
       "675  {'id': 291, 'name': 'Action', 'slug': 'film & ...   \n",
       "973  {'id': 291, 'name': 'Action', 'slug': 'film & ...   \n",
       "\n",
       "     converted_pledged_amount country        created_at current_currency  \\\n",
       "614                      2679      US   2011-02-03 8:53              USD   \n",
       "675                     22206      US  2016-03-03 17:30              USD   \n",
       "973                        22      ES   2016-02-25 4:10              USD   \n",
       "\n",
       "             deadline   fx_rate   goal  ...  backers_count_log  goal_log  \\\n",
       "614  2011-03-06 16:22  1.000000   1500  ...           0.207049 -0.530729   \n",
       "675  2016-04-06 13:40  1.000000  22000  ...           0.571576  0.892529   \n",
       "973  2016-05-01 13:09  1.212209    100  ...          -1.168550 -1.961308   \n",
       "\n",
       "    pledged_log duration_log  n_comments_log num_faq_bool avg_fund_per_backer  \\\n",
       "614    0.363278    -0.012145       -0.710711            0           74.416667   \n",
       "675    1.032388     0.155021        0.630534            0          312.760563   \n",
       "973   -1.171084     1.797704       -0.710711            0           10.000000   \n",
       "\n",
       "    comments_afinn                                         blurb_name  \\\n",
       "614           -1.0  We've set up our project on this site primaril...   \n",
       "675           25.0  A young man in his darkest hours meets a Chris...   \n",
       "973           -1.0  OPERACIÓN DOUVE es un cortometraje que narra l...   \n",
       "\n",
       "                                          faq_comments  \n",
       "614                            ['   ']No comments yet.  \n",
       "675  ['   ']Mark Myer\\nover 4 years ago\\nI know I'm...  \n",
       "973                            ['   ']No comments yet.  \n",
       "\n",
       "[3 rows x 47 columns]"
      ]
     },
     "execution_count": 4,
     "metadata": {},
     "output_type": "execute_result"
    }
   ],
   "source": [
    "data.sample(3)"
   ]
  },
  {
   "cell_type": "code",
   "execution_count": 5,
   "metadata": {},
   "outputs": [
    {
     "data": {
      "text/plain": [
       "Index(['backers_count', 'blurb', 'category', 'converted_pledged_amount',\n",
       "       'country', 'created_at', 'current_currency', 'deadline', 'fx_rate',\n",
       "       'goal', 'id', 'launched_at', 'location', 'name', 'pledged', 'profile',\n",
       "       'slug', 'source_url', 'spotlight', 'staff_pick', 'state',\n",
       "       'state_changed_at', 'static_usd_rate', 'urls', 'usd_pledged',\n",
       "       'usd_type', 'story', 'faq', 'num_faq', 'comments', 'n_comments',\n",
       "       'duration', 'parent_category', 'category_name', 'location_name',\n",
       "       'month_launched', 'year_launched', 'backers_count_log', 'goal_log',\n",
       "       'pledged_log', 'duration_log', 'n_comments_log', 'num_faq_bool',\n",
       "       'avg_fund_per_backer', 'comments_afinn', 'blurb_name', 'faq_comments'],\n",
       "      dtype='object')"
      ]
     },
     "execution_count": 5,
     "metadata": {},
     "output_type": "execute_result"
    }
   ],
   "source": [
    "data.columns"
   ]
  },
  {
   "cell_type": "code",
   "execution_count": 6,
   "metadata": {},
   "outputs": [
    {
     "data": {
      "text/plain": [
       "backers_count               0\n",
       "blurb                       0\n",
       "category                    0\n",
       "converted_pledged_amount    0\n",
       "country                     0\n",
       "created_at                  0\n",
       "current_currency            0\n",
       "deadline                    0\n",
       "fx_rate                     0\n",
       "goal                        0\n",
       "id                          0\n",
       "launched_at                 0\n",
       "location                    0\n",
       "name                        0\n",
       "pledged                     0\n",
       "profile                     0\n",
       "slug                        0\n",
       "source_url                  0\n",
       "spotlight                   0\n",
       "staff_pick                  0\n",
       "state                       0\n",
       "state_changed_at            0\n",
       "static_usd_rate             0\n",
       "urls                        0\n",
       "usd_pledged                 0\n",
       "usd_type                    0\n",
       "story                       0\n",
       "faq                         0\n",
       "num_faq                     0\n",
       "comments                    0\n",
       "n_comments                  0\n",
       "duration                    0\n",
       "parent_category             0\n",
       "category_name               0\n",
       "location_name               0\n",
       "month_launched              0\n",
       "year_launched               0\n",
       "backers_count_log           0\n",
       "goal_log                    0\n",
       "pledged_log                 0\n",
       "duration_log                0\n",
       "n_comments_log              0\n",
       "num_faq_bool                0\n",
       "avg_fund_per_backer         0\n",
       "comments_afinn              0\n",
       "blurb_name                  0\n",
       "faq_comments                0\n",
       "dtype: int64"
      ]
     },
     "execution_count": 6,
     "metadata": {},
     "output_type": "execute_result"
    }
   ],
   "source": [
    "data.isna().sum()"
   ]
  },
  {
   "cell_type": "markdown",
   "metadata": {},
   "source": [
    "# SVM"
   ]
  },
  {
   "cell_type": "code",
   "execution_count": 7,
   "metadata": {},
   "outputs": [],
   "source": [
    "from sklearn.svm import SVC"
   ]
  },
  {
   "cell_type": "code",
   "execution_count": 8,
   "metadata": {},
   "outputs": [
    {
     "data": {
      "text/plain": [
       "Index(['backers_count', 'blurb', 'country', 'fx_rate', 'goal', 'name',\n",
       "       'pledged', 'staff_pick', 'state', 'usd_type', 'story', 'faq', 'num_faq',\n",
       "       'comments', 'n_comments', 'duration', 'parent_category',\n",
       "       'category_name', 'location_name', 'month_launched', 'year_launched',\n",
       "       'backers_count_log', 'goal_log', 'pledged_log', 'duration_log',\n",
       "       'n_comments_log', 'num_faq_bool', 'avg_fund_per_backer',\n",
       "       'comments_afinn', 'blurb_name', 'faq_comments'],\n",
       "      dtype='object')"
      ]
     },
     "execution_count": 8,
     "metadata": {},
     "output_type": "execute_result"
    }
   ],
   "source": [
    "cols_to_drop = ['profile', 'category', 'created_at', 'location', 'current_currency', 'deadline', 'id', \n",
    "                'launched_at', 'slug', 'source_url', 'state_changed_at', 'urls', 'static_usd_rate', \n",
    "                'usd_pledged', 'converted_pledged_amount', 'spotlight']\n",
    "\n",
    "data_new = data.drop(cols_to_drop, axis=1)\n",
    "data_new.columns"
   ]
  },
  {
   "cell_type": "code",
   "execution_count": 9,
   "metadata": {},
   "outputs": [
    {
     "data": {
      "text/plain": [
       "Index(['backers_count', 'country', 'fx_rate', 'goal', 'pledged', 'staff_pick',\n",
       "       'state', 'usd_type', 'num_faq', 'n_comments', 'duration',\n",
       "       'parent_category', 'category_name', 'location_name', 'month_launched',\n",
       "       'year_launched', 'backers_count_log', 'goal_log', 'pledged_log',\n",
       "       'duration_log', 'n_comments_log', 'num_faq_bool', 'avg_fund_per_backer',\n",
       "       'comments_afinn'],\n",
       "      dtype='object')"
      ]
     },
     "execution_count": 9,
     "metadata": {},
     "output_type": "execute_result"
    }
   ],
   "source": [
    "#drop text features\n",
    "text_to_drop = ['blurb','name','story','faq','comments','blurb_name','faq_comments']\n",
    "data_new = data_new.drop(text_to_drop , axis=1)\n",
    "data_new.columns"
   ]
  },
  {
   "cell_type": "code",
   "execution_count": 10,
   "metadata": {},
   "outputs": [],
   "source": [
    "#Looks at categorical variables"
   ]
  },
  {
   "cell_type": "code",
   "execution_count": 11,
   "metadata": {},
   "outputs": [
    {
     "data": {
      "text/plain": [
       "Art                   192\n",
       "Film & Video          144\n",
       "Music                  83\n",
       "Technology             83\n",
       "Photography            71\n",
       "Games                  66\n",
       "Publishing             63\n",
       "Fashion                60\n",
       "No Parent Category     58\n",
       "Journalism             44\n",
       "Comics                 37\n",
       "Food                   33\n",
       "Theater                30\n",
       "Dance                  18\n",
       "Crafts                  3\n",
       "Name: parent_category, dtype: int64"
      ]
     },
     "execution_count": 11,
     "metadata": {},
     "output_type": "execute_result"
    }
   ],
   "source": [
    "data_new.parent_category.value_counts()"
   ]
  },
  {
   "cell_type": "code",
   "execution_count": 12,
   "metadata": {},
   "outputs": [
    {
     "data": {
      "text/plain": [
       "Illustration       56\n",
       "Painting           56\n",
       "World Music        53\n",
       "Web                50\n",
       "Apparel            48\n",
       "                   ..\n",
       "Embroidery          1\n",
       "Social Practice     1\n",
       "Periodicals         1\n",
       "Small Batch         1\n",
       "Video               1\n",
       "Name: category_name, Length: 68, dtype: int64"
      ]
     },
     "execution_count": 12,
     "metadata": {},
     "output_type": "execute_result"
    }
   ],
   "source": [
    "data_new.category_name.value_counts()"
   ]
  },
  {
   "cell_type": "code",
   "execution_count": 13,
   "metadata": {},
   "outputs": [
    {
     "data": {
      "text/plain": [
       "Index(['Television', 'Animals', 'Makerspaces', 'Comedy', 'Audio', 'Workshops',\n",
       "       'Publishing', 'Anthologies', 'Space Exploration', 'Art Books', 'Photo',\n",
       "       'Stationery', 'Nonfiction', 'Poetry', 'Residencies', 'Romance',\n",
       "       'Movie Theaters', 'Camera Equipment', 'Embroidery', 'Social Practice',\n",
       "       'Periodicals', 'Small Batch', 'Video'],\n",
       "      dtype='object')"
      ]
     },
     "execution_count": 13,
     "metadata": {},
     "output_type": "execute_result"
    }
   ],
   "source": [
    "series = pd.value_counts(data_new.category_name)\n",
    "mask = series.lt(7)\n",
    "series[mask].index"
   ]
  },
  {
   "cell_type": "code",
   "execution_count": 14,
   "metadata": {},
   "outputs": [],
   "source": [
    "#group all the category_name with less than 7 count as others\n",
    "\n",
    "data_new['category_name_grp'] = np.where(data_new['category_name'].isin(series[mask].index),'Other',data_new['category_name'])"
   ]
  },
  {
   "cell_type": "code",
   "execution_count": 15,
   "metadata": {},
   "outputs": [
    {
     "data": {
      "text/plain": [
       "Other               60\n",
       "Illustration        56\n",
       "Painting            56\n",
       "World Music         53\n",
       "Web                 50\n",
       "Apparel             48\n",
       "Documentary         47\n",
       "Graphic Novels      37\n",
       "Photobooks          35\n",
       "Horror              34\n",
       "Drama               32\n",
       "Conceptual Art      28\n",
       "Print               27\n",
       "Tabletop Games      24\n",
       "Drinks              23\n",
       "Dance               23\n",
       "Young Adult         20\n",
       "Mixed Media         18\n",
       "Journalism          17\n",
       "Plays               17\n",
       "Rock                17\n",
       "Digital Art         16\n",
       "Live Games          16\n",
       "Art                 14\n",
       "Action              14\n",
       "Video Games         14\n",
       "Metal               13\n",
       "Spaces              13\n",
       "Accessories         12\n",
       "Places              12\n",
       "Mobile Games        12\n",
       "Fine Art            12\n",
       "Performances        10\n",
       "Gadgets             10\n",
       "Installations       10\n",
       "Festivals            9\n",
       "Software             9\n",
       "Calendars            9\n",
       "DIY Electronics      8\n",
       "Academic             8\n",
       "Fiction              7\n",
       "Farms                7\n",
       "Ceramics             7\n",
       "3D Printing          7\n",
       "People               7\n",
       "Children's Books     7\n",
       "Name: category_name_grp, dtype: int64"
      ]
     },
     "execution_count": 15,
     "metadata": {},
     "output_type": "execute_result"
    }
   ],
   "source": [
    "data_new['category_name_grp'].value_counts()"
   ]
  },
  {
   "cell_type": "code",
   "execution_count": 16,
   "metadata": {},
   "outputs": [],
   "source": [
    "data_new = data_new.drop(['category_name'] , axis=1)"
   ]
  },
  {
   "cell_type": "code",
   "execution_count": 17,
   "metadata": {},
   "outputs": [
    {
     "data": {
      "text/plain": [
       "New York          50\n",
       "London            47\n",
       "Los Angeles       36\n",
       "Chicago           15\n",
       "San Diego         13\n",
       "                  ..\n",
       "Devonport          1\n",
       "Bangor             1\n",
       "Lubbock            1\n",
       "Tacoma             1\n",
       "West Yorkshire     1\n",
       "Name: location_name, Length: 487, dtype: int64"
      ]
     },
     "execution_count": 17,
     "metadata": {},
     "output_type": "execute_result"
    }
   ],
   "source": [
    "data_new.location_name.value_counts()"
   ]
  },
  {
   "cell_type": "code",
   "execution_count": 18,
   "metadata": {},
   "outputs": [
    {
     "data": {
      "text/plain": [
       "Other              358\n",
       "New York            50\n",
       "London              47\n",
       "Los Angeles         36\n",
       "Chicago             15\n",
       "                  ... \n",
       "Ann Arbor            2\n",
       "Gloucestershire      2\n",
       "Wilmington           2\n",
       "The Woodlands        2\n",
       "Youngstown           2\n",
       "Name: location_name_grp, Length: 130, dtype: int64"
      ]
     },
     "execution_count": 18,
     "metadata": {},
     "output_type": "execute_result"
    }
   ],
   "source": [
    "#group all the location_name with less than 2 count as others\n",
    "\n",
    "series = pd.value_counts(data_new.location_name)\n",
    "mask = series.lt(2)\n",
    "series[mask].index\n",
    "\n",
    "data_new['location_name_grp'] = np.where(data_new['location_name'].isin(series[mask].index),'Other',data_new['location_name'])\n",
    "\n",
    "data_new['location_name_grp'].value_counts()"
   ]
  },
  {
   "cell_type": "code",
   "execution_count": 19,
   "metadata": {},
   "outputs": [],
   "source": [
    "#Too imbalance, cannot grp \n",
    "data_new = data_new.drop(['location_name_grp'] , axis=1)"
   ]
  },
  {
   "cell_type": "code",
   "execution_count": null,
   "metadata": {},
   "outputs": [],
   "source": []
  },
  {
   "cell_type": "code",
   "execution_count": 21,
   "metadata": {},
   "outputs": [
    {
     "data": {
      "text/plain": [
       "Index(['backers_count', 'country', 'fx_rate', 'goal', 'pledged', 'staff_pick',\n",
       "       'state', 'usd_type', 'num_faq', 'n_comments', 'duration',\n",
       "       'parent_category', 'location_name', 'month_launched', 'year_launched',\n",
       "       'backers_count_log', 'goal_log', 'pledged_log', 'duration_log',\n",
       "       'n_comments_log', 'num_faq_bool', 'avg_fund_per_backer',\n",
       "       'comments_afinn', 'category_name_grp'],\n",
       "      dtype='object')"
      ]
     },
     "execution_count": 21,
     "metadata": {},
     "output_type": "execute_result"
    }
   ],
   "source": [
    "data_new.columns"
   ]
  },
  {
   "cell_type": "markdown",
   "metadata": {},
   "source": [
    "## One Hot Encoding"
   ]
  },
  {
   "cell_type": "code",
   "execution_count": 22,
   "metadata": {},
   "outputs": [],
   "source": [
    "#Not using location name becos too many categories \n",
    "categorical_cols = [\"country\",\"staff_pick\",\"usd_type\",\"parent_category\",\"num_faq_bool\",\"category_name_grp\"]"
   ]
  },
  {
   "cell_type": "code",
   "execution_count": 23,
   "metadata": {},
   "outputs": [],
   "source": [
    "# Split dataset\n",
    "X = data_new.drop(['state','backers_count','pledged','pledged_log','duration','n_comments','num_faq','goal','location_name'], axis=1)\n",
    "y = data_new.state\n",
    "\n",
    "# set stratify = y to maintain ratio of successful:failed for train and test\n",
    "X_train, X_test, y_train, y_test = model_selection.train_test_split(X, y, test_size=0.2, random_state=2019, stratify = y)"
   ]
  },
  {
   "cell_type": "code",
   "execution_count": 24,
   "metadata": {},
   "outputs": [
    {
     "data": {
      "text/plain": [
       "Index(['country', 'fx_rate', 'staff_pick', 'usd_type', 'parent_category',\n",
       "       'month_launched', 'year_launched', 'backers_count_log', 'goal_log',\n",
       "       'duration_log', 'n_comments_log', 'num_faq_bool', 'avg_fund_per_backer',\n",
       "       'comments_afinn', 'category_name_grp'],\n",
       "      dtype='object')"
      ]
     },
     "execution_count": 24,
     "metadata": {},
     "output_type": "execute_result"
    }
   ],
   "source": [
    "X.columns"
   ]
  },
  {
   "cell_type": "code",
   "execution_count": 25,
   "metadata": {},
   "outputs": [],
   "source": [
    "# One Hot Encoding with training set only\n",
    "OHE_df = pd.DataFrame()\n",
    "\n",
    "for i in categorical_cols:\n",
    "    OHE_df[i] = X_train[i].astype(CategoricalDtype(list(set(X[i]))))\n",
    "    \n",
    "    OHE_df = pd.concat([OHE_df, pd.get_dummies(X[i], prefix=i)],axis=1)"
   ]
  },
  {
   "cell_type": "code",
   "execution_count": 26,
   "metadata": {},
   "outputs": [
    {
     "name": "stdout",
     "output_type": "stream",
     "text": [
      "(788, 98) (197, 98)\n"
     ]
    }
   ],
   "source": [
    "OHE_df = OHE_df.drop(categorical_cols, axis= 1)\n",
    "\n",
    "X_no_cat = X.drop(categorical_cols, axis= 1)\n",
    "OHE_df = pd.concat([X_no_cat, OHE_df],axis=1)\n",
    "\n",
    "OHE_train, OHE_test, y_train, y_test = model_selection.train_test_split(OHE_df, y, test_size=0.2, random_state=2019)\n",
    "print(OHE_train.shape, OHE_test.shape)"
   ]
  },
  {
   "cell_type": "code",
   "execution_count": 27,
   "metadata": {},
   "outputs": [],
   "source": [
    "#https://towardsdatascience.com/a-guide-to-svm-parameter-tuning-8bfe6b8a452c\n",
    "\n",
    "#https://www.vebuso.com/2020/03/svm-hyperparameter-tuning-using-gridsearchcv/"
   ]
  },
  {
   "cell_type": "code",
   "execution_count": 28,
   "metadata": {},
   "outputs": [
    {
     "data": {
      "text/plain": [
       "Text(0, 0.5, 'log(backers)')"
      ]
     },
     "execution_count": 28,
     "metadata": {},
     "output_type": "execute_result"
    },
    {
     "data": {
      "image/png": "[encoded data removed]",
      "text/plain": [
       "<Figure size 432x288 with 1 Axes>"
      ]
     },
     "metadata": {
      "needs_background": "light"
     },
     "output_type": "display_data"
    }
   ],
   "source": [
    "import matplotlib.patches as mpatches\n",
    "\n",
    "#goal and backers\n",
    "colormap = np.array(['#5a6349', '#89bedc'])\n",
    "\n",
    "plt.scatter(X_train.goal_log, X_train.backers_count_log, c=colormap[y_train])\n",
    "\n",
    "fail = mpatches.Patch(color='#5a6349', label='fail')\n",
    "success = mpatches.Patch(color='#89bedc', label='success')\n",
    "\n",
    "plt.legend(handles=[fail,success])\n",
    "\n",
    "plt.xlabel(\"goal_log\")\n",
    "plt.ylabel(\"log(backers)\")"
   ]
  },
  {
   "cell_type": "code",
   "execution_count": 29,
   "metadata": {},
   "outputs": [
    {
     "name": "stderr",
     "output_type": "stream",
     "text": [
      "C:\\Users\\User\\anaconda3\\lib\\site-packages\\pandas\\core\\series.py:726: RuntimeWarning: divide by zero encountered in log\n",
      "  result = getattr(ufunc, method)(*inputs, **kwargs)\n"
     ]
    },
    {
     "data": {
      "text/plain": [
       "Text(0, 0.5, 'log(fund per backer)')"
      ]
     },
     "execution_count": 29,
     "metadata": {},
     "output_type": "execute_result"
    },
    {
     "data": {
      "image/png": "[encoded data removed]",
      "text/plain": [
       "<Figure size 432x288 with 1 Axes>"
      ]
     },
     "metadata": {
      "needs_background": "light"
     },
     "output_type": "display_data"
    }
   ],
   "source": [
    "#duration and fund per backer\n",
    "colormap = np.array(['#5a6349', '#89bedc'])\n",
    "\n",
    "plt.scatter(X_train.duration_log, np.log(X_train.avg_fund_per_backer), c=colormap[y_train])\n",
    "\n",
    "fail = mpatches.Patch(color='#5a6349', label='fail')\n",
    "success = mpatches.Patch(color='#89bedc', label='success')\n",
    "\n",
    "plt.legend(handles=[fail,success])\n",
    "\n",
    "plt.xlabel(\"duration_log\")\n",
    "plt.ylabel(\"log(fund per backer)\")\n"
   ]
  },
  {
   "cell_type": "code",
   "execution_count": 30,
   "metadata": {},
   "outputs": [],
   "source": [
    "### No clear relationship can be drawn with numerical features"
   ]
  },
  {
   "cell_type": "markdown",
   "metadata": {},
   "source": [
    "### Running SVM"
   ]
  },
  {
   "cell_type": "code",
   "execution_count": 31,
   "metadata": {},
   "outputs": [],
   "source": [
    "from sklearn.model_selection import GridSearchCV\n",
    "from sklearn.model_selection import RandomizedSearchCV\n",
    "from sklearn.svm import SVC  \n",
    "from sklearn.metrics import classification_report, confusion_matrix"
   ]
  },
  {
   "cell_type": "code",
   "execution_count": 32,
   "metadata": {},
   "outputs": [
    {
     "data": {
      "text/plain": [
       "Index(['fx_rate', 'month_launched', 'year_launched', 'backers_count_log',\n",
       "       'goal_log', 'duration_log', 'n_comments_log', 'avg_fund_per_backer',\n",
       "       'comments_afinn', 'country_AT', 'country_AU', 'country_BE',\n",
       "       'country_CA', 'country_CH', 'country_DE', 'country_DK', 'country_ES',\n",
       "       'country_FR', 'country_GB', 'country_HK', 'country_IE', 'country_IT',\n",
       "       'country_JP', 'country_LU', 'country_MX', 'country_NL', 'country_NO',\n",
       "       'country_NZ', 'country_SE', 'country_SG', 'country_US',\n",
       "       'staff_pick_False', 'staff_pick_True', 'usd_type_domestic',\n",
       "       'usd_type_international', 'parent_category_Art',\n",
       "       'parent_category_Comics', 'parent_category_Crafts',\n",
       "       'parent_category_Dance', 'parent_category_Fashion',\n",
       "       'parent_category_Film & Video', 'parent_category_Food',\n",
       "       'parent_category_Games', 'parent_category_Journalism',\n",
       "       'parent_category_Music', 'parent_category_No Parent Category',\n",
       "       'parent_category_Photography', 'parent_category_Publishing',\n",
       "       'parent_category_Technology', 'parent_category_Theater',\n",
       "       'num_faq_bool_0', 'num_faq_bool_1', 'category_name_grp_3D Printing',\n",
       "       'category_name_grp_Academic', 'category_name_grp_Accessories',\n",
       "       'category_name_grp_Action', 'category_name_grp_Apparel',\n",
       "       'category_name_grp_Art', 'category_name_grp_Calendars',\n",
       "       'category_name_grp_Ceramics', 'category_name_grp_Children's Books',\n",
       "       'category_name_grp_Conceptual Art', 'category_name_grp_DIY Electronics',\n",
       "       'category_name_grp_Dance', 'category_name_grp_Digital Art',\n",
       "       'category_name_grp_Documentary', 'category_name_grp_Drama',\n",
       "       'category_name_grp_Drinks', 'category_name_grp_Farms',\n",
       "       'category_name_grp_Festivals', 'category_name_grp_Fiction',\n",
       "       'category_name_grp_Fine Art', 'category_name_grp_Gadgets',\n",
       "       'category_name_grp_Graphic Novels', 'category_name_grp_Horror',\n",
       "       'category_name_grp_Illustration', 'category_name_grp_Installations',\n",
       "       'category_name_grp_Journalism', 'category_name_grp_Live Games',\n",
       "       'category_name_grp_Metal', 'category_name_grp_Mixed Media',\n",
       "       'category_name_grp_Mobile Games', 'category_name_grp_Other',\n",
       "       'category_name_grp_Painting', 'category_name_grp_People',\n",
       "       'category_name_grp_Performances', 'category_name_grp_Photobooks',\n",
       "       'category_name_grp_Places', 'category_name_grp_Plays',\n",
       "       'category_name_grp_Print', 'category_name_grp_Rock',\n",
       "       'category_name_grp_Software', 'category_name_grp_Spaces',\n",
       "       'category_name_grp_Tabletop Games', 'category_name_grp_Video Games',\n",
       "       'category_name_grp_Web', 'category_name_grp_World Music',\n",
       "       'category_name_grp_Young Adult'],\n",
       "      dtype='object')"
      ]
     },
     "execution_count": 32,
     "metadata": {},
     "output_type": "execute_result"
    }
   ],
   "source": [
    "OHE_train.columns"
   ]
  },
  {
   "cell_type": "code",
   "execution_count": 33,
   "metadata": {},
   "outputs": [
    {
     "name": "stdout",
     "output_type": "stream",
     "text": [
      " TRAIN \n",
      "              precision    recall  f1-score   support\n",
      "\n",
      "           0       0.97      0.95      0.96       297\n",
      "           1       0.97      0.98      0.97       491\n",
      "\n",
      "    accuracy                           0.97       788\n",
      "   macro avg       0.97      0.96      0.97       788\n",
      "weighted avg       0.97      0.97      0.97       788\n",
      "\n"
     ]
    }
   ],
   "source": [
    "#Base model\n",
    "model = SVC(kernel='linear', gamma=\"auto\")\n",
    "\n",
    "model.fit(OHE_train, y_train)\n",
    "y_pred_train = model.predict(OHE_train)\n",
    "\n",
    "print(\" TRAIN \")\n",
    "print(classification_report(y_train,y_pred_train))"
   ]
  },
  {
   "cell_type": "code",
   "execution_count": 34,
   "metadata": {},
   "outputs": [
    {
     "name": "stdout",
     "output_type": "stream",
     "text": [
      " TEST \n",
      "              precision    recall  f1-score   support\n",
      "\n",
      "           0       0.95      0.90      0.93        70\n",
      "           1       0.95      0.98      0.96       127\n",
      "\n",
      "    accuracy                           0.95       197\n",
      "   macro avg       0.95      0.94      0.94       197\n",
      "weighted avg       0.95      0.95      0.95       197\n",
      "\n"
     ]
    }
   ],
   "source": [
    "y_pred_test = model.predict(OHE_test)\n",
    "print(\" TEST \")\n",
    "print(classification_report(y_test,y_pred_test))"
   ]
  },
  {
   "cell_type": "markdown",
   "metadata": {},
   "source": [
    "### Look at features importance"
   ]
  },
  {
   "cell_type": "code",
   "execution_count": 35,
   "metadata": {},
   "outputs": [
    {
     "data": {
      "image/png": "[encoded data removed]",
      "text/plain": [
       "<Figure size 432x288 with 1 Axes>"
      ]
     },
     "metadata": {
      "needs_background": "light"
     },
     "output_type": "display_data"
    }
   ],
   "source": [
    "imp,names = zip(*sorted(zip(model.coef_[0], OHE_train.columns)))\n",
    "plt.barh(range(len(names)), imp, align='center')\n",
    "plt.yticks(range(len(names)), names)\n",
    "plt.show()"
   ]
  },
  {
   "cell_type": "code",
   "execution_count": 36,
   "metadata": {},
   "outputs": [
    {
     "data": {
      "text/html": [
       "<div>\n",
       "<style scoped>\n",
       "    .dataframe tbody tr th:only-of-type {\n",
       "        vertical-align: middle;\n",
       "    }\n",
       "\n",
       "    .dataframe tbody tr th {\n",
       "        vertical-align: top;\n",
       "    }\n",
       "\n",
       "    .dataframe thead th {\n",
       "        text-align: right;\n",
       "    }\n",
       "</style>\n",
       "<table border=\"1\" class=\"dataframe\">\n",
       "  <thead>\n",
       "    <tr style=\"text-align: right;\">\n",
       "      <th></th>\n",
       "      <th>coefficient</th>\n",
       "      <th>word</th>\n",
       "    </tr>\n",
       "  </thead>\n",
       "  <tbody>\n",
       "    <tr>\n",
       "      <th>0</th>\n",
       "      <td>-2.043244</td>\n",
       "      <td>goal_log</td>\n",
       "    </tr>\n",
       "    <tr>\n",
       "      <th>1</th>\n",
       "      <td>-1.372268</td>\n",
       "      <td>fx_rate</td>\n",
       "    </tr>\n",
       "    <tr>\n",
       "      <th>2</th>\n",
       "      <td>-1.184356</td>\n",
       "      <td>category_name_grp_Spaces</td>\n",
       "    </tr>\n",
       "    <tr>\n",
       "      <th>3</th>\n",
       "      <td>-1.176977</td>\n",
       "      <td>parent_category_Technology</td>\n",
       "    </tr>\n",
       "    <tr>\n",
       "      <th>4</th>\n",
       "      <td>-1.000000</td>\n",
       "      <td>category_name_grp_Calendars</td>\n",
       "    </tr>\n",
       "    <tr>\n",
       "      <th>5</th>\n",
       "      <td>-1.000000</td>\n",
       "      <td>category_name_grp_Digital Art</td>\n",
       "    </tr>\n",
       "    <tr>\n",
       "      <th>6</th>\n",
       "      <td>-1.000000</td>\n",
       "      <td>country_CH</td>\n",
       "    </tr>\n",
       "    <tr>\n",
       "      <th>7</th>\n",
       "      <td>-0.996923</td>\n",
       "      <td>category_name_grp_Young Adult</td>\n",
       "    </tr>\n",
       "    <tr>\n",
       "      <th>8</th>\n",
       "      <td>-0.893336</td>\n",
       "      <td>category_name_grp_Metal</td>\n",
       "    </tr>\n",
       "    <tr>\n",
       "      <th>9</th>\n",
       "      <td>-0.718938</td>\n",
       "      <td>country_FR</td>\n",
       "    </tr>\n",
       "  </tbody>\n",
       "</table>\n",
       "</div>"
      ],
      "text/plain": [
       "   coefficient                           word\n",
       "0    -2.043244                       goal_log\n",
       "1    -1.372268                        fx_rate\n",
       "2    -1.184356       category_name_grp_Spaces\n",
       "3    -1.176977     parent_category_Technology\n",
       "4    -1.000000    category_name_grp_Calendars\n",
       "5    -1.000000  category_name_grp_Digital Art\n",
       "6    -1.000000                     country_CH\n",
       "7    -0.996923  category_name_grp_Young Adult\n",
       "8    -0.893336        category_name_grp_Metal\n",
       "9    -0.718938                     country_FR"
      ]
     },
     "execution_count": 36,
     "metadata": {},
     "output_type": "execute_result"
    }
   ],
   "source": [
    "#Top 10 Factors that result in failed projects\n",
    "\n",
    "coefs_with_fns = sorted(zip(model.coef_[0], OHE_train.columns)) \n",
    "df=pd.DataFrame(coefs_with_fns)\n",
    "df.columns='coefficient','word'\n",
    "df[df['coefficient']<0].sort_values(by='coefficient').head(10)"
   ]
  },
  {
   "cell_type": "code",
   "execution_count": 37,
   "metadata": {},
   "outputs": [
    {
     "data": {
      "image/png": "[encoded data removed]",
      "text/plain": [
       "<Figure size 432x288 with 1 Axes>"
      ]
     },
     "metadata": {
      "needs_background": "light"
     },
     "output_type": "display_data"
    }
   ],
   "source": [
    "neg_features = df[df['coefficient']<0].sort_values(by='coefficient').head(10)\n",
    "neg_features = neg_features.sort_values(by='coefficient', ascending=False)\n",
    "\n",
    "plt.barh(range(len(neg_features)), neg_features[\"coefficient\"], align='center')\n",
    "plt.yticks(range(len(neg_features)), neg_features[\"word\"])\n",
    "plt.show()"
   ]
  },
  {
   "cell_type": "code",
   "execution_count": 38,
   "metadata": {},
   "outputs": [
    {
     "data": {
      "text/html": [
       "<div>\n",
       "<style scoped>\n",
       "    .dataframe tbody tr th:only-of-type {\n",
       "        vertical-align: middle;\n",
       "    }\n",
       "\n",
       "    .dataframe tbody tr th {\n",
       "        vertical-align: top;\n",
       "    }\n",
       "\n",
       "    .dataframe thead th {\n",
       "        text-align: right;\n",
       "    }\n",
       "</style>\n",
       "<table border=\"1\" class=\"dataframe\">\n",
       "  <thead>\n",
       "    <tr style=\"text-align: right;\">\n",
       "      <th></th>\n",
       "      <th>coefficient</th>\n",
       "      <th>word</th>\n",
       "    </tr>\n",
       "  </thead>\n",
       "  <tbody>\n",
       "    <tr>\n",
       "      <th>97</th>\n",
       "      <td>3.703197</td>\n",
       "      <td>backers_count_log</td>\n",
       "    </tr>\n",
       "    <tr>\n",
       "      <th>96</th>\n",
       "      <td>1.933247</td>\n",
       "      <td>category_name_grp_Documentary</td>\n",
       "    </tr>\n",
       "    <tr>\n",
       "      <th>95</th>\n",
       "      <td>1.055022</td>\n",
       "      <td>parent_category_Fashion</td>\n",
       "    </tr>\n",
       "    <tr>\n",
       "      <th>92</th>\n",
       "      <td>1.000000</td>\n",
       "      <td>category_name_grp_Places</td>\n",
       "    </tr>\n",
       "    <tr>\n",
       "      <th>91</th>\n",
       "      <td>1.000000</td>\n",
       "      <td>category_name_grp_Drinks</td>\n",
       "    </tr>\n",
       "    <tr>\n",
       "      <th>90</th>\n",
       "      <td>1.000000</td>\n",
       "      <td>category_name_grp_Dance</td>\n",
       "    </tr>\n",
       "    <tr>\n",
       "      <th>93</th>\n",
       "      <td>1.000000</td>\n",
       "      <td>category_name_grp_Rock</td>\n",
       "    </tr>\n",
       "    <tr>\n",
       "      <th>94</th>\n",
       "      <td>1.000000</td>\n",
       "      <td>country_NO</td>\n",
       "    </tr>\n",
       "    <tr>\n",
       "      <th>89</th>\n",
       "      <td>0.910688</td>\n",
       "      <td>country_SG</td>\n",
       "    </tr>\n",
       "    <tr>\n",
       "      <th>88</th>\n",
       "      <td>0.910688</td>\n",
       "      <td>category_name_grp_Gadgets</td>\n",
       "    </tr>\n",
       "  </tbody>\n",
       "</table>\n",
       "</div>"
      ],
      "text/plain": [
       "    coefficient                           word\n",
       "97     3.703197              backers_count_log\n",
       "96     1.933247  category_name_grp_Documentary\n",
       "95     1.055022        parent_category_Fashion\n",
       "92     1.000000       category_name_grp_Places\n",
       "91     1.000000       category_name_grp_Drinks\n",
       "90     1.000000        category_name_grp_Dance\n",
       "93     1.000000         category_name_grp_Rock\n",
       "94     1.000000                     country_NO\n",
       "89     0.910688                     country_SG\n",
       "88     0.910688      category_name_grp_Gadgets"
      ]
     },
     "execution_count": 38,
     "metadata": {},
     "output_type": "execute_result"
    }
   ],
   "source": [
    "#Top 10 Factors that result in success projects\n",
    "\n",
    "df[df['coefficient']>0].sort_values(by='coefficient', ascending=False).head(10)"
   ]
  },
  {
   "cell_type": "code",
   "execution_count": 39,
   "metadata": {},
   "outputs": [
    {
     "data": {
      "image/png": "[encoded data removed]",
      "text/plain": [
       "<Figure size 432x288 with 1 Axes>"
      ]
     },
     "metadata": {
      "needs_background": "light"
     },
     "output_type": "display_data"
    }
   ],
   "source": [
    "pos_features = df[df['coefficient']>0].sort_values(by='coefficient', ascending=False).head(10)\n",
    "pos_features = pos_features.sort_values(by='coefficient')\n",
    "\n",
    "plt.barh(range(len(pos_features)), pos_features[\"coefficient\"], align='center')\n",
    "plt.yticks(range(len(pos_features)), pos_features[\"word\"])\n",
    "plt.show()"
   ]
  },
  {
   "cell_type": "code",
   "execution_count": 40,
   "metadata": {},
   "outputs": [],
   "source": [
    "## negative contributes to predict failed projects (goal_log, fx_rate, cat_name = space, parent_cat = Tech)\n",
    "## positive contributes to predict success projects (backers count, docu, fashion, project from norway)\n",
    "\n",
    "# Only works for linear kernel, cos for other higher dimensions kernel --> coef will not make sense (transform to another space, not input space)\n",
    "    # Coef will not be related to weights "
   ]
  },
  {
   "cell_type": "markdown",
   "metadata": {},
   "source": [
    "### Hyper Params Tunning (non-linear kernel)"
   ]
  },
  {
   "cell_type": "code",
   "execution_count": 41,
   "metadata": {},
   "outputs": [],
   "source": [
    "param_grid = {'C': [0.1,1, 10, 100], 'gamma': [1,0.1,0.01,0.001],'kernel': ['rbf', 'poly', 'sigmoid']}"
   ]
  },
  {
   "cell_type": "code",
   "execution_count": null,
   "metadata": {},
   "outputs": [
    {
     "name": "stdout",
     "output_type": "stream",
     "text": [
      "Fitting 5 folds for each of 5 candidates, totalling 25 fits\n"
     ]
    },
    {
     "name": "stderr",
     "output_type": "stream",
     "text": [
      "[Parallel(n_jobs=2)]: Using backend LokyBackend with 2 concurrent workers.\n"
     ]
    }
   ],
   "source": [
    "grid = RandomizedSearchCV(SVC(),param_grid,refit=True,verbose=2,n_iter=5,n_jobs=2)\n",
    "grid.fit(OHE_train,y_train)"
   ]
  },
  {
   "cell_type": "code",
   "execution_count": null,
   "metadata": {},
   "outputs": [],
   "source": []
  },
  {
   "cell_type": "code",
   "execution_count": null,
   "metadata": {},
   "outputs": [],
   "source": [
    "['backers_count', 'country', 'fx_rate', 'goal', 'pledged', 'staff_pick',\n",
    "       'state', 'usd_type', 'num_faq', 'n_comments', 'duration',\n",
    "       'parent_category', 'location_name', 'month_launched', 'year_launched',\n",
    "       'backers_count_log', 'goal_log', 'pledged_log', 'duration_log',\n",
    "       'n_comments_log', 'num_faq_bool', 'avg_fund_per_backer',\n",
    "       'comments_afinn', 'category_name_grp']"
   ]
  }
 ],
 "metadata": {
  "kernelspec": {
   "display_name": "Python 3",
   "language": "python",
   "name": "python3"
  },
  "language_info": {
   "codemirror_mode": {
    "name": "ipython",
    "version": 3
   },
   "file_extension": ".py",
   "mimetype": "text/x-python",
   "name": "python",
   "nbconvert_exporter": "python",
   "pygments_lexer": "ipython3",
   "version": "3.8.5"
  }
 },
 "nbformat": 4,
 "nbformat_minor": 4
}
