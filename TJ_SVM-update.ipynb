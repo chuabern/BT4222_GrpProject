{
 "cells": [
  {
   "cell_type": "code",
   "execution_count": 71,
   "metadata": {},
   "outputs": [
    {
     "data": {
      "text/plain": [
       "'D:\\\\NUS\\\\GitHub\\\\BT4222_GrpProject'"
      ]
     },
     "execution_count": 71,
     "metadata": {},
     "output_type": "execute_result"
    }
   ],
   "source": [
    "import pandas as pd\n",
    "import numpy as np\n",
    "import seaborn as sns\n",
    "import matplotlib.pyplot as plt\n",
    "import pandas as pd\n",
    "import numpy as np\n",
    "import json \n",
    "import matplotlib.pyplot as plt\n",
    "import seaborn as sns\n",
    "from pandas.api.types import CategoricalDtype \n",
    "from sklearn import model_selection, metrics\n",
    "\n",
    "import pickle\n",
    "\n",
    "import os\n",
    "os.getcwd()"
   ]
  },
  {
   "cell_type": "code",
   "execution_count": 15,
   "metadata": {},
   "outputs": [],
   "source": [
    "data = pd.read_csv(\"./Output/data_clean&processed_addedsentiment.csv\")\n",
    "#data = data.drop('Unnamed: 0', axis=1)"
   ]
  },
  {
   "cell_type": "code",
   "execution_count": 16,
   "metadata": {},
   "outputs": [
    {
     "data": {
      "text/plain": [
       "(3419, 53)"
      ]
     },
     "execution_count": 16,
     "metadata": {},
     "output_type": "execute_result"
    }
   ],
   "source": [
    "data.shape"
   ]
  },
  {
   "cell_type": "code",
   "execution_count": 17,
   "metadata": {},
   "outputs": [
    {
     "data": {
      "text/html": [
       "<div>\n",
       "<style scoped>\n",
       "    .dataframe tbody tr th:only-of-type {\n",
       "        vertical-align: middle;\n",
       "    }\n",
       "\n",
       "    .dataframe tbody tr th {\n",
       "        vertical-align: top;\n",
       "    }\n",
       "\n",
       "    .dataframe thead th {\n",
       "        text-align: right;\n",
       "    }\n",
       "</style>\n",
       "<table border=\"1\" class=\"dataframe\">\n",
       "  <thead>\n",
       "    <tr style=\"text-align: right;\">\n",
       "      <th></th>\n",
       "      <th>id_row</th>\n",
       "      <th>backers_count</th>\n",
       "      <th>blurb</th>\n",
       "      <th>category</th>\n",
       "      <th>converted_pledged_amount</th>\n",
       "      <th>country</th>\n",
       "      <th>created_at</th>\n",
       "      <th>current_currency</th>\n",
       "      <th>deadline</th>\n",
       "      <th>fx_rate</th>\n",
       "      <th>...</th>\n",
       "      <th>num_faq_bool</th>\n",
       "      <th>avg_fund_per_backer</th>\n",
       "      <th>comments_afinn</th>\n",
       "      <th>blurb_name</th>\n",
       "      <th>faq_comments</th>\n",
       "      <th>story_afinn</th>\n",
       "      <th>faq_comments_afinn</th>\n",
       "      <th>blurb_name_afinn</th>\n",
       "      <th>blurb_afinn</th>\n",
       "      <th>name_afinn</th>\n",
       "    </tr>\n",
       "  </thead>\n",
       "  <tbody>\n",
       "    <tr>\n",
       "      <th>2229</th>\n",
       "      <td>2234</td>\n",
       "      <td>397</td>\n",
       "      <td>Volume 5 of the critically acclaimed online co...</td>\n",
       "      <td>{'id': 253, 'name': 'Webcomics', 'slug': 'comi...</td>\n",
       "      <td>22989</td>\n",
       "      <td>US</td>\n",
       "      <td>2014-09-23 15:59:42</td>\n",
       "      <td>USD</td>\n",
       "      <td>2014-11-09 16:44:00</td>\n",
       "      <td>1.000000</td>\n",
       "      <td>...</td>\n",
       "      <td>0</td>\n",
       "      <td>57.907607</td>\n",
       "      <td>0.0</td>\n",
       "      <td>Volume 5 of the critically acclaimed online co...</td>\n",
       "      <td>na</td>\n",
       "      <td>0.0</td>\n",
       "      <td>0.0</td>\n",
       "      <td>3.0</td>\n",
       "      <td>3.0</td>\n",
       "      <td>0.0</td>\n",
       "    </tr>\n",
       "    <tr>\n",
       "      <th>575</th>\n",
       "      <td>575</td>\n",
       "      <td>15</td>\n",
       "      <td>The law on assisted dying in the UK remains on...</td>\n",
       "      <td>{'id': 30, 'name': 'Documentary', 'slug': 'fil...</td>\n",
       "      <td>8143</td>\n",
       "      <td>GB</td>\n",
       "      <td>2017-07-12 05:29:04</td>\n",
       "      <td>USD</td>\n",
       "      <td>2017-11-30 11:54:00</td>\n",
       "      <td>1.382164</td>\n",
       "      <td>...</td>\n",
       "      <td>0</td>\n",
       "      <td>403.133333</td>\n",
       "      <td>-1.0</td>\n",
       "      <td>The law on assisted dying in the UK remains on...</td>\n",
       "      <td>['   ']No comments yet.</td>\n",
       "      <td>9.0</td>\n",
       "      <td>-1.0</td>\n",
       "      <td>-7.0</td>\n",
       "      <td>-5.0</td>\n",
       "      <td>-2.0</td>\n",
       "    </tr>\n",
       "    <tr>\n",
       "      <th>764</th>\n",
       "      <td>764</td>\n",
       "      <td>152</td>\n",
       "      <td>Help ViceVersa Magazine continue to provide a ...</td>\n",
       "      <td>{'id': 361, 'name': 'Web', 'slug': 'journalism...</td>\n",
       "      <td>14635</td>\n",
       "      <td>US</td>\n",
       "      <td>2016-09-29 11:45:21</td>\n",
       "      <td>USD</td>\n",
       "      <td>2016-11-23 00:09:00</td>\n",
       "      <td>1.000000</td>\n",
       "      <td>...</td>\n",
       "      <td>0</td>\n",
       "      <td>96.282895</td>\n",
       "      <td>-1.0</td>\n",
       "      <td>Help ViceVersa Magazine continue to provide a ...</td>\n",
       "      <td>['   ']No comments yet.</td>\n",
       "      <td>13.0</td>\n",
       "      <td>-1.0</td>\n",
       "      <td>6.0</td>\n",
       "      <td>4.0</td>\n",
       "      <td>2.0</td>\n",
       "    </tr>\n",
       "  </tbody>\n",
       "</table>\n",
       "<p>3 rows × 53 columns</p>\n",
       "</div>"
      ],
      "text/plain": [
       "      id_row  backers_count  \\\n",
       "2229    2234            397   \n",
       "575      575             15   \n",
       "764      764            152   \n",
       "\n",
       "                                                  blurb  \\\n",
       "2229  Volume 5 of the critically acclaimed online co...   \n",
       "575   The law on assisted dying in the UK remains on...   \n",
       "764   Help ViceVersa Magazine continue to provide a ...   \n",
       "\n",
       "                                               category  \\\n",
       "2229  {'id': 253, 'name': 'Webcomics', 'slug': 'comi...   \n",
       "575   {'id': 30, 'name': 'Documentary', 'slug': 'fil...   \n",
       "764   {'id': 361, 'name': 'Web', 'slug': 'journalism...   \n",
       "\n",
       "      converted_pledged_amount country           created_at current_currency  \\\n",
       "2229                     22989      US  2014-09-23 15:59:42              USD   \n",
       "575                       8143      GB  2017-07-12 05:29:04              USD   \n",
       "764                      14635      US  2016-09-29 11:45:21              USD   \n",
       "\n",
       "                 deadline   fx_rate  ...  num_faq_bool  avg_fund_per_backer  \\\n",
       "2229  2014-11-09 16:44:00  1.000000  ...             0            57.907607   \n",
       "575   2017-11-30 11:54:00  1.382164  ...             0           403.133333   \n",
       "764   2016-11-23 00:09:00  1.000000  ...             0            96.282895   \n",
       "\n",
       "     comments_afinn                                         blurb_name  \\\n",
       "2229            0.0  Volume 5 of the critically acclaimed online co...   \n",
       "575            -1.0  The law on assisted dying in the UK remains on...   \n",
       "764            -1.0  Help ViceVersa Magazine continue to provide a ...   \n",
       "\n",
       "                 faq_comments  story_afinn faq_comments_afinn  \\\n",
       "2229                       na          0.0                0.0   \n",
       "575   ['   ']No comments yet.          9.0               -1.0   \n",
       "764   ['   ']No comments yet.         13.0               -1.0   \n",
       "\n",
       "     blurb_name_afinn blurb_afinn  name_afinn  \n",
       "2229              3.0         3.0         0.0  \n",
       "575              -7.0        -5.0        -2.0  \n",
       "764               6.0         4.0         2.0  \n",
       "\n",
       "[3 rows x 53 columns]"
      ]
     },
     "execution_count": 17,
     "metadata": {},
     "output_type": "execute_result"
    }
   ],
   "source": [
    "data.sample(3)"
   ]
  },
  {
   "cell_type": "code",
   "execution_count": 18,
   "metadata": {},
   "outputs": [
    {
     "data": {
      "text/plain": [
       "Index(['id_row', 'backers_count', 'blurb', 'category',\n",
       "       'converted_pledged_amount', 'country', 'created_at', 'current_currency',\n",
       "       'deadline', 'fx_rate', 'goal', 'id', 'launched_at', 'location', 'name',\n",
       "       'pledged', 'profile', 'slug', 'source_url', 'spotlight', 'staff_pick',\n",
       "       'state', 'state_changed_at', 'static_usd_rate', 'urls', 'usd_pledged',\n",
       "       'usd_type', 'story', 'faq', 'num_faq', 'comments', 'n_comments',\n",
       "       'duration', 'parent_category', 'category_name', 'location_name',\n",
       "       'month_launched', 'year_launched', 'backers_count_log', 'goal_log',\n",
       "       'pledged_log', 'duration_log', 'n_comments_log', 'num_faq_bool',\n",
       "       'avg_fund_per_backer', 'comments_afinn', 'blurb_name', 'faq_comments',\n",
       "       'story_afinn', 'faq_comments_afinn', 'blurb_name_afinn', 'blurb_afinn',\n",
       "       'name_afinn'],\n",
       "      dtype='object')"
      ]
     },
     "execution_count": 18,
     "metadata": {},
     "output_type": "execute_result"
    }
   ],
   "source": [
    "data.columns"
   ]
  },
  {
   "cell_type": "code",
   "execution_count": 19,
   "metadata": {},
   "outputs": [
    {
     "data": {
      "text/plain": [
       "id_row                      0\n",
       "backers_count               0\n",
       "blurb                       0\n",
       "category                    0\n",
       "converted_pledged_amount    0\n",
       "country                     0\n",
       "created_at                  0\n",
       "current_currency            0\n",
       "deadline                    0\n",
       "fx_rate                     0\n",
       "goal                        0\n",
       "id                          0\n",
       "launched_at                 0\n",
       "location                    0\n",
       "name                        0\n",
       "pledged                     0\n",
       "profile                     0\n",
       "slug                        0\n",
       "source_url                  0\n",
       "spotlight                   0\n",
       "staff_pick                  0\n",
       "state                       0\n",
       "state_changed_at            0\n",
       "static_usd_rate             0\n",
       "urls                        0\n",
       "usd_pledged                 0\n",
       "usd_type                    0\n",
       "story                       0\n",
       "faq                         0\n",
       "num_faq                     0\n",
       "comments                    0\n",
       "n_comments                  0\n",
       "duration                    0\n",
       "parent_category             0\n",
       "category_name               0\n",
       "location_name               0\n",
       "month_launched              0\n",
       "year_launched               0\n",
       "backers_count_log           0\n",
       "goal_log                    0\n",
       "pledged_log                 0\n",
       "duration_log                0\n",
       "n_comments_log              0\n",
       "num_faq_bool                0\n",
       "avg_fund_per_backer         0\n",
       "comments_afinn              0\n",
       "blurb_name                  0\n",
       "faq_comments                0\n",
       "story_afinn                 0\n",
       "faq_comments_afinn          0\n",
       "blurb_name_afinn            0\n",
       "blurb_afinn                 0\n",
       "name_afinn                  0\n",
       "dtype: int64"
      ]
     },
     "execution_count": 19,
     "metadata": {},
     "output_type": "execute_result"
    }
   ],
   "source": [
    "data.isna().sum()"
   ]
  },
  {
   "cell_type": "markdown",
   "metadata": {},
   "source": [
    "# SVM"
   ]
  },
  {
   "cell_type": "code",
   "execution_count": 20,
   "metadata": {},
   "outputs": [],
   "source": [
    "from sklearn.svm import SVC"
   ]
  },
  {
   "cell_type": "code",
   "execution_count": 21,
   "metadata": {},
   "outputs": [
    {
     "data": {
      "text/plain": [
       "Index(['id_row', 'backers_count', 'blurb', 'country', 'fx_rate', 'goal',\n",
       "       'name', 'pledged', 'staff_pick', 'state', 'usd_type', 'story', 'faq',\n",
       "       'num_faq', 'comments', 'n_comments', 'duration', 'parent_category',\n",
       "       'category_name', 'location_name', 'month_launched', 'year_launched',\n",
       "       'backers_count_log', 'goal_log', 'pledged_log', 'duration_log',\n",
       "       'n_comments_log', 'num_faq_bool', 'avg_fund_per_backer', 'blurb_name',\n",
       "       'faq_comments', 'story_afinn', 'faq_comments_afinn',\n",
       "       'blurb_name_afinn'],\n",
       "      dtype='object')"
      ]
     },
     "execution_count": 21,
     "metadata": {},
     "output_type": "execute_result"
    }
   ],
   "source": [
    "cols_to_drop = ['profile', 'category', 'created_at', 'location', 'current_currency', 'deadline', 'id', \n",
    "                'launched_at', 'slug', 'source_url', 'state_changed_at', 'urls', 'static_usd_rate', \n",
    "                'usd_pledged', 'converted_pledged_amount', 'spotlight', 'name_afinn', 'blurb_afinn','comments_afinn']\n",
    "\n",
    "data_new = data.drop(cols_to_drop, axis=1)\n",
    "data_new.columns"
   ]
  },
  {
   "cell_type": "code",
   "execution_count": 22,
   "metadata": {},
   "outputs": [
    {
     "data": {
      "text/plain": [
       "Index(['id_row', 'backers_count', 'country', 'fx_rate', 'goal', 'pledged',\n",
       "       'staff_pick', 'state', 'usd_type', 'num_faq', 'n_comments', 'duration',\n",
       "       'parent_category', 'category_name', 'location_name', 'month_launched',\n",
       "       'year_launched', 'backers_count_log', 'goal_log', 'pledged_log',\n",
       "       'duration_log', 'avg_fund_per_backer'],\n",
       "      dtype='object')"
      ]
     },
     "execution_count": 22,
     "metadata": {},
     "output_type": "execute_result"
    }
   ],
   "source": [
    "#drop text features\n",
    "text_to_drop = ['blurb','name','story','faq','comments','blurb_name','faq_comments', 'n_comments_log', 'num_faq_bool', 'story_afinn', 'faq_comments_afinn', 'blurb_name_afinn']\n",
    "data_new = data_new.drop(text_to_drop , axis=1)\n",
    "data_new.columns"
   ]
  },
  {
   "cell_type": "code",
   "execution_count": 10,
   "metadata": {},
   "outputs": [],
   "source": [
    "#Looks at categorical variables"
   ]
  },
  {
   "cell_type": "code",
   "execution_count": 23,
   "metadata": {},
   "outputs": [
    {
     "data": {
      "text/plain": [
       "Film & Video          500\n",
       "Art                   398\n",
       "Music                 340\n",
       "Publishing            311\n",
       "Technology            296\n",
       "Games                 214\n",
       "Comics                208\n",
       "Food                  194\n",
       "Design                193\n",
       "Fashion               176\n",
       "Photography           145\n",
       "No Parent Category    143\n",
       "Journalism            102\n",
       "Dance                  73\n",
       "Crafts                 73\n",
       "Theater                53\n",
       "Name: parent_category, dtype: int64"
      ]
     },
     "execution_count": 23,
     "metadata": {},
     "output_type": "execute_result"
    }
   ],
   "source": [
    "data_new.parent_category.value_counts()"
   ]
  },
  {
   "cell_type": "code",
   "execution_count": 24,
   "metadata": {},
   "outputs": [
    {
     "data": {
      "text/plain": [
       "Illustration      129\n",
       "Web               120\n",
       "World Music       113\n",
       "Product Design     94\n",
       "Graphic Novels     94\n",
       "                 ... \n",
       "Sculpture           1\n",
       "Movie Theaters      1\n",
       "Pop                 1\n",
       "Romance             1\n",
       "Cookbooks           1\n",
       "Name: category_name, Length: 144, dtype: int64"
      ]
     },
     "execution_count": 24,
     "metadata": {},
     "output_type": "execute_result"
    }
   ],
   "source": [
    "data_new.category_name.value_counts()"
   ]
  },
  {
   "cell_type": "code",
   "execution_count": 25,
   "metadata": {},
   "outputs": [
    {
     "data": {
      "text/plain": [
       "Index(['Academic', 'Restaurants', 'Ceramics', 'Video', 'Technology',\n",
       "       'Workshops', 'Makerspaces', 'Interactive Design', 'Literary Journals',\n",
       "       'Wearables', 'Comics', 'Immersive', 'Food', 'Flight', '3D Printing',\n",
       "       'Kids', 'People', 'Space Exploration', 'Zines', 'Civic Design',\n",
       "       'Candles', 'Television', 'Woodworking', 'Hardware', 'Printing',\n",
       "       'Stationery', 'Community Gardens', 'Crochet', 'Knitting', 'Music',\n",
       "       'Design', 'Apps', 'Publishing', 'Quilts', 'Pottery', 'Fashion',\n",
       "       'Translations', 'Literary Spaces', 'Footwear', 'Farmer's Markets',\n",
       "       'Bacon', 'Nature', 'Toys', 'Pet Fashion', 'Latin', 'Electronic Music',\n",
       "       'Family', 'Weaving', 'Country & Folk', 'Social Practice', 'Photo',\n",
       "       'Events', 'Embroidery', 'Robots', 'Jazz', 'Residencies',\n",
       "       'Fabrication Tools', 'Camera Equipment', 'Sculpture', 'Movie Theaters',\n",
       "       'Pop', 'Romance', 'Cookbooks'],\n",
       "      dtype='object')"
      ]
     },
     "execution_count": 25,
     "metadata": {},
     "output_type": "execute_result"
    }
   ],
   "source": [
    "series = pd.value_counts(data_new.category_name)\n",
    "mask = series.lt(10)\n",
    "series[mask].index"
   ]
  },
  {
   "cell_type": "code",
   "execution_count": 26,
   "metadata": {},
   "outputs": [],
   "source": [
    "#group all the category_name with less than 10 count as others\n",
    "\n",
    "data_new['category_name_grp'] = np.where(data_new['category_name'].isin(series[mask].index),'Other',data_new['category_name'])"
   ]
  },
  {
   "cell_type": "code",
   "execution_count": 27,
   "metadata": {},
   "outputs": [
    {
     "data": {
      "text/plain": [
       "Other             285\n",
       "Illustration      129\n",
       "Web               120\n",
       "World Music       113\n",
       "Product Design     94\n",
       "                 ... \n",
       "Textiles           12\n",
       "Farms              11\n",
       "Punk               11\n",
       "Couture            11\n",
       "Blues              10\n",
       "Name: category_name_grp, Length: 82, dtype: int64"
      ]
     },
     "execution_count": 27,
     "metadata": {},
     "output_type": "execute_result"
    }
   ],
   "source": [
    "data_new['category_name_grp'].value_counts()"
   ]
  },
  {
   "cell_type": "code",
   "execution_count": 28,
   "metadata": {},
   "outputs": [],
   "source": [
    "data_new = data_new.drop(['category_name'] , axis=1)"
   ]
  },
  {
   "cell_type": "code",
   "execution_count": 17,
   "metadata": {},
   "outputs": [
    {
     "data": {
      "text/plain": [
       "New York                    50\n",
       "London                      47\n",
       "Los Angeles                 36\n",
       "Chicago                     15\n",
       "San Francisco               13\n",
       "                            ..\n",
       "Schwabenheim an der Selz     1\n",
       "Lorton                       1\n",
       "Caen                         1\n",
       "Hobart                       1\n",
       "Chandler                     1\n",
       "Name: location_name, Length: 487, dtype: int64"
      ]
     },
     "execution_count": 17,
     "metadata": {},
     "output_type": "execute_result"
    }
   ],
   "source": [
    "data_new.location_name.value_counts()"
   ]
  },
  {
   "cell_type": "code",
   "execution_count": 31,
   "metadata": {},
   "outputs": [
    {
     "data": {
      "text/plain": [
       "Other             1827\n",
       "Los Angeles        166\n",
       "New York           153\n",
       "London             144\n",
       "Brooklyn            51\n",
       "Chicago             50\n",
       "San Francisco       47\n",
       "Seattle             44\n",
       "Portland            40\n",
       "Atlanta             39\n",
       "Minneapolis         33\n",
       "Toronto             32\n",
       "Austin              31\n",
       "Boston              27\n",
       "Denver              27\n",
       "Hong Kong           25\n",
       "Melbourne           24\n",
       "Manhattan           24\n",
       "San Diego           24\n",
       "Mexico City         22\n",
       "Washington          22\n",
       "Phoenix             21\n",
       "Montreal            21\n",
       "Sydney              21\n",
       "Las Vegas           20\n",
       "Vancouver           20\n",
       "Houston             19\n",
       "Columbus            19\n",
       "Philadelphia        18\n",
       "Singapore           18\n",
       "Paris               18\n",
       "Dallas              17\n",
       "Pittsburgh          17\n",
       "Berlin              16\n",
       "Stockholm           16\n",
       "Detroit             16\n",
       "Bristol             15\n",
       "Kansas City         15\n",
       "Orlando             14\n",
       "Italia              14\n",
       "Amsterdam           14\n",
       "Salt Lake City      13\n",
       "Copenhagen          13\n",
       "Baltimore           13\n",
       "Miami               13\n",
       "Richmond            13\n",
       "None                12\n",
       "Sheffield           12\n",
       "Sacramento          12\n",
       "Oakland             12\n",
       "San Antonio         11\n",
       "Rochester           11\n",
       "Berkeley            11\n",
       "Tokyo               11\n",
       "Madrid              11\n",
       "Savannah            10\n",
       "Edmonton            10\n",
       "Cleveland           10\n",
       "France              10\n",
       "Auckland            10\n",
       "Name: location_name_grp, dtype: int64"
      ]
     },
     "execution_count": 31,
     "metadata": {},
     "output_type": "execute_result"
    }
   ],
   "source": [
    "#group all the location_name with less than 10 count as others\n",
    "\n",
    "series = pd.value_counts(data_new.location_name)\n",
    "mask = series.lt(10)\n",
    "series[mask].index\n",
    "\n",
    "data_new['location_name_grp'] = np.where(data_new['location_name'].isin(series[mask].index),'Other',data_new['location_name'])\n",
    "\n",
    "data_new['location_name_grp'].value_counts()"
   ]
  },
  {
   "cell_type": "code",
   "execution_count": 19,
   "metadata": {},
   "outputs": [],
   "source": [
    "#Too imbalance, cannot grp \n",
    "#data_new = data_new.drop(['location_name_grp'] , axis=1)"
   ]
  },
  {
   "cell_type": "code",
   "execution_count": null,
   "metadata": {},
   "outputs": [],
   "source": []
  },
  {
   "cell_type": "code",
   "execution_count": 32,
   "metadata": {},
   "outputs": [
    {
     "data": {
      "text/plain": [
       "Index(['id_row', 'backers_count', 'country', 'fx_rate', 'goal', 'pledged',\n",
       "       'staff_pick', 'state', 'usd_type', 'num_faq', 'n_comments', 'duration',\n",
       "       'parent_category', 'location_name', 'month_launched', 'year_launched',\n",
       "       'backers_count_log', 'goal_log', 'pledged_log', 'duration_log',\n",
       "       'avg_fund_per_backer', 'category_name_grp', 'location_name_grp'],\n",
       "      dtype='object')"
      ]
     },
     "execution_count": 32,
     "metadata": {},
     "output_type": "execute_result"
    }
   ],
   "source": [
    "data_new.columns"
   ]
  },
  {
   "cell_type": "markdown",
   "metadata": {},
   "source": [
    "## One Hot Encoding"
   ]
  },
  {
   "cell_type": "code",
   "execution_count": 33,
   "metadata": {},
   "outputs": [],
   "source": [
    "#  --- Not using location name becos too many categories \n",
    "categorical_cols = [\"country\",\"staff_pick\",\"usd_type\",\"parent_category\",\"category_name_grp\",\"location_name_grp\"]"
   ]
  },
  {
   "cell_type": "code",
   "execution_count": 36,
   "metadata": {},
   "outputs": [],
   "source": [
    "# Split dataset\n",
    "X = data_new.drop(['id_row','state','backers_count','pledged','pledged_log','duration','goal','location_name', 'num_faq', 'n_comments'], axis=1)\n",
    "y = data_new.state\n",
    "\n",
    "# set stratify = y to maintain ratio of successful:failed for train and test\n",
    "X_train, X_test, y_train, y_test = model_selection.train_test_split(X, y, test_size=0.2, random_state=2019, stratify = y)"
   ]
  },
  {
   "cell_type": "code",
   "execution_count": 37,
   "metadata": {},
   "outputs": [
    {
     "data": {
      "text/plain": [
       "Index(['country', 'fx_rate', 'staff_pick', 'usd_type', 'parent_category',\n",
       "       'month_launched', 'year_launched', 'backers_count_log', 'goal_log',\n",
       "       'duration_log', 'avg_fund_per_backer', 'category_name_grp',\n",
       "       'location_name_grp'],\n",
       "      dtype='object')"
      ]
     },
     "execution_count": 37,
     "metadata": {},
     "output_type": "execute_result"
    }
   ],
   "source": [
    "X.columns"
   ]
  },
  {
   "cell_type": "code",
   "execution_count": 38,
   "metadata": {},
   "outputs": [],
   "source": [
    "# One Hot Encoding with training set only\n",
    "OHE_df = pd.DataFrame()\n",
    "\n",
    "for i in categorical_cols:\n",
    "    OHE_df[i] = X_train[i].astype(CategoricalDtype(list(set(X[i]))))\n",
    "    \n",
    "    OHE_df = pd.concat([OHE_df, pd.get_dummies(X[i], prefix=i)],axis=1)"
   ]
  },
  {
   "cell_type": "code",
   "execution_count": 39,
   "metadata": {},
   "outputs": [
    {
     "name": "stdout",
     "output_type": "stream",
     "text": [
      "(2735, 192) (684, 192)\n"
     ]
    }
   ],
   "source": [
    "OHE_df = OHE_df.drop(categorical_cols, axis= 1)\n",
    "\n",
    "X_no_cat = X.drop(categorical_cols, axis= 1)\n",
    "OHE_df = pd.concat([X_no_cat, OHE_df],axis=1)\n",
    "\n",
    "OHE_train, OHE_test, y_train, y_test = model_selection.train_test_split(OHE_df, y, test_size=0.2, random_state=2019)\n",
    "print(OHE_train.shape, OHE_test.shape)"
   ]
  },
  {
   "cell_type": "code",
   "execution_count": 27,
   "metadata": {},
   "outputs": [],
   "source": [
    "#https://towardsdatascience.com/a-guide-to-svm-parameter-tuning-8bfe6b8a452c\n",
    "\n",
    "#https://www.vebuso.com/2020/03/svm-hyperparameter-tuning-using-gridsearchcv/"
   ]
  },
  {
   "cell_type": "code",
   "execution_count": 40,
   "metadata": {},
   "outputs": [
    {
     "data": {
      "text/plain": [
       "Text(0, 0.5, 'log(backers)')"
      ]
     },
     "execution_count": 40,
     "metadata": {},
     "output_type": "execute_result"
    },
    {
     "data": {
      "image/png": "[encoded data removed]",
      "text/plain": [
       "<Figure size 432x288 with 1 Axes>"
      ]
     },
     "metadata": {
      "needs_background": "light"
     },
     "output_type": "display_data"
    }
   ],
   "source": [
    "import matplotlib.patches as mpatches\n",
    "\n",
    "#goal and backers\n",
    "colormap = np.array(['#5a6349', '#89bedc'])\n",
    "\n",
    "plt.scatter(X_train.goal_log, X_train.backers_count_log, c=colormap[y_train])\n",
    "\n",
    "fail = mpatches.Patch(color='#5a6349', label='fail')\n",
    "success = mpatches.Patch(color='#89bedc', label='success')\n",
    "\n",
    "plt.legend(handles=[fail,success])\n",
    "\n",
    "plt.xlabel(\"goal_log\")\n",
    "plt.ylabel(\"log(backers)\")"
   ]
  },
  {
   "cell_type": "code",
   "execution_count": 41,
   "metadata": {},
   "outputs": [
    {
     "name": "stderr",
     "output_type": "stream",
     "text": [
      "C:\\Users\\User\\anaconda3\\lib\\site-packages\\pandas\\core\\series.py:726: RuntimeWarning: divide by zero encountered in log\n",
      "  result = getattr(ufunc, method)(*inputs, **kwargs)\n"
     ]
    },
    {
     "data": {
      "text/plain": [
       "Text(0, 0.5, 'log(fund per backer)')"
      ]
     },
     "execution_count": 41,
     "metadata": {},
     "output_type": "execute_result"
    },
    {
     "data": {
      "image/png": "[encoded data removed]",
      "text/plain": [
       "<Figure size 432x288 with 1 Axes>"
      ]
     },
     "metadata": {
      "needs_background": "light"
     },
     "output_type": "display_data"
    }
   ],
   "source": [
    "#duration and fund per backer\n",
    "colormap = np.array(['#5a6349', '#89bedc'])\n",
    "\n",
    "plt.scatter(X_train.duration_log, np.log(X_train.avg_fund_per_backer), c=colormap[y_train])\n",
    "\n",
    "fail = mpatches.Patch(color='#5a6349', label='fail')\n",
    "success = mpatches.Patch(color='#89bedc', label='success')\n",
    "\n",
    "plt.legend(handles=[fail,success])\n",
    "\n",
    "plt.xlabel(\"duration_log\")\n",
    "plt.ylabel(\"log(fund per backer)\")\n"
   ]
  },
  {
   "cell_type": "code",
   "execution_count": 30,
   "metadata": {},
   "outputs": [],
   "source": [
    "### No clear relationship can be drawn with numerical features"
   ]
  },
  {
   "cell_type": "markdown",
   "metadata": {},
   "source": [
    "### Running SVM"
   ]
  },
  {
   "cell_type": "code",
   "execution_count": 43,
   "metadata": {},
   "outputs": [],
   "source": [
    "from sklearn.model_selection import GridSearchCV\n",
    "from sklearn.model_selection import RandomizedSearchCV\n",
    "from sklearn.svm import SVC  \n",
    "from sklearn.metrics import classification_report, confusion_matrix"
   ]
  },
  {
   "cell_type": "code",
   "execution_count": 44,
   "metadata": {},
   "outputs": [
    {
     "data": {
      "text/plain": [
       "Index(['fx_rate', 'month_launched', 'year_launched', 'backers_count_log',\n",
       "       'goal_log', 'duration_log', 'avg_fund_per_backer', 'country_AT',\n",
       "       'country_AU', 'country_BE',\n",
       "       ...\n",
       "       'location_name_grp_Savannah', 'location_name_grp_Seattle',\n",
       "       'location_name_grp_Sheffield', 'location_name_grp_Singapore',\n",
       "       'location_name_grp_Stockholm', 'location_name_grp_Sydney',\n",
       "       'location_name_grp_Tokyo', 'location_name_grp_Toronto',\n",
       "       'location_name_grp_Vancouver', 'location_name_grp_Washington'],\n",
       "      dtype='object', length=192)"
      ]
     },
     "execution_count": 44,
     "metadata": {},
     "output_type": "execute_result"
    }
   ],
   "source": [
    "OHE_train.columns"
   ]
  },
  {
   "cell_type": "code",
   "execution_count": 48,
   "metadata": {},
   "outputs": [
    {
     "data": {
      "text/plain": [
       "1    0.622807\n",
       "Name: state, dtype: float64"
      ]
     },
     "execution_count": 48,
     "metadata": {},
     "output_type": "execute_result"
    }
   ],
   "source": [
    "#Get null accuracy \n",
    "y_test.value_counts().head(1) / y_test.shape"
   ]
  },
  {
   "cell_type": "code",
   "execution_count": 46,
   "metadata": {},
   "outputs": [
    {
     "name": "stdout",
     "output_type": "stream",
     "text": [
      " TRAIN \n",
      "              precision    recall  f1-score   support\n",
      "\n",
      "           0       0.98      0.71      0.82      1008\n",
      "           1       0.85      0.99      0.92      1727\n",
      "\n",
      "    accuracy                           0.89      2735\n",
      "   macro avg       0.92      0.85      0.87      2735\n",
      "weighted avg       0.90      0.89      0.88      2735\n",
      "\n"
     ]
    }
   ],
   "source": [
    "#Base model\n",
    "model = SVC(kernel='rbf', gamma=\"auto\")\n",
    "\n",
    "model.fit(OHE_train, y_train)\n",
    "y_pred_train = model.predict(OHE_train)\n",
    "\n",
    "print(\" TRAIN \")\n",
    "print(classification_report(y_train,y_pred_train))"
   ]
  },
  {
   "cell_type": "code",
   "execution_count": 47,
   "metadata": {},
   "outputs": [
    {
     "name": "stdout",
     "output_type": "stream",
     "text": [
      " TEST \n",
      "              precision    recall  f1-score   support\n",
      "\n",
      "           0       0.98      0.72      0.83       258\n",
      "           1       0.85      0.99      0.92       426\n",
      "\n",
      "    accuracy                           0.89       684\n",
      "   macro avg       0.92      0.86      0.87       684\n",
      "weighted avg       0.90      0.89      0.88       684\n",
      "\n"
     ]
    }
   ],
   "source": [
    "y_pred_test = model.predict(OHE_test)\n",
    "print(\" TEST \")\n",
    "print(classification_report(y_test,y_pred_test))"
   ]
  },
  {
   "cell_type": "markdown",
   "metadata": {},
   "source": [
    "### Hyper Params Tunning --- SLOW"
   ]
  },
  {
   "cell_type": "code",
   "execution_count": 50,
   "metadata": {},
   "outputs": [],
   "source": [
    "param_grid = {'C': [0.1,1, 10, 100], 'gamma': [1,0.1,0.01,0.001],'kernel': ['rbf', 'poly', 'sigmoid']}"
   ]
  },
  {
   "cell_type": "code",
   "execution_count": null,
   "metadata": {},
   "outputs": [],
   "source": [
    "grid = RandomizedSearchCV(SVC(),param_grid,refit=True,verbose=2,n_iter=5,n_jobs=-1)\n",
    "grid.fit(OHE_train,y_train)\n",
    "print(\"Best Params are: \", grid.best_params_)"
   ]
  },
  {
   "cell_type": "code",
   "execution_count": null,
   "metadata": {},
   "outputs": [],
   "source": [
    "y_pred_train = grid.predict(OHE_train)\n",
    "\n",
    "print(\" TRAIN \")\n",
    "print(classification_report(y_train,y_pred_train))"
   ]
  },
  {
   "cell_type": "code",
   "execution_count": null,
   "metadata": {},
   "outputs": [],
   "source": [
    "y_pred_test = grid.predict(OHE_test)\n",
    "\n",
    "print(\" TEST \")\n",
    "print(classification_report(y_test,y_pred_test))"
   ]
  },
  {
   "cell_type": "markdown",
   "metadata": {},
   "source": [
    "### Look at features importance"
   ]
  },
  {
   "cell_type": "code",
   "execution_count": 51,
   "metadata": {},
   "outputs": [
    {
     "data": {
      "text/plain": [
       "SVC(C=0.01, gamma=0.001, kernel='poly')"
      ]
     },
     "execution_count": 51,
     "metadata": {},
     "output_type": "execute_result"
    }
   ],
   "source": [
    "#fit best model {'kernel': 'poly', 'gamma': 0.001, 'C': 0.01}\n",
    "\n",
    "model = SVC(kernel='poly', gamma=0.001, C=0.01)\n",
    "model.fit(OHE_train, y_train)"
   ]
  },
  {
   "cell_type": "code",
   "execution_count": 54,
   "metadata": {},
   "outputs": [
    {
     "name": "stdout",
     "output_type": "stream",
     "text": [
      " TRAIN \n",
      "              precision    recall  f1-score   support\n",
      "\n",
      "           0       0.99      0.97      0.98      1008\n",
      "           1       0.98      1.00      0.99      1727\n",
      "\n",
      "    accuracy                           0.99      2735\n",
      "   macro avg       0.99      0.98      0.99      2735\n",
      "weighted avg       0.99      0.99      0.99      2735\n",
      "\n",
      " TEST \n",
      "              precision    recall  f1-score   support\n",
      "\n",
      "           0       0.99      0.97      0.98       258\n",
      "           1       0.98      0.99      0.99       426\n",
      "\n",
      "    accuracy                           0.98       684\n",
      "   macro avg       0.98      0.98      0.98       684\n",
      "weighted avg       0.98      0.98      0.98       684\n",
      "\n"
     ]
    }
   ],
   "source": [
    "y_pred_train = model.predict(OHE_train)\n",
    "\n",
    "print(\" TRAIN \")\n",
    "print(classification_report(y_train,y_pred_train))\n",
    "\n",
    "y_pred_test = model.predict(OHE_test)\n",
    "\n",
    "print(\" TEST \")\n",
    "print(classification_report(y_test,y_pred_test))"
   ]
  },
  {
   "cell_type": "markdown",
   "metadata": {},
   "source": [
    "### Feature Importance (_coef) only works for linear kernel"
   ]
  },
  {
   "cell_type": "code",
   "execution_count": 55,
   "metadata": {},
   "outputs": [
    {
     "data": {
      "text/plain": [
       "SVC(C=0.1, gamma=0.1, kernel='linear')"
      ]
     },
     "execution_count": 55,
     "metadata": {},
     "output_type": "execute_result"
    }
   ],
   "source": [
    "#Fit linear model instead\n",
    "model = SVC(kernel='linear', gamma=0.1, C=0.1)\n",
    "model.fit(OHE_train, y_train)"
   ]
  },
  {
   "cell_type": "code",
   "execution_count": 56,
   "metadata": {},
   "outputs": [
    {
     "name": "stdout",
     "output_type": "stream",
     "text": [
      " TRAIN \n",
      "              precision    recall  f1-score   support\n",
      "\n",
      "           0       0.97      0.93      0.95      1008\n",
      "           1       0.96      0.98      0.97      1727\n",
      "\n",
      "    accuracy                           0.96      2735\n",
      "   macro avg       0.96      0.95      0.96      2735\n",
      "weighted avg       0.96      0.96      0.96      2735\n",
      "\n",
      " TEST \n",
      "              precision    recall  f1-score   support\n",
      "\n",
      "           0       0.97      0.90      0.94       258\n",
      "           1       0.94      0.99      0.96       426\n",
      "\n",
      "    accuracy                           0.95       684\n",
      "   macro avg       0.96      0.94      0.95       684\n",
      "weighted avg       0.95      0.95      0.95       684\n",
      "\n"
     ]
    }
   ],
   "source": [
    "y_pred_train = model.predict(OHE_train)\n",
    "\n",
    "print(\" TRAIN \")\n",
    "print(classification_report(y_train,y_pred_train))\n",
    "\n",
    "y_pred_test = model.predict(OHE_test)\n",
    "\n",
    "print(\" TEST \")\n",
    "print(classification_report(y_test,y_pred_test))"
   ]
  },
  {
   "cell_type": "code",
   "execution_count": 57,
   "metadata": {},
   "outputs": [
    {
     "data": {
      "image/png": "[encoded data removed]",
      "text/plain": [
       "<Figure size 432x288 with 1 Axes>"
      ]
     },
     "metadata": {
      "needs_background": "light"
     },
     "output_type": "display_data"
    }
   ],
   "source": [
    "imp,names = zip(*sorted(zip(model.coef_[0], OHE_train.columns)))\n",
    "plt.barh(range(len(names)), imp, align='center')\n",
    "plt.yticks(range(len(names)), names)\n",
    "plt.show()"
   ]
  },
  {
   "cell_type": "code",
   "execution_count": 58,
   "metadata": {},
   "outputs": [
    {
     "data": {
      "text/html": [
       "<div>\n",
       "<style scoped>\n",
       "    .dataframe tbody tr th:only-of-type {\n",
       "        vertical-align: middle;\n",
       "    }\n",
       "\n",
       "    .dataframe tbody tr th {\n",
       "        vertical-align: top;\n",
       "    }\n",
       "\n",
       "    .dataframe thead th {\n",
       "        text-align: right;\n",
       "    }\n",
       "</style>\n",
       "<table border=\"1\" class=\"dataframe\">\n",
       "  <thead>\n",
       "    <tr style=\"text-align: right;\">\n",
       "      <th></th>\n",
       "      <th>coefficient</th>\n",
       "      <th>word</th>\n",
       "    </tr>\n",
       "  </thead>\n",
       "  <tbody>\n",
       "    <tr>\n",
       "      <th>0</th>\n",
       "      <td>-1.377558</td>\n",
       "      <td>goal_log</td>\n",
       "    </tr>\n",
       "    <tr>\n",
       "      <th>1</th>\n",
       "      <td>-0.547715</td>\n",
       "      <td>fx_rate</td>\n",
       "    </tr>\n",
       "    <tr>\n",
       "      <th>2</th>\n",
       "      <td>-0.501136</td>\n",
       "      <td>category_name_grp_Graphic Design</td>\n",
       "    </tr>\n",
       "    <tr>\n",
       "      <th>3</th>\n",
       "      <td>-0.449322</td>\n",
       "      <td>category_name_grp_Experimental</td>\n",
       "    </tr>\n",
       "    <tr>\n",
       "      <th>4</th>\n",
       "      <td>-0.400000</td>\n",
       "      <td>parent_category_Comics</td>\n",
       "    </tr>\n",
       "    <tr>\n",
       "      <th>5</th>\n",
       "      <td>-0.400000</td>\n",
       "      <td>category_name_grp_Mobile Games</td>\n",
       "    </tr>\n",
       "    <tr>\n",
       "      <th>6</th>\n",
       "      <td>-0.400000</td>\n",
       "      <td>category_name_grp_Webcomics</td>\n",
       "    </tr>\n",
       "    <tr>\n",
       "      <th>7</th>\n",
       "      <td>-0.378711</td>\n",
       "      <td>country_JP</td>\n",
       "    </tr>\n",
       "    <tr>\n",
       "      <th>8</th>\n",
       "      <td>-0.359156</td>\n",
       "      <td>location_name_grp_San Diego</td>\n",
       "    </tr>\n",
       "    <tr>\n",
       "      <th>13</th>\n",
       "      <td>-0.300000</td>\n",
       "      <td>country_AT</td>\n",
       "    </tr>\n",
       "  </tbody>\n",
       "</table>\n",
       "</div>"
      ],
      "text/plain": [
       "    coefficient                              word\n",
       "0     -1.377558                          goal_log\n",
       "1     -0.547715                           fx_rate\n",
       "2     -0.501136  category_name_grp_Graphic Design\n",
       "3     -0.449322    category_name_grp_Experimental\n",
       "4     -0.400000            parent_category_Comics\n",
       "5     -0.400000    category_name_grp_Mobile Games\n",
       "6     -0.400000       category_name_grp_Webcomics\n",
       "7     -0.378711                        country_JP\n",
       "8     -0.359156       location_name_grp_San Diego\n",
       "13    -0.300000                        country_AT"
      ]
     },
     "execution_count": 58,
     "metadata": {},
     "output_type": "execute_result"
    }
   ],
   "source": [
    "#Top 10 Factors that result in failed projects\n",
    "\n",
    "coefs_with_fns = sorted(zip(model.coef_[0], OHE_train.columns)) \n",
    "df=pd.DataFrame(coefs_with_fns)\n",
    "df.columns='coefficient','word'\n",
    "df[df['coefficient']<0].sort_values(by='coefficient').head(10)"
   ]
  },
  {
   "cell_type": "code",
   "execution_count": 67,
   "metadata": {},
   "outputs": [
    {
     "data": {
      "image/png": "[encoded data removed]",
      "text/plain": [
       "<Figure size 288x216 with 1 Axes>"
      ]
     },
     "metadata": {
      "needs_background": "light"
     },
     "output_type": "display_data"
    }
   ],
   "source": [
    "neg_features = df[df['coefficient']<0].sort_values(by='coefficient').head(10)\n",
    "neg_features = neg_features.sort_values(by='coefficient', ascending=False)\n",
    "\n",
    "plt.figure(figsize=(4,3))\n",
    "plt.barh(range(len(neg_features)), neg_features[\"coefficient\"], align='center')\n",
    "plt.yticks(range(len(neg_features)), neg_features[\"word\"])\n",
    "plt.show()"
   ]
  },
  {
   "cell_type": "code",
   "execution_count": 68,
   "metadata": {},
   "outputs": [
    {
     "data": {
      "text/html": [
       "<div>\n",
       "<style scoped>\n",
       "    .dataframe tbody tr th:only-of-type {\n",
       "        vertical-align: middle;\n",
       "    }\n",
       "\n",
       "    .dataframe tbody tr th {\n",
       "        vertical-align: top;\n",
       "    }\n",
       "\n",
       "    .dataframe thead th {\n",
       "        text-align: right;\n",
       "    }\n",
       "</style>\n",
       "<table border=\"1\" class=\"dataframe\">\n",
       "  <thead>\n",
       "    <tr style=\"text-align: right;\">\n",
       "      <th></th>\n",
       "      <th>coefficient</th>\n",
       "      <th>word</th>\n",
       "    </tr>\n",
       "  </thead>\n",
       "  <tbody>\n",
       "    <tr>\n",
       "      <th>191</th>\n",
       "      <td>2.488894</td>\n",
       "      <td>backers_count_log</td>\n",
       "    </tr>\n",
       "    <tr>\n",
       "      <th>190</th>\n",
       "      <td>0.600000</td>\n",
       "      <td>parent_category_No Parent Category</td>\n",
       "    </tr>\n",
       "    <tr>\n",
       "      <th>189</th>\n",
       "      <td>0.540886</td>\n",
       "      <td>category_name_grp_Apparel</td>\n",
       "    </tr>\n",
       "    <tr>\n",
       "      <th>188</th>\n",
       "      <td>0.500000</td>\n",
       "      <td>category_name_grp_Product Design</td>\n",
       "    </tr>\n",
       "    <tr>\n",
       "      <th>187</th>\n",
       "      <td>0.457853</td>\n",
       "      <td>category_name_grp_Documentary</td>\n",
       "    </tr>\n",
       "    <tr>\n",
       "      <th>186</th>\n",
       "      <td>0.400000</td>\n",
       "      <td>location_name_grp_Mexico City</td>\n",
       "    </tr>\n",
       "    <tr>\n",
       "      <th>184</th>\n",
       "      <td>0.358790</td>\n",
       "      <td>category_name_grp_Shorts</td>\n",
       "    </tr>\n",
       "    <tr>\n",
       "      <th>185</th>\n",
       "      <td>0.358790</td>\n",
       "      <td>country_MX</td>\n",
       "    </tr>\n",
       "    <tr>\n",
       "      <th>183</th>\n",
       "      <td>0.300000</td>\n",
       "      <td>category_name_grp_Rock</td>\n",
       "    </tr>\n",
       "    <tr>\n",
       "      <th>182</th>\n",
       "      <td>0.285911</td>\n",
       "      <td>category_name_grp_Places</td>\n",
       "    </tr>\n",
       "  </tbody>\n",
       "</table>\n",
       "</div>"
      ],
      "text/plain": [
       "     coefficient                                word\n",
       "191     2.488894                   backers_count_log\n",
       "190     0.600000  parent_category_No Parent Category\n",
       "189     0.540886           category_name_grp_Apparel\n",
       "188     0.500000    category_name_grp_Product Design\n",
       "187     0.457853       category_name_grp_Documentary\n",
       "186     0.400000       location_name_grp_Mexico City\n",
       "184     0.358790            category_name_grp_Shorts\n",
       "185     0.358790                          country_MX\n",
       "183     0.300000              category_name_grp_Rock\n",
       "182     0.285911            category_name_grp_Places"
      ]
     },
     "execution_count": 68,
     "metadata": {},
     "output_type": "execute_result"
    }
   ],
   "source": [
    "#Top 10 Factors that result in success projects\n",
    "\n",
    "df[df['coefficient']>0].sort_values(by='coefficient', ascending=False).head(10)"
   ]
  },
  {
   "cell_type": "code",
   "execution_count": 70,
   "metadata": {},
   "outputs": [
    {
     "data": {
      "image/png": "[encoded data removed]",
      "text/plain": [
       "<Figure size 288x216 with 1 Axes>"
      ]
     },
     "metadata": {
      "needs_background": "light"
     },
     "output_type": "display_data"
    }
   ],
   "source": [
    "pos_features = df[df['coefficient']>0].sort_values(by='coefficient', ascending=False).head(10)\n",
    "pos_features = pos_features.sort_values(by='coefficient')\n",
    "\n",
    "plt.figure(figsize=(4,3))\n",
    "plt.barh(range(len(pos_features)), pos_features[\"coefficient\"], align='center')\n",
    "plt.yticks(range(len(pos_features)), pos_features[\"word\"])\n",
    "plt.show()"
   ]
  },
  {
   "cell_type": "markdown",
   "metadata": {},
   "source": [
    "Negative contributes to predict failed projects (goal_log, fx_rate, cat_name = Graphic design) \\\n",
    "Positive contributes to predict success projects (backers count, apparel, Product design)\n",
    "\n",
    "Only works for linear kernel, cos for other higher dimensions kernel --> coef will not make sense (transform to another space, not input space)\n",
    "\n",
    "Coef will not be related to weights "
   ]
  },
  {
   "cell_type": "code",
   "execution_count": 74,
   "metadata": {},
   "outputs": [],
   "source": [
    "#Save chosen model\n",
    "model = SVC(C=0.01, gamma=0.001, kernel='poly')\n",
    "pickle.dump(model, open(\"svm.pckl\", 'wb'))"
   ]
  },
  {
   "cell_type": "code",
   "execution_count": null,
   "metadata": {},
   "outputs": [],
   "source": []
  }
 ],
 "metadata": {
  "kernelspec": {
   "display_name": "Python 3",
   "language": "python",
   "name": "python3"
  },
  "language_info": {
   "codemirror_mode": {
    "name": "ipython",
    "version": 3
   },
   "file_extension": ".py",
   "mimetype": "text/x-python",
   "name": "python",
   "nbconvert_exporter": "python",
   "pygments_lexer": "ipython3",
   "version": "3.8.5"
  }
 },
 "nbformat": 4,
 "nbformat_minor": 4
}
