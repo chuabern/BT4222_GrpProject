{
 "cells": [
  {
   "cell_type": "code",
   "execution_count": 1,
   "metadata": {},
   "outputs": [],
   "source": [
    "import numpy as np\n",
    "import pandas as pd"
   ]
  },
  {
   "cell_type": "code",
   "execution_count": 2,
   "metadata": {},
   "outputs": [],
   "source": [
    "import os\n",
    "os.chdir(\"D:/NUS/\")\n",
    "#os.getcwd()"
   ]
  },
  {
   "cell_type": "code",
   "execution_count": 3,
   "metadata": {},
   "outputs": [
    {
     "data": {
      "text/html": [
       "<div>\n",
       "<style scoped>\n",
       "    .dataframe tbody tr th:only-of-type {\n",
       "        vertical-align: middle;\n",
       "    }\n",
       "\n",
       "    .dataframe tbody tr th {\n",
       "        vertical-align: top;\n",
       "    }\n",
       "\n",
       "    .dataframe thead th {\n",
       "        text-align: right;\n",
       "    }\n",
       "</style>\n",
       "<table border=\"1\" class=\"dataframe\">\n",
       "  <thead>\n",
       "    <tr style=\"text-align: right;\">\n",
       "      <th></th>\n",
       "      <th>country</th>\n",
       "      <th>fx_rate</th>\n",
       "      <th>goal</th>\n",
       "      <th>pledged</th>\n",
       "      <th>spotlight</th>\n",
       "      <th>staff_pick</th>\n",
       "      <th>state</th>\n",
       "      <th>usd_type</th>\n",
       "      <th>story</th>\n",
       "      <th>faq</th>\n",
       "      <th>num_faq</th>\n",
       "      <th>comments</th>\n",
       "      <th>n_comments</th>\n",
       "      <th>duration</th>\n",
       "      <th>parent_category</th>\n",
       "      <th>category_name</th>\n",
       "      <th>month_launched</th>\n",
       "      <th>year_launched</th>\n",
       "      <th>title_blurb</th>\n",
       "      <th>language</th>\n",
       "    </tr>\n",
       "  </thead>\n",
       "  <tbody>\n",
       "    <tr>\n",
       "      <th>0</th>\n",
       "      <td>ES</td>\n",
       "      <td>1.212886</td>\n",
       "      <td>15000</td>\n",
       "      <td>1.0</td>\n",
       "      <td>False</td>\n",
       "      <td>False</td>\n",
       "      <td>0</td>\n",
       "      <td>domestic</td>\n",
       "      <td>Final Hi ! The funds we will used to pay a pai...</td>\n",
       "      <td>[' ']</td>\n",
       "      <td>0</td>\n",
       "      <td>No yet .</td>\n",
       "      <td>0.0</td>\n",
       "      <td>30</td>\n",
       "      <td>Technology</td>\n",
       "      <td>3D Printing</td>\n",
       "      <td>6</td>\n",
       "      <td>2016</td>\n",
       "      <td>Save water 100 % liquid in at home . With your...</td>\n",
       "      <td>en</td>\n",
       "    </tr>\n",
       "    <tr>\n",
       "      <th>1</th>\n",
       "      <td>NZ</td>\n",
       "      <td>0.723585</td>\n",
       "      <td>5000</td>\n",
       "      <td>15.0</td>\n",
       "      <td>False</td>\n",
       "      <td>False</td>\n",
       "      <td>0</td>\n",
       "      <td>domestic</td>\n",
       "      <td>At Primary School we are looking at a communit...</td>\n",
       "      <td>[' ']</td>\n",
       "      <td>0</td>\n",
       "      <td>No yet .</td>\n",
       "      <td>0.0</td>\n",
       "      <td>30</td>\n",
       "      <td>Food</td>\n",
       "      <td>Farms</td>\n",
       "      <td>8</td>\n",
       "      <td>2015</td>\n",
       "      <td>Primary Community Garden . We at Primary are l...</td>\n",
       "      <td>en</td>\n",
       "    </tr>\n",
       "    <tr>\n",
       "      <th>2</th>\n",
       "      <td>US</td>\n",
       "      <td>1.000000</td>\n",
       "      <td>10000</td>\n",
       "      <td>0.0</td>\n",
       "      <td>False</td>\n",
       "      <td>False</td>\n",
       "      <td>0</td>\n",
       "      <td>domestic</td>\n",
       "      <td>Hello world :-] My name is . I have been with ...</td>\n",
       "      <td>[' ']</td>\n",
       "      <td>0</td>\n",
       "      <td>No yet .</td>\n",
       "      <td>0.0</td>\n",
       "      <td>29</td>\n",
       "      <td>Art</td>\n",
       "      <td>Mixed Media</td>\n",
       "      <td>4</td>\n",
       "      <td>2015</td>\n",
       "      <td>Aspiring in need of better , and .. Self - tau...</td>\n",
       "      <td>en</td>\n",
       "    </tr>\n",
       "    <tr>\n",
       "      <th>3</th>\n",
       "      <td>US</td>\n",
       "      <td>1.000000</td>\n",
       "      <td>2000</td>\n",
       "      <td>0.0</td>\n",
       "      <td>False</td>\n",
       "      <td>False</td>\n",
       "      <td>0</td>\n",
       "      <td>domestic</td>\n",
       "      <td>I ' m tired of woman being and considered \" ov...</td>\n",
       "      <td>[' ']</td>\n",
       "      <td>0</td>\n",
       "      <td>No yet .</td>\n",
       "      <td>0.0</td>\n",
       "      <td>30</td>\n",
       "      <td>Photography</td>\n",
       "      <td>People</td>\n",
       "      <td>9</td>\n",
       "      <td>2014</td>\n",
       "      <td>Beauty At Any Age . So many believe they are p...</td>\n",
       "      <td>en</td>\n",
       "    </tr>\n",
       "    <tr>\n",
       "      <th>4</th>\n",
       "      <td>US</td>\n",
       "      <td>1.000000</td>\n",
       "      <td>2500</td>\n",
       "      <td>340.0</td>\n",
       "      <td>False</td>\n",
       "      <td>False</td>\n",
       "      <td>0</td>\n",
       "      <td>international</td>\n",
       "      <td>Table of Contents • TAPEWORM by Martin Rose • ...</td>\n",
       "      <td>[' ']</td>\n",
       "      <td>0</td>\n",
       "      <td>over 6 ago So sorry your goal ' t met , but I ...</td>\n",
       "      <td>1.0</td>\n",
       "      <td>30</td>\n",
       "      <td>Publishing</td>\n",
       "      <td>Anthologies</td>\n",
       "      <td>11</td>\n",
       "      <td>2014</td>\n",
       "      <td>and from the Horror . The Horror ' s Rector us...</td>\n",
       "      <td>en</td>\n",
       "    </tr>\n",
       "  </tbody>\n",
       "</table>\n",
       "</div>"
      ],
      "text/plain": [
       "  country   fx_rate   goal  pledged  spotlight  staff_pick  state  \\\n",
       "0      ES  1.212886  15000      1.0      False       False      0   \n",
       "1      NZ  0.723585   5000     15.0      False       False      0   \n",
       "2      US  1.000000  10000      0.0      False       False      0   \n",
       "3      US  1.000000   2000      0.0      False       False      0   \n",
       "4      US  1.000000   2500    340.0      False       False      0   \n",
       "\n",
       "        usd_type                                              story    faq  \\\n",
       "0       domestic  Final Hi ! The funds we will used to pay a pai...  [' ']   \n",
       "1       domestic  At Primary School we are looking at a communit...  [' ']   \n",
       "2       domestic  Hello world :-] My name is . I have been with ...  [' ']   \n",
       "3       domestic  I ' m tired of woman being and considered \" ov...  [' ']   \n",
       "4  international  Table of Contents • TAPEWORM by Martin Rose • ...  [' ']   \n",
       "\n",
       "   num_faq                                           comments  n_comments  \\\n",
       "0        0                                           No yet .         0.0   \n",
       "1        0                                           No yet .         0.0   \n",
       "2        0                                           No yet .         0.0   \n",
       "3        0                                           No yet .         0.0   \n",
       "4        0  over 6 ago So sorry your goal ' t met , but I ...         1.0   \n",
       "\n",
       "   duration parent_category category_name  month_launched  year_launched  \\\n",
       "0        30      Technology   3D Printing               6           2016   \n",
       "1        30            Food         Farms               8           2015   \n",
       "2        29             Art   Mixed Media               4           2015   \n",
       "3        30     Photography        People               9           2014   \n",
       "4        30      Publishing   Anthologies              11           2014   \n",
       "\n",
       "                                         title_blurb language  \n",
       "0  Save water 100 % liquid in at home . With your...       en  \n",
       "1  Primary Community Garden . We at Primary are l...       en  \n",
       "2  Aspiring in need of better , and .. Self - tau...       en  \n",
       "3  Beauty At Any Age . So many believe they are p...       en  \n",
       "4  and from the Horror . The Horror ' s Rector us...       en  "
      ]
     },
     "execution_count": 3,
     "metadata": {},
     "output_type": "execute_result"
    }
   ],
   "source": [
    "data = pd.read_csv(\"./GitHub/BT4222_GrpProject/Output/TJ_dataset_clean2.csv\")\n",
    "data = data.drop(data.columns[0],axis=1)\n",
    "data.head()"
   ]
  },
  {
   "cell_type": "code",
   "execution_count": 4,
   "metadata": {},
   "outputs": [
    {
     "data": {
      "text/plain": [
       "Index(['country', 'fx_rate', 'goal', 'pledged', 'spotlight', 'staff_pick',\n",
       "       'state', 'usd_type', 'story', 'faq', 'num_faq', 'comments',\n",
       "       'n_comments', 'duration', 'parent_category', 'category_name',\n",
       "       'month_launched', 'year_launched', 'title_blurb', 'language'],\n",
       "      dtype='object')"
      ]
     },
     "execution_count": 4,
     "metadata": {},
     "output_type": "execute_result"
    }
   ],
   "source": [
    "data.columns"
   ]
  },
  {
   "cell_type": "code",
   "execution_count": 5,
   "metadata": {},
   "outputs": [
    {
     "data": {
      "text/plain": [
       "country             0\n",
       "fx_rate             0\n",
       "goal                0\n",
       "pledged             0\n",
       "spotlight           0\n",
       "staff_pick          0\n",
       "state               0\n",
       "usd_type            0\n",
       "story              10\n",
       "faq                 0\n",
       "num_faq             0\n",
       "comments            0\n",
       "n_comments          0\n",
       "duration            0\n",
       "parent_category     0\n",
       "category_name       0\n",
       "month_launched      0\n",
       "year_launched       0\n",
       "title_blurb         0\n",
       "language            0\n",
       "dtype: int64"
      ]
     },
     "execution_count": 5,
     "metadata": {},
     "output_type": "execute_result"
    }
   ],
   "source": [
    "data.isna().sum()"
   ]
  },
  {
   "cell_type": "code",
   "execution_count": 14,
   "metadata": {},
   "outputs": [],
   "source": [
    "#fill na with na\n",
    "data = data.fillna(\"na\")"
   ]
  },
  {
   "cell_type": "markdown",
   "metadata": {},
   "source": [
    "## Create a dataset for text and sentiment analysis"
   ]
  },
  {
   "cell_type": "code",
   "execution_count": 15,
   "metadata": {},
   "outputs": [],
   "source": [
    "data_text = data[[\"title_blurb\",\"comments\",\"story\",\"faq\",\"state\"]]"
   ]
  },
  {
   "cell_type": "code",
   "execution_count": 16,
   "metadata": {},
   "outputs": [
    {
     "data": {
      "text/html": [
       "<div>\n",
       "<style scoped>\n",
       "    .dataframe tbody tr th:only-of-type {\n",
       "        vertical-align: middle;\n",
       "    }\n",
       "\n",
       "    .dataframe tbody tr th {\n",
       "        vertical-align: top;\n",
       "    }\n",
       "\n",
       "    .dataframe thead th {\n",
       "        text-align: right;\n",
       "    }\n",
       "</style>\n",
       "<table border=\"1\" class=\"dataframe\">\n",
       "  <thead>\n",
       "    <tr style=\"text-align: right;\">\n",
       "      <th></th>\n",
       "      <th>title_blurb</th>\n",
       "      <th>comments</th>\n",
       "      <th>story</th>\n",
       "      <th>faq</th>\n",
       "      <th>state</th>\n",
       "    </tr>\n",
       "  </thead>\n",
       "  <tbody>\n",
       "    <tr>\n",
       "      <th>393</th>\n",
       "      <td>' s Party Central . Starting a ' s Party Hub s...</td>\n",
       "      <td>No yet .</td>\n",
       "      <td>The will be for with Child - Based : pay to ad...</td>\n",
       "      <td>[' ']</td>\n",
       "      <td>0</td>\n",
       "    </tr>\n",
       "    <tr>\n",
       "      <th>564</th>\n",
       "      <td>3100 Run and Become . A New Film on Running + ...</td>\n",
       "      <td>Fletcher almost 4 ago The that are coming thro...</td>\n",
       "      <td>Update : We all did it ! So , can we use more ...</td>\n",
       "      <td>[' Are you being funded by ? While we love man...</td>\n",
       "      <td>1</td>\n",
       "    </tr>\n",
       "    <tr>\n",
       "      <th>272</th>\n",
       "      <td>. I ' m a virtual reality experience which wil...</td>\n",
       "      <td>R . P . about 4 ago ! . All the very best ! ab...</td>\n",
       "      <td>PLAY Virtual reality is finally as an accessib...</td>\n",
       "      <td>[' ']</td>\n",
       "      <td>1</td>\n",
       "    </tr>\n",
       "    <tr>\n",
       "      <th>897</th>\n",
       "      <td>&amp; Take to the Streets . &amp; take to the streets ...</td>\n",
       "      <td>No yet .</td>\n",
       "      <td>’ s Vain Combat and The Snake have been anonym...</td>\n",
       "      <td>[' ']</td>\n",
       "      <td>1</td>\n",
       "    </tr>\n",
       "    <tr>\n",
       "      <th>6</th>\n",
       "      <td>Softly , With Teeth : A Vampire + Visual Novel...</td>\n",
       "      <td>about 1 month ago It ' s been an incredibly ye...</td>\n",
       "      <td>*** Note : If you ' re physical goods to the d...</td>\n",
       "      <td>[' ']</td>\n",
       "      <td>1</td>\n",
       "    </tr>\n",
       "  </tbody>\n",
       "</table>\n",
       "</div>"
      ],
      "text/plain": [
       "                                           title_blurb  \\\n",
       "393  ' s Party Central . Starting a ' s Party Hub s...   \n",
       "564  3100 Run and Become . A New Film on Running + ...   \n",
       "272  . I ' m a virtual reality experience which wil...   \n",
       "897  & Take to the Streets . & take to the streets ...   \n",
       "6    Softly , With Teeth : A Vampire + Visual Novel...   \n",
       "\n",
       "                                              comments  \\\n",
       "393                                           No yet .   \n",
       "564  Fletcher almost 4 ago The that are coming thro...   \n",
       "272  R . P . about 4 ago ! . All the very best ! ab...   \n",
       "897                                           No yet .   \n",
       "6    about 1 month ago It ' s been an incredibly ye...   \n",
       "\n",
       "                                                 story  \\\n",
       "393  The will be for with Child - Based : pay to ad...   \n",
       "564  Update : We all did it ! So , can we use more ...   \n",
       "272  PLAY Virtual reality is finally as an accessib...   \n",
       "897  ’ s Vain Combat and The Snake have been anonym...   \n",
       "6    *** Note : If you ' re physical goods to the d...   \n",
       "\n",
       "                                                   faq  state  \n",
       "393                                              [' ']      0  \n",
       "564  [' Are you being funded by ? While we love man...      1  \n",
       "272                                              [' ']      1  \n",
       "897                                              [' ']      1  \n",
       "6                                                [' ']      1  "
      ]
     },
     "execution_count": 16,
     "metadata": {},
     "output_type": "execute_result"
    }
   ],
   "source": [
    "data_text.sample(5)"
   ]
  },
  {
   "cell_type": "code",
   "execution_count": 17,
   "metadata": {},
   "outputs": [
    {
     "data": {
      "text/plain": [
       "title_blurb    0\n",
       "comments       0\n",
       "story          0\n",
       "faq            0\n",
       "state          0\n",
       "dtype: int64"
      ]
     },
     "execution_count": 17,
     "metadata": {},
     "output_type": "execute_result"
    }
   ],
   "source": [
    "data_text.isna().sum()"
   ]
  },
  {
   "cell_type": "markdown",
   "metadata": {},
   "source": [
    "### Feature engineering 1: Combine name and blurb"
   ]
  },
  {
   "cell_type": "code",
   "execution_count": 11,
   "metadata": {},
   "outputs": [],
   "source": [
    "data_text[[\"title_blurb\"]] = data_text[[\"name\", \"blurb\"]].fillna(\"na\").agg(\".\".join, axis=1)"
   ]
  },
  {
   "cell_type": "code",
   "execution_count": 12,
   "metadata": {},
   "outputs": [
    {
     "data": {
      "text/html": [
       "<div>\n",
       "<style scoped>\n",
       "    .dataframe tbody tr th:only-of-type {\n",
       "        vertical-align: middle;\n",
       "    }\n",
       "\n",
       "    .dataframe tbody tr th {\n",
       "        vertical-align: top;\n",
       "    }\n",
       "\n",
       "    .dataframe thead th {\n",
       "        text-align: right;\n",
       "    }\n",
       "</style>\n",
       "<table border=\"1\" class=\"dataframe\">\n",
       "  <thead>\n",
       "    <tr style=\"text-align: right;\">\n",
       "      <th></th>\n",
       "      <th>comments</th>\n",
       "      <th>story</th>\n",
       "      <th>faq</th>\n",
       "      <th>state</th>\n",
       "      <th>title_blurb</th>\n",
       "    </tr>\n",
       "  </thead>\n",
       "  <tbody>\n",
       "    <tr>\n",
       "      <th>0</th>\n",
       "      <td>Only backers can post comments. Log in\\nNo com...</td>\n",
       "      <td>Producto Final\\nHi! The funds we will used to ...</td>\n",
       "      <td>['   ']</td>\n",
       "      <td>failed</td>\n",
       "      <td>Save water 100% liquid downloads in toilets at...</td>\n",
       "    </tr>\n",
       "    <tr>\n",
       "      <th>1</th>\n",
       "      <td>Only backers can post comments. Log in\\nNo com...</td>\n",
       "      <td>At Ormiston Primary School we are looking at c...</td>\n",
       "      <td>['   ']</td>\n",
       "      <td>failed</td>\n",
       "      <td>Ormiston Primary Community Garden.We at Ormist...</td>\n",
       "    </tr>\n",
       "    <tr>\n",
       "      <th>2</th>\n",
       "      <td>Only backers can post comments. Log in\\nNo com...</td>\n",
       "      <td>Hello world :-] My name is Bryan. I have been ...</td>\n",
       "      <td>['   ']</td>\n",
       "      <td>failed</td>\n",
       "      <td>Aspiring metalsmith in need of better tools, a...</td>\n",
       "    </tr>\n",
       "    <tr>\n",
       "      <th>3</th>\n",
       "      <td>Only backers can post comments. Log in\\nNo com...</td>\n",
       "      <td>I'm tired of woman being overlooked and consid...</td>\n",
       "      <td>['   ']</td>\n",
       "      <td>failed</td>\n",
       "      <td>Beauty At Any Age.So many women believe they a...</td>\n",
       "    </tr>\n",
       "    <tr>\n",
       "      <th>4</th>\n",
       "      <td>Only backers can post comments. Log in\\nPaula ...</td>\n",
       "      <td>Table of Contents\\n• TAPEWORM by Martin Rose\\n...</td>\n",
       "      <td>['   ']</td>\n",
       "      <td>failed</td>\n",
       "      <td>Shrieks and Shivers from the Horror Zine.The H...</td>\n",
       "    </tr>\n",
       "  </tbody>\n",
       "</table>\n",
       "</div>"
      ],
      "text/plain": [
       "                                            comments  \\\n",
       "0  Only backers can post comments. Log in\\nNo com...   \n",
       "1  Only backers can post comments. Log in\\nNo com...   \n",
       "2  Only backers can post comments. Log in\\nNo com...   \n",
       "3  Only backers can post comments. Log in\\nNo com...   \n",
       "4  Only backers can post comments. Log in\\nPaula ...   \n",
       "\n",
       "                                               story      faq   state  \\\n",
       "0  Producto Final\\nHi! The funds we will used to ...  ['   ']  failed   \n",
       "1  At Ormiston Primary School we are looking at c...  ['   ']  failed   \n",
       "2  Hello world :-] My name is Bryan. I have been ...  ['   ']  failed   \n",
       "3  I'm tired of woman being overlooked and consid...  ['   ']  failed   \n",
       "4  Table of Contents\\n• TAPEWORM by Martin Rose\\n...  ['   ']  failed   \n",
       "\n",
       "                                         title_blurb  \n",
       "0  Save water 100% liquid downloads in toilets at...  \n",
       "1  Ormiston Primary Community Garden.We at Ormist...  \n",
       "2  Aspiring metalsmith in need of better tools, a...  \n",
       "3  Beauty At Any Age.So many women believe they a...  \n",
       "4  Shrieks and Shivers from the Horror Zine.The H...  "
      ]
     },
     "execution_count": 12,
     "metadata": {},
     "output_type": "execute_result"
    }
   ],
   "source": [
    "data_text = data_text.drop([\"name\",\"blurb\"],axis=1)\n",
    "data_text.head()"
   ]
  },
  {
   "cell_type": "code",
   "execution_count": 13,
   "metadata": {},
   "outputs": [
    {
     "data": {
      "text/plain": [
       "'Save water 100% liquid downloads in toilets at home.With your help we will create this device that saves water in toilets.\\nDispositivo que ahorra 100% agua.'"
      ]
     },
     "execution_count": 13,
     "metadata": {},
     "output_type": "execute_result"
    }
   ],
   "source": [
    "data_text[\"title_blurb\"][0]"
   ]
  },
  {
   "cell_type": "markdown",
   "metadata": {},
   "source": [
    "### Clean comments"
   ]
  },
  {
   "cell_type": "code",
   "execution_count": 14,
   "metadata": {},
   "outputs": [],
   "source": [
    "data_text[\"comments_clean\"] = data_text['comments'].map(lambda x: x.replace('Only backers can post comments. Log in\\n',\" \"))"
   ]
  },
  {
   "cell_type": "code",
   "execution_count": 15,
   "metadata": {},
   "outputs": [
    {
     "data": {
      "text/html": [
       "<div>\n",
       "<style scoped>\n",
       "    .dataframe tbody tr th:only-of-type {\n",
       "        vertical-align: middle;\n",
       "    }\n",
       "\n",
       "    .dataframe tbody tr th {\n",
       "        vertical-align: top;\n",
       "    }\n",
       "\n",
       "    .dataframe thead th {\n",
       "        text-align: right;\n",
       "    }\n",
       "</style>\n",
       "<table border=\"1\" class=\"dataframe\">\n",
       "  <thead>\n",
       "    <tr style=\"text-align: right;\">\n",
       "      <th></th>\n",
       "      <th>comments_clean</th>\n",
       "    </tr>\n",
       "  </thead>\n",
       "  <tbody>\n",
       "    <tr>\n",
       "      <th>0</th>\n",
       "      <td>No comments yet.</td>\n",
       "    </tr>\n",
       "    <tr>\n",
       "      <th>1</th>\n",
       "      <td>No comments yet.</td>\n",
       "    </tr>\n",
       "    <tr>\n",
       "      <th>2</th>\n",
       "      <td>No comments yet.</td>\n",
       "    </tr>\n",
       "    <tr>\n",
       "      <th>3</th>\n",
       "      <td>No comments yet.</td>\n",
       "    </tr>\n",
       "    <tr>\n",
       "      <th>4</th>\n",
       "      <td>Paula Limbaugh\\nover 6 years ago\\nSo sorry yo...</td>\n",
       "    </tr>\n",
       "    <tr>\n",
       "      <th>5</th>\n",
       "      <td>No comments yet.</td>\n",
       "    </tr>\n",
       "    <tr>\n",
       "      <th>6</th>\n",
       "      <td>finnibun\\nabout 1 month ago\\nIt's been an inc...</td>\n",
       "    </tr>\n",
       "    <tr>\n",
       "      <th>7</th>\n",
       "      <td>PageLessCreator\\n7 months ago\\nPageLess just ...</td>\n",
       "    </tr>\n",
       "    <tr>\n",
       "      <th>8</th>\n",
       "      <td>Alexander DruninSuperbacker\\n11 months ago\\nC...</td>\n",
       "    </tr>\n",
       "    <tr>\n",
       "      <th>9</th>\n",
       "      <td>No comments yet.</td>\n",
       "    </tr>\n",
       "  </tbody>\n",
       "</table>\n",
       "</div>"
      ],
      "text/plain": [
       "                                      comments_clean\n",
       "0                                   No comments yet.\n",
       "1                                   No comments yet.\n",
       "2                                   No comments yet.\n",
       "3                                   No comments yet.\n",
       "4   Paula Limbaugh\\nover 6 years ago\\nSo sorry yo...\n",
       "5                                   No comments yet.\n",
       "6   finnibun\\nabout 1 month ago\\nIt's been an inc...\n",
       "7   PageLessCreator\\n7 months ago\\nPageLess just ...\n",
       "8   Alexander DruninSuperbacker\\n11 months ago\\nC...\n",
       "9                                   No comments yet."
      ]
     },
     "execution_count": 15,
     "metadata": {},
     "output_type": "execute_result"
    }
   ],
   "source": [
    "data_text[[\"comments_clean\"]].head(10)"
   ]
  },
  {
   "cell_type": "code",
   "execution_count": 16,
   "metadata": {},
   "outputs": [
    {
     "data": {
      "text/html": [
       "<div>\n",
       "<style scoped>\n",
       "    .dataframe tbody tr th:only-of-type {\n",
       "        vertical-align: middle;\n",
       "    }\n",
       "\n",
       "    .dataframe tbody tr th {\n",
       "        vertical-align: top;\n",
       "    }\n",
       "\n",
       "    .dataframe thead th {\n",
       "        text-align: right;\n",
       "    }\n",
       "</style>\n",
       "<table border=\"1\" class=\"dataframe\">\n",
       "  <thead>\n",
       "    <tr style=\"text-align: right;\">\n",
       "      <th></th>\n",
       "      <th>comments_clean</th>\n",
       "    </tr>\n",
       "  </thead>\n",
       "  <tbody>\n",
       "    <tr>\n",
       "      <th>0</th>\n",
       "      <td>No comments yet.</td>\n",
       "    </tr>\n",
       "    <tr>\n",
       "      <th>1</th>\n",
       "      <td>No comments yet.</td>\n",
       "    </tr>\n",
       "    <tr>\n",
       "      <th>2</th>\n",
       "      <td>No comments yet.</td>\n",
       "    </tr>\n",
       "    <tr>\n",
       "      <th>3</th>\n",
       "      <td>No comments yet.</td>\n",
       "    </tr>\n",
       "    <tr>\n",
       "      <th>4</th>\n",
       "      <td>Paula Limbaugh. over 6 years ago. So sorry yo...</td>\n",
       "    </tr>\n",
       "    <tr>\n",
       "      <th>5</th>\n",
       "      <td>No comments yet.</td>\n",
       "    </tr>\n",
       "    <tr>\n",
       "      <th>6</th>\n",
       "      <td>finnibun. about 1 month ago. It's been an inc...</td>\n",
       "    </tr>\n",
       "    <tr>\n",
       "      <th>7</th>\n",
       "      <td>PageLessCreator. 7 months ago. PageLess just ...</td>\n",
       "    </tr>\n",
       "    <tr>\n",
       "      <th>8</th>\n",
       "      <td>Alexander DruninSuperbacker. 11 months ago. C...</td>\n",
       "    </tr>\n",
       "    <tr>\n",
       "      <th>9</th>\n",
       "      <td>No comments yet.</td>\n",
       "    </tr>\n",
       "  </tbody>\n",
       "</table>\n",
       "</div>"
      ],
      "text/plain": [
       "                                      comments_clean\n",
       "0                                   No comments yet.\n",
       "1                                   No comments yet.\n",
       "2                                   No comments yet.\n",
       "3                                   No comments yet.\n",
       "4   Paula Limbaugh. over 6 years ago. So sorry yo...\n",
       "5                                   No comments yet.\n",
       "6   finnibun. about 1 month ago. It's been an inc...\n",
       "7   PageLessCreator. 7 months ago. PageLess just ...\n",
       "8   Alexander DruninSuperbacker. 11 months ago. C...\n",
       "9                                   No comments yet."
      ]
     },
     "execution_count": 16,
     "metadata": {},
     "output_type": "execute_result"
    }
   ],
   "source": [
    "data_text[\"comments_clean\"] = data_text['comments_clean'].map(lambda x: x.replace('\\n',\". \"))\n",
    "data_text[[\"comments_clean\"]].head(10)"
   ]
  },
  {
   "cell_type": "code",
   "execution_count": 17,
   "metadata": {},
   "outputs": [
    {
     "data": {
      "text/html": [
       "<div>\n",
       "<style scoped>\n",
       "    .dataframe tbody tr th:only-of-type {\n",
       "        vertical-align: middle;\n",
       "    }\n",
       "\n",
       "    .dataframe tbody tr th {\n",
       "        vertical-align: top;\n",
       "    }\n",
       "\n",
       "    .dataframe thead th {\n",
       "        text-align: right;\n",
       "    }\n",
       "</style>\n",
       "<table border=\"1\" class=\"dataframe\">\n",
       "  <thead>\n",
       "    <tr style=\"text-align: right;\">\n",
       "      <th></th>\n",
       "      <th>story</th>\n",
       "      <th>faq</th>\n",
       "      <th>state</th>\n",
       "      <th>title_blurb</th>\n",
       "      <th>comments_clean</th>\n",
       "    </tr>\n",
       "  </thead>\n",
       "  <tbody>\n",
       "    <tr>\n",
       "      <th>0</th>\n",
       "      <td>Producto Final\\nHi! The funds we will used to ...</td>\n",
       "      <td>['   ']</td>\n",
       "      <td>failed</td>\n",
       "      <td>Save water 100% liquid downloads in toilets at...</td>\n",
       "      <td>No comments yet.</td>\n",
       "    </tr>\n",
       "    <tr>\n",
       "      <th>1</th>\n",
       "      <td>At Ormiston Primary School we are looking at c...</td>\n",
       "      <td>['   ']</td>\n",
       "      <td>failed</td>\n",
       "      <td>Ormiston Primary Community Garden.We at Ormist...</td>\n",
       "      <td>No comments yet.</td>\n",
       "    </tr>\n",
       "    <tr>\n",
       "      <th>2</th>\n",
       "      <td>Hello world :-] My name is Bryan. I have been ...</td>\n",
       "      <td>['   ']</td>\n",
       "      <td>failed</td>\n",
       "      <td>Aspiring metalsmith in need of better tools, a...</td>\n",
       "      <td>No comments yet.</td>\n",
       "    </tr>\n",
       "    <tr>\n",
       "      <th>3</th>\n",
       "      <td>I'm tired of woman being overlooked and consid...</td>\n",
       "      <td>['   ']</td>\n",
       "      <td>failed</td>\n",
       "      <td>Beauty At Any Age.So many women believe they a...</td>\n",
       "      <td>No comments yet.</td>\n",
       "    </tr>\n",
       "    <tr>\n",
       "      <th>4</th>\n",
       "      <td>Table of Contents\\n• TAPEWORM by Martin Rose\\n...</td>\n",
       "      <td>['   ']</td>\n",
       "      <td>failed</td>\n",
       "      <td>Shrieks and Shivers from the Horror Zine.The H...</td>\n",
       "      <td>Paula Limbaugh. over 6 years ago. So sorry yo...</td>\n",
       "    </tr>\n",
       "  </tbody>\n",
       "</table>\n",
       "</div>"
      ],
      "text/plain": [
       "                                               story      faq   state  \\\n",
       "0  Producto Final\\nHi! The funds we will used to ...  ['   ']  failed   \n",
       "1  At Ormiston Primary School we are looking at c...  ['   ']  failed   \n",
       "2  Hello world :-] My name is Bryan. I have been ...  ['   ']  failed   \n",
       "3  I'm tired of woman being overlooked and consid...  ['   ']  failed   \n",
       "4  Table of Contents\\n• TAPEWORM by Martin Rose\\n...  ['   ']  failed   \n",
       "\n",
       "                                         title_blurb  \\\n",
       "0  Save water 100% liquid downloads in toilets at...   \n",
       "1  Ormiston Primary Community Garden.We at Ormist...   \n",
       "2  Aspiring metalsmith in need of better tools, a...   \n",
       "3  Beauty At Any Age.So many women believe they a...   \n",
       "4  Shrieks and Shivers from the Horror Zine.The H...   \n",
       "\n",
       "                                      comments_clean  \n",
       "0                                   No comments yet.  \n",
       "1                                   No comments yet.  \n",
       "2                                   No comments yet.  \n",
       "3                                   No comments yet.  \n",
       "4   Paula Limbaugh. over 6 years ago. So sorry yo...  "
      ]
     },
     "execution_count": 17,
     "metadata": {},
     "output_type": "execute_result"
    }
   ],
   "source": [
    "data_text = data_text.drop([\"comments\"], axis=1)\n",
    "data_text.head()"
   ]
  },
  {
   "cell_type": "markdown",
   "metadata": {},
   "source": [
    "### Clean FAQ"
   ]
  },
  {
   "cell_type": "code",
   "execution_count": 18,
   "metadata": {},
   "outputs": [
    {
     "data": {
      "text/plain": [
       "\"['   ']\""
      ]
     },
     "execution_count": 18,
     "metadata": {},
     "output_type": "execute_result"
    }
   ],
   "source": [
    "data_text[\"faq\"][1]"
   ]
  },
  {
   "cell_type": "code",
   "execution_count": 19,
   "metadata": {},
   "outputs": [],
   "source": [
    "data_text[\"faq_clean\"] = data_text['faq'].map(lambda x: x.replace(\"['   ']\",\"No faq\"))"
   ]
  },
  {
   "cell_type": "code",
   "execution_count": 20,
   "metadata": {},
   "outputs": [],
   "source": [
    "data_text[\"faq_clean\"] = data_text['faq_clean'].map(lambda x: x if x.find(\"No faq\") == 0 else x[2:-2])"
   ]
  },
  {
   "cell_type": "code",
   "execution_count": 21,
   "metadata": {},
   "outputs": [
    {
     "data": {
      "text/html": [
       "<div>\n",
       "<style scoped>\n",
       "    .dataframe tbody tr th:only-of-type {\n",
       "        vertical-align: middle;\n",
       "    }\n",
       "\n",
       "    .dataframe tbody tr th {\n",
       "        vertical-align: top;\n",
       "    }\n",
       "\n",
       "    .dataframe thead th {\n",
       "        text-align: right;\n",
       "    }\n",
       "</style>\n",
       "<table border=\"1\" class=\"dataframe\">\n",
       "  <thead>\n",
       "    <tr style=\"text-align: right;\">\n",
       "      <th></th>\n",
       "      <th>faq_clean</th>\n",
       "    </tr>\n",
       "  </thead>\n",
       "  <tbody>\n",
       "    <tr>\n",
       "      <th>10</th>\n",
       "      <td>No faq</td>\n",
       "    </tr>\n",
       "    <tr>\n",
       "      <th>11</th>\n",
       "      <td>No faq</td>\n",
       "    </tr>\n",
       "    <tr>\n",
       "      <th>12</th>\n",
       "      <td>What happens to my pledge if you don't meet y...</td>\n",
       "    </tr>\n",
       "    <tr>\n",
       "      <th>13</th>\n",
       "      <td>No faq</td>\n",
       "    </tr>\n",
       "    <tr>\n",
       "      <th>14</th>\n",
       "      <td>No faq</td>\n",
       "    </tr>\n",
       "    <tr>\n",
       "      <th>15</th>\n",
       "      <td>Who, or What is Razroo? Razroo is a software ...</td>\n",
       "    </tr>\n",
       "    <tr>\n",
       "      <th>16</th>\n",
       "      <td>No faq</td>\n",
       "    </tr>\n",
       "    <tr>\n",
       "      <th>17</th>\n",
       "      <td>No faq</td>\n",
       "    </tr>\n",
       "    <tr>\n",
       "      <th>18</th>\n",
       "      <td>No faq</td>\n",
       "    </tr>\n",
       "    <tr>\n",
       "      <th>19</th>\n",
       "      <td>No faq</td>\n",
       "    </tr>\n",
       "  </tbody>\n",
       "</table>\n",
       "</div>"
      ],
      "text/plain": [
       "                                            faq_clean\n",
       "10                                             No faq\n",
       "11                                             No faq\n",
       "12   What happens to my pledge if you don't meet y...\n",
       "13                                             No faq\n",
       "14                                             No faq\n",
       "15   Who, or What is Razroo? Razroo is a software ...\n",
       "16                                             No faq\n",
       "17                                             No faq\n",
       "18                                             No faq\n",
       "19                                             No faq"
      ]
     },
     "execution_count": 21,
     "metadata": {},
     "output_type": "execute_result"
    }
   ],
   "source": [
    "data_text[[\"faq_clean\"]][10:20]"
   ]
  },
  {
   "cell_type": "code",
   "execution_count": 22,
   "metadata": {},
   "outputs": [
    {
     "data": {
      "text/plain": [
       "\" What happens to my pledge if you don't meet your pledge goal? Nobody is charged until the end of the campaign and if and only if the pledge goal is met. Wed, Mar 9 2016 2:20 am EST ?  \""
      ]
     },
     "execution_count": 22,
     "metadata": {},
     "output_type": "execute_result"
    }
   ],
   "source": [
    "data_text[\"faq_clean\"][12]"
   ]
  },
  {
   "cell_type": "code",
   "execution_count": 23,
   "metadata": {},
   "outputs": [],
   "source": [
    "data_text = data_text.drop([\"faq\"],axis=1)"
   ]
  },
  {
   "cell_type": "markdown",
   "metadata": {},
   "source": [
    "### convert state to 0 (fail) and 1 (success)"
   ]
  },
  {
   "cell_type": "code",
   "execution_count": 24,
   "metadata": {},
   "outputs": [
    {
     "data": {
      "text/plain": [
       "successful    633\n",
       "failed        367\n",
       "na              1\n",
       "Name: state, dtype: int64"
      ]
     },
     "execution_count": 24,
     "metadata": {},
     "output_type": "execute_result"
    }
   ],
   "source": [
    "data_text.state.value_counts()"
   ]
  },
  {
   "cell_type": "code",
   "execution_count": 25,
   "metadata": {},
   "outputs": [],
   "source": [
    "data_text['state'] = data_text['state'].map(lambda x: 0 if x == 'failed' else 1)"
   ]
  },
  {
   "cell_type": "code",
   "execution_count": 26,
   "metadata": {},
   "outputs": [
    {
     "data": {
      "text/html": [
       "<div>\n",
       "<style scoped>\n",
       "    .dataframe tbody tr th:only-of-type {\n",
       "        vertical-align: middle;\n",
       "    }\n",
       "\n",
       "    .dataframe tbody tr th {\n",
       "        vertical-align: top;\n",
       "    }\n",
       "\n",
       "    .dataframe thead th {\n",
       "        text-align: right;\n",
       "    }\n",
       "</style>\n",
       "<table border=\"1\" class=\"dataframe\">\n",
       "  <thead>\n",
       "    <tr style=\"text-align: right;\">\n",
       "      <th></th>\n",
       "      <th>story</th>\n",
       "      <th>state</th>\n",
       "      <th>title_blurb</th>\n",
       "      <th>comments_clean</th>\n",
       "      <th>faq_clean</th>\n",
       "    </tr>\n",
       "  </thead>\n",
       "  <tbody>\n",
       "    <tr>\n",
       "      <th>0</th>\n",
       "      <td>Producto Final\\nHi! The funds we will used to ...</td>\n",
       "      <td>0</td>\n",
       "      <td>Save water 100% liquid downloads in toilets at...</td>\n",
       "      <td>No comments yet.</td>\n",
       "      <td>No faq</td>\n",
       "    </tr>\n",
       "    <tr>\n",
       "      <th>1</th>\n",
       "      <td>At Ormiston Primary School we are looking at c...</td>\n",
       "      <td>0</td>\n",
       "      <td>Ormiston Primary Community Garden.We at Ormist...</td>\n",
       "      <td>No comments yet.</td>\n",
       "      <td>No faq</td>\n",
       "    </tr>\n",
       "    <tr>\n",
       "      <th>2</th>\n",
       "      <td>Hello world :-] My name is Bryan. I have been ...</td>\n",
       "      <td>0</td>\n",
       "      <td>Aspiring metalsmith in need of better tools, a...</td>\n",
       "      <td>No comments yet.</td>\n",
       "      <td>No faq</td>\n",
       "    </tr>\n",
       "    <tr>\n",
       "      <th>3</th>\n",
       "      <td>I'm tired of woman being overlooked and consid...</td>\n",
       "      <td>0</td>\n",
       "      <td>Beauty At Any Age.So many women believe they a...</td>\n",
       "      <td>No comments yet.</td>\n",
       "      <td>No faq</td>\n",
       "    </tr>\n",
       "    <tr>\n",
       "      <th>4</th>\n",
       "      <td>Table of Contents\\n• TAPEWORM by Martin Rose\\n...</td>\n",
       "      <td>0</td>\n",
       "      <td>Shrieks and Shivers from the Horror Zine.The H...</td>\n",
       "      <td>Paula Limbaugh. over 6 years ago. So sorry yo...</td>\n",
       "      <td>No faq</td>\n",
       "    </tr>\n",
       "    <tr>\n",
       "      <th>5</th>\n",
       "      <td>No Man's Land Theatre Company is proud to pres...</td>\n",
       "      <td>1</td>\n",
       "      <td>No Man's Land Theatre Co. presents Othello.No ...</td>\n",
       "      <td>No comments yet.</td>\n",
       "      <td>No faq</td>\n",
       "    </tr>\n",
       "    <tr>\n",
       "      <th>6</th>\n",
       "      <td>***Note: If you're adding physical goods to t...</td>\n",
       "      <td>1</td>\n",
       "      <td>Softly, With Teeth: A Vampire Otome + Yuri Vis...</td>\n",
       "      <td>finnibun. about 1 month ago. It's been an inc...</td>\n",
       "      <td>No faq</td>\n",
       "    </tr>\n",
       "    <tr>\n",
       "      <th>7</th>\n",
       "      <td>When it comes to buying course material, stude...</td>\n",
       "      <td>0</td>\n",
       "      <td>PageLess - More Options. Less Money. Textbooks...</td>\n",
       "      <td>PageLessCreator. 7 months ago. PageLess just ...</td>\n",
       "      <td>No faq</td>\n",
       "    </tr>\n",
       "    <tr>\n",
       "      <th>8</th>\n",
       "      <td>As an answer to the spontaneous and complex we...</td>\n",
       "      <td>0</td>\n",
       "      <td>Maritime Environmental Hub.Web-based interacti...</td>\n",
       "      <td>Alexander DruninSuperbacker. 11 months ago. C...</td>\n",
       "      <td>No faq</td>\n",
       "    </tr>\n",
       "    <tr>\n",
       "      <th>9</th>\n",
       "      <td>My passion consists of being a mother to my tw...</td>\n",
       "      <td>0</td>\n",
       "      <td>Jessica Needs An Art Studio.Starving Artist an...</td>\n",
       "      <td>No comments yet.</td>\n",
       "      <td>No faq</td>\n",
       "    </tr>\n",
       "  </tbody>\n",
       "</table>\n",
       "</div>"
      ],
      "text/plain": [
       "                                               story  state  \\\n",
       "0  Producto Final\\nHi! The funds we will used to ...      0   \n",
       "1  At Ormiston Primary School we are looking at c...      0   \n",
       "2  Hello world :-] My name is Bryan. I have been ...      0   \n",
       "3  I'm tired of woman being overlooked and consid...      0   \n",
       "4  Table of Contents\\n• TAPEWORM by Martin Rose\\n...      0   \n",
       "5  No Man's Land Theatre Company is proud to pres...      1   \n",
       "6   ***Note: If you're adding physical goods to t...      1   \n",
       "7  When it comes to buying course material, stude...      0   \n",
       "8  As an answer to the spontaneous and complex we...      0   \n",
       "9  My passion consists of being a mother to my tw...      0   \n",
       "\n",
       "                                         title_blurb  \\\n",
       "0  Save water 100% liquid downloads in toilets at...   \n",
       "1  Ormiston Primary Community Garden.We at Ormist...   \n",
       "2  Aspiring metalsmith in need of better tools, a...   \n",
       "3  Beauty At Any Age.So many women believe they a...   \n",
       "4  Shrieks and Shivers from the Horror Zine.The H...   \n",
       "5  No Man's Land Theatre Co. presents Othello.No ...   \n",
       "6  Softly, With Teeth: A Vampire Otome + Yuri Vis...   \n",
       "7  PageLess - More Options. Less Money. Textbooks...   \n",
       "8  Maritime Environmental Hub.Web-based interacti...   \n",
       "9  Jessica Needs An Art Studio.Starving Artist an...   \n",
       "\n",
       "                                      comments_clean faq_clean  \n",
       "0                                   No comments yet.    No faq  \n",
       "1                                   No comments yet.    No faq  \n",
       "2                                   No comments yet.    No faq  \n",
       "3                                   No comments yet.    No faq  \n",
       "4   Paula Limbaugh. over 6 years ago. So sorry yo...    No faq  \n",
       "5                                   No comments yet.    No faq  \n",
       "6   finnibun. about 1 month ago. It's been an inc...    No faq  \n",
       "7   PageLessCreator. 7 months ago. PageLess just ...    No faq  \n",
       "8   Alexander DruninSuperbacker. 11 months ago. C...    No faq  \n",
       "9                                   No comments yet.    No faq  "
      ]
     },
     "execution_count": 26,
     "metadata": {},
     "output_type": "execute_result"
    }
   ],
   "source": [
    "data_text.head(10)"
   ]
  },
  {
   "cell_type": "markdown",
   "metadata": {},
   "source": [
    "## Text analysis on story"
   ]
  },
  {
   "cell_type": "code",
   "execution_count": 27,
   "metadata": {},
   "outputs": [],
   "source": [
    "# define X and y\n",
    "X = data_text.story \n",
    "y = data_text.state"
   ]
  },
  {
   "cell_type": "code",
   "execution_count": 28,
   "metadata": {},
   "outputs": [],
   "source": [
    "X.isnull().sum()\n",
    "X = X.fillna(\"na\")"
   ]
  },
  {
   "cell_type": "code",
   "execution_count": 29,
   "metadata": {},
   "outputs": [],
   "source": [
    "from sklearn.model_selection import train_test_split\n",
    "X_train, X_test, y_train, y_test = train_test_split(X, y, random_state=1)"
   ]
  },
  {
   "cell_type": "code",
   "execution_count": 30,
   "metadata": {},
   "outputs": [
    {
     "name": "stdout",
     "output_type": "stream",
     "text": [
      "test target distribution\n",
      "(251,)\n",
      "1    163\n",
      "0     88\n",
      "Name: state, dtype: int64\n",
      "\n",
      "train target distribution\n",
      "(750,)\n",
      "1    471\n",
      "0    279\n",
      "Name: state, dtype: int64\n"
     ]
    }
   ],
   "source": [
    "print(\"test target distribution\")\n",
    "print(y_test.shape)\n",
    "print(y_test.value_counts())\n",
    "\n",
    "print(\"\\ntrain target distribution\")\n",
    "print(y_train.shape)\n",
    "print(y_train.value_counts())"
   ]
  },
  {
   "cell_type": "code",
   "execution_count": 31,
   "metadata": {},
   "outputs": [
    {
     "name": "stdout",
     "output_type": "stream",
     "text": [
      "(750, 32966)\n",
      "(251, 32966)\n"
     ]
    }
   ],
   "source": [
    "#Use count vectorizer\n",
    "\n",
    "from sklearn.feature_extraction.text import CountVectorizer\n",
    "vect = CountVectorizer()\n",
    "\n",
    "X_train_dtm = vect.fit_transform(X_train)\n",
    "X_test_dtm = vect.transform(X_test)\n",
    "\n",
    "# examine the shapes: rows are documents, columns are terms (aka \"tokens\" or \"features\")\n",
    "print(X_train_dtm.shape)\n",
    "print(X_test_dtm.shape)"
   ]
  },
  {
   "cell_type": "code",
   "execution_count": 32,
   "metadata": {},
   "outputs": [
    {
     "data": {
      "text/plain": [
       "1    0.649402\n",
       "Name: state, dtype: float64"
      ]
     },
     "execution_count": 32,
     "metadata": {},
     "output_type": "execute_result"
    }
   ],
   "source": [
    "#Get null accuracy\n",
    "y_test.value_counts().head(1) / y_test.shape"
   ]
  },
  {
   "cell_type": "code",
   "execution_count": 38,
   "metadata": {},
   "outputs": [],
   "source": [
    "from sklearn.naive_bayes import MultinomialNB\n",
    "from sklearn import metrics\n",
    "\n",
    "# define a function that accepts a vectorizer and calculates the accuracy\n",
    "def tokenize_test(X_train, y_train, X_test, y_test, vect, model=MultinomialNB()):\n",
    "    # create document-term matrices using the vectorizer\n",
    "    X_train_dtm = vect.fit_transform(X_train)\n",
    "    X_test_dtm = vect.transform(X_test)\n",
    "    \n",
    "    # print the number of features that were generated\n",
    "    print('Features: ', X_train_dtm.shape[1])\n",
    "    \n",
    "    # use Multinomial Naive Bayes to predict the star rating\n",
    "    model.fit(X_train_dtm, y_train)\n",
    "    y_pred_class = model.predict(X_test_dtm)\n",
    "    \n",
    "    # Get the training accuracy\n",
    "    print('Training Accuracy: ', metrics.accuracy_score(y_train, model.predict(X_train_dtm)))\n",
    "    # print the accuracy of its predictions\n",
    "    print('Test Accuracy: ', metrics.accuracy_score(y_test, y_pred_class))"
   ]
  },
  {
   "cell_type": "code",
   "execution_count": 39,
   "metadata": {},
   "outputs": [
    {
     "name": "stdout",
     "output_type": "stream",
     "text": [
      "Features:  32966\n",
      "Training Accuracy:  0.96\n",
      "Test Accuracy:  0.6932270916334662\n"
     ]
    }
   ],
   "source": [
    "#use default params\n",
    "vect = CountVectorizer()\n",
    "tokenize_test(X_train, y_train, X_test, y_test, vect)"
   ]
  },
  {
   "cell_type": "markdown",
   "metadata": {},
   "source": [
    "### Use nltk and lemmatization"
   ]
  },
  {
   "cell_type": "code",
   "execution_count": 40,
   "metadata": {},
   "outputs": [],
   "source": [
    "from nltk.tokenize import word_tokenize\n",
    "from nltk import pos_tag\n",
    "from nltk.corpus import stopwords\n",
    "from nltk.stem import WordNetLemmatizer\n",
    "from sklearn.preprocessing import LabelEncoder\n",
    "from collections import defaultdict\n",
    "from nltk.corpus import wordnet as wn\n",
    "from sklearn.feature_extraction.text import TfidfVectorizer\n",
    "from sklearn import model_selection, naive_bayes, svm\n",
    "from sklearn.metrics import accuracy_score"
   ]
  },
  {
   "cell_type": "code",
   "execution_count": 41,
   "metadata": {},
   "outputs": [
    {
     "name": "stderr",
     "output_type": "stream",
     "text": [
      "[nltk_data] Downloading package stopwords to\n",
      "[nltk_data]     C:\\Users\\User\\AppData\\Roaming\\nltk_data...\n",
      "[nltk_data]   Package stopwords is already up-to-date!\n"
     ]
    },
    {
     "data": {
      "text/plain": [
       "True"
      ]
     },
     "execution_count": 41,
     "metadata": {},
     "output_type": "execute_result"
    }
   ],
   "source": [
    "import nltk\n",
    "nltk.download('stopwords')"
   ]
  },
  {
   "cell_type": "code",
   "execution_count": 42,
   "metadata": {},
   "outputs": [],
   "source": [
    "# To lower case\n",
    "data_text_nlkt = data_text\n",
    "data_text_nlkt['story'] = [entry.lower() for entry in data_text_nlkt['story']]"
   ]
  },
  {
   "cell_type": "code",
   "execution_count": 43,
   "metadata": {},
   "outputs": [],
   "source": [
    "# Tokenise\n",
    "data_text_nlkt['story']= [word_tokenize(entry) for entry in data_text_nlkt['story']]"
   ]
  },
  {
   "cell_type": "code",
   "execution_count": 44,
   "metadata": {},
   "outputs": [],
   "source": [
    "#Word lemma\n",
    "tag_map = defaultdict(lambda : wn.NOUN)\n",
    "tag_map['J'] = wn.ADJ\n",
    "tag_map['V'] = wn.VERB\n",
    "tag_map['R'] = wn.ADV\n",
    "\n",
    "for index,entry in enumerate(data_text_nlkt['story']):\n",
    "    # Declaring Empty List to store the words that follow the rules for this step\n",
    "    Final_words = []\n",
    "    \n",
    "    # Initializing WordNetLemmatizer()\n",
    "    word_Lemmatized = WordNetLemmatizer()\n",
    "    \n",
    "    # pos_tag function below will provide the 'tag' i.e if the word is Noun(N) or Verb(V) or something else.\n",
    "    for word, tag in pos_tag(entry):\n",
    "        # Below condition is to check for Stop words and consider only alphabets\n",
    "        if word not in stopwords.words('english') and word.isalpha():\n",
    "            word_Final = word_Lemmatized.lemmatize(word,tag_map[tag[0]])\n",
    "            Final_words.append(word_Final)\n",
    "    # The final processed set of words for each iteration will be stored in 'text_final'\n",
    "    data_text_nlkt.loc[index,'text_final'] = str(Final_words)"
   ]
  },
  {
   "cell_type": "code",
   "execution_count": 45,
   "metadata": {},
   "outputs": [
    {
     "data": {
      "text/plain": [
       "\"['hello', 'world', 'name', 'bryan', 'tinker', 'metal', 'stone', 'year', 'start', 'wrap', 'stone', 'twisted', 'wire', 'people', 'like', 'people', 'would', 'occasionally', 'offer', 'buy', 'work', 'never', 'much', 'salesman', 'year', 'learn', 'solder', 'set', 'stone', 'craft', 'rivet', 'manner', 'technique', 'invest', 'tool', 'able', 'along', 'way', 'skill', 'broaden', 'need', 'large', 'expensive', 'centrifugal', 'casting', 'machine', 'wet', 'grinder', 'drill', 'press', 'bench', 'roller', 'well', 'list', 'honestly', 'endless', 'cost', 'nice', 'stone', 'metal', 'medium', 'rather', 'astronomical', 'ask', 'boost', 'fund', 'art', 'give', 'half', 'piece', 'away', 'people', 'nice', 'gift', 'half', 'either', 'sell', 'cheap', 'sit', 'around', 'like', 'hidden', 'treasure', 'necessarily', 'get', 'rich', 'much', 'enrich', 'world', 'wall', 'awesome', 'metal', 'thing']\""
      ]
     },
     "execution_count": 45,
     "metadata": {},
     "output_type": "execute_result"
    }
   ],
   "source": [
    "data_text_nlkt['text_final'][2]"
   ]
  },
  {
   "cell_type": "code",
   "execution_count": 46,
   "metadata": {},
   "outputs": [],
   "source": [
    "X_train, X_test, y_train, y_test = train_test_split(data_text_nlkt['text_final'], data_text_nlkt[\"state\"], random_state=1)"
   ]
  },
  {
   "cell_type": "code",
   "execution_count": 56,
   "metadata": {},
   "outputs": [],
   "source": [
    "#Create new function\n",
    "\n",
    "def tokenize_test2(X_train, y_train, X_test, y_test, vect, model=MultinomialNB()):\n",
    "\n",
    "    vect.fit(data_text_nlkt['text_final'])\n",
    "\n",
    "    Train_X_vect = vect.transform(X_train)\n",
    "    Test_X_vect = vect.transform(X_test)\n",
    "\n",
    "    model.fit(Train_X_vect, y_train)\n",
    "    y_pred_class = nb.predict(Test_X_vect)\n",
    "    \n",
    "    # Get the training accuracy\n",
    "    print('Training Accuracy: ', metrics.accuracy_score(y_train, model.predict(Train_X_vect)))\n",
    "    # print the accuracy of its predictions\n",
    "    print('Test Accuracy: ', metrics.accuracy_score(y_test, y_pred_class))"
   ]
  },
  {
   "cell_type": "code",
   "execution_count": 48,
   "metadata": {},
   "outputs": [
    {
     "name": "stdout",
     "output_type": "stream",
     "text": [
      "Training Accuracy:  0.7293333333333333\n",
      "Test Accuracy:  0.649402390438247\n"
     ]
    }
   ],
   "source": [
    "#Test if lemma helps (TF-IDF)\n",
    "vect = TfidfVectorizer(max_features=5000)\n",
    "tokenize_test2(X_train, y_train, X_test, y_test, vect)"
   ]
  },
  {
   "cell_type": "code",
   "execution_count": 49,
   "metadata": {},
   "outputs": [
    {
     "name": "stdout",
     "output_type": "stream",
     "text": [
      "Training Accuracy:  0.9626666666666667\n",
      "Test Accuracy:  0.6693227091633466\n"
     ]
    }
   ],
   "source": [
    "#Test if lemma helps (countvect)\n",
    "vect = CountVectorizer()\n",
    "tokenize_test2(X_train, y_train, X_test, y_test, vect)"
   ]
  },
  {
   "cell_type": "code",
   "execution_count": 50,
   "metadata": {},
   "outputs": [
    {
     "name": "stdout",
     "output_type": "stream",
     "text": [
      "Training Accuracy:  0.904\n",
      "Test Accuracy:  0.6892430278884463\n"
     ]
    }
   ],
   "source": [
    "#Try tunning (countVect)\n",
    "vect = CountVectorizer(ngram_range=(1, 2), max_features=5000, max_df=0.5, min_df=2, stop_words='english')\n",
    "tokenize_test2(X_train, y_train, X_test, y_test, vect)"
   ]
  },
  {
   "cell_type": "code",
   "execution_count": 51,
   "metadata": {},
   "outputs": [
    {
     "name": "stdout",
     "output_type": "stream",
     "text": [
      "Training Accuracy:  0.9293333333333333\n",
      "Test Accuracy:  0.7211155378486056\n"
     ]
    }
   ],
   "source": [
    "#Try tunning (TF-idf)\n",
    "vect = TfidfVectorizer(ngram_range=(1, 2), min_df=2, max_features=5000, max_df=0.5, norm=None, stop_words='english')\n",
    "tokenize_test2(X_train, y_train, X_test, y_test, vect)"
   ]
  },
  {
   "cell_type": "markdown",
   "metadata": {},
   "source": [
    "### Score is slightly worse, but maybe test for interpretability"
   ]
  },
  {
   "cell_type": "code",
   "execution_count": 52,
   "metadata": {},
   "outputs": [],
   "source": [
    "vect = TfidfVectorizer(ngram_range=(1, 2), min_df=2, max_features=5000, max_df=0.5, norm=None, stop_words='english')\n",
    "\n",
    "X_train_dtm = vect.fit_transform(X_train)\n",
    "X_test_dtm = vect.transform(X_test)\n",
    "\n",
    "nb = MultinomialNB()\n",
    "nb.fit(X_train_dtm, y_train)\n",
    "y_pred_class = nb.predict(X_test_dtm)\n",
    "\n",
    "fail_token_ratio = nb.feature_count_[0] / nb.class_count_[0]\n",
    "success_token_ratio = nb.feature_count_[1] / nb.class_count_[1]"
   ]
  },
  {
   "cell_type": "code",
   "execution_count": 53,
   "metadata": {},
   "outputs": [
    {
     "data": {
      "text/html": [
       "<div>\n",
       "<style scoped>\n",
       "    .dataframe tbody tr th:only-of-type {\n",
       "        vertical-align: middle;\n",
       "    }\n",
       "\n",
       "    .dataframe tbody tr th {\n",
       "        vertical-align: top;\n",
       "    }\n",
       "\n",
       "    .dataframe thead th {\n",
       "        text-align: right;\n",
       "    }\n",
       "</style>\n",
       "<table border=\"1\" class=\"dataframe\">\n",
       "  <thead>\n",
       "    <tr style=\"text-align: right;\">\n",
       "      <th></th>\n",
       "      <th>token</th>\n",
       "      <th>ratio</th>\n",
       "    </tr>\n",
       "  </thead>\n",
       "  <tbody>\n",
       "    <tr>\n",
       "      <th>4463</th>\n",
       "      <td>thailand</td>\n",
       "      <td>1.810996</td>\n",
       "    </tr>\n",
       "    <tr>\n",
       "      <th>4534</th>\n",
       "      <td>toad</td>\n",
       "      <td>1.793435</td>\n",
       "    </tr>\n",
       "    <tr>\n",
       "      <th>4446</th>\n",
       "      <td>temple</td>\n",
       "      <td>1.710151</td>\n",
       "    </tr>\n",
       "    <tr>\n",
       "      <th>966</th>\n",
       "      <td>cortometraje</td>\n",
       "      <td>1.692671</td>\n",
       "    </tr>\n",
       "    <tr>\n",
       "      <th>552</th>\n",
       "      <td>builder</td>\n",
       "      <td>1.621283</td>\n",
       "    </tr>\n",
       "    <tr>\n",
       "      <th>1695</th>\n",
       "      <td>filament</td>\n",
       "      <td>1.587700</td>\n",
       "    </tr>\n",
       "    <tr>\n",
       "      <th>4085</th>\n",
       "      <td>site</td>\n",
       "      <td>1.565691</td>\n",
       "    </tr>\n",
       "    <tr>\n",
       "      <th>3583</th>\n",
       "      <td>pumpkin</td>\n",
       "      <td>1.539776</td>\n",
       "    </tr>\n",
       "    <tr>\n",
       "      <th>2383</th>\n",
       "      <td>jury</td>\n",
       "      <td>1.512784</td>\n",
       "    </tr>\n",
       "    <tr>\n",
       "      <th>784</th>\n",
       "      <td>cnc</td>\n",
       "      <td>1.499164</td>\n",
       "    </tr>\n",
       "    <tr>\n",
       "      <th>780</th>\n",
       "      <td>clown</td>\n",
       "      <td>1.496124</td>\n",
       "    </tr>\n",
       "    <tr>\n",
       "      <th>2366</th>\n",
       "      <td>josef</td>\n",
       "      <td>1.490963</td>\n",
       "    </tr>\n",
       "    <tr>\n",
       "      <th>4441</th>\n",
       "      <td>telescope</td>\n",
       "      <td>1.490963</td>\n",
       "    </tr>\n",
       "    <tr>\n",
       "      <th>191</th>\n",
       "      <td>app</td>\n",
       "      <td>1.485984</td>\n",
       "    </tr>\n",
       "    <tr>\n",
       "      <th>714</th>\n",
       "      <td>chicken</td>\n",
       "      <td>1.485009</td>\n",
       "    </tr>\n",
       "  </tbody>\n",
       "</table>\n",
       "</div>"
      ],
      "text/plain": [
       "             token     ratio\n",
       "4463      thailand  1.810996\n",
       "4534          toad  1.793435\n",
       "4446        temple  1.710151\n",
       "966   cortometraje  1.692671\n",
       "552        builder  1.621283\n",
       "1695      filament  1.587700\n",
       "4085          site  1.565691\n",
       "3583       pumpkin  1.539776\n",
       "2383          jury  1.512784\n",
       "784            cnc  1.499164\n",
       "780          clown  1.496124\n",
       "2366         josef  1.490963\n",
       "4441     telescope  1.490963\n",
       "191            app  1.485984\n",
       "714        chicken  1.485009"
      ]
     },
     "execution_count": 53,
     "metadata": {},
     "output_type": "execute_result"
    }
   ],
   "source": [
    "#Failure tokens\n",
    "\n",
    "fail_tokens = {'token': vect.get_feature_names(), 'ratio': (fail_token_ratio+1)/(success_token_ratio+1)}\n",
    "fail_tokens = pd.DataFrame(data=fail_tokens)\n",
    "fail_tokens.sort_values(\"ratio\", ascending=False).head(15)"
   ]
  },
  {
   "cell_type": "code",
   "execution_count": 54,
   "metadata": {},
   "outputs": [
    {
     "data": {
      "text/html": [
       "<div>\n",
       "<style scoped>\n",
       "    .dataframe tbody tr th:only-of-type {\n",
       "        vertical-align: middle;\n",
       "    }\n",
       "\n",
       "    .dataframe tbody tr th {\n",
       "        vertical-align: top;\n",
       "    }\n",
       "\n",
       "    .dataframe thead th {\n",
       "        text-align: right;\n",
       "    }\n",
       "</style>\n",
       "<table border=\"1\" class=\"dataframe\">\n",
       "  <thead>\n",
       "    <tr style=\"text-align: right;\">\n",
       "      <th></th>\n",
       "      <th>token</th>\n",
       "      <th>ratio</th>\n",
       "    </tr>\n",
       "  </thead>\n",
       "  <tbody>\n",
       "    <tr>\n",
       "      <th>4252</th>\n",
       "      <td>stretch goal</td>\n",
       "      <td>2.176434</td>\n",
       "    </tr>\n",
       "    <tr>\n",
       "      <th>1226</th>\n",
       "      <td>enamel pin</td>\n",
       "      <td>1.501227</td>\n",
       "    </tr>\n",
       "    <tr>\n",
       "      <th>764</th>\n",
       "      <td>comic book</td>\n",
       "      <td>1.446999</td>\n",
       "    </tr>\n",
       "    <tr>\n",
       "      <th>2863</th>\n",
       "      <td>new york</td>\n",
       "      <td>1.418890</td>\n",
       "    </tr>\n",
       "    <tr>\n",
       "      <th>1754</th>\n",
       "      <td>hard enamel</td>\n",
       "      <td>1.368490</td>\n",
       "    </tr>\n",
       "    <tr>\n",
       "      <th>2093</th>\n",
       "      <td>kickstarter campaign</td>\n",
       "      <td>1.348288</td>\n",
       "    </tr>\n",
       "    <tr>\n",
       "      <th>554</th>\n",
       "      <td>campaign end</td>\n",
       "      <td>1.339801</td>\n",
       "    </tr>\n",
       "    <tr>\n",
       "      <th>2635</th>\n",
       "      <td>mental health</td>\n",
       "      <td>1.322793</td>\n",
       "    </tr>\n",
       "    <tr>\n",
       "      <th>993</th>\n",
       "      <td>dance company</td>\n",
       "      <td>1.312953</td>\n",
       "    </tr>\n",
       "    <tr>\n",
       "      <th>1700</th>\n",
       "      <td>graphic novel</td>\n",
       "      <td>1.304980</td>\n",
       "    </tr>\n",
       "    <tr>\n",
       "      <th>1103</th>\n",
       "      <td>digital file</td>\n",
       "      <td>1.301247</td>\n",
       "    </tr>\n",
       "    <tr>\n",
       "      <th>3199</th>\n",
       "      <td>pin design</td>\n",
       "      <td>1.292089</td>\n",
       "    </tr>\n",
       "    <tr>\n",
       "      <th>4381</th>\n",
       "      <td>thank support</td>\n",
       "      <td>1.284436</td>\n",
       "    </tr>\n",
       "    <tr>\n",
       "      <th>1349</th>\n",
       "      <td>fairy tale</td>\n",
       "      <td>1.277999</td>\n",
       "    </tr>\n",
       "    <tr>\n",
       "      <th>1412</th>\n",
       "      <td>film festival</td>\n",
       "      <td>1.275134</td>\n",
       "    </tr>\n",
       "  </tbody>\n",
       "</table>\n",
       "</div>"
      ],
      "text/plain": [
       "                     token     ratio\n",
       "4252          stretch goal  2.176434\n",
       "1226            enamel pin  1.501227\n",
       "764             comic book  1.446999\n",
       "2863              new york  1.418890\n",
       "1754           hard enamel  1.368490\n",
       "2093  kickstarter campaign  1.348288\n",
       "554           campaign end  1.339801\n",
       "2635         mental health  1.322793\n",
       "993          dance company  1.312953\n",
       "1700         graphic novel  1.304980\n",
       "1103          digital file  1.301247\n",
       "3199            pin design  1.292089\n",
       "4381         thank support  1.284436\n",
       "1349            fairy tale  1.277999\n",
       "1412         film festival  1.275134"
      ]
     },
     "execution_count": 54,
     "metadata": {},
     "output_type": "execute_result"
    }
   ],
   "source": [
    "#Success Token (test for 2 words)\n",
    "\n",
    "vect = TfidfVectorizer(ngram_range=(2, 2), min_df=2, max_features=5000, max_df=0.5, norm=None, stop_words='english')\n",
    "\n",
    "X_train_dtm = vect.fit_transform(X_train)\n",
    "X_test_dtm = vect.transform(X_test)\n",
    "\n",
    "nb = MultinomialNB()\n",
    "nb.fit(X_train_dtm, y_train)\n",
    "y_pred_class = nb.predict(X_test_dtm)\n",
    "\n",
    "fail_token_ratio = nb.feature_count_[0] / nb.class_count_[0]\n",
    "success_token_ratio = nb.feature_count_[1] / nb.class_count_[1]\n",
    "\n",
    "success_tokens = {'token': vect.get_feature_names(), 'ratio': (success_token_ratio+1)/(fail_token_ratio+1)}\n",
    "success_tokens = pd.DataFrame(data=success_tokens)\n",
    "success_tokens.sort_values(\"ratio\", ascending=False).head(15)"
   ]
  },
  {
   "cell_type": "markdown",
   "metadata": {},
   "source": [
    "## Use SVM to predict text"
   ]
  },
  {
   "cell_type": "code",
   "execution_count": 68,
   "metadata": {},
   "outputs": [
    {
     "name": "stdout",
     "output_type": "stream",
     "text": [
      "Training Accuracy:  0.996\n",
      "Test Accuracy:  0.6175298804780877\n"
     ]
    }
   ],
   "source": [
    "from sklearn import svm\n",
    "vect = TfidfVectorizer(ngram_range=(1, 2), min_df=2, max_features=5000, max_df=0.5, norm=None, stop_words='english')\n",
    "\n",
    "SVM = svm.SVC(C=1, kernel='linear', degree=2, gamma='auto')\n",
    "\n",
    "tokenize_test2(X_train, y_train, X_test, y_test, vect, model=SVM)"
   ]
  },
  {
   "cell_type": "code",
   "execution_count": 63,
   "metadata": {},
   "outputs": [
    {
     "name": "stdout",
     "output_type": "stream",
     "text": [
      "Training Accuracy:  0.9506666666666667\n",
      "Test Accuracy:  0.6175298804780877\n"
     ]
    }
   ],
   "source": [
    "SVM = svm.SVC(C=10.0, kernel='poly', degree=2, gamma='auto')\n",
    "tokenize_test2(X_train, y_train, X_test, y_test, vect, model=SVM)"
   ]
  },
  {
   "cell_type": "code",
   "execution_count": 64,
   "metadata": {},
   "outputs": [
    {
     "data": {
      "text/plain": [
       "1    0.649402\n",
       "Name: state, dtype: float64"
      ]
     },
     "execution_count": 64,
     "metadata": {},
     "output_type": "execute_result"
    }
   ],
   "source": [
    "y_test.value_counts().head(1) / y_test.shape"
   ]
  },
  {
   "cell_type": "markdown",
   "metadata": {},
   "source": [
    "### Prediction worse than null accuracy"
   ]
  },
  {
   "cell_type": "markdown",
   "metadata": {},
   "source": [
    "## Back to normal (no lemma) "
   ]
  },
  {
   "cell_type": "code",
   "execution_count": 323,
   "metadata": {},
   "outputs": [
    {
     "name": "stdout",
     "output_type": "stream",
     "text": [
      "Features:  5000\n",
      "Training Accuracy:  0.9066666666666666\n",
      "Test Accuracy:  0.752\n"
     ]
    }
   ],
   "source": [
    "#Tune params\n",
    "vect = CountVectorizer(ngram_range=(1, 2), max_features=5000, max_df=0.5, min_df=2, stop_words='english')\n",
    "tokenize_test(X_train, y_train, X_test, y_test, vect)"
   ]
  },
  {
   "cell_type": "code",
   "execution_count": 314,
   "metadata": {},
   "outputs": [
    {
     "name": "stdout",
     "output_type": "stream",
     "text": [
      "Features:  32088\n",
      "Training Accuracy:  0.6533333333333333\n",
      "Test Accuracy:  0.6\n"
     ]
    }
   ],
   "source": [
    "#use tf-idf vect\n",
    "from sklearn.feature_extraction.text import TfidfVectorizer\n",
    "\n",
    "vect = TfidfVectorizer()\n",
    "tokenize_test(X_train, y_train, X_test, y_test, vect)"
   ]
  },
  {
   "cell_type": "code",
   "execution_count": 315,
   "metadata": {},
   "outputs": [
    {
     "name": "stdout",
     "output_type": "stream",
     "text": [
      "Features:  5000\n",
      "Training Accuracy:  0.9053333333333333\n",
      "Test Accuracy:  0.728\n"
     ]
    }
   ],
   "source": [
    "#Tune params\n",
    "vect = TfidfVectorizer(ngram_range=(1, 3), min_df=2, max_features=5000, max_df=0.3, norm=None)\n",
    "tokenize_test(X_train, y_train, X_test, y_test, vect)"
   ]
  },
  {
   "cell_type": "markdown",
   "metadata": {},
   "source": [
    "#### TF-idf method is slightly worse off... why?"
   ]
  },
  {
   "cell_type": "code",
   "execution_count": 320,
   "metadata": {},
   "outputs": [],
   "source": [
    "#Get most predictable word for each class\n",
    "vect = CountVectorizer(ngram_range=(1, 2), max_features=5000, max_df=0.5, min_df=2, stop_words='english')"
   ]
  },
  {
   "cell_type": "code",
   "execution_count": 321,
   "metadata": {},
   "outputs": [],
   "source": [
    "#failure tokens\n",
    "\n",
    "X_train_dtm = vect.fit_transform(X_train)\n",
    "X_test_dtm = vect.transform(X_test)\n",
    "\n",
    "nb = MultinomialNB()\n",
    "nb.fit(X_train_dtm, y_train)\n",
    "y_pred_class = nb.predict(X_test_dtm)\n",
    "\n",
    "fail_token_ratio = nb.feature_count_[0] / nb.class_count_[0]\n",
    "success_token_ratio = nb.feature_count_[1] / nb.class_count_[1]"
   ]
  },
  {
   "cell_type": "code",
   "execution_count": 318,
   "metadata": {},
   "outputs": [
    {
     "data": {
      "text/plain": [
       "5000"
      ]
     },
     "execution_count": 318,
     "metadata": {},
     "output_type": "execute_result"
    }
   ],
   "source": [
    "len(fail_token_ratio)"
   ]
  },
  {
   "cell_type": "code",
   "execution_count": 322,
   "metadata": {},
   "outputs": [
    {
     "data": {
      "text/html": [
       "<div>\n",
       "<style scoped>\n",
       "    .dataframe tbody tr th:only-of-type {\n",
       "        vertical-align: middle;\n",
       "    }\n",
       "\n",
       "    .dataframe tbody tr th {\n",
       "        vertical-align: top;\n",
       "    }\n",
       "\n",
       "    .dataframe thead th {\n",
       "        text-align: right;\n",
       "    }\n",
       "</style>\n",
       "<table border=\"1\" class=\"dataframe\">\n",
       "  <thead>\n",
       "    <tr style=\"text-align: right;\">\n",
       "      <th></th>\n",
       "      <th>token</th>\n",
       "      <th>ratio</th>\n",
       "    </tr>\n",
       "  </thead>\n",
       "  <tbody>\n",
       "    <tr>\n",
       "      <th>4100</th>\n",
       "      <td>site</td>\n",
       "      <td>1.156183</td>\n",
       "    </tr>\n",
       "    <tr>\n",
       "      <th>305</th>\n",
       "      <td>app</td>\n",
       "      <td>1.149046</td>\n",
       "    </tr>\n",
       "    <tr>\n",
       "      <th>4786</th>\n",
       "      <td>violin</td>\n",
       "      <td>1.140789</td>\n",
       "    </tr>\n",
       "    <tr>\n",
       "      <th>4300</th>\n",
       "      <td>students</td>\n",
       "      <td>1.134814</td>\n",
       "    </tr>\n",
       "    <tr>\n",
       "      <th>92</th>\n",
       "      <td>3d</td>\n",
       "      <td>1.132039</td>\n",
       "    </tr>\n",
       "    <tr>\n",
       "      <th>4713</th>\n",
       "      <td>users</td>\n",
       "      <td>1.129550</td>\n",
       "    </tr>\n",
       "    <tr>\n",
       "      <th>0</th>\n",
       "      <td>00</td>\n",
       "      <td>1.124491</td>\n",
       "    </tr>\n",
       "    <tr>\n",
       "      <th>1053</th>\n",
       "      <td>cortometraje</td>\n",
       "      <td>1.118493</td>\n",
       "    </tr>\n",
       "    <tr>\n",
       "      <th>4523</th>\n",
       "      <td>toad</td>\n",
       "      <td>1.105915</td>\n",
       "    </tr>\n",
       "    <tr>\n",
       "      <th>4989</th>\n",
       "      <td>youtube</td>\n",
       "      <td>1.104849</td>\n",
       "    </tr>\n",
       "    <tr>\n",
       "      <th>1794</th>\n",
       "      <td>filament</td>\n",
       "      <td>1.100524</td>\n",
       "    </tr>\n",
       "    <tr>\n",
       "      <th>641</th>\n",
       "      <td>builder</td>\n",
       "      <td>1.100524</td>\n",
       "    </tr>\n",
       "    <tr>\n",
       "      <th>4480</th>\n",
       "      <td>theme</td>\n",
       "      <td>1.099884</td>\n",
       "    </tr>\n",
       "    <tr>\n",
       "      <th>859</th>\n",
       "      <td>clown</td>\n",
       "      <td>1.096831</td>\n",
       "    </tr>\n",
       "    <tr>\n",
       "      <th>4865</th>\n",
       "      <td>website</td>\n",
       "      <td>1.096416</td>\n",
       "    </tr>\n",
       "  </tbody>\n",
       "</table>\n",
       "</div>"
      ],
      "text/plain": [
       "             token     ratio\n",
       "4100          site  1.156183\n",
       "305            app  1.149046\n",
       "4786        violin  1.140789\n",
       "4300      students  1.134814\n",
       "92              3d  1.132039\n",
       "4713         users  1.129550\n",
       "0               00  1.124491\n",
       "1053  cortometraje  1.118493\n",
       "4523          toad  1.105915\n",
       "4989       youtube  1.104849\n",
       "1794      filament  1.100524\n",
       "641        builder  1.100524\n",
       "4480         theme  1.099884\n",
       "859          clown  1.096831\n",
       "4865       website  1.096416"
      ]
     },
     "execution_count": 322,
     "metadata": {},
     "output_type": "execute_result"
    }
   ],
   "source": [
    "fail_tokens = {'token': vect.get_feature_names(), 'ratio': (fail_token_ratio+1)/(success_token_ratio+1)}\n",
    "fail_tokens = pd.DataFrame(data=fail_tokens)\n",
    "fail_tokens.sort_values(\"ratio\", ascending=False).head(15)"
   ]
  },
  {
   "cell_type": "markdown",
   "metadata": {},
   "source": [
    "#### common words that leads to failure in project: site, app, violin, students, 3d"
   ]
  },
  {
   "cell_type": "code",
   "execution_count": 324,
   "metadata": {},
   "outputs": [
    {
     "data": {
      "text/html": [
       "<div>\n",
       "<style scoped>\n",
       "    .dataframe tbody tr th:only-of-type {\n",
       "        vertical-align: middle;\n",
       "    }\n",
       "\n",
       "    .dataframe tbody tr th {\n",
       "        vertical-align: top;\n",
       "    }\n",
       "\n",
       "    .dataframe thead th {\n",
       "        text-align: right;\n",
       "    }\n",
       "</style>\n",
       "<table border=\"1\" class=\"dataframe\">\n",
       "  <thead>\n",
       "    <tr style=\"text-align: right;\">\n",
       "      <th></th>\n",
       "      <th>token</th>\n",
       "      <th>ratio</th>\n",
       "    </tr>\n",
       "  </thead>\n",
       "  <tbody>\n",
       "    <tr>\n",
       "      <th>2495</th>\n",
       "      <td>kickstarter</td>\n",
       "      <td>1.685795</td>\n",
       "    </tr>\n",
       "    <tr>\n",
       "      <th>3352</th>\n",
       "      <td>pin</td>\n",
       "      <td>1.554366</td>\n",
       "    </tr>\n",
       "    <tr>\n",
       "      <th>682</th>\n",
       "      <td>campaign</td>\n",
       "      <td>1.545829</td>\n",
       "    </tr>\n",
       "    <tr>\n",
       "      <th>3356</th>\n",
       "      <td>pins</td>\n",
       "      <td>1.543355</td>\n",
       "    </tr>\n",
       "    <tr>\n",
       "      <th>183</th>\n",
       "      <td>add</td>\n",
       "      <td>1.539008</td>\n",
       "    </tr>\n",
       "    <tr>\n",
       "      <th>4738</th>\n",
       "      <td>ve</td>\n",
       "      <td>1.474091</td>\n",
       "    </tr>\n",
       "    <tr>\n",
       "      <th>2656</th>\n",
       "      <td>ll</td>\n",
       "      <td>1.464793</td>\n",
       "    </tr>\n",
       "    <tr>\n",
       "      <th>3391</th>\n",
       "      <td>pledge</td>\n",
       "      <td>1.463392</td>\n",
       "    </tr>\n",
       "    <tr>\n",
       "      <th>4286</th>\n",
       "      <td>stretch</td>\n",
       "      <td>1.438432</td>\n",
       "    </tr>\n",
       "    <tr>\n",
       "      <th>1155</th>\n",
       "      <td>dance</td>\n",
       "      <td>1.433113</td>\n",
       "    </tr>\n",
       "    <tr>\n",
       "      <th>2012</th>\n",
       "      <td>goal</td>\n",
       "      <td>1.395403</td>\n",
       "    </tr>\n",
       "    <tr>\n",
       "      <th>567</th>\n",
       "      <td>book</td>\n",
       "      <td>1.385352</td>\n",
       "    </tr>\n",
       "    <tr>\n",
       "      <th>4347</th>\n",
       "      <td>support</td>\n",
       "      <td>1.374766</td>\n",
       "    </tr>\n",
       "    <tr>\n",
       "      <th>4052</th>\n",
       "      <td>shipping</td>\n",
       "      <td>1.371508</td>\n",
       "    </tr>\n",
       "    <tr>\n",
       "      <th>3550</th>\n",
       "      <td>production</td>\n",
       "      <td>1.360052</td>\n",
       "    </tr>\n",
       "  </tbody>\n",
       "</table>\n",
       "</div>"
      ],
      "text/plain": [
       "            token     ratio\n",
       "2495  kickstarter  1.685795\n",
       "3352          pin  1.554366\n",
       "682      campaign  1.545829\n",
       "3356         pins  1.543355\n",
       "183           add  1.539008\n",
       "4738           ve  1.474091\n",
       "2656           ll  1.464793\n",
       "3391       pledge  1.463392\n",
       "4286      stretch  1.438432\n",
       "1155        dance  1.433113\n",
       "2012         goal  1.395403\n",
       "567          book  1.385352\n",
       "4347      support  1.374766\n",
       "4052     shipping  1.371508\n",
       "3550   production  1.360052"
      ]
     },
     "execution_count": 324,
     "metadata": {},
     "output_type": "execute_result"
    }
   ],
   "source": [
    "success_tokens = {'token': vect.get_feature_names(), 'ratio': (success_token_ratio+1)/(fail_token_ratio+1)}\n",
    "success_tokens = pd.DataFrame(data=success_tokens)\n",
    "success_tokens.sort_values(\"ratio\", ascending=False).head(15)"
   ]
  },
  {
   "cell_type": "markdown",
   "metadata": {},
   "source": [
    "#### common words in story that lead to success: kickstarter, goal, book, support, campaign. might not be meaningful, maybe look at pair words to have a better understanding"
   ]
  },
  {
   "cell_type": "code",
   "execution_count": 325,
   "metadata": {},
   "outputs": [
    {
     "data": {
      "text/html": [
       "<div>\n",
       "<style scoped>\n",
       "    .dataframe tbody tr th:only-of-type {\n",
       "        vertical-align: middle;\n",
       "    }\n",
       "\n",
       "    .dataframe tbody tr th {\n",
       "        vertical-align: top;\n",
       "    }\n",
       "\n",
       "    .dataframe thead th {\n",
       "        text-align: right;\n",
       "    }\n",
       "</style>\n",
       "<table border=\"1\" class=\"dataframe\">\n",
       "  <thead>\n",
       "    <tr style=\"text-align: right;\">\n",
       "      <th></th>\n",
       "      <th>token</th>\n",
       "      <th>ratio</th>\n",
       "    </tr>\n",
       "  </thead>\n",
       "  <tbody>\n",
       "    <tr>\n",
       "      <th>4175</th>\n",
       "      <td>stretch goal</td>\n",
       "      <td>1.227208</td>\n",
       "    </tr>\n",
       "    <tr>\n",
       "      <th>4182</th>\n",
       "      <td>stretch goals</td>\n",
       "      <td>1.214404</td>\n",
       "    </tr>\n",
       "    <tr>\n",
       "      <th>223</th>\n",
       "      <td>add ons</td>\n",
       "      <td>1.149378</td>\n",
       "    </tr>\n",
       "    <tr>\n",
       "      <th>2871</th>\n",
       "      <td>new york</td>\n",
       "      <td>1.139927</td>\n",
       "    </tr>\n",
       "    <tr>\n",
       "      <th>1852</th>\n",
       "      <td>hard enamel</td>\n",
       "      <td>1.089296</td>\n",
       "    </tr>\n",
       "    <tr>\n",
       "      <th>409</th>\n",
       "      <td>award winning</td>\n",
       "      <td>1.087593</td>\n",
       "    </tr>\n",
       "    <tr>\n",
       "      <th>2181</th>\n",
       "      <td>kickstarter campaign</td>\n",
       "      <td>1.085005</td>\n",
       "    </tr>\n",
       "    <tr>\n",
       "      <th>1305</th>\n",
       "      <td>enamel pin</td>\n",
       "      <td>1.080913</td>\n",
       "    </tr>\n",
       "    <tr>\n",
       "      <th>2427</th>\n",
       "      <td>ll able</td>\n",
       "      <td>1.072761</td>\n",
       "    </tr>\n",
       "    <tr>\n",
       "      <th>3340</th>\n",
       "      <td>post production</td>\n",
       "      <td>1.062973</td>\n",
       "    </tr>\n",
       "    <tr>\n",
       "      <th>1307</th>\n",
       "      <td>enamel pins</td>\n",
       "      <td>1.060359</td>\n",
       "    </tr>\n",
       "    <tr>\n",
       "      <th>1006</th>\n",
       "      <td>dance company</td>\n",
       "      <td>1.053942</td>\n",
       "    </tr>\n",
       "    <tr>\n",
       "      <th>654</th>\n",
       "      <td>campaign ends</td>\n",
       "      <td>1.052091</td>\n",
       "    </tr>\n",
       "    <tr>\n",
       "      <th>4316</th>\n",
       "      <td>thank support</td>\n",
       "      <td>1.050482</td>\n",
       "    </tr>\n",
       "    <tr>\n",
       "      <th>1948</th>\n",
       "      <td>high quality</td>\n",
       "      <td>1.050467</td>\n",
       "    </tr>\n",
       "  </tbody>\n",
       "</table>\n",
       "</div>"
      ],
      "text/plain": [
       "                     token     ratio\n",
       "4175          stretch goal  1.227208\n",
       "4182         stretch goals  1.214404\n",
       "223                add ons  1.149378\n",
       "2871              new york  1.139927\n",
       "1852           hard enamel  1.089296\n",
       "409          award winning  1.087593\n",
       "2181  kickstarter campaign  1.085005\n",
       "1305            enamel pin  1.080913\n",
       "2427               ll able  1.072761\n",
       "3340       post production  1.062973\n",
       "1307           enamel pins  1.060359\n",
       "1006         dance company  1.053942\n",
       "654          campaign ends  1.052091\n",
       "4316         thank support  1.050482\n",
       "1948          high quality  1.050467"
      ]
     },
     "execution_count": 325,
     "metadata": {},
     "output_type": "execute_result"
    }
   ],
   "source": [
    "#looking at 2-3 words for success story\n",
    "vect = CountVectorizer(ngram_range=(2, 3), max_features=5000, max_df=0.5, min_df=2, stop_words='english')\n",
    "\n",
    "X_train_dtm = vect.fit_transform(X_train)\n",
    "X_test_dtm = vect.transform(X_test)\n",
    "\n",
    "nb = MultinomialNB()\n",
    "nb.fit(X_train_dtm, y_train)\n",
    "y_pred_class = nb.predict(X_test_dtm)\n",
    "\n",
    "fail_token_ratio = nb.feature_count_[0] / nb.class_count_[0]\n",
    "success_token_ratio = nb.feature_count_[1] / nb.class_count_[1]\n",
    "\n",
    "success_tokens = {'token': vect.get_feature_names(), 'ratio': (success_token_ratio+1)/(fail_token_ratio+1)}\n",
    "success_tokens = pd.DataFrame(data=success_tokens)\n",
    "success_tokens.sort_values(\"ratio\", ascending=False).head(15)"
   ]
  },
  {
   "cell_type": "markdown",
   "metadata": {},
   "source": [
    "#### words to include in story: stretch goal, add ons, new york, award winning, kickstarter campaign"
   ]
  },
  {
   "cell_type": "markdown",
   "metadata": {},
   "source": [
    "## Text analysis on faq"
   ]
  },
  {
   "cell_type": "code",
   "execution_count": 326,
   "metadata": {},
   "outputs": [],
   "source": [
    "# define X and y\n",
    "X = data_text.faq_clean\n",
    "y = data_text.state"
   ]
  },
  {
   "cell_type": "code",
   "execution_count": 327,
   "metadata": {},
   "outputs": [
    {
     "data": {
      "text/plain": [
       "0"
      ]
     },
     "execution_count": 327,
     "metadata": {},
     "output_type": "execute_result"
    }
   ],
   "source": [
    "X.isnull().sum()"
   ]
  },
  {
   "cell_type": "code",
   "execution_count": 328,
   "metadata": {},
   "outputs": [],
   "source": [
    "X_train, X_test, y_train, y_test = train_test_split(X, y, random_state=1)"
   ]
  },
  {
   "cell_type": "code",
   "execution_count": 332,
   "metadata": {},
   "outputs": [
    {
     "data": {
      "text/plain": [
       "1    0.604\n",
       "Name: state, dtype: float64"
      ]
     },
     "execution_count": 332,
     "metadata": {},
     "output_type": "execute_result"
    }
   ],
   "source": [
    "#Get null accuracy\n",
    "y_test.value_counts().head(1) / y_test.shape"
   ]
  },
  {
   "cell_type": "code",
   "execution_count": 329,
   "metadata": {},
   "outputs": [
    {
     "name": "stdout",
     "output_type": "stream",
     "text": [
      "Features:  4522\n",
      "Training Accuracy:  0.47333333333333333\n",
      "Test Accuracy:  0.492\n"
     ]
    }
   ],
   "source": [
    "#use default params (CountVect)\n",
    "vect = CountVectorizer()\n",
    "tokenize_test(X_train, y_train, X_test, y_test, vect)"
   ]
  },
  {
   "cell_type": "markdown",
   "metadata": {},
   "source": [
    "#### result worse than null prediction"
   ]
  },
  {
   "cell_type": "code",
   "execution_count": 330,
   "metadata": {},
   "outputs": [
    {
     "name": "stdout",
     "output_type": "stream",
     "text": [
      "Features:  4522\n",
      "Training Accuracy:  0.6426666666666667\n",
      "Test Accuracy:  0.604\n"
     ]
    }
   ],
   "source": [
    "#use default params (TF-IDF Vect)\n",
    "vect = TfidfVectorizer()\n",
    "tokenize_test(X_train, y_train, X_test, y_test, vect)"
   ]
  },
  {
   "cell_type": "markdown",
   "metadata": {},
   "source": [
    "#### tf-idf result same as null prediction"
   ]
  },
  {
   "cell_type": "code",
   "execution_count": 363,
   "metadata": {},
   "outputs": [
    {
     "name": "stdout",
     "output_type": "stream",
     "text": [
      "Features:  4554\n",
      "Training Accuracy:  0.6426666666666667\n",
      "Test Accuracy:  0.604\n"
     ]
    }
   ],
   "source": [
    "vect = TfidfVectorizer(ngram_range=(1, 2), max_df=0.5, min_df=2)\n",
    "tokenize_test(X_train, y_train, X_test, y_test, vect)"
   ]
  },
  {
   "cell_type": "code",
   "execution_count": 364,
   "metadata": {},
   "outputs": [
    {
     "data": {
      "text/html": [
       "<div>\n",
       "<style scoped>\n",
       "    .dataframe tbody tr th:only-of-type {\n",
       "        vertical-align: middle;\n",
       "    }\n",
       "\n",
       "    .dataframe tbody tr th {\n",
       "        vertical-align: top;\n",
       "    }\n",
       "\n",
       "    .dataframe thead th {\n",
       "        text-align: right;\n",
       "    }\n",
       "</style>\n",
       "<table border=\"1\" class=\"dataframe\">\n",
       "  <thead>\n",
       "    <tr style=\"text-align: right;\">\n",
       "      <th></th>\n",
       "      <th>token</th>\n",
       "      <th>ratio</th>\n",
       "    </tr>\n",
       "  </thead>\n",
       "  <tbody>\n",
       "    <tr>\n",
       "      <th>823</th>\n",
       "      <td>edt</td>\n",
       "      <td>1.015905</td>\n",
       "    </tr>\n",
       "    <tr>\n",
       "      <th>1623</th>\n",
       "      <td>pm</td>\n",
       "      <td>1.011769</td>\n",
       "    </tr>\n",
       "    <tr>\n",
       "      <th>110</th>\n",
       "      <td>2020</td>\n",
       "      <td>1.011389</td>\n",
       "    </tr>\n",
       "    <tr>\n",
       "      <th>1600</th>\n",
       "      <td>pledge</td>\n",
       "      <td>1.008137</td>\n",
       "    </tr>\n",
       "    <tr>\n",
       "      <th>1624</th>\n",
       "      <td>pm edt</td>\n",
       "      <td>1.008066</td>\n",
       "    </tr>\n",
       "    <tr>\n",
       "      <th>273</th>\n",
       "      <td>add</td>\n",
       "      <td>1.007160</td>\n",
       "    </tr>\n",
       "    <tr>\n",
       "      <th>899</th>\n",
       "      <td>est</td>\n",
       "      <td>1.007139</td>\n",
       "    </tr>\n",
       "    <tr>\n",
       "      <th>475</th>\n",
       "      <td>campaign</td>\n",
       "      <td>1.005771</td>\n",
       "    </tr>\n",
       "    <tr>\n",
       "      <th>2074</th>\n",
       "      <td>thu</td>\n",
       "      <td>1.005766</td>\n",
       "    </tr>\n",
       "    <tr>\n",
       "      <th>1625</th>\n",
       "      <td>pm est</td>\n",
       "      <td>1.005737</td>\n",
       "    </tr>\n",
       "    <tr>\n",
       "      <th>1898</th>\n",
       "      <td>shipping</td>\n",
       "      <td>1.005180</td>\n",
       "    </tr>\n",
       "    <tr>\n",
       "      <th>105</th>\n",
       "      <td>2019</td>\n",
       "      <td>1.005161</td>\n",
       "    </tr>\n",
       "    <tr>\n",
       "      <th>2226</th>\n",
       "      <td>wed</td>\n",
       "      <td>1.004932</td>\n",
       "    </tr>\n",
       "    <tr>\n",
       "      <th>1230</th>\n",
       "      <td>jul</td>\n",
       "      <td>1.004925</td>\n",
       "    </tr>\n",
       "    <tr>\n",
       "      <th>1237</th>\n",
       "      <td>jun</td>\n",
       "      <td>1.004848</td>\n",
       "    </tr>\n",
       "  </tbody>\n",
       "</table>\n",
       "</div>"
      ],
      "text/plain": [
       "         token     ratio\n",
       "823        edt  1.015905\n",
       "1623        pm  1.011769\n",
       "110       2020  1.011389\n",
       "1600    pledge  1.008137\n",
       "1624    pm edt  1.008066\n",
       "273        add  1.007160\n",
       "899        est  1.007139\n",
       "475   campaign  1.005771\n",
       "2074       thu  1.005766\n",
       "1625    pm est  1.005737\n",
       "1898  shipping  1.005180\n",
       "105       2019  1.005161\n",
       "2226       wed  1.004932\n",
       "1230       jul  1.004925\n",
       "1237       jun  1.004848"
      ]
     },
     "execution_count": 364,
     "metadata": {},
     "output_type": "execute_result"
    }
   ],
   "source": [
    "vect = TfidfVectorizer(ngram_range=(1, 2), max_df=0.5, min_df=2, stop_words= \"english\")\n",
    "\n",
    "X_train_dtm = vect.fit_transform(X_train)\n",
    "X_test_dtm = vect.transform(X_test)\n",
    "\n",
    "nb = MultinomialNB()\n",
    "nb.fit(X_train_dtm, y_train)\n",
    "y_pred_class = nb.predict(X_test_dtm)\n",
    "\n",
    "fail_token_ratio = nb.feature_count_[0] / nb.class_count_[0]\n",
    "success_token_ratio = nb.feature_count_[1] / nb.class_count_[1]\n",
    "\n",
    "success_tokens = {'token': vect.get_feature_names(), 'ratio': (success_token_ratio+1)/(fail_token_ratio+1)}\n",
    "success_tokens = pd.DataFrame(data=success_tokens)\n",
    "success_tokens.sort_values(\"ratio\", ascending=False).head(15)"
   ]
  },
  {
   "cell_type": "code",
   "execution_count": 365,
   "metadata": {},
   "outputs": [
    {
     "data": {
      "text/html": [
       "<div>\n",
       "<style scoped>\n",
       "    .dataframe tbody tr th:only-of-type {\n",
       "        vertical-align: middle;\n",
       "    }\n",
       "\n",
       "    .dataframe tbody tr th {\n",
       "        vertical-align: top;\n",
       "    }\n",
       "\n",
       "    .dataframe thead th {\n",
       "        text-align: right;\n",
       "    }\n",
       "</style>\n",
       "<table border=\"1\" class=\"dataframe\">\n",
       "  <thead>\n",
       "    <tr style=\"text-align: right;\">\n",
       "      <th></th>\n",
       "      <th>token</th>\n",
       "      <th>ratio</th>\n",
       "    </tr>\n",
       "  </thead>\n",
       "  <tbody>\n",
       "    <tr>\n",
       "      <th>1940</th>\n",
       "      <td>social</td>\n",
       "      <td>1.001890</td>\n",
       "    </tr>\n",
       "    <tr>\n",
       "      <th>2078</th>\n",
       "      <td>thu nov</td>\n",
       "      <td>1.001280</td>\n",
       "    </tr>\n",
       "    <tr>\n",
       "      <th>321</th>\n",
       "      <td>android</td>\n",
       "      <td>1.001279</td>\n",
       "    </tr>\n",
       "    <tr>\n",
       "      <th>188</th>\n",
       "      <td>3d</td>\n",
       "      <td>1.001207</td>\n",
       "    </tr>\n",
       "    <tr>\n",
       "      <th>84</th>\n",
       "      <td>2014</td>\n",
       "      <td>1.001195</td>\n",
       "    </tr>\n",
       "    <tr>\n",
       "      <th>1398</th>\n",
       "      <td>media</td>\n",
       "      <td>1.001156</td>\n",
       "    </tr>\n",
       "    <tr>\n",
       "      <th>991</th>\n",
       "      <td>firm</td>\n",
       "      <td>1.001086</td>\n",
       "    </tr>\n",
       "    <tr>\n",
       "      <th>140</th>\n",
       "      <td>24 est</td>\n",
       "      <td>1.001032</td>\n",
       "    </tr>\n",
       "    <tr>\n",
       "      <th>264</th>\n",
       "      <td>account</td>\n",
       "      <td>1.000992</td>\n",
       "    </tr>\n",
       "    <tr>\n",
       "      <th>609</th>\n",
       "      <td>company</td>\n",
       "      <td>1.000962</td>\n",
       "    </tr>\n",
       "    <tr>\n",
       "      <th>1663</th>\n",
       "      <td>press</td>\n",
       "      <td>1.000954</td>\n",
       "    </tr>\n",
       "    <tr>\n",
       "      <th>40</th>\n",
       "      <td>11 edt</td>\n",
       "      <td>1.000941</td>\n",
       "    </tr>\n",
       "    <tr>\n",
       "      <th>1941</th>\n",
       "      <td>social media</td>\n",
       "      <td>1.000894</td>\n",
       "    </tr>\n",
       "    <tr>\n",
       "      <th>326</th>\n",
       "      <td>app</td>\n",
       "      <td>1.000885</td>\n",
       "    </tr>\n",
       "    <tr>\n",
       "      <th>50</th>\n",
       "      <td>14 2017</td>\n",
       "      <td>1.000855</td>\n",
       "    </tr>\n",
       "  </tbody>\n",
       "</table>\n",
       "</div>"
      ],
      "text/plain": [
       "             token     ratio\n",
       "1940        social  1.001890\n",
       "2078       thu nov  1.001280\n",
       "321        android  1.001279\n",
       "188             3d  1.001207\n",
       "84            2014  1.001195\n",
       "1398         media  1.001156\n",
       "991           firm  1.001086\n",
       "140         24 est  1.001032\n",
       "264        account  1.000992\n",
       "609        company  1.000962\n",
       "1663         press  1.000954\n",
       "40          11 edt  1.000941\n",
       "1941  social media  1.000894\n",
       "326            app  1.000885\n",
       "50         14 2017  1.000855"
      ]
     },
     "execution_count": 365,
     "metadata": {},
     "output_type": "execute_result"
    }
   ],
   "source": [
    "fail_tokens = {'token': vect.get_feature_names(), 'ratio': (fail_token_ratio+1)/(success_token_ratio+1)}\n",
    "fail_tokens = pd.DataFrame(data=fail_tokens)\n",
    "fail_tokens.sort_values(\"ratio\", ascending=False).head(15)"
   ]
  },
  {
   "cell_type": "markdown",
   "metadata": {},
   "source": [
    "#### FAQ does not seems to explain prediction result, prediction is poor using faq (null accuarcy)"
   ]
  },
  {
   "cell_type": "markdown",
   "metadata": {},
   "source": [
    "## Sentiment analysis on comments"
   ]
  },
  {
   "cell_type": "code",
   "execution_count": 366,
   "metadata": {},
   "outputs": [],
   "source": [
    "#Use textblob\n",
    "from textblob import TextBlob"
   ]
  },
  {
   "cell_type": "code",
   "execution_count": 367,
   "metadata": {},
   "outputs": [],
   "source": [
    "def detect_sentiment(text):\n",
    "    \n",
    "    # use this line instead for Python 3\n",
    "    blob = TextBlob(text)\n",
    "    \n",
    "    # return the polarity\n",
    "    return blob.sentiment.polarity"
   ]
  },
  {
   "cell_type": "code",
   "execution_count": 368,
   "metadata": {},
   "outputs": [],
   "source": [
    "data_text['comment_sentiment'] = data_text.comments_clean.apply(detect_sentiment)"
   ]
  },
  {
   "cell_type": "code",
   "execution_count": 386,
   "metadata": {},
   "outputs": [
    {
     "data": {
      "text/html": [
       "<div>\n",
       "<style scoped>\n",
       "    .dataframe tbody tr th:only-of-type {\n",
       "        vertical-align: middle;\n",
       "    }\n",
       "\n",
       "    .dataframe tbody tr th {\n",
       "        vertical-align: top;\n",
       "    }\n",
       "\n",
       "    .dataframe thead th {\n",
       "        text-align: right;\n",
       "    }\n",
       "</style>\n",
       "<table border=\"1\" class=\"dataframe\">\n",
       "  <thead>\n",
       "    <tr style=\"text-align: right;\">\n",
       "      <th></th>\n",
       "      <th>comments_clean</th>\n",
       "      <th>comment_sentiment</th>\n",
       "    </tr>\n",
       "  </thead>\n",
       "  <tbody>\n",
       "    <tr>\n",
       "      <th>4</th>\n",
       "      <td>Paula Limbaugh. over 6 years ago. So sorry yo...</td>\n",
       "      <td>0.140625</td>\n",
       "    </tr>\n",
       "    <tr>\n",
       "      <th>6</th>\n",
       "      <td>finnibun. about 1 month ago. It's been an inc...</td>\n",
       "      <td>0.324792</td>\n",
       "    </tr>\n",
       "    <tr>\n",
       "      <th>7</th>\n",
       "      <td>PageLessCreator. 7 months ago. PageLess just ...</td>\n",
       "      <td>0.249074</td>\n",
       "    </tr>\n",
       "    <tr>\n",
       "      <th>8</th>\n",
       "      <td>Alexander DruninSuperbacker. 11 months ago. C...</td>\n",
       "      <td>0.204167</td>\n",
       "    </tr>\n",
       "    <tr>\n",
       "      <th>10</th>\n",
       "      <td>Sole. about 6 years ago. Happy Birthday Jon! ...</td>\n",
       "      <td>0.420000</td>\n",
       "    </tr>\n",
       "    <tr>\n",
       "      <th>11</th>\n",
       "      <td>BloodletSuperbacker. over 1 year ago. Have we...</td>\n",
       "      <td>0.116061</td>\n",
       "    </tr>\n",
       "    <tr>\n",
       "      <th>18</th>\n",
       "      <td>Sherry Collins-Evans. about 8 years ago. WOW!...</td>\n",
       "      <td>0.526645</td>\n",
       "    </tr>\n",
       "    <tr>\n",
       "      <th>19</th>\n",
       "      <td>Michael EmeryCreator. over 7 years ago. Thank...</td>\n",
       "      <td>0.346429</td>\n",
       "    </tr>\n",
       "    <tr>\n",
       "      <th>21</th>\n",
       "      <td>liam jolley. about 1 year ago. Never mind I a...</td>\n",
       "      <td>0.096570</td>\n",
       "    </tr>\n",
       "    <tr>\n",
       "      <th>23</th>\n",
       "      <td>Terry Smith. over 7 years ago. Received my pa...</td>\n",
       "      <td>0.317519</td>\n",
       "    </tr>\n",
       "  </tbody>\n",
       "</table>\n",
       "</div>"
      ],
      "text/plain": [
       "                                       comments_clean  comment_sentiment\n",
       "4    Paula Limbaugh. over 6 years ago. So sorry yo...           0.140625\n",
       "6    finnibun. about 1 month ago. It's been an inc...           0.324792\n",
       "7    PageLessCreator. 7 months ago. PageLess just ...           0.249074\n",
       "8    Alexander DruninSuperbacker. 11 months ago. C...           0.204167\n",
       "10   Sole. about 6 years ago. Happy Birthday Jon! ...           0.420000\n",
       "11   BloodletSuperbacker. over 1 year ago. Have we...           0.116061\n",
       "18   Sherry Collins-Evans. about 8 years ago. WOW!...           0.526645\n",
       "19   Michael EmeryCreator. over 7 years ago. Thank...           0.346429\n",
       "21   liam jolley. about 1 year ago. Never mind I a...           0.096570\n",
       "23   Terry Smith. over 7 years ago. Received my pa...           0.317519"
      ]
     },
     "execution_count": 386,
     "metadata": {},
     "output_type": "execute_result"
    }
   ],
   "source": [
    "data_text[data_text[\"comments_clean\"] != \" No comments yet.\"].loc[:,[\"comments_clean\",\"comment_sentiment\"]].head(10)"
   ]
  },
  {
   "cell_type": "code",
   "execution_count": 389,
   "metadata": {},
   "outputs": [
    {
     "data": {
      "text/html": [
       "<div>\n",
       "<style scoped>\n",
       "    .dataframe tbody tr th:only-of-type {\n",
       "        vertical-align: middle;\n",
       "    }\n",
       "\n",
       "    .dataframe tbody tr th {\n",
       "        vertical-align: top;\n",
       "    }\n",
       "\n",
       "    .dataframe thead th {\n",
       "        text-align: right;\n",
       "    }\n",
       "</style>\n",
       "<table border=\"1\" class=\"dataframe\">\n",
       "  <thead>\n",
       "    <tr style=\"text-align: right;\">\n",
       "      <th></th>\n",
       "      <th>story</th>\n",
       "      <th>state</th>\n",
       "      <th>title_blurb</th>\n",
       "      <th>comments_clean</th>\n",
       "      <th>faq_clean</th>\n",
       "      <th>comment_sentiment</th>\n",
       "    </tr>\n",
       "  </thead>\n",
       "  <tbody>\n",
       "    <tr>\n",
       "      <th>0</th>\n",
       "      <td>Producto Final\\nHi! The funds we will used to ...</td>\n",
       "      <td>0</td>\n",
       "      <td>Save water 100% liquid downloads in toilets at...</td>\n",
       "      <td>No comments yet.</td>\n",
       "      <td>No faq</td>\n",
       "      <td>0.000000</td>\n",
       "    </tr>\n",
       "    <tr>\n",
       "      <th>1</th>\n",
       "      <td>At Ormiston Primary School we are looking at c...</td>\n",
       "      <td>0</td>\n",
       "      <td>Ormiston Primary Community Garden.We at Ormist...</td>\n",
       "      <td>No comments yet.</td>\n",
       "      <td>No faq</td>\n",
       "      <td>0.000000</td>\n",
       "    </tr>\n",
       "    <tr>\n",
       "      <th>2</th>\n",
       "      <td>Hello world :-] My name is Bryan. I have been ...</td>\n",
       "      <td>0</td>\n",
       "      <td>Aspiring metalsmith in need of better tools, a...</td>\n",
       "      <td>No comments yet.</td>\n",
       "      <td>No faq</td>\n",
       "      <td>0.000000</td>\n",
       "    </tr>\n",
       "    <tr>\n",
       "      <th>3</th>\n",
       "      <td>I'm tired of woman being overlooked and consid...</td>\n",
       "      <td>0</td>\n",
       "      <td>Beauty At Any Age.So many women believe they a...</td>\n",
       "      <td>No comments yet.</td>\n",
       "      <td>No faq</td>\n",
       "      <td>0.000000</td>\n",
       "    </tr>\n",
       "    <tr>\n",
       "      <th>4</th>\n",
       "      <td>Table of Contents\\n• TAPEWORM by Martin Rose\\n...</td>\n",
       "      <td>0</td>\n",
       "      <td>Shrieks and Shivers from the Horror Zine.The H...</td>\n",
       "      <td>Paula Limbaugh. over 6 years ago. So sorry yo...</td>\n",
       "      <td>No faq</td>\n",
       "      <td>0.140625</td>\n",
       "    </tr>\n",
       "  </tbody>\n",
       "</table>\n",
       "</div>"
      ],
      "text/plain": [
       "                                               story  state  \\\n",
       "0  Producto Final\\nHi! The funds we will used to ...      0   \n",
       "1  At Ormiston Primary School we are looking at c...      0   \n",
       "2  Hello world :-] My name is Bryan. I have been ...      0   \n",
       "3  I'm tired of woman being overlooked and consid...      0   \n",
       "4  Table of Contents\\n• TAPEWORM by Martin Rose\\n...      0   \n",
       "\n",
       "                                         title_blurb  \\\n",
       "0  Save water 100% liquid downloads in toilets at...   \n",
       "1  Ormiston Primary Community Garden.We at Ormist...   \n",
       "2  Aspiring metalsmith in need of better tools, a...   \n",
       "3  Beauty At Any Age.So many women believe they a...   \n",
       "4  Shrieks and Shivers from the Horror Zine.The H...   \n",
       "\n",
       "                                      comments_clean faq_clean  \\\n",
       "0                                   No comments yet.    No faq   \n",
       "1                                   No comments yet.    No faq   \n",
       "2                                   No comments yet.    No faq   \n",
       "3                                   No comments yet.    No faq   \n",
       "4   Paula Limbaugh. over 6 years ago. So sorry yo...    No faq   \n",
       "\n",
       "   comment_sentiment  \n",
       "0           0.000000  \n",
       "1           0.000000  \n",
       "2           0.000000  \n",
       "3           0.000000  \n",
       "4           0.140625  "
      ]
     },
     "execution_count": 389,
     "metadata": {},
     "output_type": "execute_result"
    }
   ],
   "source": [
    "data_text.head()"
   ]
  },
  {
   "cell_type": "code",
   "execution_count": 396,
   "metadata": {},
   "outputs": [
    {
     "data": {
      "text/plain": [
       "<AxesSubplot:xlabel='state', ylabel='comment_sentiment'>"
      ]
     },
     "execution_count": 396,
     "metadata": {},
     "output_type": "execute_result"
    },
    {
     "data": {
      "image/png": "[encoded data removed]",
      "text/plain": [
       "<Figure size 432x288 with 1 Axes>"
      ]
     },
     "metadata": {
      "needs_background": "light"
     },
     "output_type": "display_data"
    }
   ],
   "source": [
    "import seaborn as sns\n",
    "\n",
    "sns.boxplot(x=\"state\", y=\"comment_sentiment\", data=data_text)\n",
    "sns.swarmplot(x=\"state\", y=\"comment_sentiment\", data=data_text, color=\".25\", alpha=0.5)"
   ]
  },
  {
   "cell_type": "markdown",
   "metadata": {},
   "source": [
    "#### success state has a higher positive sentiment from comments, around 0.2. \n",
    "#### Median Sentiment for failed state is 0 cos most of them does not have comment."
   ]
  },
  {
   "cell_type": "code",
   "execution_count": 407,
   "metadata": {},
   "outputs": [
    {
     "data": {
      "text/plain": [
       "404                                                                                   Chris. over 5 years ago. So how's it coming?. Chris. over 5 years ago. \"One is the loneliest number that you'll ever do. Two can be as bad as one. It's the loneliest number since the number one\"\n",
       "768     Corey DonnellCreator. over 5 years ago. Hello everyone. I'm am very sorry for the delay in getting all the drawings out. I want you all to know that I have not forgotten everyone and do not plan on not completing my work.. Ryan Spilken. about 6 years ago. Yeah boyeeeeeeee\n",
       "Name: comments_clean, dtype: object"
      ]
     },
     "execution_count": 407,
     "metadata": {},
     "output_type": "execute_result"
    }
   ],
   "source": [
    "# look at why sentiment is extremely low for the success state\n",
    "pd.set_option('display.max_colwidth', 500)\n",
    "data_text[data_text[\"comment_sentiment\"] < -0.5][\"comments_clean\"]"
   ]
  },
  {
   "cell_type": "code",
   "execution_count": 421,
   "metadata": {},
   "outputs": [],
   "source": [
    "pd.reset_option('display.max_colwidth')"
   ]
  },
  {
   "cell_type": "code",
   "execution_count": 422,
   "metadata": {},
   "outputs": [],
   "source": [
    "#Use affinn score (to detect emoji)\n",
    "from afinn import Afinn\n",
    "afinn = Afinn(emoticons=True)"
   ]
  },
  {
   "cell_type": "code",
   "execution_count": 423,
   "metadata": {},
   "outputs": [],
   "source": [
    "afinn_scores = [afinn.score(text) for text in data_text.comments_clean]\n",
    "data_text['comment_afinn'] = afinn_scores"
   ]
  },
  {
   "cell_type": "code",
   "execution_count": 424,
   "metadata": {},
   "outputs": [
    {
     "data": {
      "text/html": [
       "<div>\n",
       "<style scoped>\n",
       "    .dataframe tbody tr th:only-of-type {\n",
       "        vertical-align: middle;\n",
       "    }\n",
       "\n",
       "    .dataframe tbody tr th {\n",
       "        vertical-align: top;\n",
       "    }\n",
       "\n",
       "    .dataframe thead th {\n",
       "        text-align: right;\n",
       "    }\n",
       "</style>\n",
       "<table border=\"1\" class=\"dataframe\">\n",
       "  <thead>\n",
       "    <tr style=\"text-align: right;\">\n",
       "      <th></th>\n",
       "      <th>story</th>\n",
       "      <th>state</th>\n",
       "      <th>title_blurb</th>\n",
       "      <th>comments_clean</th>\n",
       "      <th>faq_clean</th>\n",
       "      <th>comment_sentiment</th>\n",
       "      <th>comment_afinn</th>\n",
       "    </tr>\n",
       "  </thead>\n",
       "  <tbody>\n",
       "    <tr>\n",
       "      <th>0</th>\n",
       "      <td>Producto Final\\nHi! The funds we will used to ...</td>\n",
       "      <td>0</td>\n",
       "      <td>Save water 100% liquid downloads in toilets at...</td>\n",
       "      <td>No comments yet.</td>\n",
       "      <td>No faq</td>\n",
       "      <td>0.000000</td>\n",
       "      <td>-1.0</td>\n",
       "    </tr>\n",
       "    <tr>\n",
       "      <th>1</th>\n",
       "      <td>At Ormiston Primary School we are looking at c...</td>\n",
       "      <td>0</td>\n",
       "      <td>Ormiston Primary Community Garden.We at Ormist...</td>\n",
       "      <td>No comments yet.</td>\n",
       "      <td>No faq</td>\n",
       "      <td>0.000000</td>\n",
       "      <td>-1.0</td>\n",
       "    </tr>\n",
       "    <tr>\n",
       "      <th>2</th>\n",
       "      <td>Hello world :-] My name is Bryan. I have been ...</td>\n",
       "      <td>0</td>\n",
       "      <td>Aspiring metalsmith in need of better tools, a...</td>\n",
       "      <td>No comments yet.</td>\n",
       "      <td>No faq</td>\n",
       "      <td>0.000000</td>\n",
       "      <td>-1.0</td>\n",
       "    </tr>\n",
       "    <tr>\n",
       "      <th>3</th>\n",
       "      <td>I'm tired of woman being overlooked and consid...</td>\n",
       "      <td>0</td>\n",
       "      <td>Beauty At Any Age.So many women believe they a...</td>\n",
       "      <td>No comments yet.</td>\n",
       "      <td>No faq</td>\n",
       "      <td>0.000000</td>\n",
       "      <td>-1.0</td>\n",
       "    </tr>\n",
       "    <tr>\n",
       "      <th>4</th>\n",
       "      <td>Table of Contents\\n• TAPEWORM by Martin Rose\\n...</td>\n",
       "      <td>0</td>\n",
       "      <td>Shrieks and Shivers from the Horror Zine.The H...</td>\n",
       "      <td>Paula Limbaugh. over 6 years ago. So sorry yo...</td>\n",
       "      <td>No faq</td>\n",
       "      <td>0.140625</td>\n",
       "      <td>2.0</td>\n",
       "    </tr>\n",
       "  </tbody>\n",
       "</table>\n",
       "</div>"
      ],
      "text/plain": [
       "                                               story  state  \\\n",
       "0  Producto Final\\nHi! The funds we will used to ...      0   \n",
       "1  At Ormiston Primary School we are looking at c...      0   \n",
       "2  Hello world :-] My name is Bryan. I have been ...      0   \n",
       "3  I'm tired of woman being overlooked and consid...      0   \n",
       "4  Table of Contents\\n• TAPEWORM by Martin Rose\\n...      0   \n",
       "\n",
       "                                         title_blurb  \\\n",
       "0  Save water 100% liquid downloads in toilets at...   \n",
       "1  Ormiston Primary Community Garden.We at Ormist...   \n",
       "2  Aspiring metalsmith in need of better tools, a...   \n",
       "3  Beauty At Any Age.So many women believe they a...   \n",
       "4  Shrieks and Shivers from the Horror Zine.The H...   \n",
       "\n",
       "                                      comments_clean faq_clean  \\\n",
       "0                                   No comments yet.    No faq   \n",
       "1                                   No comments yet.    No faq   \n",
       "2                                   No comments yet.    No faq   \n",
       "3                                   No comments yet.    No faq   \n",
       "4   Paula Limbaugh. over 6 years ago. So sorry yo...    No faq   \n",
       "\n",
       "   comment_sentiment  comment_afinn  \n",
       "0           0.000000           -1.0  \n",
       "1           0.000000           -1.0  \n",
       "2           0.000000           -1.0  \n",
       "3           0.000000           -1.0  \n",
       "4           0.140625            2.0  "
      ]
     },
     "execution_count": 424,
     "metadata": {},
     "output_type": "execute_result"
    }
   ],
   "source": [
    "data_text.head()"
   ]
  },
  {
   "cell_type": "code",
   "execution_count": 425,
   "metadata": {},
   "outputs": [
    {
     "data": {
      "text/html": [
       "<div>\n",
       "<style scoped>\n",
       "    .dataframe tbody tr th:only-of-type {\n",
       "        vertical-align: middle;\n",
       "    }\n",
       "\n",
       "    .dataframe tbody tr th {\n",
       "        vertical-align: top;\n",
       "    }\n",
       "\n",
       "    .dataframe thead th {\n",
       "        text-align: right;\n",
       "    }\n",
       "</style>\n",
       "<table border=\"1\" class=\"dataframe\">\n",
       "  <thead>\n",
       "    <tr style=\"text-align: right;\">\n",
       "      <th></th>\n",
       "      <th>comments_clean</th>\n",
       "      <th>comment_afinn</th>\n",
       "    </tr>\n",
       "  </thead>\n",
       "  <tbody>\n",
       "    <tr>\n",
       "      <th>4</th>\n",
       "      <td>Paula Limbaugh. over 6 years ago. So sorry yo...</td>\n",
       "      <td>2.0</td>\n",
       "    </tr>\n",
       "    <tr>\n",
       "      <th>6</th>\n",
       "      <td>finnibun. about 1 month ago. It's been an inc...</td>\n",
       "      <td>223.0</td>\n",
       "    </tr>\n",
       "    <tr>\n",
       "      <th>7</th>\n",
       "      <td>PageLessCreator. 7 months ago. PageLess just ...</td>\n",
       "      <td>4.0</td>\n",
       "    </tr>\n",
       "    <tr>\n",
       "      <th>8</th>\n",
       "      <td>Alexander DruninSuperbacker. 11 months ago. C...</td>\n",
       "      <td>8.0</td>\n",
       "    </tr>\n",
       "    <tr>\n",
       "      <th>10</th>\n",
       "      <td>Sole. about 6 years ago. Happy Birthday Jon! ...</td>\n",
       "      <td>11.0</td>\n",
       "    </tr>\n",
       "    <tr>\n",
       "      <th>11</th>\n",
       "      <td>BloodletSuperbacker. over 1 year ago. Have we...</td>\n",
       "      <td>28.0</td>\n",
       "    </tr>\n",
       "    <tr>\n",
       "      <th>18</th>\n",
       "      <td>Sherry Collins-Evans. about 8 years ago. WOW!...</td>\n",
       "      <td>50.0</td>\n",
       "    </tr>\n",
       "    <tr>\n",
       "      <th>19</th>\n",
       "      <td>Michael EmeryCreator. over 7 years ago. Thank...</td>\n",
       "      <td>24.0</td>\n",
       "    </tr>\n",
       "    <tr>\n",
       "      <th>21</th>\n",
       "      <td>liam jolley. about 1 year ago. Never mind I a...</td>\n",
       "      <td>-5.0</td>\n",
       "    </tr>\n",
       "    <tr>\n",
       "      <th>23</th>\n",
       "      <td>Terry Smith. over 7 years ago. Received my pa...</td>\n",
       "      <td>9.0</td>\n",
       "    </tr>\n",
       "  </tbody>\n",
       "</table>\n",
       "</div>"
      ],
      "text/plain": [
       "                                       comments_clean  comment_afinn\n",
       "4    Paula Limbaugh. over 6 years ago. So sorry yo...            2.0\n",
       "6    finnibun. about 1 month ago. It's been an inc...          223.0\n",
       "7    PageLessCreator. 7 months ago. PageLess just ...            4.0\n",
       "8    Alexander DruninSuperbacker. 11 months ago. C...            8.0\n",
       "10   Sole. about 6 years ago. Happy Birthday Jon! ...           11.0\n",
       "11   BloodletSuperbacker. over 1 year ago. Have we...           28.0\n",
       "18   Sherry Collins-Evans. about 8 years ago. WOW!...           50.0\n",
       "19   Michael EmeryCreator. over 7 years ago. Thank...           24.0\n",
       "21   liam jolley. about 1 year ago. Never mind I a...           -5.0\n",
       "23   Terry Smith. over 7 years ago. Received my pa...            9.0"
      ]
     },
     "execution_count": 425,
     "metadata": {},
     "output_type": "execute_result"
    }
   ],
   "source": [
    "data_text[data_text[\"comments_clean\"] != \" No comments yet.\"].loc[:,[\"comments_clean\",\"comment_afinn\"]].head(10)"
   ]
  },
  {
   "cell_type": "code",
   "execution_count": 430,
   "metadata": {},
   "outputs": [
    {
     "data": {
      "text/plain": [
       "<AxesSubplot:xlabel='state', ylabel='comment_afinn'>"
      ]
     },
     "execution_count": 430,
     "metadata": {},
     "output_type": "execute_result"
    },
    {
     "data": {
      "image/png": "[encoded data removed]",
      "text/plain": [
       "<Figure size 432x288 with 1 Axes>"
      ]
     },
     "metadata": {
      "needs_background": "light"
     },
     "output_type": "display_data"
    }
   ],
   "source": [
    "sns.boxplot(x=\"state\", y=\"comment_afinn\", data=data_text).set(ylim=(-50, 100))\n",
    "sns.swarmplot(x=\"state\", y=\"comment_afinn\", data=data_text, color=\".25\", alpha=0.5)"
   ]
  },
  {
   "cell_type": "markdown",
   "metadata": {},
   "source": [
    "### Create 2 new features on sentiment but ultimately choose one since most likely high correlation "
   ]
  },
  {
   "cell_type": "code",
   "execution_count": 434,
   "metadata": {},
   "outputs": [],
   "source": [
    "data_new = data"
   ]
  },
  {
   "cell_type": "code",
   "execution_count": 435,
   "metadata": {},
   "outputs": [],
   "source": [
    "data_new[\"title_blurb\"] = data_text[\"title_blurb\"]\n",
    "data_new[\"comments_clean\"] = data_text[\"comments_clean\"]\n",
    "data_new[\"faq_clean\"] = data_text[\"faq_clean\"]\n",
    "data_new[\"comment_sentiment\"] = data_text[\"comment_sentiment\"]\n",
    "data_new[\"comment_afinn\"] = data_text[\"comment_afinn\"]"
   ]
  },
  {
   "cell_type": "code",
   "execution_count": 441,
   "metadata": {},
   "outputs": [
    {
     "data": {
      "text/plain": [
       "Index(['backers_count', 'blurb', 'category', 'converted_pledged_amount',\n",
       "       'country', 'created_at', 'current_currency', 'deadline', 'fx_rate',\n",
       "       'goal', 'id', 'launched_at', 'location', 'name', 'pledged', 'profile',\n",
       "       'slug', 'source_url', 'spotlight', 'staff_pick', 'state',\n",
       "       'state_changed_at', 'static_usd_rate', 'urls', 'usd_pledged',\n",
       "       'usd_type', 'story', 'faq', 'num_faq', 'comments', 'n_comments',\n",
       "       'duration', 'title_blurb', 'comments_clean', 'faq_clean',\n",
       "       'comment_sentiment', 'comment_afinn'],\n",
       "      dtype='object')"
      ]
     },
     "execution_count": 441,
     "metadata": {},
     "output_type": "execute_result"
    }
   ],
   "source": [
    "data_new.columns"
   ]
  },
  {
   "cell_type": "code",
   "execution_count": 443,
   "metadata": {},
   "outputs": [],
   "source": [
    "data_new = data_new.drop([\"blurb\",\"name\",\"faq\",\"comments\"], axis=1)"
   ]
  },
  {
   "cell_type": "code",
   "execution_count": 444,
   "metadata": {},
   "outputs": [],
   "source": [
    "#Convert state to 0,1\n",
    "data_new['state'] = data_new['state'].map(lambda x: 0 if x == 'failed' else 1)"
   ]
  },
  {
   "cell_type": "code",
   "execution_count": 448,
   "metadata": {},
   "outputs": [
    {
     "data": {
      "text/html": [
       "<div>\n",
       "<style scoped>\n",
       "    .dataframe tbody tr th:only-of-type {\n",
       "        vertical-align: middle;\n",
       "    }\n",
       "\n",
       "    .dataframe tbody tr th {\n",
       "        vertical-align: top;\n",
       "    }\n",
       "\n",
       "    .dataframe thead th {\n",
       "        text-align: right;\n",
       "    }\n",
       "</style>\n",
       "<table border=\"1\" class=\"dataframe\">\n",
       "  <thead>\n",
       "    <tr style=\"text-align: right;\">\n",
       "      <th></th>\n",
       "      <th>backers_count</th>\n",
       "      <th>category</th>\n",
       "      <th>converted_pledged_amount</th>\n",
       "      <th>country</th>\n",
       "      <th>created_at</th>\n",
       "      <th>current_currency</th>\n",
       "      <th>deadline</th>\n",
       "      <th>fx_rate</th>\n",
       "      <th>goal</th>\n",
       "      <th>id</th>\n",
       "      <th>launched_at</th>\n",
       "      <th>location</th>\n",
       "      <th>pledged</th>\n",
       "      <th>profile</th>\n",
       "      <th>slug</th>\n",
       "      <th>source_url</th>\n",
       "      <th>spotlight</th>\n",
       "      <th>staff_pick</th>\n",
       "      <th>state</th>\n",
       "      <th>state_changed_at</th>\n",
       "      <th>static_usd_rate</th>\n",
       "      <th>urls</th>\n",
       "      <th>usd_pledged</th>\n",
       "      <th>usd_type</th>\n",
       "      <th>story</th>\n",
       "      <th>num_faq</th>\n",
       "      <th>n_comments</th>\n",
       "      <th>duration</th>\n",
       "      <th>title_blurb</th>\n",
       "      <th>comments_clean</th>\n",
       "      <th>faq_clean</th>\n",
       "      <th>comment_sentiment</th>\n",
       "      <th>comment_afinn</th>\n",
       "    </tr>\n",
       "  </thead>\n",
       "  <tbody>\n",
       "    <tr>\n",
       "      <th>0</th>\n",
       "      <td>1</td>\n",
       "      <td>{\"id\":331,\"name\":\"3D Printing\",\"slug\":\"technol...</td>\n",
       "      <td>1</td>\n",
       "      <td>ES</td>\n",
       "      <td>2015-08-18 21:01</td>\n",
       "      <td>USD</td>\n",
       "      <td>2016-07-09 20:11</td>\n",
       "      <td>1.212886</td>\n",
       "      <td>15000</td>\n",
       "      <td>1662798399</td>\n",
       "      <td>2016-06-09 20:11</td>\n",
       "      <td>{\"id\":55897673,\"name\":\"Mexico\",\"slug\":\"mexico-...</td>\n",
       "      <td>1.0</td>\n",
       "      <td>{\"id\":2075449,\"project_id\":2075449,\"state\":\"in...</td>\n",
       "      <td>save-water-100-liquid-downloads-in-toilets</td>\n",
       "      <td>https://www.kickstarter.com/discover/categorie...</td>\n",
       "      <td>False</td>\n",
       "      <td>False</td>\n",
       "      <td>0</td>\n",
       "      <td>2016-07-09 20:11</td>\n",
       "      <td>1.136930</td>\n",
       "      <td>{\"web\":{\"project\":\"https://www.kickstarter.com...</td>\n",
       "      <td>1.136930</td>\n",
       "      <td>domestic</td>\n",
       "      <td>Producto Final\\nHi! The funds we will used to ...</td>\n",
       "      <td>0</td>\n",
       "      <td>0</td>\n",
       "      <td>30 days 00:00:00.000000000</td>\n",
       "      <td>Save water 100% liquid downloads in toilets at...</td>\n",
       "      <td>No comments yet.</td>\n",
       "      <td>No faq</td>\n",
       "      <td>0.000000</td>\n",
       "      <td>-1.0</td>\n",
       "    </tr>\n",
       "    <tr>\n",
       "      <th>1</th>\n",
       "      <td>2</td>\n",
       "      <td>{\"id\":309,\"name\":\"Farms\",\"slug\":\"food/farms\",\"...</td>\n",
       "      <td>9</td>\n",
       "      <td>NZ</td>\n",
       "      <td>2015-08-11 18:04</td>\n",
       "      <td>USD</td>\n",
       "      <td>2015-09-11 15:55</td>\n",
       "      <td>0.723585</td>\n",
       "      <td>5000</td>\n",
       "      <td>1316288919</td>\n",
       "      <td>2015-08-12 15:55</td>\n",
       "      <td>{\"id\":22726370,\"name\":\"Flat Bush\",\"slug\":\"flat...</td>\n",
       "      <td>15.0</td>\n",
       "      <td>{\"id\":2063089,\"project_id\":2063089,\"state\":\"in...</td>\n",
       "      <td>ormiston-primary-community-garden</td>\n",
       "      <td>https://www.kickstarter.com/discover/categorie...</td>\n",
       "      <td>False</td>\n",
       "      <td>False</td>\n",
       "      <td>0</td>\n",
       "      <td>2015-09-11 15:55</td>\n",
       "      <td>0.655304</td>\n",
       "      <td>{\"web\":{\"project\":\"https://www.kickstarter.com...</td>\n",
       "      <td>9.829555</td>\n",
       "      <td>domestic</td>\n",
       "      <td>At Ormiston Primary School we are looking at c...</td>\n",
       "      <td>0</td>\n",
       "      <td>0</td>\n",
       "      <td>30 days 00:00:00.000000000</td>\n",
       "      <td>Ormiston Primary Community Garden.We at Ormist...</td>\n",
       "      <td>No comments yet.</td>\n",
       "      <td>No faq</td>\n",
       "      <td>0.000000</td>\n",
       "      <td>-1.0</td>\n",
       "    </tr>\n",
       "    <tr>\n",
       "      <th>2</th>\n",
       "      <td>0</td>\n",
       "      <td>{\"id\":54,\"name\":\"Mixed Media\",\"slug\":\"art/mixe...</td>\n",
       "      <td>0</td>\n",
       "      <td>US</td>\n",
       "      <td>2015-04-28 21:14</td>\n",
       "      <td>USD</td>\n",
       "      <td>2015-05-28 21:14</td>\n",
       "      <td>1.000000</td>\n",
       "      <td>10000</td>\n",
       "      <td>818890122</td>\n",
       "      <td>2015-04-29 20:57</td>\n",
       "      <td>{\"id\":2428184,\"name\":\"Jackson\",\"slug\":\"jackson...</td>\n",
       "      <td>0.0</td>\n",
       "      <td>{\"id\":1869272,\"project_id\":1869272,\"state\":\"in...</td>\n",
       "      <td>aspiring-metalsmith-in-need-of-better-tools-an...</td>\n",
       "      <td>https://www.kickstarter.com/discover/categorie...</td>\n",
       "      <td>False</td>\n",
       "      <td>False</td>\n",
       "      <td>0</td>\n",
       "      <td>2015-05-28 21:14</td>\n",
       "      <td>1.000000</td>\n",
       "      <td>{\"web\":{\"project\":\"https://www.kickstarter.com...</td>\n",
       "      <td>0.000000</td>\n",
       "      <td>domestic</td>\n",
       "      <td>Hello world :-] My name is Bryan. I have been ...</td>\n",
       "      <td>0</td>\n",
       "      <td>0</td>\n",
       "      <td>29 days 00:16:51.000000000</td>\n",
       "      <td>Aspiring metalsmith in need of better tools, a...</td>\n",
       "      <td>No comments yet.</td>\n",
       "      <td>No faq</td>\n",
       "      <td>0.000000</td>\n",
       "      <td>-1.0</td>\n",
       "    </tr>\n",
       "    <tr>\n",
       "      <th>3</th>\n",
       "      <td>0</td>\n",
       "      <td>{\"id\":278,\"name\":\"People\",\"slug\":\"photography/...</td>\n",
       "      <td>0</td>\n",
       "      <td>US</td>\n",
       "      <td>2014-07-07 1:30</td>\n",
       "      <td>USD</td>\n",
       "      <td>2014-10-26 0:00</td>\n",
       "      <td>1.000000</td>\n",
       "      <td>2000</td>\n",
       "      <td>1934517401</td>\n",
       "      <td>2014-09-26 0:00</td>\n",
       "      <td>{\"id\":2357536,\"name\":\"Austin\",\"slug\":\"austin-t...</td>\n",
       "      <td>0.0</td>\n",
       "      <td>{\"id\":1103425,\"project_id\":1103425,\"state\":\"in...</td>\n",
       "      <td>beauty-at-any-age</td>\n",
       "      <td>https://www.kickstarter.com/discover/categorie...</td>\n",
       "      <td>False</td>\n",
       "      <td>False</td>\n",
       "      <td>0</td>\n",
       "      <td>2014-10-26 0:00</td>\n",
       "      <td>1.000000</td>\n",
       "      <td>{\"web\":{\"project\":\"https://www.kickstarter.com...</td>\n",
       "      <td>0.000000</td>\n",
       "      <td>domestic</td>\n",
       "      <td>I'm tired of woman being overlooked and consid...</td>\n",
       "      <td>0</td>\n",
       "      <td>0</td>\n",
       "      <td>30 days 00:00:00.000000000</td>\n",
       "      <td>Beauty At Any Age.So many women believe they a...</td>\n",
       "      <td>No comments yet.</td>\n",
       "      <td>No faq</td>\n",
       "      <td>0.000000</td>\n",
       "      <td>-1.0</td>\n",
       "    </tr>\n",
       "    <tr>\n",
       "      <th>4</th>\n",
       "      <td>10</td>\n",
       "      <td>{\"id\":324,\"name\":\"Anthologies\",\"slug\":\"publish...</td>\n",
       "      <td>340</td>\n",
       "      <td>US</td>\n",
       "      <td>2014-11-04 16:30</td>\n",
       "      <td>USD</td>\n",
       "      <td>2014-12-09 9:20</td>\n",
       "      <td>1.000000</td>\n",
       "      <td>2500</td>\n",
       "      <td>1449353867</td>\n",
       "      <td>2014-11-09 9:20</td>\n",
       "      <td>{\"id\":2380358,\"name\":\"Cincinnati\",\"slug\":\"cinc...</td>\n",
       "      <td>340.0</td>\n",
       "      <td>{\"id\":1491788,\"project_id\":1491788,\"state\":\"in...</td>\n",
       "      <td>shrieks-and-shivers-from-the-horror-zine</td>\n",
       "      <td>https://www.kickstarter.com/discover/categorie...</td>\n",
       "      <td>False</td>\n",
       "      <td>False</td>\n",
       "      <td>0</td>\n",
       "      <td>2014-12-09 9:20</td>\n",
       "      <td>1.000000</td>\n",
       "      <td>{\"web\":{\"project\":\"https://www.kickstarter.com...</td>\n",
       "      <td>340.000000</td>\n",
       "      <td>international</td>\n",
       "      <td>Table of Contents\\n• TAPEWORM by Martin Rose\\n...</td>\n",
       "      <td>0</td>\n",
       "      <td>1</td>\n",
       "      <td>30 days 00:00:00.000000000</td>\n",
       "      <td>Shrieks and Shivers from the Horror Zine.The H...</td>\n",
       "      <td>Paula Limbaugh. over 6 years ago. So sorry yo...</td>\n",
       "      <td>No faq</td>\n",
       "      <td>0.140625</td>\n",
       "      <td>2.0</td>\n",
       "    </tr>\n",
       "  </tbody>\n",
       "</table>\n",
       "</div>"
      ],
      "text/plain": [
       "   backers_count                                           category  \\\n",
       "0              1  {\"id\":331,\"name\":\"3D Printing\",\"slug\":\"technol...   \n",
       "1              2  {\"id\":309,\"name\":\"Farms\",\"slug\":\"food/farms\",\"...   \n",
       "2              0  {\"id\":54,\"name\":\"Mixed Media\",\"slug\":\"art/mixe...   \n",
       "3              0  {\"id\":278,\"name\":\"People\",\"slug\":\"photography/...   \n",
       "4             10  {\"id\":324,\"name\":\"Anthologies\",\"slug\":\"publish...   \n",
       "\n",
       "   converted_pledged_amount country        created_at current_currency  \\\n",
       "0                         1      ES  2015-08-18 21:01              USD   \n",
       "1                         9      NZ  2015-08-11 18:04              USD   \n",
       "2                         0      US  2015-04-28 21:14              USD   \n",
       "3                         0      US   2014-07-07 1:30              USD   \n",
       "4                       340      US  2014-11-04 16:30              USD   \n",
       "\n",
       "           deadline   fx_rate   goal          id       launched_at  \\\n",
       "0  2016-07-09 20:11  1.212886  15000  1662798399  2016-06-09 20:11   \n",
       "1  2015-09-11 15:55  0.723585   5000  1316288919  2015-08-12 15:55   \n",
       "2  2015-05-28 21:14  1.000000  10000   818890122  2015-04-29 20:57   \n",
       "3   2014-10-26 0:00  1.000000   2000  1934517401   2014-09-26 0:00   \n",
       "4   2014-12-09 9:20  1.000000   2500  1449353867   2014-11-09 9:20   \n",
       "\n",
       "                                            location  pledged  \\\n",
       "0  {\"id\":55897673,\"name\":\"Mexico\",\"slug\":\"mexico-...      1.0   \n",
       "1  {\"id\":22726370,\"name\":\"Flat Bush\",\"slug\":\"flat...     15.0   \n",
       "2  {\"id\":2428184,\"name\":\"Jackson\",\"slug\":\"jackson...      0.0   \n",
       "3  {\"id\":2357536,\"name\":\"Austin\",\"slug\":\"austin-t...      0.0   \n",
       "4  {\"id\":2380358,\"name\":\"Cincinnati\",\"slug\":\"cinc...    340.0   \n",
       "\n",
       "                                             profile  \\\n",
       "0  {\"id\":2075449,\"project_id\":2075449,\"state\":\"in...   \n",
       "1  {\"id\":2063089,\"project_id\":2063089,\"state\":\"in...   \n",
       "2  {\"id\":1869272,\"project_id\":1869272,\"state\":\"in...   \n",
       "3  {\"id\":1103425,\"project_id\":1103425,\"state\":\"in...   \n",
       "4  {\"id\":1491788,\"project_id\":1491788,\"state\":\"in...   \n",
       "\n",
       "                                                slug  \\\n",
       "0         save-water-100-liquid-downloads-in-toilets   \n",
       "1                  ormiston-primary-community-garden   \n",
       "2  aspiring-metalsmith-in-need-of-better-tools-an...   \n",
       "3                                  beauty-at-any-age   \n",
       "4           shrieks-and-shivers-from-the-horror-zine   \n",
       "\n",
       "                                          source_url  spotlight  staff_pick  \\\n",
       "0  https://www.kickstarter.com/discover/categorie...      False       False   \n",
       "1  https://www.kickstarter.com/discover/categorie...      False       False   \n",
       "2  https://www.kickstarter.com/discover/categorie...      False       False   \n",
       "3  https://www.kickstarter.com/discover/categorie...      False       False   \n",
       "4  https://www.kickstarter.com/discover/categorie...      False       False   \n",
       "\n",
       "   state  state_changed_at  static_usd_rate  \\\n",
       "0      0  2016-07-09 20:11         1.136930   \n",
       "1      0  2015-09-11 15:55         0.655304   \n",
       "2      0  2015-05-28 21:14         1.000000   \n",
       "3      0   2014-10-26 0:00         1.000000   \n",
       "4      0   2014-12-09 9:20         1.000000   \n",
       "\n",
       "                                                urls  usd_pledged  \\\n",
       "0  {\"web\":{\"project\":\"https://www.kickstarter.com...     1.136930   \n",
       "1  {\"web\":{\"project\":\"https://www.kickstarter.com...     9.829555   \n",
       "2  {\"web\":{\"project\":\"https://www.kickstarter.com...     0.000000   \n",
       "3  {\"web\":{\"project\":\"https://www.kickstarter.com...     0.000000   \n",
       "4  {\"web\":{\"project\":\"https://www.kickstarter.com...   340.000000   \n",
       "\n",
       "        usd_type                                              story  num_faq  \\\n",
       "0       domestic  Producto Final\\nHi! The funds we will used to ...        0   \n",
       "1       domestic  At Ormiston Primary School we are looking at c...        0   \n",
       "2       domestic  Hello world :-] My name is Bryan. I have been ...        0   \n",
       "3       domestic  I'm tired of woman being overlooked and consid...        0   \n",
       "4  international  Table of Contents\\n• TAPEWORM by Martin Rose\\n...        0   \n",
       "\n",
       "  n_comments                    duration  \\\n",
       "0          0  30 days 00:00:00.000000000   \n",
       "1          0  30 days 00:00:00.000000000   \n",
       "2          0  29 days 00:16:51.000000000   \n",
       "3          0  30 days 00:00:00.000000000   \n",
       "4          1  30 days 00:00:00.000000000   \n",
       "\n",
       "                                         title_blurb  \\\n",
       "0  Save water 100% liquid downloads in toilets at...   \n",
       "1  Ormiston Primary Community Garden.We at Ormist...   \n",
       "2  Aspiring metalsmith in need of better tools, a...   \n",
       "3  Beauty At Any Age.So many women believe they a...   \n",
       "4  Shrieks and Shivers from the Horror Zine.The H...   \n",
       "\n",
       "                                      comments_clean faq_clean  \\\n",
       "0                                   No comments yet.    No faq   \n",
       "1                                   No comments yet.    No faq   \n",
       "2                                   No comments yet.    No faq   \n",
       "3                                   No comments yet.    No faq   \n",
       "4   Paula Limbaugh. over 6 years ago. So sorry yo...    No faq   \n",
       "\n",
       "   comment_sentiment  comment_afinn  \n",
       "0           0.000000           -1.0  \n",
       "1           0.000000           -1.0  \n",
       "2           0.000000           -1.0  \n",
       "3           0.000000           -1.0  \n",
       "4           0.140625            2.0  "
      ]
     },
     "execution_count": 448,
     "metadata": {},
     "output_type": "execute_result"
    }
   ],
   "source": [
    "pd.set_option('display.max_columns', None)\n",
    "data_new.head()"
   ]
  },
  {
   "cell_type": "code",
   "execution_count": 449,
   "metadata": {},
   "outputs": [],
   "source": [
    "data_new.to_csv (r'.\\GitHub\\BT4222_GrpProject\\Output\\TJ_dataset_sentiment.csv', index = False, header=True)"
   ]
  },
  {
   "cell_type": "code",
   "execution_count": null,
   "metadata": {},
   "outputs": [],
   "source": []
  }
 ],
 "metadata": {
  "kernelspec": {
   "display_name": "Python 3",
   "language": "python",
   "name": "python3"
  },
  "language_info": {
   "codemirror_mode": {
    "name": "ipython",
    "version": 3
   },
   "file_extension": ".py",
   "mimetype": "text/x-python",
   "name": "python",
   "nbconvert_exporter": "python",
   "pygments_lexer": "ipython3",
   "version": "3.8.5"
  }
 },
 "nbformat": 4,
 "nbformat_minor": 4
}
