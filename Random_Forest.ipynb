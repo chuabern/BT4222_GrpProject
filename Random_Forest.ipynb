{
 "cells": [
  {
   "cell_type": "code",
   "execution_count": 6,
   "metadata": {},
   "outputs": [],
   "source": [
    "import pandas as pd\n",
    "import numpy as np\n",
    "import json \n",
    "import matplotlib.pyplot as plt\n",
    "import seaborn as sns\n",
    "\n",
    "from sklearn import tree, model_selection, metrics\n",
    "from sklearn.preprocessing import LabelEncoder\n",
    "from sklearn.metrics import confusion_matrix, accuracy_score, mean_squared_error\n",
    "from sklearn.preprocessing import OneHotEncoder"
   ]
  },
  {
   "cell_type": "code",
   "execution_count": 7,
   "metadata": {},
   "outputs": [
    {
     "name": "stdout",
     "output_type": "stream",
     "text": [
      "(985, 47)\n"
     ]
    }
   ],
   "source": [
    "df = pd.read_csv(\"./Output/data_clean&processed.csv\")\n",
    "df = df.drop('Unnamed: 0', axis=1)\n",
    "print(df.shape)"
   ]
  },
  {
   "cell_type": "code",
   "execution_count": 8,
   "metadata": {},
   "outputs": [
    {
     "data": {
      "text/html": [
       "<div>\n",
       "<style scoped>\n",
       "    .dataframe tbody tr th:only-of-type {\n",
       "        vertical-align: middle;\n",
       "    }\n",
       "\n",
       "    .dataframe tbody tr th {\n",
       "        vertical-align: top;\n",
       "    }\n",
       "\n",
       "    .dataframe thead th {\n",
       "        text-align: right;\n",
       "    }\n",
       "</style>\n",
       "<table border=\"1\" class=\"dataframe\">\n",
       "  <thead>\n",
       "    <tr style=\"text-align: right;\">\n",
       "      <th></th>\n",
       "      <th>backers_count</th>\n",
       "      <th>blurb</th>\n",
       "      <th>category</th>\n",
       "      <th>converted_pledged_amount</th>\n",
       "      <th>country</th>\n",
       "      <th>created_at</th>\n",
       "      <th>current_currency</th>\n",
       "      <th>deadline</th>\n",
       "      <th>fx_rate</th>\n",
       "      <th>goal</th>\n",
       "      <th>...</th>\n",
       "      <th>backers_count_log</th>\n",
       "      <th>goal_log</th>\n",
       "      <th>pledged_log</th>\n",
       "      <th>duration_log</th>\n",
       "      <th>n_comments_log</th>\n",
       "      <th>num_faq_bool</th>\n",
       "      <th>avg_fund_per_backer</th>\n",
       "      <th>comments_afinn</th>\n",
       "      <th>blurb_name</th>\n",
       "      <th>faq_comments</th>\n",
       "    </tr>\n",
       "  </thead>\n",
       "  <tbody>\n",
       "    <tr>\n",
       "      <th>0</th>\n",
       "      <td>1</td>\n",
       "      <td>With your help we will create this device that...</td>\n",
       "      <td>{'id': 331, 'name': '3D Printing', 'slug': 'te...</td>\n",
       "      <td>1</td>\n",
       "      <td>ES</td>\n",
       "      <td>2015-08-18 21:01</td>\n",
       "      <td>USD</td>\n",
       "      <td>2016-07-09 20:11</td>\n",
       "      <td>1.212886</td>\n",
       "      <td>15000</td>\n",
       "      <td>...</td>\n",
       "      <td>-1.390561</td>\n",
       "      <td>0.689521</td>\n",
       "      <td>-1.915118</td>\n",
       "      <td>-0.012145</td>\n",
       "      <td>-0.710711</td>\n",
       "      <td>0</td>\n",
       "      <td>1.0</td>\n",
       "      <td>-1.0</td>\n",
       "      <td>With your help we will create this device that...</td>\n",
       "      <td>['   ']No comments yet.</td>\n",
       "    </tr>\n",
       "    <tr>\n",
       "      <th>1</th>\n",
       "      <td>2</td>\n",
       "      <td>We at Ormiston Primary are looking at starting...</td>\n",
       "      <td>{'id': 309, 'name': 'Farms', 'slug': 'food/far...</td>\n",
       "      <td>9</td>\n",
       "      <td>NZ</td>\n",
       "      <td>2015-08-11 18:04</td>\n",
       "      <td>USD</td>\n",
       "      <td>2015-09-11 15:55</td>\n",
       "      <td>0.723585</td>\n",
       "      <td>5000</td>\n",
       "      <td>...</td>\n",
       "      <td>-1.168550</td>\n",
       "      <td>0.107232</td>\n",
       "      <td>-1.257130</td>\n",
       "      <td>-0.012145</td>\n",
       "      <td>-0.710711</td>\n",
       "      <td>0</td>\n",
       "      <td>7.5</td>\n",
       "      <td>-1.0</td>\n",
       "      <td>We at Ormiston Primary are looking at starting...</td>\n",
       "      <td>['   ']No comments yet.</td>\n",
       "    </tr>\n",
       "    <tr>\n",
       "      <th>2</th>\n",
       "      <td>0</td>\n",
       "      <td>Self-taught aspiring metalsmith Looking for he...</td>\n",
       "      <td>{'id': 54, 'name': 'Mixed Media', 'slug': 'art...</td>\n",
       "      <td>0</td>\n",
       "      <td>US</td>\n",
       "      <td>2015-04-28 21:14</td>\n",
       "      <td>USD</td>\n",
       "      <td>2015-05-28 21:14</td>\n",
       "      <td>1.000000</td>\n",
       "      <td>10000</td>\n",
       "      <td>...</td>\n",
       "      <td>-1.770090</td>\n",
       "      <td>0.474607</td>\n",
       "      <td>-2.134448</td>\n",
       "      <td>-0.099817</td>\n",
       "      <td>-0.710711</td>\n",
       "      <td>0</td>\n",
       "      <td>0.0</td>\n",
       "      <td>-1.0</td>\n",
       "      <td>Self-taught aspiring metalsmith Looking for he...</td>\n",
       "      <td>['   ']No comments yet.</td>\n",
       "    </tr>\n",
       "    <tr>\n",
       "      <th>3</th>\n",
       "      <td>0</td>\n",
       "      <td>So many women believe they are past their prim...</td>\n",
       "      <td>{'id': 278, 'name': 'People', 'slug': 'photogr...</td>\n",
       "      <td>0</td>\n",
       "      <td>US</td>\n",
       "      <td>2014-07-07 1:30</td>\n",
       "      <td>USD</td>\n",
       "      <td>2014-10-26 0:00</td>\n",
       "      <td>1.000000</td>\n",
       "      <td>2000</td>\n",
       "      <td>...</td>\n",
       "      <td>-1.770090</td>\n",
       "      <td>-0.378322</td>\n",
       "      <td>-2.134448</td>\n",
       "      <td>-0.012145</td>\n",
       "      <td>-0.710711</td>\n",
       "      <td>0</td>\n",
       "      <td>0.0</td>\n",
       "      <td>-1.0</td>\n",
       "      <td>So many women believe they are past their prim...</td>\n",
       "      <td>['   ']No comments yet.</td>\n",
       "    </tr>\n",
       "    <tr>\n",
       "      <th>4</th>\n",
       "      <td>10</td>\n",
       "      <td>The Horror Zine's Jeani Rector brings us anoth...</td>\n",
       "      <td>{'id': 324, 'name': 'Anthologies', 'slug': 'pu...</td>\n",
       "      <td>340</td>\n",
       "      <td>US</td>\n",
       "      <td>2014-11-04 16:30</td>\n",
       "      <td>USD</td>\n",
       "      <td>2014-12-09 9:20</td>\n",
       "      <td>1.000000</td>\n",
       "      <td>2500</td>\n",
       "      <td>...</td>\n",
       "      <td>-0.457135</td>\n",
       "      <td>-0.260089</td>\n",
       "      <td>-0.289093</td>\n",
       "      <td>-0.012145</td>\n",
       "      <td>-0.232950</td>\n",
       "      <td>0</td>\n",
       "      <td>34.0</td>\n",
       "      <td>2.0</td>\n",
       "      <td>The Horror Zine's Jeani Rector brings us anoth...</td>\n",
       "      <td>['   ']Paula Limbaugh\\nover 6 years ago\\nSo so...</td>\n",
       "    </tr>\n",
       "  </tbody>\n",
       "</table>\n",
       "<p>5 rows × 47 columns</p>\n",
       "</div>"
      ],
      "text/plain": [
       "   backers_count                                              blurb  \\\n",
       "0              1  With your help we will create this device that...   \n",
       "1              2  We at Ormiston Primary are looking at starting...   \n",
       "2              0  Self-taught aspiring metalsmith Looking for he...   \n",
       "3              0  So many women believe they are past their prim...   \n",
       "4             10  The Horror Zine's Jeani Rector brings us anoth...   \n",
       "\n",
       "                                            category  \\\n",
       "0  {'id': 331, 'name': '3D Printing', 'slug': 'te...   \n",
       "1  {'id': 309, 'name': 'Farms', 'slug': 'food/far...   \n",
       "2  {'id': 54, 'name': 'Mixed Media', 'slug': 'art...   \n",
       "3  {'id': 278, 'name': 'People', 'slug': 'photogr...   \n",
       "4  {'id': 324, 'name': 'Anthologies', 'slug': 'pu...   \n",
       "\n",
       "   converted_pledged_amount country        created_at current_currency  \\\n",
       "0                         1      ES  2015-08-18 21:01              USD   \n",
       "1                         9      NZ  2015-08-11 18:04              USD   \n",
       "2                         0      US  2015-04-28 21:14              USD   \n",
       "3                         0      US   2014-07-07 1:30              USD   \n",
       "4                       340      US  2014-11-04 16:30              USD   \n",
       "\n",
       "           deadline   fx_rate   goal  ...  backers_count_log  goal_log  \\\n",
       "0  2016-07-09 20:11  1.212886  15000  ...          -1.390561  0.689521   \n",
       "1  2015-09-11 15:55  0.723585   5000  ...          -1.168550  0.107232   \n",
       "2  2015-05-28 21:14  1.000000  10000  ...          -1.770090  0.474607   \n",
       "3   2014-10-26 0:00  1.000000   2000  ...          -1.770090 -0.378322   \n",
       "4   2014-12-09 9:20  1.000000   2500  ...          -0.457135 -0.260089   \n",
       "\n",
       "  pledged_log duration_log  n_comments_log num_faq_bool avg_fund_per_backer  \\\n",
       "0   -1.915118    -0.012145       -0.710711            0                 1.0   \n",
       "1   -1.257130    -0.012145       -0.710711            0                 7.5   \n",
       "2   -2.134448    -0.099817       -0.710711            0                 0.0   \n",
       "3   -2.134448    -0.012145       -0.710711            0                 0.0   \n",
       "4   -0.289093    -0.012145       -0.232950            0                34.0   \n",
       "\n",
       "  comments_afinn                                         blurb_name  \\\n",
       "0           -1.0  With your help we will create this device that...   \n",
       "1           -1.0  We at Ormiston Primary are looking at starting...   \n",
       "2           -1.0  Self-taught aspiring metalsmith Looking for he...   \n",
       "3           -1.0  So many women believe they are past their prim...   \n",
       "4            2.0  The Horror Zine's Jeani Rector brings us anoth...   \n",
       "\n",
       "                                        faq_comments  \n",
       "0                            ['   ']No comments yet.  \n",
       "1                            ['   ']No comments yet.  \n",
       "2                            ['   ']No comments yet.  \n",
       "3                            ['   ']No comments yet.  \n",
       "4  ['   ']Paula Limbaugh\\nover 6 years ago\\nSo so...  \n",
       "\n",
       "[5 rows x 47 columns]"
      ]
     },
     "execution_count": 8,
     "metadata": {},
     "output_type": "execute_result"
    }
   ],
   "source": [
    "df.head()"
   ]
  },
  {
   "cell_type": "code",
   "execution_count": 9,
   "metadata": {},
   "outputs": [
    {
     "data": {
      "text/plain": [
       "Index(['backers_count', 'blurb', 'category', 'converted_pledged_amount',\n",
       "       'country', 'created_at', 'current_currency', 'deadline', 'fx_rate',\n",
       "       'goal', 'id', 'launched_at', 'location', 'name', 'pledged', 'profile',\n",
       "       'slug', 'source_url', 'spotlight', 'staff_pick', 'state',\n",
       "       'state_changed_at', 'static_usd_rate', 'urls', 'usd_pledged',\n",
       "       'usd_type', 'story', 'faq', 'num_faq', 'comments', 'n_comments',\n",
       "       'duration', 'parent_category', 'category_name', 'location_name',\n",
       "       'month_launched', 'year_launched', 'backers_count_log', 'goal_log',\n",
       "       'pledged_log', 'duration_log', 'n_comments_log', 'num_faq_bool',\n",
       "       'avg_fund_per_backer', 'comments_afinn', 'blurb_name', 'faq_comments'],\n",
       "      dtype='object')"
      ]
     },
     "execution_count": 9,
     "metadata": {},
     "output_type": "execute_result"
    }
   ],
   "source": [
    "df.columns"
   ]
  },
  {
   "cell_type": "code",
   "execution_count": 135,
   "metadata": {},
   "outputs": [],
   "source": [
    "categorical_cols = ['country', 'staff_pick', 'usd_type', 'parent_category', 'category_name']\n",
    "num_cols = ['backers_count', 'fx_rate', 'goal', 'pledged', 'num_faq', 'n_comments', 'duration', 'month_launched', 'year_launched']\n",
    "text_cols = ['blurb', 'name', 'story', 'faq', 'comments']"
   ]
  },
  {
   "cell_type": "code",
   "execution_count": 138,
   "metadata": {},
   "outputs": [],
   "source": [
    "# Split dataset\n",
    "X = df.drop('state', axis=1)\n",
    "y = df.state\n",
    "#y.mean() #0.6370449678800857\n",
    "\n",
    "# stratify y\n",
    "X_train, X_test, y_train, y_test = model_selection.train_test_split(X, y, test_size=0.2, random_state=2019, stratify=y)"
   ]
  },
  {
   "cell_type": "code",
   "execution_count": 139,
   "metadata": {},
   "outputs": [],
   "source": [
    "# One Hot Encoding\n",
    "from pandas.api.types import CategoricalDtype \n",
    "\n",
    "OHE_df = pd.DataFrame()\n",
    "\n",
    "for i in categorical_cols:\n",
    "    OHE_df[i] = X_train[i].astype(CategoricalDtype(list(set(X[i]))))\n",
    "    \n",
    "    OHE_df = pd.concat([OHE_df, pd.get_dummies(X[i], prefix=i)],axis=1)"
   ]
  },
  {
   "cell_type": "code",
   "execution_count": 140,
   "metadata": {},
   "outputs": [
    {
     "data": {
      "text/plain": [
       "['country',\n",
       " 'country_AT',\n",
       " 'country_AU',\n",
       " 'country_BE',\n",
       " 'country_CA',\n",
       " 'country_CH',\n",
       " 'country_DE',\n",
       " 'country_DK',\n",
       " 'country_ES',\n",
       " 'country_FR',\n",
       " 'country_GB',\n",
       " 'country_HK',\n",
       " 'country_IE',\n",
       " 'country_IT',\n",
       " 'country_JP',\n",
       " 'country_LU',\n",
       " 'country_MX',\n",
       " 'country_NL',\n",
       " 'country_NO',\n",
       " 'country_NZ',\n",
       " 'country_SE',\n",
       " 'country_SG',\n",
       " 'country_US',\n",
       " 'staff_pick',\n",
       " 'staff_pick_False',\n",
       " 'staff_pick_True',\n",
       " 'usd_type',\n",
       " 'usd_type_domestic',\n",
       " 'usd_type_international',\n",
       " 'parent_category',\n",
       " 'parent_category_Art',\n",
       " 'parent_category_Comics',\n",
       " 'parent_category_Crafts',\n",
       " 'parent_category_Dance',\n",
       " 'parent_category_Fashion',\n",
       " 'parent_category_Film & Video',\n",
       " 'parent_category_Food',\n",
       " 'parent_category_Games',\n",
       " 'parent_category_Journalism',\n",
       " 'parent_category_Music',\n",
       " 'parent_category_No Parent Category',\n",
       " 'parent_category_Photography',\n",
       " 'parent_category_Publishing',\n",
       " 'parent_category_Technology',\n",
       " 'parent_category_Theater',\n",
       " 'category_name',\n",
       " 'category_name_3D Printing',\n",
       " 'category_name_Academic',\n",
       " 'category_name_Accessories',\n",
       " 'category_name_Action',\n",
       " 'category_name_Animals',\n",
       " 'category_name_Anthologies',\n",
       " 'category_name_Apparel',\n",
       " 'category_name_Art',\n",
       " 'category_name_Art Books',\n",
       " 'category_name_Audio',\n",
       " 'category_name_Calendars',\n",
       " 'category_name_Camera Equipment',\n",
       " 'category_name_Ceramics',\n",
       " \"category_name_Children's Books\",\n",
       " 'category_name_Comedy',\n",
       " 'category_name_Conceptual Art',\n",
       " 'category_name_DIY Electronics',\n",
       " 'category_name_Dance',\n",
       " 'category_name_Digital Art',\n",
       " 'category_name_Documentary',\n",
       " 'category_name_Drama',\n",
       " 'category_name_Drinks',\n",
       " 'category_name_Farms',\n",
       " 'category_name_Festivals',\n",
       " 'category_name_Fiction',\n",
       " 'category_name_Fine Art',\n",
       " 'category_name_Gadgets',\n",
       " 'category_name_Graphic Novels',\n",
       " 'category_name_Horror',\n",
       " 'category_name_Illustration',\n",
       " 'category_name_Installations',\n",
       " 'category_name_Journalism',\n",
       " 'category_name_Live Games',\n",
       " 'category_name_Makerspaces',\n",
       " 'category_name_Metal',\n",
       " 'category_name_Mixed Media',\n",
       " 'category_name_Mobile Games',\n",
       " 'category_name_Movie Theaters',\n",
       " 'category_name_Nonfiction',\n",
       " 'category_name_Painting',\n",
       " 'category_name_People',\n",
       " 'category_name_Performances',\n",
       " 'category_name_Periodicals',\n",
       " 'category_name_Photo',\n",
       " 'category_name_Photobooks',\n",
       " 'category_name_Places',\n",
       " 'category_name_Plays',\n",
       " 'category_name_Poetry',\n",
       " 'category_name_Print',\n",
       " 'category_name_Publishing',\n",
       " 'category_name_Residencies',\n",
       " 'category_name_Rock',\n",
       " 'category_name_Romance',\n",
       " 'category_name_Small Batch',\n",
       " 'category_name_Social Practice',\n",
       " 'category_name_Software',\n",
       " 'category_name_Space Exploration',\n",
       " 'category_name_Spaces',\n",
       " 'category_name_Stationery',\n",
       " 'category_name_Tabletop Games',\n",
       " 'category_name_Television',\n",
       " 'category_name_Video Games',\n",
       " 'category_name_Web',\n",
       " 'category_name_Workshops',\n",
       " 'category_name_World Music',\n",
       " 'category_name_Young Adult']"
      ]
     },
     "execution_count": 140,
     "metadata": {},
     "output_type": "execute_result"
    }
   ],
   "source": [
    "OHE_df.columns.tolist()"
   ]
  },
  {
   "cell_type": "markdown",
   "metadata": {},
   "source": [
    "# GridSearch"
   ]
  },
  {
   "cell_type": "code",
   "execution_count": 148,
   "metadata": {},
   "outputs": [
    {
     "data": {
      "text/plain": [
       "dict_keys(['bootstrap', 'ccp_alpha', 'class_weight', 'criterion', 'max_depth', 'max_features', 'max_leaf_nodes', 'max_samples', 'min_impurity_decrease', 'min_impurity_split', 'min_samples_leaf', 'min_samples_split', 'min_weight_fraction_leaf', 'n_estimators', 'n_jobs', 'oob_score', 'random_state', 'verbose', 'warm_start'])"
      ]
     },
     "execution_count": 148,
     "metadata": {},
     "output_type": "execute_result"
    }
   ],
   "source": [
    "from sklearn.ensemble import RandomForestClassifier\n",
    "classifier = RandomForestClassifier()\n",
    "classifier.get_params().keys()"
   ]
  },
  {
   "cell_type": "code",
   "execution_count": 149,
   "metadata": {},
   "outputs": [
    {
     "name": "stdout",
     "output_type": "stream",
     "text": [
      "Fitting 3 folds for each of 96 candidates, totalling 288 fits\n"
     ]
    },
    {
     "name": "stderr",
     "output_type": "stream",
     "text": [
      "[Parallel(n_jobs=-1)]: Using backend LokyBackend with 4 concurrent workers.\n",
      "[Parallel(n_jobs=-1)]: Done  33 tasks      | elapsed:   12.0s\n",
      "[Parallel(n_jobs=-1)]: Done 154 tasks      | elapsed:   38.0s\n",
      "[Parallel(n_jobs=-1)]: Done 288 out of 288 | elapsed:  1.2min finished\n"
     ]
    },
    {
     "data": {
      "text/plain": [
       "{'criterion': 'entropy',\n",
       " 'max_depth': None,\n",
       " 'min_samples_split': 2,\n",
       " 'n_estimators': 100}"
      ]
     },
     "execution_count": 149,
     "metadata": {},
     "output_type": "execute_result"
    }
   ],
   "source": [
    "from sklearn.model_selection import GridSearchCV\n",
    "# Create the parameter grid based on the results of random search \n",
    "param_grid = {\n",
    "    'criterion': ['gini', 'entropy'],\n",
    "    'max_depth': [None, 2, 3],\n",
    "    'min_samples_split': [2, 8, 10, 12],\n",
    "    'n_estimators': [100, 200, 300, 500]\n",
    "}\n",
    "# Create a based model\n",
    "rf = RandomForestClassifier()\n",
    "# Instantiate the grid search model\n",
    "grid_search = GridSearchCV(estimator = rf, param_grid = param_grid, \n",
    "                          cv = 3, n_jobs = -1, verbose = 2)\n",
    "\n",
    "# Fit the grid search to the data\n",
    "grid_search.fit(OHE_train, y_train)\n",
    "grid_search.best_params_"
   ]
  },
  {
   "cell_type": "markdown",
   "metadata": {},
   "source": [
    "# Random Forest"
   ]
  },
  {
   "cell_type": "code",
   "execution_count": 150,
   "metadata": {},
   "outputs": [],
   "source": [
    "from sklearn.ensemble import RandomForestClassifier\n",
    "from numpy import *\n",
    "random.seed(4222)\n",
    "classifier = RandomForestClassifier(criterion=\"entropy\", n_estimators=100)\n",
    "# {'criterion': 'entropy',\n",
    "#  'max_depth': None, #default\n",
    "#  'min_samples_split': 2, #default\n",
    "#  'n_estimators': 100}"
   ]
  },
  {
   "cell_type": "code",
   "execution_count": 151,
   "metadata": {},
   "outputs": [
    {
     "name": "stdout",
     "output_type": "stream",
     "text": [
      "(735, 122)\n",
      "(735,)\n",
      "(184, 122)\n",
      "(184,)\n"
     ]
    }
   ],
   "source": [
    "print(OHE_train.shape)\n",
    "print(y_train.shape)\n",
    "print(OHE_test.shape)\n",
    "print(y_test.shape)"
   ]
  },
  {
   "cell_type": "code",
   "execution_count": 152,
   "metadata": {},
   "outputs": [
    {
     "data": {
      "text/plain": [
       "RandomForestClassifier(criterion='entropy')"
      ]
     },
     "execution_count": 152,
     "metadata": {},
     "output_type": "execute_result"
    }
   ],
   "source": [
    "classifier.fit(OHE_train, y_train)"
   ]
  },
  {
   "cell_type": "markdown",
   "metadata": {},
   "source": [
    "# Model Evaluation"
   ]
  },
  {
   "cell_type": "code",
   "execution_count": 153,
   "metadata": {},
   "outputs": [
    {
     "name": "stdout",
     "output_type": "stream",
     "text": [
      "\n",
      "The evaluation report is:\n",
      "Confusion Matrix:\n",
      "[[ 64   9]\n",
      " [  3 108]]\n",
      "Accuracy: 0.9347826086956522\n",
      "MSE: 0.06521739130434782\n",
      "AUC:0.9808095766999877\n",
      "\n"
     ]
    }
   ],
   "source": [
    "# Evaluate Model \n",
    "y_predict_class = classifier.predict(OHE_test)\n",
    "\n",
    "report = \"\"\"\n",
    "The evaluation report is:\n",
    "Confusion Matrix:\n",
    "{}\n",
    "Accuracy: {}\n",
    "MSE: {}\n",
    "AUC:{}\n",
    "\"\"\".format(confusion_matrix(y_test, y_predict_class),\n",
    "           accuracy_score(y_test, y_predict_class), \n",
    "           mean_squared_error(y_test, y_predict_class),\n",
    "           metrics.roc_auc_score(y_test, classifier.predict_proba(OHE_test)[:, 1]))\n",
    "print(report)"
   ]
  },
  {
   "cell_type": "code",
   "execution_count": 195,
   "metadata": {},
   "outputs": [],
   "source": []
  }
 ],
 "metadata": {
  "kernelspec": {
   "display_name": "Python 3",
   "language": "python",
   "name": "python3"
  },
  "language_info": {
   "codemirror_mode": {
    "name": "ipython",
    "version": 3
   },
   "file_extension": ".py",
   "mimetype": "text/x-python",
   "name": "python",
   "nbconvert_exporter": "python",
   "pygments_lexer": "ipython3",
   "version": "3.8.3"
  }
 },
 "nbformat": 4,
 "nbformat_minor": 4
}
