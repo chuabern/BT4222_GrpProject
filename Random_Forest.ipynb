{
 "cells": [
  {
   "cell_type": "code",
   "execution_count": 1,
   "metadata": {},
   "outputs": [],
   "source": [
    "import pandas as pd\n",
    "import numpy as np\n",
    "import json \n",
    "import matplotlib.pyplot as plt\n",
    "import seaborn as sns\n",
    "\n",
    "from pandas.api.types import CategoricalDtype\n",
    "from sklearn import tree, model_selection, metrics\n",
    "from sklearn.preprocessing import LabelEncoder\n",
    "from sklearn.metrics import confusion_matrix, accuracy_score, mean_squared_error\n",
    "from sklearn.preprocessing import OneHotEncoder\n"
   ]
  },
  {
   "cell_type": "code",
   "execution_count": 2,
   "metadata": {},
   "outputs": [
    {
     "name": "stdout",
     "output_type": "stream",
     "text": [
      "(3419, 53)\n"
     ]
    }
   ],
   "source": [
    "df = pd.read_csv(\"./Output/data_clean&processed_addedsentiment.csv\")\n",
    "print(df.shape)"
   ]
  },
  {
   "cell_type": "code",
   "execution_count": 3,
   "metadata": {},
   "outputs": [
    {
     "data": {
      "text/html": [
       "<div>\n",
       "<style scoped>\n",
       "    .dataframe tbody tr th:only-of-type {\n",
       "        vertical-align: middle;\n",
       "    }\n",
       "\n",
       "    .dataframe tbody tr th {\n",
       "        vertical-align: top;\n",
       "    }\n",
       "\n",
       "    .dataframe thead th {\n",
       "        text-align: right;\n",
       "    }\n",
       "</style>\n",
       "<table border=\"1\" class=\"dataframe\">\n",
       "  <thead>\n",
       "    <tr style=\"text-align: right;\">\n",
       "      <th></th>\n",
       "      <th>id_row</th>\n",
       "      <th>backers_count</th>\n",
       "      <th>blurb</th>\n",
       "      <th>category</th>\n",
       "      <th>converted_pledged_amount</th>\n",
       "      <th>country</th>\n",
       "      <th>created_at</th>\n",
       "      <th>current_currency</th>\n",
       "      <th>deadline</th>\n",
       "      <th>fx_rate</th>\n",
       "      <th>...</th>\n",
       "      <th>num_faq_bool</th>\n",
       "      <th>avg_fund_per_backer</th>\n",
       "      <th>comments_afinn</th>\n",
       "      <th>blurb_name</th>\n",
       "      <th>faq_comments</th>\n",
       "      <th>story_afinn</th>\n",
       "      <th>faq_comments_afinn</th>\n",
       "      <th>blurb_name_afinn</th>\n",
       "      <th>blurb_afinn</th>\n",
       "      <th>name_afinn</th>\n",
       "    </tr>\n",
       "  </thead>\n",
       "  <tbody>\n",
       "    <tr>\n",
       "      <th>0</th>\n",
       "      <td>0</td>\n",
       "      <td>1</td>\n",
       "      <td>With your help we will create this device that...</td>\n",
       "      <td>{'id': 331, 'name': '3D Printing', 'slug': 'te...</td>\n",
       "      <td>1</td>\n",
       "      <td>ES</td>\n",
       "      <td>2015-08-18 21:01:19</td>\n",
       "      <td>USD</td>\n",
       "      <td>2016-07-09 20:11:23</td>\n",
       "      <td>1.212886</td>\n",
       "      <td>...</td>\n",
       "      <td>0</td>\n",
       "      <td>1.0</td>\n",
       "      <td>8.0</td>\n",
       "      <td>With your help we will create this device that...</td>\n",
       "      <td>['   ']AnaTalifi Wall Nazur\\nabout 2 years ago...</td>\n",
       "      <td>-10.0</td>\n",
       "      <td>8.0</td>\n",
       "      <td>4.0</td>\n",
       "      <td>2.0</td>\n",
       "      <td>2.0</td>\n",
       "    </tr>\n",
       "    <tr>\n",
       "      <th>1</th>\n",
       "      <td>1</td>\n",
       "      <td>2</td>\n",
       "      <td>We at Ormiston Primary are looking at starting...</td>\n",
       "      <td>{'id': 309, 'name': 'Farms', 'slug': 'food/far...</td>\n",
       "      <td>9</td>\n",
       "      <td>NZ</td>\n",
       "      <td>2015-08-11 18:04:21</td>\n",
       "      <td>USD</td>\n",
       "      <td>2015-09-11 15:55:41</td>\n",
       "      <td>0.723585</td>\n",
       "      <td>...</td>\n",
       "      <td>0</td>\n",
       "      <td>7.5</td>\n",
       "      <td>-1.0</td>\n",
       "      <td>We at Ormiston Primary are looking at starting...</td>\n",
       "      <td>['   ']No comments yet.</td>\n",
       "      <td>-10.0</td>\n",
       "      <td>-1.0</td>\n",
       "      <td>1.0</td>\n",
       "      <td>1.0</td>\n",
       "      <td>0.0</td>\n",
       "    </tr>\n",
       "    <tr>\n",
       "      <th>2</th>\n",
       "      <td>2</td>\n",
       "      <td>0</td>\n",
       "      <td>Self-taught aspiring metalsmith Looking for he...</td>\n",
       "      <td>{'id': 54, 'name': 'Mixed Media', 'slug': 'art...</td>\n",
       "      <td>0</td>\n",
       "      <td>US</td>\n",
       "      <td>2015-04-28 21:14:03</td>\n",
       "      <td>USD</td>\n",
       "      <td>2015-05-28 21:14:00</td>\n",
       "      <td>1.000000</td>\n",
       "      <td>...</td>\n",
       "      <td>0</td>\n",
       "      <td>0.0</td>\n",
       "      <td>7.0</td>\n",
       "      <td>Self-taught aspiring metalsmith Looking for he...</td>\n",
       "      <td>['   ']Bambi Lewis\\nover 7 years ago\\nBeautifu...</td>\n",
       "      <td>-10.0</td>\n",
       "      <td>7.0</td>\n",
       "      <td>4.0</td>\n",
       "      <td>2.0</td>\n",
       "      <td>2.0</td>\n",
       "    </tr>\n",
       "    <tr>\n",
       "      <th>3</th>\n",
       "      <td>3</td>\n",
       "      <td>0</td>\n",
       "      <td>So many women believe they are past their prim...</td>\n",
       "      <td>{'id': 278, 'name': 'People', 'slug': 'photogr...</td>\n",
       "      <td>0</td>\n",
       "      <td>US</td>\n",
       "      <td>2014-07-07 01:30:52</td>\n",
       "      <td>USD</td>\n",
       "      <td>2014-10-26 00:00:48</td>\n",
       "      <td>1.000000</td>\n",
       "      <td>...</td>\n",
       "      <td>0</td>\n",
       "      <td>0.0</td>\n",
       "      <td>139.0</td>\n",
       "      <td>So many women believe they are past their prim...</td>\n",
       "      <td>['   ']paul wheatonCreator\\nover 2 years ago\\n...</td>\n",
       "      <td>-10.0</td>\n",
       "      <td>139.0</td>\n",
       "      <td>3.0</td>\n",
       "      <td>0.0</td>\n",
       "      <td>3.0</td>\n",
       "    </tr>\n",
       "    <tr>\n",
       "      <th>4</th>\n",
       "      <td>4</td>\n",
       "      <td>10</td>\n",
       "      <td>The Horror Zine's Jeani Rector brings us anoth...</td>\n",
       "      <td>{'id': 324, 'name': 'Anthologies', 'slug': 'pu...</td>\n",
       "      <td>340</td>\n",
       "      <td>US</td>\n",
       "      <td>2014-11-04 16:30:58</td>\n",
       "      <td>USD</td>\n",
       "      <td>2014-12-09 09:20:35</td>\n",
       "      <td>1.000000</td>\n",
       "      <td>...</td>\n",
       "      <td>0</td>\n",
       "      <td>34.0</td>\n",
       "      <td>-1.0</td>\n",
       "      <td>The Horror Zine's Jeani Rector brings us anoth...</td>\n",
       "      <td>['   ']No comments yet.</td>\n",
       "      <td>-10.0</td>\n",
       "      <td>-1.0</td>\n",
       "      <td>4.0</td>\n",
       "      <td>4.0</td>\n",
       "      <td>0.0</td>\n",
       "    </tr>\n",
       "  </tbody>\n",
       "</table>\n",
       "<p>5 rows × 53 columns</p>\n",
       "</div>"
      ],
      "text/plain": [
       "   id_row  backers_count                                              blurb  \\\n",
       "0       0              1  With your help we will create this device that...   \n",
       "1       1              2  We at Ormiston Primary are looking at starting...   \n",
       "2       2              0  Self-taught aspiring metalsmith Looking for he...   \n",
       "3       3              0  So many women believe they are past their prim...   \n",
       "4       4             10  The Horror Zine's Jeani Rector brings us anoth...   \n",
       "\n",
       "                                            category  \\\n",
       "0  {'id': 331, 'name': '3D Printing', 'slug': 'te...   \n",
       "1  {'id': 309, 'name': 'Farms', 'slug': 'food/far...   \n",
       "2  {'id': 54, 'name': 'Mixed Media', 'slug': 'art...   \n",
       "3  {'id': 278, 'name': 'People', 'slug': 'photogr...   \n",
       "4  {'id': 324, 'name': 'Anthologies', 'slug': 'pu...   \n",
       "\n",
       "   converted_pledged_amount country           created_at current_currency  \\\n",
       "0                         1      ES  2015-08-18 21:01:19              USD   \n",
       "1                         9      NZ  2015-08-11 18:04:21              USD   \n",
       "2                         0      US  2015-04-28 21:14:03              USD   \n",
       "3                         0      US  2014-07-07 01:30:52              USD   \n",
       "4                       340      US  2014-11-04 16:30:58              USD   \n",
       "\n",
       "              deadline   fx_rate  ...  num_faq_bool  avg_fund_per_backer  \\\n",
       "0  2016-07-09 20:11:23  1.212886  ...             0                  1.0   \n",
       "1  2015-09-11 15:55:41  0.723585  ...             0                  7.5   \n",
       "2  2015-05-28 21:14:00  1.000000  ...             0                  0.0   \n",
       "3  2014-10-26 00:00:48  1.000000  ...             0                  0.0   \n",
       "4  2014-12-09 09:20:35  1.000000  ...             0                 34.0   \n",
       "\n",
       "  comments_afinn                                         blurb_name  \\\n",
       "0            8.0  With your help we will create this device that...   \n",
       "1           -1.0  We at Ormiston Primary are looking at starting...   \n",
       "2            7.0  Self-taught aspiring metalsmith Looking for he...   \n",
       "3          139.0  So many women believe they are past their prim...   \n",
       "4           -1.0  The Horror Zine's Jeani Rector brings us anoth...   \n",
       "\n",
       "                                        faq_comments  story_afinn  \\\n",
       "0  ['   ']AnaTalifi Wall Nazur\\nabout 2 years ago...        -10.0   \n",
       "1                            ['   ']No comments yet.        -10.0   \n",
       "2  ['   ']Bambi Lewis\\nover 7 years ago\\nBeautifu...        -10.0   \n",
       "3  ['   ']paul wheatonCreator\\nover 2 years ago\\n...        -10.0   \n",
       "4                            ['   ']No comments yet.        -10.0   \n",
       "\n",
       "  faq_comments_afinn blurb_name_afinn blurb_afinn  name_afinn  \n",
       "0                8.0              4.0         2.0         2.0  \n",
       "1               -1.0              1.0         1.0         0.0  \n",
       "2                7.0              4.0         2.0         2.0  \n",
       "3              139.0              3.0         0.0         3.0  \n",
       "4               -1.0              4.0         4.0         0.0  \n",
       "\n",
       "[5 rows x 53 columns]"
      ]
     },
     "execution_count": 3,
     "metadata": {},
     "output_type": "execute_result"
    }
   ],
   "source": [
    "df.head()"
   ]
  },
  {
   "cell_type": "code",
   "execution_count": 4,
   "metadata": {},
   "outputs": [
    {
     "data": {
      "text/plain": [
       "Index(['id_row', 'backers_count', 'blurb', 'category',\n",
       "       'converted_pledged_amount', 'country', 'created_at', 'current_currency',\n",
       "       'deadline', 'fx_rate', 'goal', 'id', 'launched_at', 'location', 'name',\n",
       "       'pledged', 'profile', 'slug', 'source_url', 'spotlight', 'staff_pick',\n",
       "       'state', 'state_changed_at', 'static_usd_rate', 'urls', 'usd_pledged',\n",
       "       'usd_type', 'story', 'faq', 'num_faq', 'comments', 'n_comments',\n",
       "       'duration', 'parent_category', 'category_name', 'location_name',\n",
       "       'month_launched', 'year_launched', 'backers_count_log', 'goal_log',\n",
       "       'pledged_log', 'duration_log', 'n_comments_log', 'num_faq_bool',\n",
       "       'avg_fund_per_backer', 'comments_afinn', 'blurb_name', 'faq_comments',\n",
       "       'story_afinn', 'faq_comments_afinn', 'blurb_name_afinn', 'blurb_afinn',\n",
       "       'name_afinn'],\n",
       "      dtype='object')"
      ]
     },
     "execution_count": 4,
     "metadata": {},
     "output_type": "execute_result"
    }
   ],
   "source": [
    "df.columns"
   ]
  },
  {
   "cell_type": "code",
   "execution_count": 5,
   "metadata": {},
   "outputs": [
    {
     "name": "stdout",
     "output_type": "stream",
     "text": [
      "<class 'pandas.core.frame.DataFrame'>\n",
      "RangeIndex: 3419 entries, 0 to 3418\n",
      "Data columns (total 53 columns):\n",
      " #   Column                    Non-Null Count  Dtype  \n",
      "---  ------                    --------------  -----  \n",
      " 0   id_row                    3419 non-null   int64  \n",
      " 1   backers_count             3419 non-null   int64  \n",
      " 2   blurb                     3419 non-null   object \n",
      " 3   category                  3419 non-null   object \n",
      " 4   converted_pledged_amount  3419 non-null   int64  \n",
      " 5   country                   3419 non-null   object \n",
      " 6   created_at                3419 non-null   object \n",
      " 7   current_currency          3419 non-null   object \n",
      " 8   deadline                  3419 non-null   object \n",
      " 9   fx_rate                   3419 non-null   float64\n",
      " 10  goal                      3419 non-null   int64  \n",
      " 11  id                        3419 non-null   int64  \n",
      " 12  launched_at               3419 non-null   object \n",
      " 13  location                  3419 non-null   object \n",
      " 14  name                      3419 non-null   object \n",
      " 15  pledged                   3419 non-null   float64\n",
      " 16  profile                   3419 non-null   object \n",
      " 17  slug                      3419 non-null   object \n",
      " 18  source_url                3419 non-null   object \n",
      " 19  spotlight                 3419 non-null   bool   \n",
      " 20  staff_pick                3419 non-null   bool   \n",
      " 21  state                     3419 non-null   int64  \n",
      " 22  state_changed_at          3419 non-null   object \n",
      " 23  static_usd_rate           3419 non-null   float64\n",
      " 24  urls                      3419 non-null   object \n",
      " 25  usd_pledged               3419 non-null   float64\n",
      " 26  usd_type                  3419 non-null   object \n",
      " 27  story                     3419 non-null   object \n",
      " 28  faq                       3419 non-null   object \n",
      " 29  num_faq                   3419 non-null   int64  \n",
      " 30  comments                  3419 non-null   object \n",
      " 31  n_comments                3419 non-null   float64\n",
      " 32  duration                  3419 non-null   int64  \n",
      " 33  parent_category           3419 non-null   object \n",
      " 34  category_name             3419 non-null   object \n",
      " 35  location_name             3419 non-null   object \n",
      " 36  month_launched            3419 non-null   int64  \n",
      " 37  year_launched             3419 non-null   int64  \n",
      " 38  backers_count_log         3419 non-null   float64\n",
      " 39  goal_log                  3419 non-null   float64\n",
      " 40  pledged_log               3419 non-null   float64\n",
      " 41  duration_log              3419 non-null   float64\n",
      " 42  n_comments_log            3419 non-null   float64\n",
      " 43  num_faq_bool              3419 non-null   int64  \n",
      " 44  avg_fund_per_backer       3419 non-null   float64\n",
      " 45  comments_afinn            3419 non-null   float64\n",
      " 46  blurb_name                3419 non-null   object \n",
      " 47  faq_comments              3419 non-null   object \n",
      " 48  story_afinn               3419 non-null   float64\n",
      " 49  faq_comments_afinn        3419 non-null   float64\n",
      " 50  blurb_name_afinn          3419 non-null   float64\n",
      " 51  blurb_afinn               3419 non-null   float64\n",
      " 52  name_afinn                3419 non-null   float64\n",
      "dtypes: bool(2), float64(17), int64(11), object(23)\n",
      "memory usage: 1.3+ MB\n"
     ]
    }
   ],
   "source": [
    "df.info()"
   ]
  },
  {
   "cell_type": "code",
   "execution_count": 90,
   "metadata": {},
   "outputs": [],
   "source": [
    "# Cols for OHE \n",
    "categorical_cols = ['country', 'staff_pick', 'usd_type', 'parent_category', 'category_name', 'location_name']\n",
    "\n",
    "# Other feature cols for modelling\n",
    "cols_to_keep = ['backers_count', 'fx_rate', 'goal', 'pledged', 'n_comments', 'duration', 'month_launched', 'year_launched', 'avg_fund_per_backer', 'num_faq_bool']\n",
    "sentiment_cols = ['comments_afinn', 'faq_comments_afinn', 'blurb_name_afinn', 'blurb_afinn', 'name_afinn', 'story_afinn']\n",
    "target_col = ['state']\n",
    "\n",
    "#Cols to drop\n",
    "text_cols = ['blurb', 'name', 'story', 'faq', 'comments', 'blurb_name', 'faq_comments']\n",
    "log_cols = ['backers_count_log', 'goal_log', 'pledged_log', 'duration_log', 'n_comments_log']\n",
    "other_cols = ['profile', 'category', 'created_at', 'location', 'current_currency', 'deadline', 'id', \n",
    "              'launched_at', 'slug', 'source_url', 'state_changed_at', 'urls', 'static_usd_rate', \n",
    "              'usd_pledged', 'converted_pledged_amount', 'spotlight', 'num_faq']"
   ]
  },
  {
   "cell_type": "code",
   "execution_count": 91,
   "metadata": {},
   "outputs": [
    {
     "name": "stdout",
     "output_type": "stream",
     "text": [
      "(3419, 24)\n"
     ]
    }
   ],
   "source": [
    "cols_to_drop = text_cols + log_cols + other_cols\n",
    "df = df.drop(cols_to_drop, axis=1)\n",
    "print(df.shape)"
   ]
  },
  {
   "cell_type": "code",
   "execution_count": 92,
   "metadata": {},
   "outputs": [],
   "source": [
    "# Split dataset\n",
    "X = df.drop('state', axis=1)\n",
    "y = df.state\n",
    "#y.mean() #0.6370449678800857\n",
    "\n",
    "X_train, X_test, y_train, y_test = model_selection.train_test_split(X, y, test_size=0.2, random_state=2019)"
   ]
  },
  {
   "cell_type": "code",
   "execution_count": 93,
   "metadata": {},
   "outputs": [],
   "source": [
    "# One Hot Encoding with training set only\n",
    "OHE_df = pd.DataFrame()\n",
    "\n",
    "for i in categorical_cols:\n",
    "    OHE_df[i] = X_train[i].astype(CategoricalDtype(list(set(X[i]))))\n",
    "    \n",
    "    OHE_df = pd.concat([OHE_df, pd.get_dummies(X[i], prefix=i)],axis=1)"
   ]
  },
  {
   "cell_type": "code",
   "execution_count": 94,
   "metadata": {},
   "outputs": [],
   "source": [
    "OHE_df = OHE_df.drop(categorical_cols, axis= 1)\n",
    "\n",
    "X_no_cat = X.drop(categorical_cols, axis= 1)\n",
    "OHE_df = pd.concat([X_no_cat, OHE_df],axis=1)\n",
    "\n",
    "# For Decision Tree/Random Forest\n",
    "OHE_df = OHE_df.drop(OHE_df.loc[:, OHE_df.columns.str.contains('_log')].columns.tolist(), axis=1)"
   ]
  },
  {
   "cell_type": "code",
   "execution_count": 95,
   "metadata": {},
   "outputs": [],
   "source": [
    "# Resplit X dataset with OHE columns\n",
    "OHE_train, OHE_test, y_train, y_test = model_selection.train_test_split(OHE_df, y, test_size=0.2, random_state=2019)"
   ]
  },
  {
   "cell_type": "code",
   "execution_count": 96,
   "metadata": {},
   "outputs": [
    {
     "name": "stdout",
     "output_type": "stream",
     "text": [
      "Before OHE, n features =  23\n",
      "After OHE, n features =  1322\n"
     ]
    }
   ],
   "source": [
    "print('Before OHE, n features = ', X_train.shape[1])\n",
    "print('After OHE, n features = ', OHE_train.shape[1])"
   ]
  },
  {
   "cell_type": "markdown",
   "metadata": {},
   "source": [
    "# Hyperparameter tuning"
   ]
  },
  {
   "cell_type": "code",
   "execution_count": 97,
   "metadata": {},
   "outputs": [],
   "source": [
    "from sklearn.ensemble import RandomForestClassifier\n",
    "from sklearn.model_selection import RandomizedSearchCV\n",
    "from sklearn.model_selection import GridSearchCV"
   ]
  },
  {
   "cell_type": "code",
   "execution_count": 98,
   "metadata": {},
   "outputs": [
    {
     "name": "stdout",
     "output_type": "stream",
     "text": [
      "model_accuracy_score:  0.9239766081871345\n"
     ]
    }
   ],
   "source": [
    "#Benchmark for RF\n",
    "model = RandomForestClassifier(random_state = 42)\n",
    "model.fit(OHE_train, y_train)\n",
    "y_predict_class = model.predict(OHE_test)\n",
    "model_accuracy_score = accuracy_score(y_test, y_predict_class)\n",
    "\n",
    "print(\"model_accuracy_score: \", model_accuracy_score)"
   ]
  },
  {
   "cell_type": "code",
   "execution_count": 99,
   "metadata": {},
   "outputs": [
    {
     "data": {
      "image/png": "[encoded data removed]",
      "text/plain": [
       "<Figure size 432x288 with 1 Axes>"
      ]
     },
     "metadata": {
      "needs_background": "light"
     },
     "output_type": "display_data"
    },
    {
     "name": "stdout",
     "output_type": "stream",
     "text": [
      "Best max_depth: {'max_depth': 62}\n",
      "Best score: 0.9382048608325981\n"
     ]
    }
   ],
   "source": [
    "#Max Depth\n",
    "\n",
    "dt_class = RandomForestClassifier(criterion = 'gini', random_state = 42)\n",
    "max_depth = list(range(2,100,5))\n",
    "param_grid = {'max_depth' : max_depth}\n",
    "grid_dt_class = GridSearchCV(estimator = dt_class, param_grid = param_grid, scoring = 'accuracy', n_jobs = -1, cv = 10, refit = True, return_train_score = True)\n",
    "\n",
    "grid_dt_class.fit(OHE_train, y_train)\n",
    "\n",
    "score = grid_dt_class.cv_results_['mean_test_score']\n",
    "\n",
    "plt.plot(max_depth, score)\n",
    "\n",
    "# Add labels and title\n",
    "plt.gca().set(xlabel='max_depth', ylabel='Accuracy Score',\n",
    "title='Score for different depth')\n",
    "plt.show()\n",
    "\n",
    "print(\"Best max_depth:\", grid_dt_class.best_params_)\n",
    "print(\"Best score:\", grid_dt_class.best_score_)"
   ]
  },
  {
   "cell_type": "code",
   "execution_count": 100,
   "metadata": {},
   "outputs": [
    {
     "data": {
      "image/png": "[encoded data removed]",
      "text/plain": [
       "<Figure size 432x288 with 1 Axes>"
      ]
     },
     "metadata": {
      "needs_background": "light"
     },
     "output_type": "display_data"
    },
    {
     "name": "stdout",
     "output_type": "stream",
     "text": [
      "Best min_samples_split: {'min_samples_split': 6}\n",
      "Best score: 0.9360070586347959\n"
     ]
    }
   ],
   "source": [
    "#Min samples split\n",
    "\n",
    "dt_class = RandomForestClassifier(criterion = 'gini', random_state = 42)\n",
    "min_samples_split = list(range(1, 100, 5))\n",
    "\n",
    "param_grid = {'min_samples_split' : min_samples_split}\n",
    "grid_dt_class = GridSearchCV(estimator = dt_class, param_grid = param_grid, scoring = 'accuracy', n_jobs = -1, cv = 10, refit = True, return_train_score = True)\n",
    "\n",
    "grid_dt_class.fit(OHE_train, y_train)\n",
    "\n",
    "score = grid_dt_class.cv_results_['mean_test_score']\n",
    "\n",
    "plt.plot(min_samples_split, score)\n",
    "\n",
    "# Add labels and title\n",
    "plt.gca().set(xlabel='min_samples_split', ylabel='Accuracy Score',\n",
    "title='Score for different min samples split')\n",
    "plt.show()\n",
    "\n",
    "print(\"Best min_samples_split:\", grid_dt_class.best_params_)\n",
    "print(\"Best score:\", grid_dt_class.best_score_)"
   ]
  },
  {
   "cell_type": "code",
   "execution_count": 101,
   "metadata": {},
   "outputs": [
    {
     "data": {
      "image/png": "[encoded data removed]",
      "text/plain": [
       "<Figure size 432x288 with 1 Axes>"
      ]
     },
     "metadata": {
      "needs_background": "light"
     },
     "output_type": "display_data"
    },
    {
     "name": "stdout",
     "output_type": "stream",
     "text": [
      "Best min_sample_leaf: {'min_samples_leaf': 1}\n",
      "Best score: 0.9371072965963478\n"
     ]
    }
   ],
   "source": [
    "#Min sample leaf\n",
    "\n",
    "dt_class = RandomForestClassifier(criterion = 'gini', random_state = 42)\n",
    "min_samples_leaf = list(range(1,100,10))\n",
    "\n",
    "param_grid = {'min_samples_leaf' : min_samples_leaf}\n",
    "grid_dt_class = GridSearchCV(estimator = dt_class, param_grid = param_grid, scoring = 'accuracy', n_jobs = -1, cv = 10, refit = True, return_train_score = True)\n",
    "\n",
    "grid_dt_class.fit(OHE_train, y_train)\n",
    "\n",
    "score = grid_dt_class.cv_results_['mean_test_score']\n",
    "\n",
    "plt.plot(min_samples_leaf, score)\n",
    "\n",
    "# Add labels and title\n",
    "plt.gca().set(xlabel='min_samples_leaf', ylabel='Accuracy Score',\n",
    "title='Score for different min_samples_leaf')\n",
    "plt.show()\n",
    "\n",
    "print(\"Best min_sample_leaf:\", grid_dt_class.best_params_)\n",
    "print(\"Best score:\", grid_dt_class.best_score_)"
   ]
  },
  {
   "cell_type": "code",
   "execution_count": 102,
   "metadata": {},
   "outputs": [
    {
     "data": {
      "image/png": "[encoded data removed]",
      "text/plain": [
       "<Figure size 432x288 with 1 Axes>"
      ]
     },
     "metadata": {
      "needs_background": "light"
     },
     "output_type": "display_data"
    },
    {
     "name": "stdout",
     "output_type": "stream",
     "text": [
      "Best max_features: {'max_features': 46}\n",
      "Best score: 0.9407689633967007\n"
     ]
    }
   ],
   "source": [
    "#Max features\n",
    "\n",
    "dt_class = RandomForestClassifier(criterion='gini', random_state = 42)\n",
    "max_features = list(range(1,55,5))\n",
    "\n",
    "param_grid = {'max_features': max_features}\n",
    "grid_dt_class = GridSearchCV(estimator = dt_class, param_grid = param_grid, scoring='accuracy', n_jobs=-1, cv = 10, refit=True, return_train_score=True)\n",
    "\n",
    "grid_dt_class.fit(OHE_train, y_train)\n",
    "\n",
    "score = grid_dt_class.cv_results_[\"mean_test_score\"]\n",
    "\n",
    "plt.plot(max_features, score)\n",
    "\n",
    "# Add labels and title\n",
    "plt.gca().set(xlabel='max_features', ylabel='Accuracy Score',\n",
    "title='Score for different max_features')\n",
    "plt.show()\n",
    "\n",
    "print(\"Best max_features:\", grid_dt_class.best_params_)\n",
    "print(\"Best score:\", grid_dt_class.best_score_)"
   ]
  },
  {
   "cell_type": "code",
   "execution_count": 103,
   "metadata": {},
   "outputs": [],
   "source": [
    "#Set max depth 20,40,50,60,70,80\n",
    "#Set min_samples_split 2,4,6,8 \n",
    "#Set min_sample_leaf 1,3,5\n",
    "#Set n_estimators"
   ]
  },
  {
   "cell_type": "code",
   "execution_count": 104,
   "metadata": {},
   "outputs": [
    {
     "name": "stdout",
     "output_type": "stream",
     "text": [
      "{'min_samples_split': 2, 'min_samples_leaf': 1, 'max_features': 40, 'max_depth': 70, 'criterion': 'entropy'}\n",
      "Model score:  0.9458824630357479\n"
     ]
    }
   ],
   "source": [
    "criterion = ['gini', 'entropy']\n",
    "max_depth = [20,40,50,60,70,80]\n",
    "min_samples_split = [2,4,6,8]\n",
    "min_samples_leaf = [1,3,5]\n",
    "max_features = [40,42,44,46,48,50]\n",
    "\n",
    "param_grid = {'criterion': criterion, 'max_depth': max_depth, 'min_samples_split': min_samples_split, 'min_samples_leaf': min_samples_leaf, 'max_features': max_features}\n",
    "dt_class = RandomForestClassifier(n_estimators=100, random_state = 42, criterion = 'gini')\n",
    "grid_dt_class = RandomizedSearchCV(estimator = dt_class, param_distributions = param_grid, scoring='accuracy', n_jobs=-1, cv = 10, refit=True, return_train_score=True, random_state=42)\n",
    "\n",
    "grid_dt_class.fit(OHE_train, y_train)\n",
    "\n",
    "print(grid_dt_class.best_params_)\n",
    "print(\"Model score: \", grid_dt_class.best_score_)"
   ]
  },
  {
   "cell_type": "code",
   "execution_count": 105,
   "metadata": {},
   "outputs": [
    {
     "name": "stdout",
     "output_type": "stream",
     "text": [
      "model_accuracy_score:  0.9254385964912281\n"
     ]
    }
   ],
   "source": [
    "#Find val score AUC using best model\n",
    "criterion=['entropy']\n",
    "max_depth = [70]\n",
    "min_samples_split = [2]\n",
    "min_samples_leaf = [1]\n",
    "max_features = [40]\n",
    "\n",
    "param_grid = {'criterion':criterion, 'max_depth': max_depth, 'min_samples_split': min_samples_split, 'min_samples_leaf': min_samples_leaf, 'max_features': max_features}\n",
    "dt_class = RandomForestClassifier(n_estimators=100, random_state = 42, criterion = 'gini')\n",
    "grid_dt_class = GridSearchCV(estimator = dt_class, param_grid = param_grid, scoring='accuracy', n_jobs=-1, cv = 10, refit=True, return_train_score=True)\n",
    "\n",
    "grid_dt_class.fit(OHE_train, y_train)\n",
    "\n",
    "model_rf = grid_dt_class.best_estimator_ \n",
    "y_predict_class = model_rf.predict(OHE_test)\n",
    "model_accuracy_score = accuracy_score(y_test, y_predict_class)\n",
    "\n",
    "print(\"model_accuracy_score: \",model_accuracy_score)"
   ]
  },
  {
   "cell_type": "markdown",
   "metadata": {},
   "source": [
    "# GridSearch"
   ]
  },
  {
   "cell_type": "code",
   "execution_count": 78,
   "metadata": {},
   "outputs": [],
   "source": [
    "# from sklearn.ensemble import RandomForestClassifier\n",
    "# classifier = RandomForestClassifier()\n",
    "# classifier.get_params().keys()"
   ]
  },
  {
   "cell_type": "code",
   "execution_count": 79,
   "metadata": {},
   "outputs": [],
   "source": [
    "# from sklearn.model_selection import GridSearchCV\n",
    "# # Create the parameter grid based on the results of random search \n",
    "# param_grid = {\n",
    "#     'criterion': ['gini', 'entropy'],\n",
    "#     'max_depth': [4, 5, 6, 7],\n",
    "#     'min_samples_split': [2, 8, 10, 12],\n",
    "#     'n_estimators': [100, 200, 300, 500]\n",
    "# }\n",
    "# # Create a based model\n",
    "# rf = RandomForestClassifier()\n",
    "# # Instantiate the grid search model\n",
    "# grid_search = GridSearchCV(estimator = rf, param_grid = param_grid, \n",
    "#                           cv = 3, n_jobs = -1, verbose = 2)\n",
    "\n",
    "# # Fit the grid search to the data\n",
    "# grid_search.fit(OHE_train, y_train)\n",
    "# grid_search.best_params_"
   ]
  },
  {
   "cell_type": "markdown",
   "metadata": {},
   "source": [
    "# Random Forest"
   ]
  },
  {
   "cell_type": "code",
   "execution_count": 106,
   "metadata": {},
   "outputs": [],
   "source": [
    "from numpy import *\n",
    "random.seed(4222)\n",
    "classifier = RandomForestClassifier(min_samples_split=2, max_features=40, max_depth=70, criterion='entropy')\n",
    "#{'min_samples_split': 2, 'min_samples_leaf': 1, 'max_features': 40, 'max_depth': 70, 'criterion': 'entropy'}"
   ]
  },
  {
   "cell_type": "code",
   "execution_count": 107,
   "metadata": {},
   "outputs": [
    {
     "name": "stdout",
     "output_type": "stream",
     "text": [
      "(2735, 1322)\n",
      "(2735,)\n",
      "(684, 1322)\n",
      "(684,)\n"
     ]
    }
   ],
   "source": [
    "print(OHE_train.shape)\n",
    "print(y_train.shape)\n",
    "print(OHE_test.shape)\n",
    "print(y_test.shape)"
   ]
  },
  {
   "cell_type": "code",
   "execution_count": 108,
   "metadata": {},
   "outputs": [
    {
     "data": {
      "text/plain": [
       "RandomForestClassifier(criterion='entropy', max_depth=70, max_features=40)"
      ]
     },
     "execution_count": 108,
     "metadata": {},
     "output_type": "execute_result"
    }
   ],
   "source": [
    "classifier.fit(OHE_train, y_train)"
   ]
  },
  {
   "cell_type": "markdown",
   "metadata": {},
   "source": [
    "# Model Evaluation"
   ]
  },
  {
   "cell_type": "code",
   "execution_count": 109,
   "metadata": {},
   "outputs": [
    {
     "name": "stdout",
     "output_type": "stream",
     "text": [
      "\n",
      "The evaluation report is:\n",
      "Confusion Matrix:\n",
      "[[221  37]\n",
      " [ 14 412]]\n",
      "Accuracy: 0.9254385964912281\n",
      "\n"
     ]
    }
   ],
   "source": [
    "# Evaluate Model \n",
    "y_predict_class = classifier.predict(OHE_test)\n",
    "\n",
    "report = \"\"\"\n",
    "The evaluation report is:\n",
    "Confusion Matrix:\n",
    "{}\n",
    "Accuracy: {}\n",
    "\"\"\".format(confusion_matrix(y_test, y_predict_class),\n",
    "           accuracy_score(y_test, y_predict_class))\n",
    "print(report)"
   ]
  },
  {
   "cell_type": "markdown",
   "metadata": {},
   "source": [
    "# Feature Importance"
   ]
  },
  {
   "cell_type": "code",
   "execution_count": 110,
   "metadata": {
    "scrolled": true
   },
   "outputs": [
    {
     "name": "stdout",
     "output_type": "stream",
     "text": [
      "Top 3 most important features: \n",
      "\n",
      "1: backers_count, Score: 0.211 \n",
      "2: pledged, Score: 0.182 \n",
      "3: avg_fund_per_backer, Score: 0.098 \n"
     ]
    }
   ],
   "source": [
    "important_features_dict = {}\n",
    "importance = classifier.feature_importances_\n",
    "for i, v in enumerate(importance):\n",
    "    important_features_dict[i] = v\n",
    "\n",
    "top_idx = sorted(important_features_dict,\n",
    "                                 key=important_features_dict.get,\n",
    "                                 reverse=True)[:10]\n",
    "\n",
    "top_features_names = OHE_train.columns[top_idx]\n",
    "top_features_scores = importance[top_idx]\n",
    "\n",
    "print('Top 3 most important features: \\n')\n",
    "\n",
    "for i in range(3):\n",
    "    print('%s: %s, Score: %.3f ' % (i+1, top_features_names[i], top_features_scores[i]))\n"
   ]
  },
  {
   "cell_type": "code",
   "execution_count": null,
   "metadata": {},
   "outputs": [],
   "source": []
  }
 ],
 "metadata": {
  "kernelspec": {
   "display_name": "Python 3",
   "language": "python",
   "name": "python3"
  },
  "language_info": {
   "codemirror_mode": {
    "name": "ipython",
    "version": 3
   },
   "file_extension": ".py",
   "mimetype": "text/x-python",
   "name": "python",
   "nbconvert_exporter": "python",
   "pygments_lexer": "ipython3",
   "version": "3.8.3"
  }
 },
 "nbformat": 4,
 "nbformat_minor": 4
}
