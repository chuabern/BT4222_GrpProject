{
 "cells": [
  {
   "cell_type": "code",
   "execution_count": 126,
   "metadata": {},
   "outputs": [],
   "source": [
    "import pandas as pd\n",
    "import numpy as np\n",
    "import json \n",
    "import matplotlib.pyplot as plt\n",
    "import seaborn as sns\n",
    "\n",
    "from sklearn import tree, model_selection, metrics\n",
    "from sklearn.preprocessing import LabelEncoder\n",
    "from sklearn.metrics import confusion_matrix, accuracy_score, mean_squared_error\n",
    "from sklearn.preprocessing import OneHotEncoder"
   ]
  },
  {
   "cell_type": "code",
   "execution_count": 127,
   "metadata": {},
   "outputs": [
    {
     "name": "stdout",
     "output_type": "stream",
     "text": [
      "(1000, 32)\n",
      "(985, 32)\n"
     ]
    }
   ],
   "source": [
    "df = pd.read_csv(\"./Output/Combined_dataset.csv\")\n",
    "df = df.drop('Unnamed: 0', axis=1)\n",
    "print(df.shape)\n",
    "\n",
    "# Drop duplicates\n",
    "df = df.drop_duplicates('id', keep ='first')\n",
    "print(df.shape)"
   ]
  },
  {
   "cell_type": "code",
   "execution_count": 128,
   "metadata": {},
   "outputs": [
    {
     "data": {
      "text/html": [
       "<div>\n",
       "<style scoped>\n",
       "    .dataframe tbody tr th:only-of-type {\n",
       "        vertical-align: middle;\n",
       "    }\n",
       "\n",
       "    .dataframe tbody tr th {\n",
       "        vertical-align: top;\n",
       "    }\n",
       "\n",
       "    .dataframe thead th {\n",
       "        text-align: right;\n",
       "    }\n",
       "</style>\n",
       "<table border=\"1\" class=\"dataframe\">\n",
       "  <thead>\n",
       "    <tr style=\"text-align: right;\">\n",
       "      <th></th>\n",
       "      <th>backers_count</th>\n",
       "      <th>blurb</th>\n",
       "      <th>category</th>\n",
       "      <th>converted_pledged_amount</th>\n",
       "      <th>country</th>\n",
       "      <th>created_at</th>\n",
       "      <th>current_currency</th>\n",
       "      <th>deadline</th>\n",
       "      <th>fx_rate</th>\n",
       "      <th>goal</th>\n",
       "      <th>...</th>\n",
       "      <th>usd_pledged</th>\n",
       "      <th>usd_type</th>\n",
       "      <th>story</th>\n",
       "      <th>faq</th>\n",
       "      <th>num_faq</th>\n",
       "      <th>comments</th>\n",
       "      <th>n_comments</th>\n",
       "      <th>duration</th>\n",
       "      <th>parent_category</th>\n",
       "      <th>category_name</th>\n",
       "    </tr>\n",
       "  </thead>\n",
       "  <tbody>\n",
       "    <tr>\n",
       "      <th>856</th>\n",
       "      <td>105</td>\n",
       "      <td>Premium sportswear for trail mountainbikers! \\...</td>\n",
       "      <td>{'id': 263, 'name': 'Apparel', 'slug': 'fashio...</td>\n",
       "      <td>16865</td>\n",
       "      <td>AT</td>\n",
       "      <td>2017-07-14 16:26</td>\n",
       "      <td>USD</td>\n",
       "      <td>2017-12-30 14:00</td>\n",
       "      <td>1.212886</td>\n",
       "      <td>10000</td>\n",
       "      <td>...</td>\n",
       "      <td>16656.92955</td>\n",
       "      <td>international</td>\n",
       "      <td>Der Moment, wenn du nach einem flowigen Downhi...</td>\n",
       "      <td>['   ']</td>\n",
       "      <td>0</td>\n",
       "      <td>No comments yet.</td>\n",
       "      <td>0.0</td>\n",
       "      <td>30</td>\n",
       "      <td>Fashion</td>\n",
       "      <td>Apparel</td>\n",
       "    </tr>\n",
       "  </tbody>\n",
       "</table>\n",
       "<p>1 rows × 34 columns</p>\n",
       "</div>"
      ],
      "text/plain": [
       "     backers_count                                              blurb  \\\n",
       "856            105  Premium sportswear for trail mountainbikers! \\...   \n",
       "\n",
       "                                              category  \\\n",
       "856  {'id': 263, 'name': 'Apparel', 'slug': 'fashio...   \n",
       "\n",
       "     converted_pledged_amount country        created_at current_currency  \\\n",
       "856                     16865      AT  2017-07-14 16:26              USD   \n",
       "\n",
       "             deadline   fx_rate   goal  ...  usd_pledged       usd_type  \\\n",
       "856  2017-12-30 14:00  1.212886  10000  ...  16656.92955  international   \n",
       "\n",
       "                                                 story      faq  num_faq  \\\n",
       "856  Der Moment, wenn du nach einem flowigen Downhi...  ['   ']        0   \n",
       "\n",
       "             comments n_comments duration  parent_category  category_name  \n",
       "856  No comments yet.        0.0       30          Fashion        Apparel  \n",
       "\n",
       "[1 rows x 34 columns]"
      ]
     },
     "execution_count": 128,
     "metadata": {},
     "output_type": "execute_result"
    }
   ],
   "source": [
    "# Convert numeric cols to int/floats\n",
    "df['duration'] = pd.to_numeric(pd.to_timedelta(df['duration']).dt.days, downcast='integer')\n",
    "df['num_faq'] = df['num_faq'].astype(int)\n",
    "df['n_comments'] = df['n_comments'].str.replace(',', '').astype(float)\n",
    "\n",
    "#clean up comments\n",
    "df['comments'] = df['comments'].apply(lambda x: x.replace('Only backers can post comments. Log in\\n',\"\"))\n",
    "\n",
    "# Convert rows from str to dict\n",
    "def string_to_dict(dict_string):\n",
    "    # Convert to proper json format\n",
    "    dict_string = dict_string.replace(\"'\", \"'\").replace('u\"', '\"')\n",
    "    return json.loads(dict_string)\n",
    "\n",
    "df.category = df.category.apply(string_to_dict)\n",
    "\n",
    "# Get category values from dictionary\n",
    "df['parent_category'] = [d.get('parent_name') for d in df.category]\n",
    "df['category_name'] = [d.get('name') for d in df.category]\n",
    "df[\"parent_category\"].fillna(\"No Parent Category\", inplace = True)\n",
    "#df['country_parentCategory'] = df['country'] * df['parent_category']\n",
    "\n",
    "# Fill na for text cols\n",
    "df[\"story\"].fillna(\" \", inplace = True)\n",
    "\n",
    "df.state = df.state.astype('category').cat.codes\n",
    "\n",
    "df.sample(1)"
   ]
  },
  {
   "cell_type": "code",
   "execution_count": 129,
   "metadata": {},
   "outputs": [],
   "source": [
    "# only keep english projects\n",
    "from langdetect import detect\n",
    "df['language'] = [detect(text) for text in df.blurb]\n",
    "df = df.loc[df['language'] == \"en\"]"
   ]
  },
  {
   "cell_type": "code",
   "execution_count": 130,
   "metadata": {},
   "outputs": [
    {
     "data": {
      "text/plain": [
       "(919, 35)"
      ]
     },
     "execution_count": 130,
     "metadata": {},
     "output_type": "execute_result"
    }
   ],
   "source": [
    "# check shape of df after removing non-english projects\n",
    "df.shape"
   ]
  },
  {
   "cell_type": "code",
   "execution_count": 131,
   "metadata": {},
   "outputs": [
    {
     "data": {
      "text/plain": [
       "Index(['backers_count', 'blurb', 'category', 'converted_pledged_amount',\n",
       "       'country', 'created_at', 'current_currency', 'deadline', 'fx_rate',\n",
       "       'goal', 'id', 'launched_at', 'location', 'name', 'pledged', 'profile',\n",
       "       'slug', 'source_url', 'spotlight', 'staff_pick', 'state',\n",
       "       'state_changed_at', 'static_usd_rate', 'urls', 'usd_pledged',\n",
       "       'usd_type', 'story', 'faq', 'num_faq', 'comments', 'n_comments',\n",
       "       'duration', 'parent_category', 'category_name', 'language'],\n",
       "      dtype='object')"
      ]
     },
     "execution_count": 131,
     "metadata": {},
     "output_type": "execute_result"
    }
   ],
   "source": [
    "df.columns"
   ]
  },
  {
   "cell_type": "markdown",
   "metadata": {},
   "source": [
    "# Feature Engineering"
   ]
  },
  {
   "cell_type": "code",
   "execution_count": 132,
   "metadata": {},
   "outputs": [],
   "source": [
    "# Get month/year of launch/deadline\n",
    "df['month_launched'] = pd.DatetimeIndex(df['launched_at']).month\n",
    "df['year_launched'] = pd.DatetimeIndex(df['launched_at']).year\n",
    "#df['month_deadline'] = pd.DatetimeIndex(df['deadline']).month\n",
    "#df['year_deadline'] = pd.DatetimeIndex(df['deadline']).year"
   ]
  },
  {
   "cell_type": "code",
   "execution_count": 133,
   "metadata": {},
   "outputs": [
    {
     "data": {
      "image/png": "[encoded data removed]",
      "text/plain": [
       "<Figure size 1152x720 with 2 Axes>"
      ]
     },
     "metadata": {
      "needs_background": "light"
     },
     "output_type": "display_data"
    }
   ],
   "source": [
    "plt.figure(figsize=(16,10))\n",
    "cor = df.corr()\n",
    "sns.heatmap(cor, annot=True, cmap=plt.cm.Reds)\n",
    "plt.show()"
   ]
  },
  {
   "cell_type": "code",
   "execution_count": 134,
   "metadata": {},
   "outputs": [],
   "source": [
    "cols_to_drop = ['profile', 'category', 'created_at', 'location', 'current_currency', 'deadline', 'id', 'launched_at', 'slug', 'source_url', 'state_changed_at', 'urls', 'static_usd_rate', 'usd_pledged', 'converted_pledged_amount', 'spotlight', 'language']\n",
    "df = df.drop(cols_to_drop, axis=1)"
   ]
  },
  {
   "cell_type": "code",
   "execution_count": 135,
   "metadata": {},
   "outputs": [],
   "source": [
    "categorical_cols = ['country', 'staff_pick', 'usd_type', 'parent_category', 'category_name']\n",
    "num_cols = ['backers_count', 'fx_rate', 'goal', 'pledged', 'num_faq', 'n_comments', 'duration', 'month_launched', 'year_launched']\n",
    "text_cols = ['blurb', 'name', 'story', 'faq', 'comments']"
   ]
  },
  {
   "cell_type": "code",
   "execution_count": 136,
   "metadata": {},
   "outputs": [
    {
     "data": {
      "text/html": [
       "<div>\n",
       "<style scoped>\n",
       "    .dataframe tbody tr th:only-of-type {\n",
       "        vertical-align: middle;\n",
       "    }\n",
       "\n",
       "    .dataframe tbody tr th {\n",
       "        vertical-align: top;\n",
       "    }\n",
       "\n",
       "    .dataframe thead th {\n",
       "        text-align: right;\n",
       "    }\n",
       "</style>\n",
       "<table border=\"1\" class=\"dataframe\">\n",
       "  <thead>\n",
       "    <tr style=\"text-align: right;\">\n",
       "      <th></th>\n",
       "      <th>backers_count</th>\n",
       "      <th>country</th>\n",
       "      <th>fx_rate</th>\n",
       "      <th>goal</th>\n",
       "      <th>pledged</th>\n",
       "      <th>staff_pick</th>\n",
       "      <th>state</th>\n",
       "      <th>usd_type</th>\n",
       "      <th>num_faq</th>\n",
       "      <th>n_comments</th>\n",
       "      <th>duration</th>\n",
       "      <th>parent_category</th>\n",
       "      <th>category_name</th>\n",
       "      <th>month_launched</th>\n",
       "      <th>year_launched</th>\n",
       "      <th>blurb_sentiment</th>\n",
       "      <th>name_sentiment</th>\n",
       "      <th>story_sentiment</th>\n",
       "      <th>faq_sentiment</th>\n",
       "      <th>comments_sentiment</th>\n",
       "    </tr>\n",
       "  </thead>\n",
       "  <tbody>\n",
       "    <tr>\n",
       "      <th>0</th>\n",
       "      <td>1</td>\n",
       "      <td>ES</td>\n",
       "      <td>1.212886</td>\n",
       "      <td>15000</td>\n",
       "      <td>1.0</td>\n",
       "      <td>False</td>\n",
       "      <td>0</td>\n",
       "      <td>domestic</td>\n",
       "      <td>0</td>\n",
       "      <td>0.0</td>\n",
       "      <td>30</td>\n",
       "      <td>Technology</td>\n",
       "      <td>3D Printing</td>\n",
       "      <td>6</td>\n",
       "      <td>2016</td>\n",
       "      <td>0.0</td>\n",
       "      <td>0.0</td>\n",
       "      <td>0.160156</td>\n",
       "      <td>0.0</td>\n",
       "      <td>0.0</td>\n",
       "    </tr>\n",
       "    <tr>\n",
       "      <th>1</th>\n",
       "      <td>2</td>\n",
       "      <td>NZ</td>\n",
       "      <td>0.723585</td>\n",
       "      <td>5000</td>\n",
       "      <td>15.0</td>\n",
       "      <td>False</td>\n",
       "      <td>0</td>\n",
       "      <td>domestic</td>\n",
       "      <td>0</td>\n",
       "      <td>0.0</td>\n",
       "      <td>30</td>\n",
       "      <td>Food</td>\n",
       "      <td>Farms</td>\n",
       "      <td>8</td>\n",
       "      <td>2015</td>\n",
       "      <td>0.2</td>\n",
       "      <td>0.4</td>\n",
       "      <td>0.357143</td>\n",
       "      <td>0.0</td>\n",
       "      <td>0.0</td>\n",
       "    </tr>\n",
       "    <tr>\n",
       "      <th>2</th>\n",
       "      <td>0</td>\n",
       "      <td>US</td>\n",
       "      <td>1.000000</td>\n",
       "      <td>10000</td>\n",
       "      <td>0.0</td>\n",
       "      <td>False</td>\n",
       "      <td>0</td>\n",
       "      <td>domestic</td>\n",
       "      <td>0</td>\n",
       "      <td>0.0</td>\n",
       "      <td>29</td>\n",
       "      <td>Art</td>\n",
       "      <td>Mixed Media</td>\n",
       "      <td>4</td>\n",
       "      <td>2015</td>\n",
       "      <td>0.5</td>\n",
       "      <td>0.5</td>\n",
       "      <td>0.143182</td>\n",
       "      <td>0.0</td>\n",
       "      <td>0.0</td>\n",
       "    </tr>\n",
       "  </tbody>\n",
       "</table>\n",
       "</div>"
      ],
      "text/plain": [
       "   backers_count country   fx_rate   goal  pledged  staff_pick  state  \\\n",
       "0              1      ES  1.212886  15000      1.0       False      0   \n",
       "1              2      NZ  0.723585   5000     15.0       False      0   \n",
       "2              0      US  1.000000  10000      0.0       False      0   \n",
       "\n",
       "   usd_type  num_faq  n_comments  duration parent_category category_name  \\\n",
       "0  domestic        0         0.0        30      Technology   3D Printing   \n",
       "1  domestic        0         0.0        30            Food         Farms   \n",
       "2  domestic        0         0.0        29             Art   Mixed Media   \n",
       "\n",
       "   month_launched  year_launched  blurb_sentiment  name_sentiment  \\\n",
       "0               6           2016              0.0             0.0   \n",
       "1               8           2015              0.2             0.4   \n",
       "2               4           2015              0.5             0.5   \n",
       "\n",
       "   story_sentiment  faq_sentiment  comments_sentiment  \n",
       "0         0.160156            0.0                 0.0  \n",
       "1         0.357143            0.0                 0.0  \n",
       "2         0.143182            0.0                 0.0  "
      ]
     },
     "execution_count": 136,
     "metadata": {},
     "output_type": "execute_result"
    }
   ],
   "source": [
    "# Text Analysis using TextBlob\n",
    "from textblob import TextBlob\n",
    "\n",
    "# define a function that accepts text and returns the polarity\n",
    "def detect_sentiment(text):\n",
    "    # use this line for Python 2 (avoids UnicodeDecodeError for some reviews)\n",
    "    # blob = TextBlob(text.decode(encoding='utf-8'))\n",
    "    \n",
    "    # use this line instead for Python 3\n",
    "    blob = TextBlob(text)\n",
    "    \n",
    "    # return the polarity\n",
    "    return blob.sentiment.polarity\n",
    "\n",
    "# create a new DataFrame column for sentiment \n",
    "for col in text_cols:\n",
    "    col_name = col + '_sentiment'\n",
    "    df[col_name] = df[col].apply(detect_sentiment)\n",
    "    \n",
    "df = df.drop(text_cols, axis=1)\n",
    "df.head(3)"
   ]
  },
  {
   "cell_type": "code",
   "execution_count": 137,
   "metadata": {},
   "outputs": [],
   "source": [
    "# # Text Analysis using Afinn\n",
    "# from afinn import Afinn\n",
    "# afinn = Afinn(emoticons=True)\n",
    "\n",
    "# # define a function that accepts text and returns the polarity\n",
    "# def detect_sentiment(text):\n",
    "#     #afinn = Afinn(emoticons=True)\n",
    "#     return afinn.score(text)\n",
    "\n",
    "# # create a new DataFrame column for sentiment \n",
    "# for col in text_cols:\n",
    "#     col_name = col + '_sentiment'\n",
    "#     df[col_name] = df[col].apply(detect_sentiment)\n",
    "    \n",
    "# df = df.drop(text_cols, axis=1)\n",
    "# df.head(3)"
   ]
  },
  {
   "cell_type": "markdown",
   "metadata": {},
   "source": [
    "# Feature Transformation"
   ]
  },
  {
   "cell_type": "code",
   "execution_count": 138,
   "metadata": {},
   "outputs": [],
   "source": [
    "# Split dataset\n",
    "X = df.drop('state', axis=1)\n",
    "y = df.state\n",
    "#y.mean() #0.6370449678800857\n",
    "\n",
    "# stratify y\n",
    "X_train, X_test, y_train, y_test = model_selection.train_test_split(X, y, test_size=0.2, random_state=2019, stratify=y)"
   ]
  },
  {
   "cell_type": "code",
   "execution_count": 139,
   "metadata": {},
   "outputs": [],
   "source": [
    "# One Hot Encoding\n",
    "from pandas.api.types import CategoricalDtype \n",
    "\n",
    "OHE_df = pd.DataFrame()\n",
    "\n",
    "for i in categorical_cols:\n",
    "    OHE_df[i] = X_train[i].astype(CategoricalDtype(list(set(X[i]))))\n",
    "    \n",
    "    OHE_df = pd.concat([OHE_df, pd.get_dummies(X[i], prefix=i)],axis=1)"
   ]
  },
  {
   "cell_type": "code",
   "execution_count": 140,
   "metadata": {},
   "outputs": [
    {
     "data": {
      "text/plain": [
       "['country',\n",
       " 'country_AT',\n",
       " 'country_AU',\n",
       " 'country_BE',\n",
       " 'country_CA',\n",
       " 'country_CH',\n",
       " 'country_DE',\n",
       " 'country_DK',\n",
       " 'country_ES',\n",
       " 'country_FR',\n",
       " 'country_GB',\n",
       " 'country_HK',\n",
       " 'country_IE',\n",
       " 'country_IT',\n",
       " 'country_JP',\n",
       " 'country_LU',\n",
       " 'country_MX',\n",
       " 'country_NL',\n",
       " 'country_NO',\n",
       " 'country_NZ',\n",
       " 'country_SE',\n",
       " 'country_SG',\n",
       " 'country_US',\n",
       " 'staff_pick',\n",
       " 'staff_pick_False',\n",
       " 'staff_pick_True',\n",
       " 'usd_type',\n",
       " 'usd_type_domestic',\n",
       " 'usd_type_international',\n",
       " 'parent_category',\n",
       " 'parent_category_Art',\n",
       " 'parent_category_Comics',\n",
       " 'parent_category_Crafts',\n",
       " 'parent_category_Dance',\n",
       " 'parent_category_Fashion',\n",
       " 'parent_category_Film & Video',\n",
       " 'parent_category_Food',\n",
       " 'parent_category_Games',\n",
       " 'parent_category_Journalism',\n",
       " 'parent_category_Music',\n",
       " 'parent_category_No Parent Category',\n",
       " 'parent_category_Photography',\n",
       " 'parent_category_Publishing',\n",
       " 'parent_category_Technology',\n",
       " 'parent_category_Theater',\n",
       " 'category_name',\n",
       " 'category_name_3D Printing',\n",
       " 'category_name_Academic',\n",
       " 'category_name_Accessories',\n",
       " 'category_name_Action',\n",
       " 'category_name_Animals',\n",
       " 'category_name_Anthologies',\n",
       " 'category_name_Apparel',\n",
       " 'category_name_Art',\n",
       " 'category_name_Art Books',\n",
       " 'category_name_Audio',\n",
       " 'category_name_Calendars',\n",
       " 'category_name_Camera Equipment',\n",
       " 'category_name_Ceramics',\n",
       " \"category_name_Children's Books\",\n",
       " 'category_name_Comedy',\n",
       " 'category_name_Conceptual Art',\n",
       " 'category_name_DIY Electronics',\n",
       " 'category_name_Dance',\n",
       " 'category_name_Digital Art',\n",
       " 'category_name_Documentary',\n",
       " 'category_name_Drama',\n",
       " 'category_name_Drinks',\n",
       " 'category_name_Farms',\n",
       " 'category_name_Festivals',\n",
       " 'category_name_Fiction',\n",
       " 'category_name_Fine Art',\n",
       " 'category_name_Gadgets',\n",
       " 'category_name_Graphic Novels',\n",
       " 'category_name_Horror',\n",
       " 'category_name_Illustration',\n",
       " 'category_name_Installations',\n",
       " 'category_name_Journalism',\n",
       " 'category_name_Live Games',\n",
       " 'category_name_Makerspaces',\n",
       " 'category_name_Metal',\n",
       " 'category_name_Mixed Media',\n",
       " 'category_name_Mobile Games',\n",
       " 'category_name_Movie Theaters',\n",
       " 'category_name_Nonfiction',\n",
       " 'category_name_Painting',\n",
       " 'category_name_People',\n",
       " 'category_name_Performances',\n",
       " 'category_name_Periodicals',\n",
       " 'category_name_Photo',\n",
       " 'category_name_Photobooks',\n",
       " 'category_name_Places',\n",
       " 'category_name_Plays',\n",
       " 'category_name_Poetry',\n",
       " 'category_name_Print',\n",
       " 'category_name_Publishing',\n",
       " 'category_name_Residencies',\n",
       " 'category_name_Rock',\n",
       " 'category_name_Romance',\n",
       " 'category_name_Small Batch',\n",
       " 'category_name_Social Practice',\n",
       " 'category_name_Software',\n",
       " 'category_name_Space Exploration',\n",
       " 'category_name_Spaces',\n",
       " 'category_name_Stationery',\n",
       " 'category_name_Tabletop Games',\n",
       " 'category_name_Television',\n",
       " 'category_name_Video Games',\n",
       " 'category_name_Web',\n",
       " 'category_name_Workshops',\n",
       " 'category_name_World Music',\n",
       " 'category_name_Young Adult']"
      ]
     },
     "execution_count": 140,
     "metadata": {},
     "output_type": "execute_result"
    }
   ],
   "source": [
    "OHE_df.columns.tolist()"
   ]
  },
  {
   "cell_type": "markdown",
   "metadata": {},
   "source": [
    "# Feature Cross"
   ]
  },
  {
   "cell_type": "code",
   "execution_count": 141,
   "metadata": {},
   "outputs": [
    {
     "data": {
      "text/plain": [
       "{'country_AT-parent_category_Art': 1,\n",
       " 'country_AT-parent_category_Comics': 2,\n",
       " 'country_AT-parent_category_Crafts': 3,\n",
       " 'country_AT-parent_category_Dance': 4,\n",
       " 'country_AT-parent_category_Fashion': 5,\n",
       " 'country_AT-parent_category_Film & Video': 6,\n",
       " 'country_AT-parent_category_Food': 7,\n",
       " 'country_AT-parent_category_Games': 8,\n",
       " 'country_AT-parent_category_Journalism': 9,\n",
       " 'country_AT-parent_category_Music': 10,\n",
       " 'country_AT-parent_category_No Parent Category': 11,\n",
       " 'country_AT-parent_category_Photography': 12,\n",
       " 'country_AT-parent_category_Publishing': 13,\n",
       " 'country_AT-parent_category_Technology': 14,\n",
       " 'country_AT-parent_category_Theater': 15,\n",
       " 'country_AU-parent_category_Art': 16,\n",
       " 'country_AU-parent_category_Comics': 17,\n",
       " 'country_AU-parent_category_Crafts': 18,\n",
       " 'country_AU-parent_category_Dance': 19,\n",
       " 'country_AU-parent_category_Fashion': 20,\n",
       " 'country_AU-parent_category_Film & Video': 21,\n",
       " 'country_AU-parent_category_Food': 22,\n",
       " 'country_AU-parent_category_Games': 23,\n",
       " 'country_AU-parent_category_Journalism': 24,\n",
       " 'country_AU-parent_category_Music': 25,\n",
       " 'country_AU-parent_category_No Parent Category': 26,\n",
       " 'country_AU-parent_category_Photography': 27,\n",
       " 'country_AU-parent_category_Publishing': 28,\n",
       " 'country_AU-parent_category_Technology': 29,\n",
       " 'country_AU-parent_category_Theater': 30,\n",
       " 'country_BE-parent_category_Art': 31,\n",
       " 'country_BE-parent_category_Comics': 32,\n",
       " 'country_BE-parent_category_Crafts': 33,\n",
       " 'country_BE-parent_category_Dance': 34,\n",
       " 'country_BE-parent_category_Fashion': 35,\n",
       " 'country_BE-parent_category_Film & Video': 36,\n",
       " 'country_BE-parent_category_Food': 37,\n",
       " 'country_BE-parent_category_Games': 38,\n",
       " 'country_BE-parent_category_Journalism': 39,\n",
       " 'country_BE-parent_category_Music': 40,\n",
       " 'country_BE-parent_category_No Parent Category': 41,\n",
       " 'country_BE-parent_category_Photography': 42,\n",
       " 'country_BE-parent_category_Publishing': 43,\n",
       " 'country_BE-parent_category_Technology': 44,\n",
       " 'country_BE-parent_category_Theater': 45,\n",
       " 'country_CA-parent_category_Art': 46,\n",
       " 'country_CA-parent_category_Comics': 47,\n",
       " 'country_CA-parent_category_Crafts': 48,\n",
       " 'country_CA-parent_category_Dance': 49,\n",
       " 'country_CA-parent_category_Fashion': 50,\n",
       " 'country_CA-parent_category_Film & Video': 51,\n",
       " 'country_CA-parent_category_Food': 52,\n",
       " 'country_CA-parent_category_Games': 53,\n",
       " 'country_CA-parent_category_Journalism': 54,\n",
       " 'country_CA-parent_category_Music': 55,\n",
       " 'country_CA-parent_category_No Parent Category': 56,\n",
       " 'country_CA-parent_category_Photography': 57,\n",
       " 'country_CA-parent_category_Publishing': 58,\n",
       " 'country_CA-parent_category_Technology': 59,\n",
       " 'country_CA-parent_category_Theater': 60,\n",
       " 'country_CH-parent_category_Art': 61,\n",
       " 'country_CH-parent_category_Comics': 62,\n",
       " 'country_CH-parent_category_Crafts': 63,\n",
       " 'country_CH-parent_category_Dance': 64,\n",
       " 'country_CH-parent_category_Fashion': 65,\n",
       " 'country_CH-parent_category_Film & Video': 66,\n",
       " 'country_CH-parent_category_Food': 67,\n",
       " 'country_CH-parent_category_Games': 68,\n",
       " 'country_CH-parent_category_Journalism': 69,\n",
       " 'country_CH-parent_category_Music': 70,\n",
       " 'country_CH-parent_category_No Parent Category': 71,\n",
       " 'country_CH-parent_category_Photography': 72,\n",
       " 'country_CH-parent_category_Publishing': 73,\n",
       " 'country_CH-parent_category_Technology': 74,\n",
       " 'country_CH-parent_category_Theater': 75,\n",
       " 'country_DE-parent_category_Art': 76,\n",
       " 'country_DE-parent_category_Comics': 77,\n",
       " 'country_DE-parent_category_Crafts': 78,\n",
       " 'country_DE-parent_category_Dance': 79,\n",
       " 'country_DE-parent_category_Fashion': 80,\n",
       " 'country_DE-parent_category_Film & Video': 81,\n",
       " 'country_DE-parent_category_Food': 82,\n",
       " 'country_DE-parent_category_Games': 83,\n",
       " 'country_DE-parent_category_Journalism': 84,\n",
       " 'country_DE-parent_category_Music': 85,\n",
       " 'country_DE-parent_category_No Parent Category': 86,\n",
       " 'country_DE-parent_category_Photography': 87,\n",
       " 'country_DE-parent_category_Publishing': 88,\n",
       " 'country_DE-parent_category_Technology': 89,\n",
       " 'country_DE-parent_category_Theater': 90,\n",
       " 'country_DK-parent_category_Art': 91,\n",
       " 'country_DK-parent_category_Comics': 92,\n",
       " 'country_DK-parent_category_Crafts': 93,\n",
       " 'country_DK-parent_category_Dance': 94,\n",
       " 'country_DK-parent_category_Fashion': 95,\n",
       " 'country_DK-parent_category_Film & Video': 96,\n",
       " 'country_DK-parent_category_Food': 97,\n",
       " 'country_DK-parent_category_Games': 98,\n",
       " 'country_DK-parent_category_Journalism': 99,\n",
       " 'country_DK-parent_category_Music': 100,\n",
       " 'country_DK-parent_category_No Parent Category': 101,\n",
       " 'country_DK-parent_category_Photography': 102,\n",
       " 'country_DK-parent_category_Publishing': 103,\n",
       " 'country_DK-parent_category_Technology': 104,\n",
       " 'country_DK-parent_category_Theater': 105,\n",
       " 'country_ES-parent_category_Art': 106,\n",
       " 'country_ES-parent_category_Comics': 107,\n",
       " 'country_ES-parent_category_Crafts': 108,\n",
       " 'country_ES-parent_category_Dance': 109,\n",
       " 'country_ES-parent_category_Fashion': 110,\n",
       " 'country_ES-parent_category_Film & Video': 111,\n",
       " 'country_ES-parent_category_Food': 112,\n",
       " 'country_ES-parent_category_Games': 113,\n",
       " 'country_ES-parent_category_Journalism': 114,\n",
       " 'country_ES-parent_category_Music': 115,\n",
       " 'country_ES-parent_category_No Parent Category': 116,\n",
       " 'country_ES-parent_category_Photography': 117,\n",
       " 'country_ES-parent_category_Publishing': 118,\n",
       " 'country_ES-parent_category_Technology': 119,\n",
       " 'country_ES-parent_category_Theater': 120,\n",
       " 'country_FR-parent_category_Art': 121,\n",
       " 'country_FR-parent_category_Comics': 122,\n",
       " 'country_FR-parent_category_Crafts': 123,\n",
       " 'country_FR-parent_category_Dance': 124,\n",
       " 'country_FR-parent_category_Fashion': 125,\n",
       " 'country_FR-parent_category_Film & Video': 126,\n",
       " 'country_FR-parent_category_Food': 127,\n",
       " 'country_FR-parent_category_Games': 128,\n",
       " 'country_FR-parent_category_Journalism': 129,\n",
       " 'country_FR-parent_category_Music': 130,\n",
       " 'country_FR-parent_category_No Parent Category': 131,\n",
       " 'country_FR-parent_category_Photography': 132,\n",
       " 'country_FR-parent_category_Publishing': 133,\n",
       " 'country_FR-parent_category_Technology': 134,\n",
       " 'country_FR-parent_category_Theater': 135,\n",
       " 'country_GB-parent_category_Art': 136,\n",
       " 'country_GB-parent_category_Comics': 137,\n",
       " 'country_GB-parent_category_Crafts': 138,\n",
       " 'country_GB-parent_category_Dance': 139,\n",
       " 'country_GB-parent_category_Fashion': 140,\n",
       " 'country_GB-parent_category_Film & Video': 141,\n",
       " 'country_GB-parent_category_Food': 142,\n",
       " 'country_GB-parent_category_Games': 143,\n",
       " 'country_GB-parent_category_Journalism': 144,\n",
       " 'country_GB-parent_category_Music': 145,\n",
       " 'country_GB-parent_category_No Parent Category': 146,\n",
       " 'country_GB-parent_category_Photography': 147,\n",
       " 'country_GB-parent_category_Publishing': 148,\n",
       " 'country_GB-parent_category_Technology': 149,\n",
       " 'country_GB-parent_category_Theater': 150,\n",
       " 'country_HK-parent_category_Art': 151,\n",
       " 'country_HK-parent_category_Comics': 152,\n",
       " 'country_HK-parent_category_Crafts': 153,\n",
       " 'country_HK-parent_category_Dance': 154,\n",
       " 'country_HK-parent_category_Fashion': 155,\n",
       " 'country_HK-parent_category_Film & Video': 156,\n",
       " 'country_HK-parent_category_Food': 157,\n",
       " 'country_HK-parent_category_Games': 158,\n",
       " 'country_HK-parent_category_Journalism': 159,\n",
       " 'country_HK-parent_category_Music': 160,\n",
       " 'country_HK-parent_category_No Parent Category': 161,\n",
       " 'country_HK-parent_category_Photography': 162,\n",
       " 'country_HK-parent_category_Publishing': 163,\n",
       " 'country_HK-parent_category_Technology': 164,\n",
       " 'country_HK-parent_category_Theater': 165,\n",
       " 'country_IE-parent_category_Art': 166,\n",
       " 'country_IE-parent_category_Comics': 167,\n",
       " 'country_IE-parent_category_Crafts': 168,\n",
       " 'country_IE-parent_category_Dance': 169,\n",
       " 'country_IE-parent_category_Fashion': 170,\n",
       " 'country_IE-parent_category_Film & Video': 171,\n",
       " 'country_IE-parent_category_Food': 172,\n",
       " 'country_IE-parent_category_Games': 173,\n",
       " 'country_IE-parent_category_Journalism': 174,\n",
       " 'country_IE-parent_category_Music': 175,\n",
       " 'country_IE-parent_category_No Parent Category': 176,\n",
       " 'country_IE-parent_category_Photography': 177,\n",
       " 'country_IE-parent_category_Publishing': 178,\n",
       " 'country_IE-parent_category_Technology': 179,\n",
       " 'country_IE-parent_category_Theater': 180,\n",
       " 'country_IT-parent_category_Art': 181,\n",
       " 'country_IT-parent_category_Comics': 182,\n",
       " 'country_IT-parent_category_Crafts': 183,\n",
       " 'country_IT-parent_category_Dance': 184,\n",
       " 'country_IT-parent_category_Fashion': 185,\n",
       " 'country_IT-parent_category_Film & Video': 186,\n",
       " 'country_IT-parent_category_Food': 187,\n",
       " 'country_IT-parent_category_Games': 188,\n",
       " 'country_IT-parent_category_Journalism': 189,\n",
       " 'country_IT-parent_category_Music': 190,\n",
       " 'country_IT-parent_category_No Parent Category': 191,\n",
       " 'country_IT-parent_category_Photography': 192,\n",
       " 'country_IT-parent_category_Publishing': 193,\n",
       " 'country_IT-parent_category_Technology': 194,\n",
       " 'country_IT-parent_category_Theater': 195,\n",
       " 'country_JP-parent_category_Art': 196,\n",
       " 'country_JP-parent_category_Comics': 197,\n",
       " 'country_JP-parent_category_Crafts': 198,\n",
       " 'country_JP-parent_category_Dance': 199,\n",
       " 'country_JP-parent_category_Fashion': 200,\n",
       " 'country_JP-parent_category_Film & Video': 201,\n",
       " 'country_JP-parent_category_Food': 202,\n",
       " 'country_JP-parent_category_Games': 203,\n",
       " 'country_JP-parent_category_Journalism': 204,\n",
       " 'country_JP-parent_category_Music': 205,\n",
       " 'country_JP-parent_category_No Parent Category': 206,\n",
       " 'country_JP-parent_category_Photography': 207,\n",
       " 'country_JP-parent_category_Publishing': 208,\n",
       " 'country_JP-parent_category_Technology': 209,\n",
       " 'country_JP-parent_category_Theater': 210,\n",
       " 'country_LU-parent_category_Art': 211,\n",
       " 'country_LU-parent_category_Comics': 212,\n",
       " 'country_LU-parent_category_Crafts': 213,\n",
       " 'country_LU-parent_category_Dance': 214,\n",
       " 'country_LU-parent_category_Fashion': 215,\n",
       " 'country_LU-parent_category_Film & Video': 216,\n",
       " 'country_LU-parent_category_Food': 217,\n",
       " 'country_LU-parent_category_Games': 218,\n",
       " 'country_LU-parent_category_Journalism': 219,\n",
       " 'country_LU-parent_category_Music': 220,\n",
       " 'country_LU-parent_category_No Parent Category': 221,\n",
       " 'country_LU-parent_category_Photography': 222,\n",
       " 'country_LU-parent_category_Publishing': 223,\n",
       " 'country_LU-parent_category_Technology': 224,\n",
       " 'country_LU-parent_category_Theater': 225,\n",
       " 'country_MX-parent_category_Art': 226,\n",
       " 'country_MX-parent_category_Comics': 227,\n",
       " 'country_MX-parent_category_Crafts': 228,\n",
       " 'country_MX-parent_category_Dance': 229,\n",
       " 'country_MX-parent_category_Fashion': 230,\n",
       " 'country_MX-parent_category_Film & Video': 231,\n",
       " 'country_MX-parent_category_Food': 232,\n",
       " 'country_MX-parent_category_Games': 233,\n",
       " 'country_MX-parent_category_Journalism': 234,\n",
       " 'country_MX-parent_category_Music': 235,\n",
       " 'country_MX-parent_category_No Parent Category': 236,\n",
       " 'country_MX-parent_category_Photography': 237,\n",
       " 'country_MX-parent_category_Publishing': 238,\n",
       " 'country_MX-parent_category_Technology': 239,\n",
       " 'country_MX-parent_category_Theater': 240,\n",
       " 'country_NL-parent_category_Art': 241,\n",
       " 'country_NL-parent_category_Comics': 242,\n",
       " 'country_NL-parent_category_Crafts': 243,\n",
       " 'country_NL-parent_category_Dance': 244,\n",
       " 'country_NL-parent_category_Fashion': 245,\n",
       " 'country_NL-parent_category_Film & Video': 246,\n",
       " 'country_NL-parent_category_Food': 247,\n",
       " 'country_NL-parent_category_Games': 248,\n",
       " 'country_NL-parent_category_Journalism': 249,\n",
       " 'country_NL-parent_category_Music': 250,\n",
       " 'country_NL-parent_category_No Parent Category': 251,\n",
       " 'country_NL-parent_category_Photography': 252,\n",
       " 'country_NL-parent_category_Publishing': 253,\n",
       " 'country_NL-parent_category_Technology': 254,\n",
       " 'country_NL-parent_category_Theater': 255,\n",
       " 'country_NO-parent_category_Art': 256,\n",
       " 'country_NO-parent_category_Comics': 257,\n",
       " 'country_NO-parent_category_Crafts': 258,\n",
       " 'country_NO-parent_category_Dance': 259,\n",
       " 'country_NO-parent_category_Fashion': 260,\n",
       " 'country_NO-parent_category_Film & Video': 261,\n",
       " 'country_NO-parent_category_Food': 262,\n",
       " 'country_NO-parent_category_Games': 263,\n",
       " 'country_NO-parent_category_Journalism': 264,\n",
       " 'country_NO-parent_category_Music': 265,\n",
       " 'country_NO-parent_category_No Parent Category': 266,\n",
       " 'country_NO-parent_category_Photography': 267,\n",
       " 'country_NO-parent_category_Publishing': 268,\n",
       " 'country_NO-parent_category_Technology': 269,\n",
       " 'country_NO-parent_category_Theater': 270,\n",
       " 'country_NZ-parent_category_Art': 271,\n",
       " 'country_NZ-parent_category_Comics': 272,\n",
       " 'country_NZ-parent_category_Crafts': 273,\n",
       " 'country_NZ-parent_category_Dance': 274,\n",
       " 'country_NZ-parent_category_Fashion': 275,\n",
       " 'country_NZ-parent_category_Film & Video': 276,\n",
       " 'country_NZ-parent_category_Food': 277,\n",
       " 'country_NZ-parent_category_Games': 278,\n",
       " 'country_NZ-parent_category_Journalism': 279,\n",
       " 'country_NZ-parent_category_Music': 280,\n",
       " 'country_NZ-parent_category_No Parent Category': 281,\n",
       " 'country_NZ-parent_category_Photography': 282,\n",
       " 'country_NZ-parent_category_Publishing': 283,\n",
       " 'country_NZ-parent_category_Technology': 284,\n",
       " 'country_NZ-parent_category_Theater': 285,\n",
       " 'country_SE-parent_category_Art': 286,\n",
       " 'country_SE-parent_category_Comics': 287,\n",
       " 'country_SE-parent_category_Crafts': 288,\n",
       " 'country_SE-parent_category_Dance': 289,\n",
       " 'country_SE-parent_category_Fashion': 290,\n",
       " 'country_SE-parent_category_Film & Video': 291,\n",
       " 'country_SE-parent_category_Food': 292,\n",
       " 'country_SE-parent_category_Games': 293,\n",
       " 'country_SE-parent_category_Journalism': 294,\n",
       " 'country_SE-parent_category_Music': 295,\n",
       " 'country_SE-parent_category_No Parent Category': 296,\n",
       " 'country_SE-parent_category_Photography': 297,\n",
       " 'country_SE-parent_category_Publishing': 298,\n",
       " 'country_SE-parent_category_Technology': 299,\n",
       " 'country_SE-parent_category_Theater': 300,\n",
       " 'country_SG-parent_category_Art': 301,\n",
       " 'country_SG-parent_category_Comics': 302,\n",
       " 'country_SG-parent_category_Crafts': 303,\n",
       " 'country_SG-parent_category_Dance': 304,\n",
       " 'country_SG-parent_category_Fashion': 305,\n",
       " 'country_SG-parent_category_Film & Video': 306,\n",
       " 'country_SG-parent_category_Food': 307,\n",
       " 'country_SG-parent_category_Games': 308,\n",
       " 'country_SG-parent_category_Journalism': 309,\n",
       " 'country_SG-parent_category_Music': 310,\n",
       " 'country_SG-parent_category_No Parent Category': 311,\n",
       " 'country_SG-parent_category_Photography': 312,\n",
       " 'country_SG-parent_category_Publishing': 313,\n",
       " 'country_SG-parent_category_Technology': 314,\n",
       " 'country_SG-parent_category_Theater': 315,\n",
       " 'country_US-parent_category_Art': 316,\n",
       " 'country_US-parent_category_Comics': 317,\n",
       " 'country_US-parent_category_Crafts': 318,\n",
       " 'country_US-parent_category_Dance': 319,\n",
       " 'country_US-parent_category_Fashion': 320,\n",
       " 'country_US-parent_category_Film & Video': 321,\n",
       " 'country_US-parent_category_Food': 322,\n",
       " 'country_US-parent_category_Games': 323,\n",
       " 'country_US-parent_category_Journalism': 324,\n",
       " 'country_US-parent_category_Music': 325,\n",
       " 'country_US-parent_category_No Parent Category': 326,\n",
       " 'country_US-parent_category_Photography': 327,\n",
       " 'country_US-parent_category_Publishing': 328,\n",
       " 'country_US-parent_category_Technology': 329,\n",
       " 'country_US-parent_category_Theater': 330}"
      ]
     },
     "execution_count": 141,
     "metadata": {},
     "output_type": "execute_result"
    }
   ],
   "source": [
    "countries = ['country_AT','country_AU','country_BE','country_CA','country_CH','country_DE','country_DK','country_ES','country_FR','country_GB','country_HK','country_IE','country_IT','country_JP','country_LU','country_MX','country_NL','country_NO','country_NZ','country_SE','country_SG','country_US']\n",
    "parent_categories = ['parent_category_Art','parent_category_Comics','parent_category_Crafts','parent_category_Dance','parent_category_Fashion','parent_category_Film & Video','parent_category_Food','parent_category_Games','parent_category_Journalism','parent_category_Music','parent_category_No Parent Category','parent_category_Photography','parent_category_Publishing','parent_category_Technology','parent_category_Theater',]\n",
    "\n",
    "#create a dictionary of combinations first\n",
    "combination = {}\n",
    "count = 1\n",
    "for country in countries:\n",
    "    for category in parent_categories:\n",
    "        key = country + \"-\" + category\n",
    "        combination[key] = count\n",
    "        count+=1\n",
    "combination"
   ]
  },
  {
   "cell_type": "code",
   "execution_count": 142,
   "metadata": {},
   "outputs": [],
   "source": [
    "def feature_cross(row):\n",
    "    key = \"country_\" + row[\"country\"] + \"-\" + \"parent_category_\" + row[\"parent_category\"]\n",
    "    return combination[key]"
   ]
  },
  {
   "cell_type": "code",
   "execution_count": 143,
   "metadata": {},
   "outputs": [
    {
     "data": {
      "text/plain": [
       "0      119\n",
       "1      277\n",
       "2      316\n",
       "3      327\n",
       "4      328\n",
       "      ... \n",
       "995    320\n",
       "996    316\n",
       "997    319\n",
       "998    320\n",
       "999     76\n",
       "Name: country*parent_category, Length: 919, dtype: int64"
      ]
     },
     "execution_count": 143,
     "metadata": {},
     "output_type": "execute_result"
    }
   ],
   "source": [
    "OHE_df[\"country*parent_category\"] = df.apply(lambda row: feature_cross(row), axis=1)\n",
    "OHE_df[\"country*parent_category\"]"
   ]
  },
  {
   "cell_type": "code",
   "execution_count": 144,
   "metadata": {},
   "outputs": [],
   "source": [
    "OHE_df = OHE_df.drop(categorical_cols, axis= 1)\n",
    "\n",
    "#OHE_train, OHE_test, y_train, y_test = model_selection.train_test_split(OHE_df, y, test_size=0.2, random_state=2019)\n",
    "X_no_cat = X.drop(categorical_cols, axis= 1)\n",
    "OHE_df = pd.concat([X_no_cat, OHE_df],axis=1)\n",
    "\n",
    "OHE_train, OHE_test, y_train, y_test = model_selection.train_test_split(OHE_df, y, test_size=0.2, random_state=2019)"
   ]
  },
  {
   "cell_type": "code",
   "execution_count": 145,
   "metadata": {},
   "outputs": [
    {
     "name": "stdout",
     "output_type": "stream",
     "text": [
      "<class 'pandas.core.frame.DataFrame'>\n",
      "Int64Index: 919 entries, 0 to 999\n",
      "Columns: 122 entries, backers_count to country*parent_category\n",
      "dtypes: float64(8), int64(6), int8(1), uint8(107)\n",
      "memory usage: 204.6 KB\n",
      "None\n"
     ]
    }
   ],
   "source": [
    "print(OHE_df.info())"
   ]
  },
  {
   "cell_type": "code",
   "execution_count": 146,
   "metadata": {},
   "outputs": [],
   "source": [
    "#OHE_df.columns.tolist()"
   ]
  },
  {
   "cell_type": "code",
   "execution_count": 147,
   "metadata": {},
   "outputs": [],
   "source": [
    "#type(OHE_df.country_AT[0])#.sample(5) "
   ]
  },
  {
   "cell_type": "code",
   "execution_count": 37,
   "metadata": {},
   "outputs": [],
   "source": [
    "# # apply OneHotEncoder on categorical feature columns\n",
    "# ohe = OneHotEncoder(handle_unknown = 'ignore') \n",
    "\n",
    "# X_train_ohe = ohe.fit_transform(X_train[categorical_cols]) \n",
    "# X_test_ohe = ohe.transform(X_test[categorical_cols])\n",
    "\n",
    "# OHE_train = np.hstack((X_train.drop(categorical_cols, axis=1).values, X_train_ohe.toarray()))\n",
    "# OHE_test = np.hstack((X_test.drop(categorical_cols, axis=1).values, X_test_ohe.toarray()))"
   ]
  },
  {
   "cell_type": "markdown",
   "metadata": {},
   "source": [
    "# Text Analysis"
   ]
  },
  {
   "cell_type": "code",
   "execution_count": 125,
   "metadata": {},
   "outputs": [],
   "source": [
    "# # Term Frequency (count the number of occurrences of each term in each document)\n",
    "# # TfidfVectorizer (CountVectorizer + TfidfTransformer)\n",
    "# from sklearn.feature_extraction.text import TfidfVectorizer\n",
    "# vect = TfidfVectorizer()\n",
    "# pd.DataFrame(vect.fit_transform(X.comments).toarray(), columns=vect.get_feature_names())"
   ]
  },
  {
   "cell_type": "code",
   "execution_count": 126,
   "metadata": {},
   "outputs": [],
   "source": [
    "# from sklearn.naive_bayes import MultinomialNB\n",
    "# from sklearn import metrics\n",
    "\n",
    "# # define a function that accepts a vectorizer and calculates the accuracy\n",
    "# def tokenize_test(vect, col):\n",
    "    \n",
    "#     # create document-term matrices using the vectorizer\n",
    "#     X_train_dtm = vect.fit_transform(X_train[col])\n",
    "#     X_test_dtm = vect.transform(X_test[col])\n",
    "    \n",
    "#     # print the number of features that were generated\n",
    "#     print('Features: ', X_train_dtm.shape[1])\n",
    "    \n",
    "#     # use Multinomial Naive Bayes to predict the star rating\n",
    "#     nb = MultinomialNB()\n",
    "#     nb.fit(X_train_dtm, y_train)\n",
    "#     y_pred_class = nb.predict(X_test_dtm)\n",
    "    \n",
    "#     # print the accuracy of its predictions\n",
    "#     print('Accuracy: ', metrics.accuracy_score(y_test, y_pred_class))"
   ]
  },
  {
   "cell_type": "code",
   "execution_count": 127,
   "metadata": {},
   "outputs": [],
   "source": [
    "# # use TfidfVectorizer with default parameters\n",
    "# vect = TfidfVectorizer()\n",
    "# tokenize_test(vect, 'comments')"
   ]
  },
  {
   "cell_type": "code",
   "execution_count": 128,
   "metadata": {},
   "outputs": [],
   "source": [
    "# # Term Frequency (count the number of occurrences of each term in each document)\n",
    "# from sklearn.feature_extraction.text import CountVectorizer\n",
    "# vect = CountVectorizer()\n",
    "# tokenize_test(vect, 'comments')"
   ]
  },
  {
   "cell_type": "markdown",
   "metadata": {},
   "source": [
    "# GridSearch"
   ]
  },
  {
   "cell_type": "code",
   "execution_count": 148,
   "metadata": {},
   "outputs": [
    {
     "data": {
      "text/plain": [
       "dict_keys(['bootstrap', 'ccp_alpha', 'class_weight', 'criterion', 'max_depth', 'max_features', 'max_leaf_nodes', 'max_samples', 'min_impurity_decrease', 'min_impurity_split', 'min_samples_leaf', 'min_samples_split', 'min_weight_fraction_leaf', 'n_estimators', 'n_jobs', 'oob_score', 'random_state', 'verbose', 'warm_start'])"
      ]
     },
     "execution_count": 148,
     "metadata": {},
     "output_type": "execute_result"
    }
   ],
   "source": [
    "from sklearn.ensemble import RandomForestClassifier\n",
    "classifier = RandomForestClassifier()\n",
    "classifier.get_params().keys()"
   ]
  },
  {
   "cell_type": "code",
   "execution_count": 149,
   "metadata": {},
   "outputs": [
    {
     "name": "stdout",
     "output_type": "stream",
     "text": [
      "Fitting 3 folds for each of 96 candidates, totalling 288 fits\n"
     ]
    },
    {
     "name": "stderr",
     "output_type": "stream",
     "text": [
      "[Parallel(n_jobs=-1)]: Using backend LokyBackend with 4 concurrent workers.\n",
      "[Parallel(n_jobs=-1)]: Done  33 tasks      | elapsed:   12.0s\n",
      "[Parallel(n_jobs=-1)]: Done 154 tasks      | elapsed:   38.0s\n",
      "[Parallel(n_jobs=-1)]: Done 288 out of 288 | elapsed:  1.2min finished\n"
     ]
    },
    {
     "data": {
      "text/plain": [
       "{'criterion': 'entropy',\n",
       " 'max_depth': None,\n",
       " 'min_samples_split': 2,\n",
       " 'n_estimators': 100}"
      ]
     },
     "execution_count": 149,
     "metadata": {},
     "output_type": "execute_result"
    }
   ],
   "source": [
    "from sklearn.model_selection import GridSearchCV\n",
    "# Create the parameter grid based on the results of random search \n",
    "param_grid = {\n",
    "    'criterion': ['gini', 'entropy'],\n",
    "    'max_depth': [None, 2, 3],\n",
    "    'min_samples_split': [2, 8, 10, 12],\n",
    "    'n_estimators': [100, 200, 300, 500]\n",
    "}\n",
    "# Create a based model\n",
    "rf = RandomForestClassifier()\n",
    "# Instantiate the grid search model\n",
    "grid_search = GridSearchCV(estimator = rf, param_grid = param_grid, \n",
    "                          cv = 3, n_jobs = -1, verbose = 2)\n",
    "\n",
    "# Fit the grid search to the data\n",
    "grid_search.fit(OHE_train, y_train)\n",
    "grid_search.best_params_"
   ]
  },
  {
   "cell_type": "markdown",
   "metadata": {},
   "source": [
    "# Random Forest"
   ]
  },
  {
   "cell_type": "code",
   "execution_count": 150,
   "metadata": {},
   "outputs": [],
   "source": [
    "from sklearn.ensemble import RandomForestClassifier\n",
    "from numpy import *\n",
    "random.seed(4222)\n",
    "classifier = RandomForestClassifier(criterion=\"entropy\", n_estimators=100)\n",
    "# {'criterion': 'entropy',\n",
    "#  'max_depth': None, #default\n",
    "#  'min_samples_split': 2, #default\n",
    "#  'n_estimators': 100}"
   ]
  },
  {
   "cell_type": "code",
   "execution_count": 151,
   "metadata": {},
   "outputs": [
    {
     "name": "stdout",
     "output_type": "stream",
     "text": [
      "(735, 122)\n",
      "(735,)\n",
      "(184, 122)\n",
      "(184,)\n"
     ]
    }
   ],
   "source": [
    "print(OHE_train.shape)\n",
    "print(y_train.shape)\n",
    "print(OHE_test.shape)\n",
    "print(y_test.shape)"
   ]
  },
  {
   "cell_type": "code",
   "execution_count": 152,
   "metadata": {},
   "outputs": [
    {
     "data": {
      "text/plain": [
       "RandomForestClassifier(criterion='entropy')"
      ]
     },
     "execution_count": 152,
     "metadata": {},
     "output_type": "execute_result"
    }
   ],
   "source": [
    "classifier.fit(OHE_train, y_train)"
   ]
  },
  {
   "cell_type": "markdown",
   "metadata": {},
   "source": [
    "# Model Evaluation (AFINN)"
   ]
  },
  {
   "cell_type": "code",
   "execution_count": 271,
   "metadata": {},
   "outputs": [],
   "source": [
    "# # Evaluate Model \n",
    "# y_predict_class = classifier.predict(OHE_test)\n",
    "\n",
    "# report = \"\"\"\n",
    "# The evaluation report is:\n",
    "# Confusion Matrix:\n",
    "# {}\n",
    "# Accuracy: {}\n",
    "# MSE: {}\n",
    "# \"\"\".format(confusion_matrix(y_test, y_predict_class),\n",
    "#            accuracy_score(y_test, y_predict_class), \n",
    "#            mean_squared_error(y_test, y_predict_class))\n",
    "# print(report)"
   ]
  },
  {
   "cell_type": "markdown",
   "metadata": {},
   "source": [
    "# Model Evaluation (TextBlob)"
   ]
  },
  {
   "cell_type": "code",
   "execution_count": 153,
   "metadata": {},
   "outputs": [
    {
     "name": "stdout",
     "output_type": "stream",
     "text": [
      "\n",
      "The evaluation report is:\n",
      "Confusion Matrix:\n",
      "[[ 64   9]\n",
      " [  3 108]]\n",
      "Accuracy: 0.9347826086956522\n",
      "MSE: 0.06521739130434782\n",
      "AUC:0.9808095766999877\n",
      "\n"
     ]
    }
   ],
   "source": [
    "# Evaluate Model \n",
    "y_predict_class = classifier.predict(OHE_test)\n",
    "\n",
    "report = \"\"\"\n",
    "The evaluation report is:\n",
    "Confusion Matrix:\n",
    "{}\n",
    "Accuracy: {}\n",
    "MSE: {}\n",
    "AUC:{}\n",
    "\"\"\".format(confusion_matrix(y_test, y_predict_class),\n",
    "           accuracy_score(y_test, y_predict_class), \n",
    "           mean_squared_error(y_test, y_predict_class),\n",
    "           metrics.roc_auc_score(y_test, classifier.predict_proba(OHE_test)[:, 1]))\n",
    "print(report)"
   ]
  },
  {
   "cell_type": "code",
   "execution_count": 195,
   "metadata": {},
   "outputs": [],
   "source": []
  }
 ],
 "metadata": {
  "kernelspec": {
   "display_name": "Python 3",
   "language": "python",
   "name": "python3"
  },
  "language_info": {
   "codemirror_mode": {
    "name": "ipython",
    "version": 3
   },
   "file_extension": ".py",
   "mimetype": "text/x-python",
   "name": "python",
   "nbconvert_exporter": "python",
   "pygments_lexer": "ipython3",
   "version": "3.8.3"
  }
 },
 "nbformat": 4,
 "nbformat_minor": 4
}
