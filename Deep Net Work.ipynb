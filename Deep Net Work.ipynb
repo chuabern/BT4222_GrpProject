{
 "cells": [
  {
   "cell_type": "code",
   "execution_count": 2,
   "id": "polyphonic-auckland",
   "metadata": {},
   "outputs": [],
   "source": [
    "import json\n",
    "import pandas as pd\n",
    "import tensorflow as tf\n",
    "import numpy as np\n",
    "\n",
    "from sklearn.feature_extraction.text import TfidfVectorizer\n",
    "from tensorflow.keras import Input, Model, models, layers"
   ]
  },
  {
   "cell_type": "code",
   "execution_count": 3,
   "id": "trained-times",
   "metadata": {},
   "outputs": [
    {
     "data": {
      "text/html": [
       "<div>\n",
       "<style scoped>\n",
       "    .dataframe tbody tr th:only-of-type {\n",
       "        vertical-align: middle;\n",
       "    }\n",
       "\n",
       "    .dataframe tbody tr th {\n",
       "        vertical-align: top;\n",
       "    }\n",
       "\n",
       "    .dataframe thead th {\n",
       "        text-align: right;\n",
       "    }\n",
       "</style>\n",
       "<table border=\"1\" class=\"dataframe\">\n",
       "  <thead>\n",
       "    <tr style=\"text-align: right;\">\n",
       "      <th></th>\n",
       "      <th>Unnamed: 0</th>\n",
       "      <th>backers_count</th>\n",
       "      <th>blurb</th>\n",
       "      <th>category</th>\n",
       "      <th>converted_pledged_amount</th>\n",
       "      <th>country</th>\n",
       "      <th>created_at</th>\n",
       "      <th>current_currency</th>\n",
       "      <th>deadline</th>\n",
       "      <th>fx_rate</th>\n",
       "      <th>goal</th>\n",
       "      <th>id</th>\n",
       "      <th>launched_at</th>\n",
       "      <th>location</th>\n",
       "      <th>name</th>\n",
       "      <th>pledged</th>\n",
       "      <th>profile</th>\n",
       "      <th>slug</th>\n",
       "      <th>source_url</th>\n",
       "      <th>spotlight</th>\n",
       "      <th>staff_pick</th>\n",
       "      <th>state</th>\n",
       "      <th>state_changed_at</th>\n",
       "      <th>static_usd_rate</th>\n",
       "      <th>urls</th>\n",
       "      <th>usd_pledged</th>\n",
       "      <th>usd_type</th>\n",
       "      <th>story</th>\n",
       "      <th>faq</th>\n",
       "      <th>num_faq</th>\n",
       "      <th>comments</th>\n",
       "      <th>n_comments</th>\n",
       "      <th>duration</th>\n",
       "    </tr>\n",
       "  </thead>\n",
       "  <tbody>\n",
       "    <tr>\n",
       "      <th>0</th>\n",
       "      <td>0</td>\n",
       "      <td>1</td>\n",
       "      <td>With your help we will create this device that...</td>\n",
       "      <td>{\"id\":331,\"name\":\"3D Printing\",\"slug\":\"technol...</td>\n",
       "      <td>1</td>\n",
       "      <td>ES</td>\n",
       "      <td>2015-08-18 21:01</td>\n",
       "      <td>USD</td>\n",
       "      <td>2016-07-09 20:11</td>\n",
       "      <td>1.212886</td>\n",
       "      <td>15000</td>\n",
       "      <td>1662798399</td>\n",
       "      <td>2016-06-09 20:11</td>\n",
       "      <td>{\"id\":55897673,\"name\":\"Mexico\",\"slug\":\"mexico-...</td>\n",
       "      <td>Save water 100% liquid downloads in toilets at...</td>\n",
       "      <td>1.0</td>\n",
       "      <td>{\"id\":2075449,\"project_id\":2075449,\"state\":\"in...</td>\n",
       "      <td>save-water-100-liquid-downloads-in-toilets</td>\n",
       "      <td>https://www.kickstarter.com/discover/categorie...</td>\n",
       "      <td>False</td>\n",
       "      <td>False</td>\n",
       "      <td>failed</td>\n",
       "      <td>2016-07-09 20:11</td>\n",
       "      <td>1.13693</td>\n",
       "      <td>{\"web\":{\"project\":\"https://www.kickstarter.com...</td>\n",
       "      <td>1.13693</td>\n",
       "      <td>domestic</td>\n",
       "      <td>Producto Final\\nHi! The funds we will used to ...</td>\n",
       "      <td>['   ']</td>\n",
       "      <td>0</td>\n",
       "      <td>Only backers can post comments. Log in\\nNo com...</td>\n",
       "      <td>0</td>\n",
       "      <td>30 days 00:00:00.000000000</td>\n",
       "    </tr>\n",
       "  </tbody>\n",
       "</table>\n",
       "</div>"
      ],
      "text/plain": [
       "   Unnamed: 0  backers_count  \\\n",
       "0           0              1   \n",
       "\n",
       "                                               blurb  \\\n",
       "0  With your help we will create this device that...   \n",
       "\n",
       "                                            category  \\\n",
       "0  {\"id\":331,\"name\":\"3D Printing\",\"slug\":\"technol...   \n",
       "\n",
       "   converted_pledged_amount country        created_at current_currency  \\\n",
       "0                         1      ES  2015-08-18 21:01              USD   \n",
       "\n",
       "           deadline   fx_rate   goal          id       launched_at  \\\n",
       "0  2016-07-09 20:11  1.212886  15000  1662798399  2016-06-09 20:11   \n",
       "\n",
       "                                            location  \\\n",
       "0  {\"id\":55897673,\"name\":\"Mexico\",\"slug\":\"mexico-...   \n",
       "\n",
       "                                                name  pledged  \\\n",
       "0  Save water 100% liquid downloads in toilets at...      1.0   \n",
       "\n",
       "                                             profile  \\\n",
       "0  {\"id\":2075449,\"project_id\":2075449,\"state\":\"in...   \n",
       "\n",
       "                                         slug  \\\n",
       "0  save-water-100-liquid-downloads-in-toilets   \n",
       "\n",
       "                                          source_url  spotlight  staff_pick  \\\n",
       "0  https://www.kickstarter.com/discover/categorie...      False       False   \n",
       "\n",
       "    state  state_changed_at  static_usd_rate  \\\n",
       "0  failed  2016-07-09 20:11          1.13693   \n",
       "\n",
       "                                                urls  usd_pledged  usd_type  \\\n",
       "0  {\"web\":{\"project\":\"https://www.kickstarter.com...      1.13693  domestic   \n",
       "\n",
       "                                               story      faq  num_faq  \\\n",
       "0  Producto Final\\nHi! The funds we will used to ...  ['   ']        0   \n",
       "\n",
       "                                            comments n_comments  \\\n",
       "0  Only backers can post comments. Log in\\nNo com...          0   \n",
       "\n",
       "                     duration  \n",
       "0  30 days 00:00:00.000000000  "
      ]
     },
     "execution_count": 3,
     "metadata": {},
     "output_type": "execute_result"
    }
   ],
   "source": [
    "pd.set_option('display.max_columns', None)\n",
    "df = pd.read_csv(\"output/Combined_dataset.csv\")\n",
    "df.head(1)"
   ]
  },
  {
   "cell_type": "code",
   "execution_count": 29,
   "id": "conventional-syntax",
   "metadata": {},
   "outputs": [],
   "source": [
    "def check_location(data,column):\n",
    "    try:\n",
    "        return (json.loads(data)[column])\n",
    "    except:\n",
    "        return \"nan\"\n",
    "\n",
    "def clean_df(df):\n",
    "    category = list(map(lambda x: json.loads(x)[\"slug\"], df[\"category\"]))\n",
    "    df[\"category\"] = [x[0] for x in category]\n",
    "    df[\"sub_category\"] = [x[1] if len(x) == 2 else \"\" for x in category]\n",
    "    df[\"type\"] = list(map(lambda x: check_location(x,\"type\"), df[\"location\"]))\n",
    "    df[\"country\"] = list(map(lambda x: check_location(x,\"expanded_country\"), df[\"location\"]))\n",
    "    return df\n",
    "\n",
    "def tfidf_vec(corpus):\n",
    "    vectorizer = TfidfVectorizer()\n",
    "    result = vectorizer.fit_transform(corpus)\n",
    "    return [len(vectorizer.vocabulary_),result]"
   ]
  },
  {
   "cell_type": "code",
   "execution_count": 31,
   "id": "random-stake",
   "metadata": {},
   "outputs": [
    {
     "data": {
      "text/html": [
       "<div>\n",
       "<style scoped>\n",
       "    .dataframe tbody tr th:only-of-type {\n",
       "        vertical-align: middle;\n",
       "    }\n",
       "\n",
       "    .dataframe tbody tr th {\n",
       "        vertical-align: top;\n",
       "    }\n",
       "\n",
       "    .dataframe thead th {\n",
       "        text-align: right;\n",
       "    }\n",
       "</style>\n",
       "<table border=\"1\" class=\"dataframe\">\n",
       "  <thead>\n",
       "    <tr style=\"text-align: right;\">\n",
       "      <th></th>\n",
       "      <th>Unnamed: 0</th>\n",
       "      <th>backers_count</th>\n",
       "      <th>blurb</th>\n",
       "      <th>category</th>\n",
       "      <th>converted_pledged_amount</th>\n",
       "      <th>country</th>\n",
       "      <th>created_at</th>\n",
       "      <th>current_currency</th>\n",
       "      <th>deadline</th>\n",
       "      <th>fx_rate</th>\n",
       "      <th>goal</th>\n",
       "      <th>id</th>\n",
       "      <th>launched_at</th>\n",
       "      <th>location</th>\n",
       "      <th>name</th>\n",
       "      <th>pledged</th>\n",
       "      <th>profile</th>\n",
       "      <th>slug</th>\n",
       "      <th>source_url</th>\n",
       "      <th>spotlight</th>\n",
       "      <th>staff_pick</th>\n",
       "      <th>state</th>\n",
       "      <th>state_changed_at</th>\n",
       "      <th>static_usd_rate</th>\n",
       "      <th>urls</th>\n",
       "      <th>usd_pledged</th>\n",
       "      <th>usd_type</th>\n",
       "      <th>story</th>\n",
       "      <th>faq</th>\n",
       "      <th>num_faq</th>\n",
       "      <th>comments</th>\n",
       "      <th>n_comments</th>\n",
       "      <th>duration</th>\n",
       "      <th>sub_category</th>\n",
       "      <th>type</th>\n",
       "      <th>blurb_tfidf</th>\n",
       "    </tr>\n",
       "  </thead>\n",
       "  <tbody>\n",
       "    <tr>\n",
       "      <th>0</th>\n",
       "      <td>0</td>\n",
       "      <td>1</td>\n",
       "      <td>With your help we will create this device that...</td>\n",
       "      <td>t</td>\n",
       "      <td>1</td>\n",
       "      <td>Mexico</td>\n",
       "      <td>2015-08-18 21:01</td>\n",
       "      <td>USD</td>\n",
       "      <td>2016-07-09 20:11</td>\n",
       "      <td>1.212886</td>\n",
       "      <td>15000</td>\n",
       "      <td>1662798399</td>\n",
       "      <td>2016-06-09 20:11</td>\n",
       "      <td>{\"id\":55897673,\"name\":\"Mexico\",\"slug\":\"mexico-...</td>\n",
       "      <td>Save water 100% liquid downloads in toilets at...</td>\n",
       "      <td>1.0</td>\n",
       "      <td>{\"id\":2075449,\"project_id\":2075449,\"state\":\"in...</td>\n",
       "      <td>save-water-100-liquid-downloads-in-toilets</td>\n",
       "      <td>https://www.kickstarter.com/discover/categorie...</td>\n",
       "      <td>False</td>\n",
       "      <td>False</td>\n",
       "      <td>failed</td>\n",
       "      <td>2016-07-09 20:11</td>\n",
       "      <td>1.13693</td>\n",
       "      <td>{\"web\":{\"project\":\"https://www.kickstarter.com...</td>\n",
       "      <td>1.13693</td>\n",
       "      <td>domestic</td>\n",
       "      <td>Producto Final\\nHi! The funds we will used to ...</td>\n",
       "      <td>['   ']</td>\n",
       "      <td>0</td>\n",
       "      <td>Only backers can post comments. Log in\\nNo com...</td>\n",
       "      <td>0</td>\n",
       "      <td>30 days 00:00:00.000000000</td>\n",
       "      <td></td>\n",
       "      <td>Suburb</td>\n",
       "      <td>(0, 215)\\t0.3206657811635917\\n  (0, 2)\\t0.22...</td>\n",
       "    </tr>\n",
       "  </tbody>\n",
       "</table>\n",
       "</div>"
      ],
      "text/plain": [
       "   Unnamed: 0  backers_count  \\\n",
       "0           0              1   \n",
       "\n",
       "                                               blurb category  \\\n",
       "0  With your help we will create this device that...        t   \n",
       "\n",
       "   converted_pledged_amount country        created_at current_currency  \\\n",
       "0                         1  Mexico  2015-08-18 21:01              USD   \n",
       "\n",
       "           deadline   fx_rate   goal          id       launched_at  \\\n",
       "0  2016-07-09 20:11  1.212886  15000  1662798399  2016-06-09 20:11   \n",
       "\n",
       "                                            location  \\\n",
       "0  {\"id\":55897673,\"name\":\"Mexico\",\"slug\":\"mexico-...   \n",
       "\n",
       "                                                name  pledged  \\\n",
       "0  Save water 100% liquid downloads in toilets at...      1.0   \n",
       "\n",
       "                                             profile  \\\n",
       "0  {\"id\":2075449,\"project_id\":2075449,\"state\":\"in...   \n",
       "\n",
       "                                         slug  \\\n",
       "0  save-water-100-liquid-downloads-in-toilets   \n",
       "\n",
       "                                          source_url  spotlight  staff_pick  \\\n",
       "0  https://www.kickstarter.com/discover/categorie...      False       False   \n",
       "\n",
       "    state  state_changed_at  static_usd_rate  \\\n",
       "0  failed  2016-07-09 20:11          1.13693   \n",
       "\n",
       "                                                urls  usd_pledged  usd_type  \\\n",
       "0  {\"web\":{\"project\":\"https://www.kickstarter.com...      1.13693  domestic   \n",
       "\n",
       "                                               story      faq  num_faq  \\\n",
       "0  Producto Final\\nHi! The funds we will used to ...  ['   ']        0   \n",
       "\n",
       "                                            comments n_comments  \\\n",
       "0  Only backers can post comments. Log in\\nNo com...          0   \n",
       "\n",
       "                     duration sub_category    type  \\\n",
       "0  30 days 00:00:00.000000000               Suburb   \n",
       "\n",
       "                                         blurb_tfidf  \n",
       "0    (0, 215)\\t0.3206657811635917\\n  (0, 2)\\t0.22...  "
      ]
     },
     "execution_count": 31,
     "metadata": {},
     "output_type": "execute_result"
    }
   ],
   "source": [
    "# df_ = clean_df(df)\n",
    "# blurb_shape, df[\"blurb_tfidf\"] = tfidf_vec(df[\"blurb\"])\n",
    "df_.head(1)"
   ]
  },
  {
   "cell_type": "code",
   "execution_count": 33,
   "id": "organizational-general",
   "metadata": {},
   "outputs": [],
   "source": [
    "nlp_in = Input(shape = (1000,))\n",
    "# emb = Embedding(output_dim=32, input_dim=blurb_shape, input_length=1000)(nlp_input) \n",
    "# nlp_out = Bidirectional(LSTM(128, dropout=0.3, recurrent_dropout=0.3, kernel_regularizer=regularizers.l2(0.01)))(emb)"
   ]
  },
  {
   "cell_type": "code",
   "execution_count": 15,
   "id": "prerequisite-variable",
   "metadata": {},
   "outputs": [
    {
     "ename": "NameError",
     "evalue": "name 'vectorizer' is not defined",
     "output_type": "error",
     "traceback": [
      "\u001b[1;31m---------------------------------------------------------------------------\u001b[0m",
      "\u001b[1;31mNameError\u001b[0m                                 Traceback (most recent call last)",
      "\u001b[1;32m<ipython-input-15-9ae0483bbf53>\u001b[0m in \u001b[0;36m<module>\u001b[1;34m\u001b[0m\n\u001b[1;32m----> 1\u001b[1;33m \u001b[0mhelp\u001b[0m\u001b[1;33m(\u001b[0m\u001b[0mvectorizer\u001b[0m\u001b[1;33m)\u001b[0m\u001b[1;33m\u001b[0m\u001b[1;33m\u001b[0m\u001b[0m\n\u001b[0m",
      "\u001b[1;31mNameError\u001b[0m: name 'vectorizer' is not defined"
     ]
    }
   ],
   "source": [
    "nlp_input = Input(shape=(seq_length,), name='nlp_input')"
   ]
  },
  {
   "cell_type": "code",
   "execution_count": 16,
   "id": "interstate-denver",
   "metadata": {},
   "outputs": [
    {
     "data": {
      "text/plain": [
       "<1000x5181 sparse matrix of type '<class 'numpy.float64'>'\n",
       "\twith 15981 stored elements in Compressed Sparse Row format>"
      ]
     },
     "execution_count": 16,
     "metadata": {},
     "output_type": "execute_result"
    }
   ],
   "source": [
    "vectorizer = TfidfVectorizer()\n",
    "vectorizer.fit_transform(df[\"blurb\"])"
   ]
  },
  {
   "cell_type": "code",
   "execution_count": 2,
   "id": "italian-hampshire",
   "metadata": {},
   "outputs": [],
   "source": [
    "import nltk\n",
    "import string\n",
    "import pandas as pd\n",
    "import numpy as np\n",
    "from nltk.tokenize import word_tokenize\n",
    "\n",
    "from tensorflow.keras.preprocessing.text import Tokenizer\n",
    "from tensorflow.keras.preprocessing.sequence import pad_sequences\n",
    "\n",
    "from tensorflow.keras.models import Sequential\n",
    "from tensorflow.keras.layers import Embedding, LSTM, Dense, Dropout\n",
    "from tensorflow.keras.initializers import Constant\n",
    "from tensorflow.keras.optimizers import Adam\n",
    "\n",
    "max_len = 17000"
   ]
  },
  {
   "cell_type": "code",
   "execution_count": 3,
   "id": "manual-combination",
   "metadata": {},
   "outputs": [],
   "source": [
    "pd.set_option('display.max_columns', None)\n",
    "df = pd.read_csv(\"output/Combined_dataset.csv\")\n",
    "df_ = df[[\"story\",\"state\"]].dropna().reset_index(inplace = False)[[\"story\",\"state\"]]"
   ]
  },
  {
   "cell_type": "code",
   "execution_count": 4,
   "id": "finished-bride",
   "metadata": {},
   "outputs": [],
   "source": [
    "words = set(nltk.corpus.words.words())\n",
    "def remove_non_english(string):\n",
    "    return \" \".join(word.lower() for word in nltk.wordpunct_tokenize(string) \\\n",
    "                   if word.lower() in words or not word.isalpha()) \n",
    "def remove_puct(text):\n",
    "    table = str.maketrans(\"\",\"\",string.punctuation)\n",
    "    return text.translate(table)\n"
   ]
  },
  {
   "cell_type": "code",
   "execution_count": 5,
   "id": "friendly-earth",
   "metadata": {},
   "outputs": [],
   "source": [
    "df_['story_en_'] = list(map(lambda x: remove_non_english(x),df_[\"story\"]))\n",
    "df_['story_en'] = list(map(lambda x: remove_puct(x),df_[\"story_en_\"]))\n",
    "df_[\"state\"] = df.state.replace(to_replace=['failed', 'successful'], value=[0, 1])\n",
    "# max([len(i) for i in df_[\"story_en\"]])"
   ]
  },
  {
   "cell_type": "code",
   "execution_count": 6,
   "id": "suffering-dance",
   "metadata": {},
   "outputs": [],
   "source": [
    "def create_corpus(df):\n",
    "    corpus = []\n",
    "    for text in df[\"story_en\"]:\n",
    "        words = [word for word in word_tokenize(text)]\n",
    "        corpus.append(words)\n",
    "    return corpus\n",
    "\n",
    "corpus = create_corpus(df_)"
   ]
  },
  {
   "cell_type": "code",
   "execution_count": 7,
   "id": "accredited-title",
   "metadata": {},
   "outputs": [],
   "source": [
    "num_words = len(corpus)"
   ]
  },
  {
   "cell_type": "code",
   "execution_count": 8,
   "id": "gorgeous-mineral",
   "metadata": {},
   "outputs": [],
   "source": [
    "train_index = np.random.choice(len(df_),int(len(df_)*0.8),replace = False)"
   ]
  },
  {
   "cell_type": "code",
   "execution_count": 9,
   "id": "clinical-complaint",
   "metadata": {},
   "outputs": [],
   "source": [
    "X_train = df_[\"story_en\"][train_index]\n",
    "y_train = df_[\"state\"][train_index]\n",
    "\n",
    "X_test = df_[\"story_en\"][~df_.index.isin(train_index)]\n",
    "y_test = df_[\"state\"][~df_.index.isin(train_index)]\n"
   ]
  },
  {
   "cell_type": "code",
   "execution_count": 10,
   "id": "expressed-square",
   "metadata": {},
   "outputs": [],
   "source": [
    "tokenizer = Tokenizer(num_words = num_words)\n",
    "tokenizer.fit_on_texts(X_train)"
   ]
  },
  {
   "cell_type": "code",
   "execution_count": 11,
   "id": "occasional-meditation",
   "metadata": {},
   "outputs": [],
   "source": [
    "X_train_seq = tokenizer.texts_to_sequences(X_train)"
   ]
  },
  {
   "cell_type": "code",
   "execution_count": 12,
   "id": "prime-eagle",
   "metadata": {},
   "outputs": [],
   "source": [
    "X_train_padded = pad_sequences(\n",
    "    X_train_seq, maxlen = max_len, truncating = \"post\", padding = \"post\"\n",
    ")"
   ]
  },
  {
   "cell_type": "code",
   "execution_count": 13,
   "id": "intimate-paris",
   "metadata": {},
   "outputs": [],
   "source": [
    "X_test_seq = tokenizer.texts_to_sequences(X_test)\n",
    "X_test_padded = pad_sequences(\n",
    "    X_test_seq, maxlen = max_len, truncating = \"post\", padding = \"post\"\n",
    ")"
   ]
  },
  {
   "cell_type": "code",
   "execution_count": 14,
   "id": "blocked-intellectual",
   "metadata": {},
   "outputs": [],
   "source": [
    "embedding_dict = {}\n",
    "with open(\"Raw Data/glove.6B.100d.txt\", encoding='utf-8') as f:\n",
    "    for line in f:\n",
    "        values = line.split()\n",
    "        word = values[0]\n",
    "        vectors = np.asarray(values[1:],\"float32\")\n",
    "        embedding_dict[word] = vectors\n",
    "f.close()"
   ]
  },
  {
   "cell_type": "code",
   "execution_count": 15,
   "id": "green-looking",
   "metadata": {},
   "outputs": [],
   "source": [
    "word_index = tokenizer.word_index"
   ]
  },
  {
   "cell_type": "code",
   "execution_count": 16,
   "id": "settled-model",
   "metadata": {},
   "outputs": [],
   "source": [
    "num_words = len(word_index) + 1\n",
    "embedding_matrix = np.zeros((num_words,100))\n",
    "\n",
    "for word, i in word_index.items():\n",
    "    if i < num_words:\n",
    "        emb_vec = embedding_dict.get(word)\n",
    "        if emb_vec is not None:\n",
    "            embedding_matrix[i] = emb_vec"
   ]
  },
  {
   "cell_type": "code",
   "execution_count": 17,
   "id": "interesting-force",
   "metadata": {},
   "outputs": [],
   "source": [
    "model = Sequential()\n",
    "\n",
    "model.add(\n",
    "    Embedding(\n",
    "    num_words,\n",
    "    100,\n",
    "    embeddings_initializer = Constant(embedding_matrix),\n",
    "        input_length = max_len,\n",
    "        trainable = False,\n",
    "    )\n",
    ")\n",
    "model.add(LSTM(100, dropout = 0.2))\n",
    "model.add(Dense(1, activation = \"sigmoid\"))\n",
    "optimizer = Adam(learning_rate = 5e-3)\n",
    "\n",
    "model.compile(loss = \"binary_crossentropy\", optimizer = optimizer, metrics = [\"accuracy\"])"
   ]
  },
  {
   "cell_type": "code",
   "execution_count": null,
   "id": "republican-packet",
   "metadata": {},
   "outputs": [
    {
     "name": "stdout",
     "output_type": "stream",
     "text": [
      "Epoch 1/10\n",
      "25/25 [==============================] - 3357s 134s/step - loss: 0.6628 - accuracy: 0.6256 - val_loss: 0.6523 - val_accuracy: 0.6548\n",
      "Epoch 2/10\n",
      "25/25 [==============================] - 3607s 144s/step - loss: 0.6635 - accuracy: 0.6256 - val_loss: 0.6449 - val_accuracy: 0.6548\n",
      "Epoch 3/10\n",
      "25/25 [==============================] - 4567s 183s/step - loss: 0.6635 - accuracy: 0.6256 - val_loss: 0.6514 - val_accuracy: 0.6548\n",
      "Epoch 4/10\n",
      "25/25 [==============================] - 4182s 167s/step - loss: 0.6641 - accuracy: 0.6256 - val_loss: 0.6515 - val_accuracy: 0.6548\n",
      "Epoch 5/10\n",
      "25/25 [==============================] - 4139s 166s/step - loss: 0.6630 - accuracy: 0.6256 - val_loss: 0.6476 - val_accuracy: 0.6548\n",
      "Epoch 6/10\n",
      "25/25 [==============================] - 3563s 143s/step - loss: 0.6617 - accuracy: 0.6256 - val_loss: 0.6457 - val_accuracy: 0.6548\n",
      "Epoch 7/10\n",
      "19/25 [=====================>........] - ETA: 34:12 - loss: 0.6599 - accuracy: 0.6316"
     ]
    }
   ],
   "source": [
    "history = model.fit(\n",
    "    X_train_padded,\n",
    "    y_train,\n",
    "    epochs = 10,\n",
    "    validation_data = (X_test_padded, y_test),\n",
    "    verbose = 1\n",
    ")"
   ]
  },
  {
   "cell_type": "code",
   "execution_count": null,
   "id": "tropical-coverage",
   "metadata": {},
   "outputs": [],
   "source": []
  }
 ],
 "metadata": {
  "kernelspec": {
   "display_name": "Python 3",
   "language": "python",
   "name": "python3"
  },
  "language_info": {
   "codemirror_mode": {
    "name": "ipython",
    "version": 3
   },
   "file_extension": ".py",
   "mimetype": "text/x-python",
   "name": "python",
   "nbconvert_exporter": "python",
   "pygments_lexer": "ipython3",
   "version": "3.8.5"
  }
 },
 "nbformat": 4,
 "nbformat_minor": 5
}
