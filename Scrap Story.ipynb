{
 "cells": [
  {
   "cell_type": "code",
   "execution_count": 28,
   "metadata": {},
   "outputs": [],
   "source": [
    "import re\n",
    "import json\n",
    "import glob\n",
    "import pickle\n",
    "import time\n",
    "import pandas as pd\n",
    "import numpy as np\n",
    "from tqdm import tqdm\n",
    "from selenium import webdriver\n",
    "from selenium.webdriver.common.by import By\n",
    "from selenium.webdriver.support.ui import WebDriverWait\n",
    "from selenium.webdriver.support import expected_conditions as EC\n",
    "from http_request_randomizer.requests.proxy.requestProxy import RequestProxy"
   ]
  },
  {
   "cell_type": "code",
   "execution_count": 2,
   "metadata": {},
   "outputs": [],
   "source": [
    "df = pd.read_csv(\"Clean_data/Kickstarter.csv\")"
   ]
  },
  {
   "cell_type": "code",
   "execution_count": 3,
   "metadata": {},
   "outputs": [],
   "source": [
    "urls = df.urls\n",
    "ids = df.id\n",
    "\n",
    "urls_ = list(map(lambda url:json.loads(url)[\"web\"][\"project\"],urls))\n",
    "urls = list(map(lambda url:url.replace(\"?ref=discovery_category_newest\",\"/description\"),urls_))"
   ]
  },
  {
   "cell_type": "code",
   "execution_count": 7,
   "metadata": {},
   "outputs": [],
   "source": [
    "errors = np.zeros(len(df))\n",
    "# storys = [\"\"]*len(urls)\n",
    "\n",
    "path = \"Webdriver/chromedriver.exe\"\n",
    "options = webdriver.ChromeOptions()\n",
    "options.add_argument('--lang=en')\n",
    "# 0"
   ]
  },
  {
   "cell_type": "code",
   "execution_count": 75,
   "metadata": {},
   "outputs": [
    {
     "name": "stderr",
     "output_type": "stream",
     "text": [
      "<ipython-input-75-76b8a37add20>:1: DeprecationWarning: use options instead of chrome_options\n",
      "  driver = webdriver.Chrome(executable_path = path,chrome_options=options)\n",
      "100%|██████████| 100/100 [08:04<00:00,  4.85s/it]\n"
     ]
    }
   ],
   "source": [
    "driver = webdriver.Chrome(executable_path = path,chrome_options=options)\n",
    "for i in tqdm(range(num,num + 100)):\n",
    "    try:\n",
    "        driver.get(urls[i])\n",
    "        story_raw = WebDriverWait(driver,10).until(\n",
    "        EC.presence_of_element_located((By.XPATH,\"//div[contains(@class, 'rte__content')]\"))\n",
    "        )\n",
    "        storys[i] = story_raw.text\n",
    "    except:\n",
    "        errors[i] = 1\n",
    "    finally:\n",
    "        time.sleep(np.random.randint(200)/100)\n",
    "driver.quit()"
   ]
  },
  {
   "cell_type": "code",
   "execution_count": 78,
   "metadata": {},
   "outputs": [
    {
     "data": {
      "text/plain": [
       "15.0"
      ]
     },
     "execution_count": 78,
     "metadata": {},
     "output_type": "execute_result"
    }
   ],
   "source": [
    "num = 1000\n",
    "sum(errors)"
   ]
  },
  {
   "cell_type": "code",
   "execution_count": 80,
   "metadata": {},
   "outputs": [
    {
     "name": "stderr",
     "output_type": "stream",
     "text": [
      "<ipython-input-80-3bff04e2f4d2>:1: DeprecationWarning: use options instead of chrome_options\n",
      "  driver = webdriver.Chrome(executable_path = path,chrome_options=options)\n"
     ]
    }
   ],
   "source": [
    "driver = webdriver.Chrome(executable_path = path,chrome_options=options)\n",
    "for i in range(1000):\n",
    "    if(errors[i] > 0):\n",
    "        try:\n",
    "            driver.get(urls[i])\n",
    "            story_raw = WebDriverWait(driver,10).until(\n",
    "            EC.presence_of_element_located((By.XPATH,\"//div[contains(@class, 'rte__content')]\"))\n",
    "            )\n",
    "            storys[i] = story_raw.text\n",
    "            errors[i] = 0\n",
    "        except:\n",
    "            pass\n",
    "        finally:\n",
    "            time.sleep(np.random.randint(200)/100)\n",
    "driver.quit()"
   ]
  },
  {
   "cell_type": "code",
   "execution_count": 83,
   "metadata": {},
   "outputs": [
    {
     "data": {
      "text/plain": [
       "0.0"
      ]
     },
     "execution_count": 83,
     "metadata": {},
     "output_type": "execute_result"
    }
   ],
   "source": [
    "sum(errors)"
   ]
  },
  {
   "cell_type": "code",
   "execution_count": 84,
   "metadata": {},
   "outputs": [],
   "source": [
    "df_export = pd.DataFrame({\"id\":df[\"id\"],\n",
    "                         \"story\":storys}, index = None)\n",
    "df_export.to_csv(\"Output/Story.csv\")"
   ]
  },
  {
   "cell_type": "code",
   "execution_count": null,
   "metadata": {},
   "outputs": [],
   "source": []
  }
 ],
 "metadata": {
  "kernelspec": {
   "display_name": "Python 3",
   "language": "python",
   "name": "python3"
  },
  "language_info": {
   "codemirror_mode": {
    "name": "ipython",
    "version": 3
   },
   "file_extension": ".py",
   "mimetype": "text/x-python",
   "name": "python",
   "nbconvert_exporter": "python",
   "pygments_lexer": "ipython3",
   "version": "3.8.5"
  }
 },
 "nbformat": 4,
 "nbformat_minor": 4
}
