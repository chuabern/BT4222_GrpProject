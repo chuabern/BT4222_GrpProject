{
 "cells": [
  {
   "cell_type": "code",
   "execution_count": 166,
   "metadata": {},
   "outputs": [],
   "source": [
    "import pandas as pd\n",
    "import re\n",
    "import json\n",
    "import glob\n",
    "from tqdm import tqdm\n",
    "from selenium import webdriver\n",
    "from selenium.webdriver.common.by import By\n",
    "from selenium.webdriver.support.ui import WebDriverWait\n",
    "from selenium.webdriver.support import expected_conditions as EC\n",
    "\n",
    "# Define range for file, friends change this help me download when you're free lel\n",
    "start_int = 0\n",
    "end_int = 100"
   ]
  },
  {
   "cell_type": "code",
   "execution_count": 162,
   "metadata": {},
   "outputs": [],
   "source": [
    "## Combine CSV, generate output\n",
    "\n",
    "# files = glob.glob(\"Clean_data/*.csv\")\n",
    "\n",
    "# csv = []\n",
    "\n",
    "# for file in files:\n",
    "#     df = pd.read_csv(file, index_col=None, header=0)\n",
    "#     csv.append(df)\n",
    "\n",
    "# df = pd.concat(csv, axis=0, ignore_index=True)\n",
    "\n",
    "# df.to_csv(\"Output/combined_csv.csv\")\n",
    "\n",
    "df = pd.read_csv(\"Output/combined_csv.csv\")"
   ]
  },
  {
   "cell_type": "code",
   "execution_count": 163,
   "metadata": {},
   "outputs": [
    {
     "name": "stdout",
     "output_type": "stream",
     "text": [
      "(195933, 28) \n",
      " Index(['Unnamed: 0', 'Unnamed: 0.1', 'backers_count', 'blurb', 'category',\n",
      "       'converted_pledged_amount', 'country', 'created_at', 'current_currency',\n",
      "       'deadline', 'fx_rate', 'goal', 'id', 'launched_at', 'location', 'name',\n",
      "       'pledged', 'profile', 'slug', 'source_url', 'spotlight', 'staff_pick',\n",
      "       'state', 'state_changed_at', 'static_usd_rate', 'urls', 'usd_pledged',\n",
      "       'usd_type'],\n",
      "      dtype='object')\n"
     ]
    }
   ],
   "source": [
    "print(df.shape, \"\\n\",df.columns)"
   ]
  },
  {
   "cell_type": "code",
   "execution_count": 112,
   "metadata": {},
   "outputs": [],
   "source": [
    "urls = df.urls\n",
    "\n",
    "urls_ = list(map(lambda url:json.loads(url)[\"web\"][\"project\"],urls))\n",
    "urls = urls_"
   ]
  },
  {
   "cell_type": "code",
   "execution_count": 153,
   "metadata": {},
   "outputs": [
    {
     "name": "stderr",
     "output_type": "stream",
     "text": [
      "100%|██████████| 100/100 [12:32<00:00,  7.52s/it]\n"
     ]
    }
   ],
   "source": [
    "path = \"Webdriver/chromedriver.exe\"\n",
    "driver = webdriver.Chrome(path)\n",
    "storys = []\n",
    "\n",
    "for i in tqdm(range(start_int,end_int)):\n",
    "    driver.get(urls[i])\n",
    "    story_raw = WebDriverWait(driver,10).until(\n",
    "    EC.presence_of_element_located((By.XPATH,\"//div[contains(@class, 'rte__content')]\"))\n",
    "    )\n",
    "    storys.append(story_raw.text)\n",
    "driver.quit()"
   ]
  },
  {
   "cell_type": "code",
   "execution_count": 184,
   "metadata": {},
   "outputs": [],
   "source": [
    "df_export = pd.DataFrame({\"index\":list(range(0,100)),\n",
    "                         \"story\":storys}, index = None)\n",
    "filename = \"Story_\" + str(start_int) + \"-\" + str(end_int)\n",
    "df_export.to_csv(\"Output/Story/{}.csv\".format(filename))"
   ]
  }
 ],
 "metadata": {
  "kernelspec": {
   "display_name": "Python 3",
   "language": "python",
   "name": "python3"
  },
  "language_info": {
   "codemirror_mode": {
    "name": "ipython",
    "version": 3
   },
   "file_extension": ".py",
   "mimetype": "text/x-python",
   "name": "python",
   "nbconvert_exporter": "python",
   "pygments_lexer": "ipython3",
   "version": "3.8.5"
  }
 },
 "nbformat": 4,
 "nbformat_minor": 4
}
