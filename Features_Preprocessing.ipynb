{
  "nbformat": 4,
  "nbformat_minor": 0,
  "metadata": {
    "colab": {
      "name": "Features Preprocessing.ipynb",
      "provenance": [],
      "collapsed_sections": [],
      "toc_visible": true
    },
    "kernelspec": {
      "display_name": "Python 3",
      "name": "python3"
    },
    "language_info": {
      "name": "python"
    }
  },
  "cells": [
    {
      "cell_type": "markdown",
      "metadata": {
        "id": "wPAl8ZSfBY6H"
      },
      "source": [
        "**CONSOLIDATED**"
      ]
    },
    {
      "cell_type": "code",
      "metadata": {
        "id": "WCTtvzjj7b2M",
        "colab": {
          "base_uri": "https://localhost:8080/"
        },
        "outputId": "0a859713-9789-438a-eab7-9a7e460fb878"
      },
      "source": [
        "from google.colab import drive\n",
        "drive.mount('/content/gdrive')"
      ],
      "execution_count": null,
      "outputs": [
        {
          "output_type": "stream",
          "text": [
            "Drive already mounted at /content/gdrive; to attempt to forcibly remount, call drive.mount(\"/content/gdrive\", force_remount=True).\n"
          ],
          "name": "stdout"
        }
      ]
    },
    {
      "cell_type": "code",
      "metadata": {
        "colab": {
          "base_uri": "https://localhost:8080/"
        },
        "id": "rX_96b1Yyg-l",
        "outputId": "e3dee6a3-3d56-49ff-8665-a585426eed8c"
      },
      "source": [
        "!pip install afinn"
      ],
      "execution_count": null,
      "outputs": [
        {
          "output_type": "stream",
          "text": [
            "Requirement already satisfied: afinn in /usr/local/lib/python3.7/dist-packages (0.1)\n"
          ],
          "name": "stdout"
        }
      ]
    },
    {
      "cell_type": "code",
      "metadata": {
        "id": "JdYb5GTexTVJ"
      },
      "source": [
        "# Import libraries \n",
        "import pandas as pd\n",
        "import numpy as np\n",
        "import json \n",
        "import matplotlib.pyplot as plt\n",
        "import seaborn as sns\n",
        "from pandas.api.types import CategoricalDtype \n",
        "from sklearn import model_selection, metrics\n",
        "from afinn import Afinn\n",
        "import math\n",
        "\n"
      ],
      "execution_count": null,
      "outputs": []
    },
    {
      "cell_type": "code",
      "metadata": {
        "colab": {
          "base_uri": "https://localhost:8080/"
        },
        "id": "U1B44YLG_QcM",
        "outputId": "603f8d89-81df-4c13-c721-c25f5ba2dfe3"
      },
      "source": [
        "df = pd.read_csv(\"/content/gdrive/MyDrive/Combined_dataset.csv\")\n",
        "df = df.drop('Unnamed: 0', axis=1)\n",
        "print(df.shape)"
      ],
      "execution_count": null,
      "outputs": [
        {
          "output_type": "stream",
          "text": [
            "(1000, 32)\n"
          ],
          "name": "stdout"
        }
      ]
    },
    {
      "cell_type": "code",
      "metadata": {
        "colab": {
          "base_uri": "https://localhost:8080/"
        },
        "id": "rJ4x4vxef8VE",
        "outputId": "8ac2c57c-db04-44b6-f03a-90ecc4fc4fda"
      },
      "source": [
        "#Get name of cols\n",
        "for i in range(0,32):\n",
        "    print(df.columns[i])"
      ],
      "execution_count": null,
      "outputs": [
        {
          "output_type": "stream",
          "text": [
            "backers_count\n",
            "blurb\n",
            "category\n",
            "converted_pledged_amount\n",
            "country\n",
            "created_at\n",
            "current_currency\n",
            "deadline\n",
            "fx_rate\n",
            "goal\n",
            "id\n",
            "launched_at\n",
            "location\n",
            "name\n",
            "pledged\n",
            "profile\n",
            "slug\n",
            "source_url\n",
            "spotlight\n",
            "staff_pick\n",
            "state\n",
            "state_changed_at\n",
            "static_usd_rate\n",
            "urls\n",
            "usd_pledged\n",
            "usd_type\n",
            "story\n",
            "faq\n",
            "num_faq\n",
            "comments\n",
            "n_comments\n",
            "duration\n"
          ],
          "name": "stdout"
        }
      ]
    },
    {
      "cell_type": "code",
      "metadata": {
        "colab": {
          "base_uri": "https://localhost:8080/",
          "height": 328
        },
        "id": "TvTFP-B4fzul",
        "outputId": "c2dccbec-08ee-4543-9c89-3c4e7f57aebd"
      },
      "source": [
        "df.head(2)"
      ],
      "execution_count": null,
      "outputs": [
        {
          "output_type": "execute_result",
          "data": {
            "text/html": [
              "<div>\n",
              "<style scoped>\n",
              "    .dataframe tbody tr th:only-of-type {\n",
              "        vertical-align: middle;\n",
              "    }\n",
              "\n",
              "    .dataframe tbody tr th {\n",
              "        vertical-align: top;\n",
              "    }\n",
              "\n",
              "    .dataframe thead th {\n",
              "        text-align: right;\n",
              "    }\n",
              "</style>\n",
              "<table border=\"1\" class=\"dataframe\">\n",
              "  <thead>\n",
              "    <tr style=\"text-align: right;\">\n",
              "      <th></th>\n",
              "      <th>backers_count</th>\n",
              "      <th>blurb</th>\n",
              "      <th>category</th>\n",
              "      <th>converted_pledged_amount</th>\n",
              "      <th>country</th>\n",
              "      <th>created_at</th>\n",
              "      <th>current_currency</th>\n",
              "      <th>deadline</th>\n",
              "      <th>fx_rate</th>\n",
              "      <th>goal</th>\n",
              "      <th>id</th>\n",
              "      <th>launched_at</th>\n",
              "      <th>location</th>\n",
              "      <th>name</th>\n",
              "      <th>pledged</th>\n",
              "      <th>profile</th>\n",
              "      <th>slug</th>\n",
              "      <th>source_url</th>\n",
              "      <th>spotlight</th>\n",
              "      <th>staff_pick</th>\n",
              "      <th>state</th>\n",
              "      <th>state_changed_at</th>\n",
              "      <th>static_usd_rate</th>\n",
              "      <th>urls</th>\n",
              "      <th>usd_pledged</th>\n",
              "      <th>usd_type</th>\n",
              "      <th>story</th>\n",
              "      <th>faq</th>\n",
              "      <th>num_faq</th>\n",
              "      <th>comments</th>\n",
              "      <th>n_comments</th>\n",
              "      <th>duration</th>\n",
              "    </tr>\n",
              "  </thead>\n",
              "  <tbody>\n",
              "    <tr>\n",
              "      <th>0</th>\n",
              "      <td>1</td>\n",
              "      <td>With your help we will create this device that...</td>\n",
              "      <td>{\"id\":331,\"name\":\"3D Printing\",\"slug\":\"technol...</td>\n",
              "      <td>1</td>\n",
              "      <td>ES</td>\n",
              "      <td>2015-08-18 21:01</td>\n",
              "      <td>USD</td>\n",
              "      <td>2016-07-09 20:11</td>\n",
              "      <td>1.212886</td>\n",
              "      <td>15000</td>\n",
              "      <td>1662798399</td>\n",
              "      <td>2016-06-09 20:11</td>\n",
              "      <td>{\"id\":55897673,\"name\":\"Mexico\",\"slug\":\"mexico-...</td>\n",
              "      <td>Save water 100% liquid downloads in toilets at...</td>\n",
              "      <td>1.0</td>\n",
              "      <td>{\"id\":2075449,\"project_id\":2075449,\"state\":\"in...</td>\n",
              "      <td>save-water-100-liquid-downloads-in-toilets</td>\n",
              "      <td>https://www.kickstarter.com/discover/categorie...</td>\n",
              "      <td>False</td>\n",
              "      <td>False</td>\n",
              "      <td>failed</td>\n",
              "      <td>2016-07-09 20:11</td>\n",
              "      <td>1.136930</td>\n",
              "      <td>{\"web\":{\"project\":\"https://www.kickstarter.com...</td>\n",
              "      <td>1.136930</td>\n",
              "      <td>domestic</td>\n",
              "      <td>Producto Final\\nHi! The funds we will used to ...</td>\n",
              "      <td>['   ']</td>\n",
              "      <td>0</td>\n",
              "      <td>Only backers can post comments. Log in\\nNo com...</td>\n",
              "      <td>0</td>\n",
              "      <td>30 days 00:00:00.000000000</td>\n",
              "    </tr>\n",
              "    <tr>\n",
              "      <th>1</th>\n",
              "      <td>2</td>\n",
              "      <td>We at Ormiston Primary are looking at starting...</td>\n",
              "      <td>{\"id\":309,\"name\":\"Farms\",\"slug\":\"food/farms\",\"...</td>\n",
              "      <td>9</td>\n",
              "      <td>NZ</td>\n",
              "      <td>2015-08-11 18:04</td>\n",
              "      <td>USD</td>\n",
              "      <td>2015-09-11 15:55</td>\n",
              "      <td>0.723585</td>\n",
              "      <td>5000</td>\n",
              "      <td>1316288919</td>\n",
              "      <td>2015-08-12 15:55</td>\n",
              "      <td>{\"id\":22726370,\"name\":\"Flat Bush\",\"slug\":\"flat...</td>\n",
              "      <td>Ormiston Primary Community Garden</td>\n",
              "      <td>15.0</td>\n",
              "      <td>{\"id\":2063089,\"project_id\":2063089,\"state\":\"in...</td>\n",
              "      <td>ormiston-primary-community-garden</td>\n",
              "      <td>https://www.kickstarter.com/discover/categorie...</td>\n",
              "      <td>False</td>\n",
              "      <td>False</td>\n",
              "      <td>failed</td>\n",
              "      <td>2015-09-11 15:55</td>\n",
              "      <td>0.655304</td>\n",
              "      <td>{\"web\":{\"project\":\"https://www.kickstarter.com...</td>\n",
              "      <td>9.829555</td>\n",
              "      <td>domestic</td>\n",
              "      <td>At Ormiston Primary School we are looking at c...</td>\n",
              "      <td>['   ']</td>\n",
              "      <td>0</td>\n",
              "      <td>Only backers can post comments. Log in\\nNo com...</td>\n",
              "      <td>0</td>\n",
              "      <td>30 days 00:00:00.000000000</td>\n",
              "    </tr>\n",
              "  </tbody>\n",
              "</table>\n",
              "</div>"
            ],
            "text/plain": [
              "   backers_count  ...                    duration\n",
              "0              1  ...  30 days 00:00:00.000000000\n",
              "1              2  ...  30 days 00:00:00.000000000\n",
              "\n",
              "[2 rows x 32 columns]"
            ]
          },
          "metadata": {
            "tags": []
          },
          "execution_count": 41
        }
      ]
    },
    {
      "cell_type": "code",
      "metadata": {
        "id": "XDi8R_ZNknDE"
      },
      "source": [
        "# Drop Duplicates\n",
        "df = df.drop_duplicates('id', keep ='first')"
      ],
      "execution_count": null,
      "outputs": []
    },
    {
      "cell_type": "code",
      "metadata": {
        "colab": {
          "base_uri": "https://localhost:8080/"
        },
        "id": "XcCBw-gmjHkx",
        "outputId": "5bdbd569-8291-411b-8b78-632e6d048382"
      },
      "source": [
        "#Check for NA\n",
        "df.isna().sum()"
      ],
      "execution_count": null,
      "outputs": [
        {
          "output_type": "execute_result",
          "data": {
            "text/plain": [
              "backers_count               0\n",
              "blurb                       0\n",
              "category                    0\n",
              "converted_pledged_amount    0\n",
              "country                     0\n",
              "created_at                  0\n",
              "current_currency            0\n",
              "deadline                    0\n",
              "fx_rate                     0\n",
              "goal                        0\n",
              "id                          0\n",
              "launched_at                 0\n",
              "location                    1\n",
              "name                        0\n",
              "pledged                     0\n",
              "profile                     0\n",
              "slug                        0\n",
              "source_url                  0\n",
              "spotlight                   0\n",
              "staff_pick                  0\n",
              "state                       0\n",
              "state_changed_at            0\n",
              "static_usd_rate             0\n",
              "urls                        0\n",
              "usd_pledged                 0\n",
              "usd_type                    0\n",
              "story                       5\n",
              "faq                         0\n",
              "num_faq                     0\n",
              "comments                    0\n",
              "n_comments                  0\n",
              "duration                    0\n",
              "dtype: int64"
            ]
          },
          "metadata": {
            "tags": []
          },
          "execution_count": 43
        }
      ]
    },
    {
      "cell_type": "code",
      "metadata": {
        "id": "kyZGFYbR_sjY"
      },
      "source": [
        "# Convert numerical cols type to int/float\n",
        "df['duration'] = pd.to_numeric(pd.to_timedelta(df['duration']).dt.days, downcast='integer')\n",
        "df['num_faq'] = df['num_faq'].astype(int)\n",
        "df['n_comments'] = df['n_comments'].str.replace(',', '').astype(float)\n",
        "\n",
        "# Convert rows from str to dict\n",
        "def string_to_dict(dict_string):\n",
        "    # Convert to proper json format\n",
        "    dict_string = dict_string.replace(\"'\", \"'\").replace('u\"', '\"')\n",
        "    return json.loads(dict_string)\n",
        "\n",
        "df.category = df.category.apply(string_to_dict)\n",
        "\n",
        "# Get category values from dictionary\n",
        "df['parent_category'] = [d.get('parent_name') for d in df.category]\n",
        "df['category_name'] = [d.get('name') for d in df.category]\n",
        "df[\"parent_category\"].fillna(\"No Parent Category\", inplace = True)\n",
        "\n",
        "# Get Location of Projects from location dict\n",
        "def get_location(i):\n",
        "    i = str(i).replace('nan', '{\"name\": \"\"}')\n",
        "    i = i.replace('false', 'False')\n",
        "    i = i.replace('null', '{\"name\": \"\"}')\n",
        "    name_i = eval(i).get('name')\n",
        "    if len(name_i) == 0:\n",
        "        return None\n",
        "    else:\n",
        "        if name_i.isdigit():\n",
        "            return None\n",
        "        else:\n",
        "            return name_i\n",
        "    \n",
        "df['location_name'] = df.location.apply(lambda x: get_location(x))"
      ],
      "execution_count": null,
      "outputs": []
    },
    {
      "cell_type": "code",
      "metadata": {
        "colab": {
          "base_uri": "https://localhost:8080/",
          "height": 526
        },
        "id": "84wfE5q-lOhJ",
        "outputId": "81d9caec-469b-40db-c27d-11b7bbc99668"
      },
      "source": [
        "# Fill na for text cols\n",
        "df[\"story\"].fillna(\" \", inplace = True)\n",
        "\n",
        "# Clean up comments \n",
        "df['comments'] = df['comments'].apply(lambda x: x.replace('Only backers can post comments. Log in\\n',\"\"))\n",
        "\n",
        "print(df.shape)\n",
        "df.sample(3)"
      ],
      "execution_count": null,
      "outputs": [
        {
          "output_type": "stream",
          "text": [
            "(985, 35)\n"
          ],
          "name": "stdout"
        },
        {
          "output_type": "execute_result",
          "data": {
            "text/html": [
              "<div>\n",
              "<style scoped>\n",
              "    .dataframe tbody tr th:only-of-type {\n",
              "        vertical-align: middle;\n",
              "    }\n",
              "\n",
              "    .dataframe tbody tr th {\n",
              "        vertical-align: top;\n",
              "    }\n",
              "\n",
              "    .dataframe thead th {\n",
              "        text-align: right;\n",
              "    }\n",
              "</style>\n",
              "<table border=\"1\" class=\"dataframe\">\n",
              "  <thead>\n",
              "    <tr style=\"text-align: right;\">\n",
              "      <th></th>\n",
              "      <th>backers_count</th>\n",
              "      <th>blurb</th>\n",
              "      <th>category</th>\n",
              "      <th>converted_pledged_amount</th>\n",
              "      <th>country</th>\n",
              "      <th>created_at</th>\n",
              "      <th>current_currency</th>\n",
              "      <th>deadline</th>\n",
              "      <th>fx_rate</th>\n",
              "      <th>goal</th>\n",
              "      <th>id</th>\n",
              "      <th>launched_at</th>\n",
              "      <th>location</th>\n",
              "      <th>name</th>\n",
              "      <th>pledged</th>\n",
              "      <th>profile</th>\n",
              "      <th>slug</th>\n",
              "      <th>source_url</th>\n",
              "      <th>spotlight</th>\n",
              "      <th>staff_pick</th>\n",
              "      <th>state</th>\n",
              "      <th>state_changed_at</th>\n",
              "      <th>static_usd_rate</th>\n",
              "      <th>urls</th>\n",
              "      <th>usd_pledged</th>\n",
              "      <th>usd_type</th>\n",
              "      <th>story</th>\n",
              "      <th>faq</th>\n",
              "      <th>num_faq</th>\n",
              "      <th>comments</th>\n",
              "      <th>n_comments</th>\n",
              "      <th>duration</th>\n",
              "      <th>parent_category</th>\n",
              "      <th>category_name</th>\n",
              "      <th>location_name</th>\n",
              "    </tr>\n",
              "  </thead>\n",
              "  <tbody>\n",
              "    <tr>\n",
              "      <th>165</th>\n",
              "      <td>95</td>\n",
              "      <td>Madhu &amp; Alex are returning to the studio to re...</td>\n",
              "      <td>{'id': 44, 'name': 'World Music', 'slug': 'mus...</td>\n",
              "      <td>8670</td>\n",
              "      <td>US</td>\n",
              "      <td>2017-02-05 14:42</td>\n",
              "      <td>USD</td>\n",
              "      <td>2017-04-21 14:11</td>\n",
              "      <td>1.000000</td>\n",
              "      <td>7777</td>\n",
              "      <td>249877281</td>\n",
              "      <td>2017-02-21 22:14</td>\n",
              "      <td>{\"id\":2362930,\"name\":\"Berkeley\",\"slug\":\"berkel...</td>\n",
              "      <td>Madhu &amp; Alex - The Sāmi Brothers</td>\n",
              "      <td>8670.22</td>\n",
              "      <td>{\"id\":2866644,\"project_id\":2866644,\"state\":\"in...</td>\n",
              "      <td>madhu-and-alex-the-sami-brothers</td>\n",
              "      <td>https://www.kickstarter.com/discover/categorie...</td>\n",
              "      <td>True</td>\n",
              "      <td>False</td>\n",
              "      <td>successful</td>\n",
              "      <td>2017-04-21 14:11</td>\n",
              "      <td>1.000000</td>\n",
              "      <td>{\"web\":{\"project\":\"https://www.kickstarter.com...</td>\n",
              "      <td>8670.220000</td>\n",
              "      <td>domestic</td>\n",
              "      <td>Support your brother, Madhu &amp; Alex, getting ba...</td>\n",
              "      <td>['   ']</td>\n",
              "      <td>0</td>\n",
              "      <td>Deb Epstein\\nalmost 4 years ago\\nCongratulatio...</td>\n",
              "      <td>6.0</td>\n",
              "      <td>58</td>\n",
              "      <td>Music</td>\n",
              "      <td>World Music</td>\n",
              "      <td>Berkeley</td>\n",
              "    </tr>\n",
              "    <tr>\n",
              "      <th>867</th>\n",
              "      <td>8</td>\n",
              "      <td>After recently creating a one-off vest for mys...</td>\n",
              "      <td>{'id': 263, 'name': 'Apparel', 'slug': 'fashio...</td>\n",
              "      <td>264</td>\n",
              "      <td>GB</td>\n",
              "      <td>2015-02-23 15:19</td>\n",
              "      <td>USD</td>\n",
              "      <td>2015-03-25 15:35</td>\n",
              "      <td>1.384815</td>\n",
              "      <td>150</td>\n",
              "      <td>628807230</td>\n",
              "      <td>2015-02-23 15:35</td>\n",
              "      <td>{\"id\":37024,\"name\":\"Taunton\",\"slug\":\"taunton-g...</td>\n",
              "      <td>The VIRUS Empire Strix vest</td>\n",
              "      <td>178.00</td>\n",
              "      <td>{\"id\":1726262,\"project_id\":1726262,\"state\":\"in...</td>\n",
              "      <td>the-virus-empire-strix-vest</td>\n",
              "      <td>https://www.kickstarter.com/discover/categorie...</td>\n",
              "      <td>True</td>\n",
              "      <td>False</td>\n",
              "      <td>successful</td>\n",
              "      <td>2015-03-25 15:35</td>\n",
              "      <td>1.539926</td>\n",
              "      <td>{\"web\":{\"project\":\"https://www.kickstarter.com...</td>\n",
              "      <td>274.106766</td>\n",
              "      <td>international</td>\n",
              "      <td>I wanted to use the artwork from my EP Strix o...</td>\n",
              "      <td>['   ']</td>\n",
              "      <td>0</td>\n",
              "      <td>No comments yet.</td>\n",
              "      <td>0.0</td>\n",
              "      <td>30</td>\n",
              "      <td>Fashion</td>\n",
              "      <td>Apparel</td>\n",
              "      <td>Taunton</td>\n",
              "    </tr>\n",
              "    <tr>\n",
              "      <th>149</th>\n",
              "      <td>2</td>\n",
              "      <td>Drone Foods Delivery. For current time of need...</td>\n",
              "      <td>{'id': 314, 'name': 'Spaces', 'slug': 'food/sp...</td>\n",
              "      <td>11</td>\n",
              "      <td>US</td>\n",
              "      <td>2020-03-17 2:03</td>\n",
              "      <td>USD</td>\n",
              "      <td>2020-04-16 3:53</td>\n",
              "      <td>1.000000</td>\n",
              "      <td>10000</td>\n",
              "      <td>465041186</td>\n",
              "      <td>2020-03-17 3:53</td>\n",
              "      <td>{\"id\":2442047,\"name\":\"Los Angeles\",\"slug\":\"los...</td>\n",
              "      <td>Drone Foods Delivery</td>\n",
              "      <td>11.00</td>\n",
              "      <td>{\"id\":3954395,\"project_id\":3954395,\"state\":\"in...</td>\n",
              "      <td>drone-foods-delivery</td>\n",
              "      <td>https://www.kickstarter.com/discover/categorie...</td>\n",
              "      <td>False</td>\n",
              "      <td>False</td>\n",
              "      <td>failed</td>\n",
              "      <td>2020-04-16 3:53</td>\n",
              "      <td>1.000000</td>\n",
              "      <td>{\"web\":{\"project\":\"https://www.kickstarter.com...</td>\n",
              "      <td>11.000000</td>\n",
              "      <td>domestic</td>\n",
              "      <td>Why am I creating this?  How did this idea com...</td>\n",
              "      <td>['   ']</td>\n",
              "      <td>0</td>\n",
              "      <td>No comments yet.</td>\n",
              "      <td>0.0</td>\n",
              "      <td>30</td>\n",
              "      <td>Food</td>\n",
              "      <td>Spaces</td>\n",
              "      <td>Los Angeles</td>\n",
              "    </tr>\n",
              "  </tbody>\n",
              "</table>\n",
              "</div>"
            ],
            "text/plain": [
              "     backers_count  ... location_name\n",
              "165             95  ...      Berkeley\n",
              "867              8  ...       Taunton\n",
              "149              2  ...   Los Angeles\n",
              "\n",
              "[3 rows x 35 columns]"
            ]
          },
          "metadata": {
            "tags": []
          },
          "execution_count": 45
        }
      ]
    },
    {
      "cell_type": "code",
      "metadata": {
        "colab": {
          "base_uri": "https://localhost:8080/"
        },
        "id": "H5zjnLTblO8e",
        "outputId": "8681393b-b565-4a3d-a2e7-8ee99a242fba"
      },
      "source": [
        "#Get name of cols (after clean)\n",
        "for i in range(0,34):\n",
        "    print(df.columns[i])"
      ],
      "execution_count": null,
      "outputs": [
        {
          "output_type": "stream",
          "text": [
            "backers_count\n",
            "blurb\n",
            "category\n",
            "converted_pledged_amount\n",
            "country\n",
            "created_at\n",
            "current_currency\n",
            "deadline\n",
            "fx_rate\n",
            "goal\n",
            "id\n",
            "launched_at\n",
            "location\n",
            "name\n",
            "pledged\n",
            "profile\n",
            "slug\n",
            "source_url\n",
            "spotlight\n",
            "staff_pick\n",
            "state\n",
            "state_changed_at\n",
            "static_usd_rate\n",
            "urls\n",
            "usd_pledged\n",
            "usd_type\n",
            "story\n",
            "faq\n",
            "num_faq\n",
            "comments\n",
            "n_comments\n",
            "duration\n",
            "parent_category\n",
            "category_name\n"
          ],
          "name": "stdout"
        }
      ]
    },
    {
      "cell_type": "markdown",
      "metadata": {
        "id": "7RJdv7xAzLQ2"
      },
      "source": [
        "## EDA"
      ]
    },
    {
      "cell_type": "code",
      "metadata": {
        "colab": {
          "base_uri": "https://localhost:8080/",
          "height": 725
        },
        "id": "O4rXtK6hx3P7",
        "outputId": "179604a2-5b15-468c-a59b-f8980115bf72"
      },
      "source": [
        "# Get Correlation heatmap\n",
        "plt.figure(figsize=(16,10))\n",
        "cor = df.corr()\n",
        "sns.heatmap(cor, annot=True, cmap=plt.cm.Reds)\n",
        "plt.show()"
      ],
      "execution_count": null,
      "outputs": [
        {
          "output_type": "display_data",
          "data": {
            "image/png": "[encoded data removed]",
            "text/plain": [
              "<Figure size 1152x720 with 2 Axes>"
            ]
          },
          "metadata": {
            "tags": [],
            "needs_background": "light"
          }
        }
      ]
    },
    {
      "cell_type": "markdown",
      "metadata": {
        "id": "1bzfLrQlk1j1"
      },
      "source": [
        "Features with high correlation: \n",
        "\n",
        "1. converted_pledged_amount with usd_pledged,\n",
        "2. static_usd_rate with fx_rate\n",
        "3. usd_pledged with backers_count\n",
        "4. state with spotlight\n",
        "5. n_comments with converted_pledged_amount\n",
        "6. n_comments with backers_count\n",
        "7. converted_pledged_amount with converted_pledged_amount\n",
        "\n"
      ]
    },
    {
      "cell_type": "markdown",
      "metadata": {
        "id": "udxYdA36zGcp"
      },
      "source": [
        "## Feature Engineering"
      ]
    },
    {
      "cell_type": "code",
      "metadata": {
        "id": "fTyKp4QalntY"
      },
      "source": [
        "# Separate cols by type\n",
        "categorical_cols = ['country', 'staff_pick', 'usd_type', 'parent_category', 'category_name']\n",
        "num_cols = ['backers_count', 'fx_rate', 'goal', 'pledged', 'num_faq', 'n_comments', 'duration']\n",
        "text_cols = ['blurb', 'name', 'story', 'faq', 'comments']"
      ],
      "execution_count": null,
      "outputs": []
    },
    {
      "cell_type": "code",
      "metadata": {
        "id": "uKAMcVuHmAAV"
      },
      "source": [
        "#Change state to binary (1 = success project, 0 = failed project)\n",
        "df.state = df.state.astype('category').cat.codes"
      ],
      "execution_count": null,
      "outputs": []
    },
    {
      "cell_type": "code",
      "metadata": {
        "id": "CJa7xrWKlwLZ"
      },
      "source": [
        "# Get month/year of launch/deadline\n",
        "df['month_launched'] = pd.DatetimeIndex(df['launched_at']).month.astype(int)\n",
        "df['year_launched'] = pd.DatetimeIndex(df['launched_at']).year.astype(int)"
      ],
      "execution_count": null,
      "outputs": []
    },
    {
      "cell_type": "code",
      "metadata": {
        "id": "Bs92PbMblycZ"
      },
      "source": [
        "# Log Transformation\n",
        "boxplot_features = ['backers_count', 'goal', 'pledged', 'duration', 'n_comments']\n",
        "\n",
        "for feature in boxplot_features:\n",
        "    new_col = feature + '_log'\n",
        "    df[new_col] = df[feature].apply(lambda x: math.log(x+1))\n",
        "    df[new_col] = (df[new_col] - df[new_col].mean())/df[new_col].std()"
      ],
      "execution_count": null,
      "outputs": []
    },
    {
      "cell_type": "code",
      "metadata": {
        "id": "iYc2zrFqmRKa"
      },
      "source": [
        "# Boolean Transformation\n",
        "df['num_faq_bool'] = df['num_faq'].apply(lambda x: np.where(x >0, 1, 0))"
      ],
      "execution_count": null,
      "outputs": []
    },
    {
      "cell_type": "code",
      "metadata": {
        "id": "GYAkLmd4ly-u"
      },
      "source": [
        "# Average fund per backer\n",
        "df['avg_fund_per_backer'] = df['pledged']/df['backers_count']\n",
        "num_cols.append('avg_fund_per_backer')"
      ],
      "execution_count": null,
      "outputs": []
    },
    {
      "cell_type": "code",
      "metadata": {
        "colab": {
          "base_uri": "https://localhost:8080/",
          "height": 387
        },
        "id": "ICFCUSM4pO4O",
        "outputId": "23c27106-4440-4e19-e9b8-a399de896c4c"
      },
      "source": [
        "# Add Afinn score for comments\n",
        "afinn = Afinn(emoticons=True)\n",
        "afinn_scores = [afinn.score(text) for text in df.comments]\n",
        "df['comments_afinn'] = afinn_scores\n",
        "\n",
        "sns.boxplot(x=\"state\", y=\"comments_afinn\", data=df).set(ylim=(-50, 100))\n",
        "sns.swarmplot(x=\"state\", y=\"comments_afinn\", data=df, color=\".25\", alpha=0.5)"
      ],
      "execution_count": null,
      "outputs": [
        {
          "output_type": "stream",
          "text": [
            "/usr/local/lib/python3.7/dist-packages/seaborn/categorical.py:1296: UserWarning: 78.2% of the points cannot be placed; you may want to decrease the size of the markers or use stripplot.\n",
            "  warnings.warn(msg, UserWarning)\n",
            "/usr/local/lib/python3.7/dist-packages/seaborn/categorical.py:1296: UserWarning: 38.2% of the points cannot be placed; you may want to decrease the size of the markers or use stripplot.\n",
            "  warnings.warn(msg, UserWarning)\n"
          ],
          "name": "stderr"
        },
        {
          "output_type": "execute_result",
          "data": {
            "text/plain": [
              "<matplotlib.axes._subplots.AxesSubplot at 0x7fa6b647f1d0>"
            ]
          },
          "metadata": {
            "tags": []
          },
          "execution_count": 54
        },
        {
          "output_type": "display_data",
          "data": {
            "image/png": "[encoded data removed]",
            "text/plain": [
              "<Figure size 432x288 with 1 Axes>"
            ]
          },
          "metadata": {
            "tags": [],
            "needs_background": "light"
          }
        }
      ]
    },
    {
      "cell_type": "markdown",
      "metadata": {
        "id": "KGfgkVS8zw-t"
      },
      "source": [
        "## Text Analysis"
      ]
    },
    {
      "cell_type": "code",
      "metadata": {
        "id": "d4bZhEDdzFqP"
      },
      "source": [
        "# Extra text features to be analyzed by combining pre-existing text features\n",
        "df['blurb_name'] = df['blurb'] + df['name']\n",
        "# df['blurb_story'] = df['blurb'] + df['story']\n",
        "# df['name_faq'] = df['name'] + df['faq']\n",
        "# df['name_comments'] = df['name'] + df['comments']\n",
        "df['faq_comments'] = df['faq'] + df['comments']\n",
        "\n",
        "text_cols2 = ['blurb_name', 'faq_comments']\n",
        "text_cols = text_cols + text_cols2"
      ],
      "execution_count": null,
      "outputs": []
    },
    {
      "cell_type": "markdown",
      "metadata": {
        "id": "DnYzKnU90Gxf"
      },
      "source": [
        "Save to output csv"
      ]
    },
    {
      "cell_type": "code",
      "metadata": {
        "id": "C54Bjpj-tKyi",
        "colab": {
          "base_uri": "https://localhost:8080/"
        },
        "outputId": "fc2320e5-7121-4d34-f758-af3994c68bbd"
      },
      "source": [
        "df.columns"
      ],
      "execution_count": null,
      "outputs": [
        {
          "output_type": "execute_result",
          "data": {
            "text/plain": [
              "Index(['backers_count', 'blurb', 'category', 'converted_pledged_amount',\n",
              "       'country', 'created_at', 'current_currency', 'deadline', 'fx_rate',\n",
              "       'goal', 'id', 'launched_at', 'location', 'name', 'pledged', 'profile',\n",
              "       'slug', 'source_url', 'spotlight', 'staff_pick', 'state',\n",
              "       'state_changed_at', 'static_usd_rate', 'urls', 'usd_pledged',\n",
              "       'usd_type', 'story', 'faq', 'num_faq', 'comments', 'n_comments',\n",
              "       'duration', 'parent_category', 'category_name', 'location_name',\n",
              "       'month_launched', 'year_launched', 'backers_count_log', 'goal_log',\n",
              "       'pledged_log', 'duration_log', 'n_comments_log', 'num_faq_bool',\n",
              "       'avg_fund_per_backer', 'comments_afinn', 'blurb_name', 'faq_comments'],\n",
              "      dtype='object')"
            ]
          },
          "metadata": {
            "tags": []
          },
          "execution_count": 56
        }
      ]
    },
    {
      "cell_type": "code",
      "metadata": {
        "id": "2XJCEpPkoJGa",
        "colab": {
          "base_uri": "https://localhost:8080/",
          "height": 475
        },
        "outputId": "983f5e8d-4a53-40d0-e940-342659335f13"
      },
      "source": [
        "df.sample(3)"
      ],
      "execution_count": null,
      "outputs": [
        {
          "output_type": "execute_result",
          "data": {
            "text/html": [
              "<div>\n",
              "<style scoped>\n",
              "    .dataframe tbody tr th:only-of-type {\n",
              "        vertical-align: middle;\n",
              "    }\n",
              "\n",
              "    .dataframe tbody tr th {\n",
              "        vertical-align: top;\n",
              "    }\n",
              "\n",
              "    .dataframe thead th {\n",
              "        text-align: right;\n",
              "    }\n",
              "</style>\n",
              "<table border=\"1\" class=\"dataframe\">\n",
              "  <thead>\n",
              "    <tr style=\"text-align: right;\">\n",
              "      <th></th>\n",
              "      <th>backers_count</th>\n",
              "      <th>blurb</th>\n",
              "      <th>category</th>\n",
              "      <th>converted_pledged_amount</th>\n",
              "      <th>country</th>\n",
              "      <th>created_at</th>\n",
              "      <th>current_currency</th>\n",
              "      <th>deadline</th>\n",
              "      <th>fx_rate</th>\n",
              "      <th>goal</th>\n",
              "      <th>id</th>\n",
              "      <th>launched_at</th>\n",
              "      <th>location</th>\n",
              "      <th>name</th>\n",
              "      <th>pledged</th>\n",
              "      <th>profile</th>\n",
              "      <th>slug</th>\n",
              "      <th>source_url</th>\n",
              "      <th>spotlight</th>\n",
              "      <th>staff_pick</th>\n",
              "      <th>state</th>\n",
              "      <th>state_changed_at</th>\n",
              "      <th>static_usd_rate</th>\n",
              "      <th>urls</th>\n",
              "      <th>usd_pledged</th>\n",
              "      <th>usd_type</th>\n",
              "      <th>story</th>\n",
              "      <th>faq</th>\n",
              "      <th>num_faq</th>\n",
              "      <th>comments</th>\n",
              "      <th>n_comments</th>\n",
              "      <th>duration</th>\n",
              "      <th>parent_category</th>\n",
              "      <th>category_name</th>\n",
              "      <th>location_name</th>\n",
              "      <th>month_launched</th>\n",
              "      <th>year_launched</th>\n",
              "      <th>backers_count_log</th>\n",
              "      <th>goal_log</th>\n",
              "      <th>pledged_log</th>\n",
              "      <th>duration_log</th>\n",
              "      <th>n_comments_log</th>\n",
              "      <th>num_faq_bool</th>\n",
              "      <th>avg_fund_per_backer</th>\n",
              "      <th>comments_afinn</th>\n",
              "      <th>blurb_name</th>\n",
              "      <th>faq_comments</th>\n",
              "    </tr>\n",
              "  </thead>\n",
              "  <tbody>\n",
              "    <tr>\n",
              "      <th>4</th>\n",
              "      <td>10</td>\n",
              "      <td>The Horror Zine's Jeani Rector brings us anoth...</td>\n",
              "      <td>{'id': 324, 'name': 'Anthologies', 'slug': 'pu...</td>\n",
              "      <td>340</td>\n",
              "      <td>US</td>\n",
              "      <td>2014-11-04 16:30</td>\n",
              "      <td>USD</td>\n",
              "      <td>2014-12-09 9:20</td>\n",
              "      <td>1.0</td>\n",
              "      <td>2500</td>\n",
              "      <td>1449353867</td>\n",
              "      <td>2014-11-09 9:20</td>\n",
              "      <td>{\"id\":2380358,\"name\":\"Cincinnati\",\"slug\":\"cinc...</td>\n",
              "      <td>Shrieks and Shivers from the Horror Zine</td>\n",
              "      <td>340.00</td>\n",
              "      <td>{\"id\":1491788,\"project_id\":1491788,\"state\":\"in...</td>\n",
              "      <td>shrieks-and-shivers-from-the-horror-zine</td>\n",
              "      <td>https://www.kickstarter.com/discover/categorie...</td>\n",
              "      <td>False</td>\n",
              "      <td>False</td>\n",
              "      <td>0</td>\n",
              "      <td>2014-12-09 9:20</td>\n",
              "      <td>1.0</td>\n",
              "      <td>{\"web\":{\"project\":\"https://www.kickstarter.com...</td>\n",
              "      <td>340.00</td>\n",
              "      <td>international</td>\n",
              "      <td>Table of Contents\\n• TAPEWORM by Martin Rose\\n...</td>\n",
              "      <td>['   ']</td>\n",
              "      <td>0</td>\n",
              "      <td>Paula Limbaugh\\nover 6 years ago\\nSo sorry you...</td>\n",
              "      <td>1.0</td>\n",
              "      <td>30</td>\n",
              "      <td>Publishing</td>\n",
              "      <td>Anthologies</td>\n",
              "      <td>Cincinnati</td>\n",
              "      <td>11</td>\n",
              "      <td>2014</td>\n",
              "      <td>-0.457135</td>\n",
              "      <td>-0.260089</td>\n",
              "      <td>-0.289093</td>\n",
              "      <td>-0.012145</td>\n",
              "      <td>-0.232950</td>\n",
              "      <td>0</td>\n",
              "      <td>34.000000</td>\n",
              "      <td>2.0</td>\n",
              "      <td>The Horror Zine's Jeani Rector brings us anoth...</td>\n",
              "      <td>['   ']Paula Limbaugh\\nover 6 years ago\\nSo so...</td>\n",
              "    </tr>\n",
              "    <tr>\n",
              "      <th>621</th>\n",
              "      <td>11</td>\n",
              "      <td>A haunted house in Orlando, FL. \\nCreated by K...</td>\n",
              "      <td>{'id': 1, 'name': 'Art', 'slug': 'art', 'posit...</td>\n",
              "      <td>252</td>\n",
              "      <td>US</td>\n",
              "      <td>2020-08-08 21:38</td>\n",
              "      <td>USD</td>\n",
              "      <td>2020-10-02 1:00</td>\n",
              "      <td>1.0</td>\n",
              "      <td>250</td>\n",
              "      <td>950050737</td>\n",
              "      <td>2020-09-02 15:08</td>\n",
              "      <td>{\"id\":2466256,\"name\":\"Orlando\",\"slug\":\"orlando...</td>\n",
              "      <td>Hardin Haunt</td>\n",
              "      <td>252.00</td>\n",
              "      <td>{\"id\":4048775,\"project_id\":4048775,\"state\":\"in...</td>\n",
              "      <td>hardin-haunt</td>\n",
              "      <td>https://www.kickstarter.com/discover/categorie...</td>\n",
              "      <td>True</td>\n",
              "      <td>False</td>\n",
              "      <td>1</td>\n",
              "      <td>2020-10-02 1:00</td>\n",
              "      <td>1.0</td>\n",
              "      <td>{\"web\":{\"project\":\"https://www.kickstarter.com...</td>\n",
              "      <td>252.00</td>\n",
              "      <td>domestic</td>\n",
              "      <td>The Need for Halloween\\nMy name is Kyle T. Har...</td>\n",
              "      <td>['   ']</td>\n",
              "      <td>0</td>\n",
              "      <td>No comments yet.</td>\n",
              "      <td>0.0</td>\n",
              "      <td>29</td>\n",
              "      <td>No Parent Category</td>\n",
              "      <td>Art</td>\n",
              "      <td>Orlando</td>\n",
              "      <td>9</td>\n",
              "      <td>2020</td>\n",
              "      <td>-0.409492</td>\n",
              "      <td>-1.478753</td>\n",
              "      <td>-0.383543</td>\n",
              "      <td>-0.099817</td>\n",
              "      <td>-0.710711</td>\n",
              "      <td>0</td>\n",
              "      <td>22.909091</td>\n",
              "      <td>-1.0</td>\n",
              "      <td>A haunted house in Orlando, FL. \\nCreated by K...</td>\n",
              "      <td>['   ']No comments yet.</td>\n",
              "    </tr>\n",
              "    <tr>\n",
              "      <th>172</th>\n",
              "      <td>77</td>\n",
              "      <td>Help Brooklyn's favorite prairie-punks finish ...</td>\n",
              "      <td>{'id': 43, 'name': 'Rock', 'slug': 'music/rock...</td>\n",
              "      <td>2700</td>\n",
              "      <td>US</td>\n",
              "      <td>2012-10-24 14:13</td>\n",
              "      <td>USD</td>\n",
              "      <td>2013-03-31 13:11</td>\n",
              "      <td>1.0</td>\n",
              "      <td>1500</td>\n",
              "      <td>596529739</td>\n",
              "      <td>2013-03-01 13:11</td>\n",
              "      <td>{\"id\":12589335,\"name\":\"Brooklyn\",\"slug\":\"brook...</td>\n",
              "      <td>GUNFIGHT! IS RECORDING A NEW ALBUM!</td>\n",
              "      <td>2700.01</td>\n",
              "      <td>{\"id\":383609,\"project_id\":383609,\"state\":\"inac...</td>\n",
              "      <td>gunfight-is-recording-a-new-album</td>\n",
              "      <td>https://www.kickstarter.com/discover/categorie...</td>\n",
              "      <td>True</td>\n",
              "      <td>False</td>\n",
              "      <td>1</td>\n",
              "      <td>2013-03-31 13:11</td>\n",
              "      <td>1.0</td>\n",
              "      <td>{\"web\":{\"project\":\"https://www.kickstarter.com...</td>\n",
              "      <td>2700.01</td>\n",
              "      <td>international</td>\n",
              "      <td>Hey everyone,\\nGunFight! is hard at work on th...</td>\n",
              "      <td>[\" Will this album be better or worse than you...</td>\n",
              "      <td>2</td>\n",
              "      <td>Anthony J. Lusardi III\\nabout 5 years ago\\nWha...</td>\n",
              "      <td>4.0</td>\n",
              "      <td>30</td>\n",
              "      <td>Music</td>\n",
              "      <td>Rock</td>\n",
              "      <td>Brooklyn</td>\n",
              "      <td>3</td>\n",
              "      <td>2013</td>\n",
              "      <td>0.615403</td>\n",
              "      <td>-0.530729</td>\n",
              "      <td>0.365749</td>\n",
              "      <td>-0.012145</td>\n",
              "      <td>0.398616</td>\n",
              "      <td>1</td>\n",
              "      <td>35.065065</td>\n",
              "      <td>26.0</td>\n",
              "      <td>Help Brooklyn's favorite prairie-punks finish ...</td>\n",
              "      <td>[\" Will this album be better or worse than you...</td>\n",
              "    </tr>\n",
              "  </tbody>\n",
              "</table>\n",
              "</div>"
            ],
            "text/plain": [
              "     backers_count  ...                                       faq_comments\n",
              "4               10  ...  ['   ']Paula Limbaugh\\nover 6 years ago\\nSo so...\n",
              "621             11  ...                            ['   ']No comments yet.\n",
              "172             77  ...  [\" Will this album be better or worse than you...\n",
              "\n",
              "[3 rows x 47 columns]"
            ]
          },
          "metadata": {
            "tags": []
          },
          "execution_count": 57
        }
      ]
    },
    {
      "cell_type": "code",
      "metadata": {
        "id": "hm5AG6Fm36nE"
      },
      "source": [
        "df[\"location_name\"].fillna(\"None\", inplace = True)\n",
        "df[\"location\"].fillna(\"None\", inplace = True)\n",
        "df[\"avg_fund_per_backer\"].fillna(0, inplace = True)"
      ],
      "execution_count": null,
      "outputs": []
    },
    {
      "cell_type": "code",
      "metadata": {
        "id": "lpabm9NR2vrF",
        "colab": {
          "base_uri": "https://localhost:8080/"
        },
        "outputId": "09096046-ee40-4817-d08f-e535b9f9877d"
      },
      "source": [
        "df.isna().sum()"
      ],
      "execution_count": null,
      "outputs": [
        {
          "output_type": "execute_result",
          "data": {
            "text/plain": [
              "backers_count               0\n",
              "blurb                       0\n",
              "category                    0\n",
              "converted_pledged_amount    0\n",
              "country                     0\n",
              "created_at                  0\n",
              "current_currency            0\n",
              "deadline                    0\n",
              "fx_rate                     0\n",
              "goal                        0\n",
              "id                          0\n",
              "launched_at                 0\n",
              "location                    0\n",
              "name                        0\n",
              "pledged                     0\n",
              "profile                     0\n",
              "slug                        0\n",
              "source_url                  0\n",
              "spotlight                   0\n",
              "staff_pick                  0\n",
              "state                       0\n",
              "state_changed_at            0\n",
              "static_usd_rate             0\n",
              "urls                        0\n",
              "usd_pledged                 0\n",
              "usd_type                    0\n",
              "story                       0\n",
              "faq                         0\n",
              "num_faq                     0\n",
              "comments                    0\n",
              "n_comments                  0\n",
              "duration                    0\n",
              "parent_category             0\n",
              "category_name               0\n",
              "location_name               0\n",
              "month_launched              0\n",
              "year_launched               0\n",
              "backers_count_log           0\n",
              "goal_log                    0\n",
              "pledged_log                 0\n",
              "duration_log                0\n",
              "n_comments_log              0\n",
              "num_faq_bool                0\n",
              "avg_fund_per_backer         0\n",
              "comments_afinn              0\n",
              "blurb_name                  0\n",
              "faq_comments                0\n",
              "dtype: int64"
            ]
          },
          "metadata": {
            "tags": []
          },
          "execution_count": 60
        }
      ]
    },
    {
      "cell_type": "code",
      "metadata": {
        "id": "1GEOwvdXoJQE",
        "colab": {
          "base_uri": "https://localhost:8080/",
          "height": 17
        },
        "outputId": "1db89f30-b6e7-412d-ce2c-915723a45590"
      },
      "source": [
        "from google.colab import files\n",
        "df.to_csv('data_clean&processed.csv')\n",
        "files.download('data_clean&processed.csv')  "
      ],
      "execution_count": null,
      "outputs": [
        {
          "output_type": "display_data",
          "data": {
            "application/javascript": [
              "\n",
              "    async function download(id, filename, size) {\n",
              "      if (!google.colab.kernel.accessAllowed) {\n",
              "        return;\n",
              "      }\n",
              "      const div = document.createElement('div');\n",
              "      const label = document.createElement('label');\n",
              "      label.textContent = `Downloading \"${filename}\": `;\n",
              "      div.appendChild(label);\n",
              "      const progress = document.createElement('progress');\n",
              "      progress.max = size;\n",
              "      div.appendChild(progress);\n",
              "      document.body.appendChild(div);\n",
              "\n",
              "      const buffers = [];\n",
              "      let downloaded = 0;\n",
              "\n",
              "      const channel = await google.colab.kernel.comms.open(id);\n",
              "      // Send a message to notify the kernel that we're ready.\n",
              "      channel.send({})\n",
              "\n",
              "      for await (const message of channel.messages) {\n",
              "        // Send a message to notify the kernel that we're ready.\n",
              "        channel.send({})\n",
              "        if (message.buffers) {\n",
              "          for (const buffer of message.buffers) {\n",
              "            buffers.push(buffer);\n",
              "            downloaded += buffer.byteLength;\n",
              "            progress.value = downloaded;\n",
              "          }\n",
              "        }\n",
              "      }\n",
              "      const blob = new Blob(buffers, {type: 'application/binary'});\n",
              "      const a = document.createElement('a');\n",
              "      a.href = window.URL.createObjectURL(blob);\n",
              "      a.download = filename;\n",
              "      div.appendChild(a);\n",
              "      a.click();\n",
              "      div.remove();\n",
              "    }\n",
              "  "
            ],
            "text/plain": [
              "<IPython.core.display.Javascript object>"
            ]
          },
          "metadata": {
            "tags": []
          }
        },
        {
          "output_type": "display_data",
          "data": {
            "application/javascript": [
              "download(\"download_dd2a8c49-0843-41c9-ac73-1b02c90987cf\", \"data_clean&processed.csv\", 8586658)"
            ],
            "text/plain": [
              "<IPython.core.display.Javascript object>"
            ]
          },
          "metadata": {
            "tags": []
          }
        }
      ]
    }
  ]
}