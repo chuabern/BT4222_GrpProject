{
 "metadata": {
  "language_info": {
   "codemirror_mode": {
    "name": "ipython",
    "version": 3
   },
   "file_extension": ".py",
   "mimetype": "text/x-python",
   "name": "python",
   "nbconvert_exporter": "python",
   "pygments_lexer": "ipython3",
   "version": "3.7.4-final"
  },
  "orig_nbformat": 2,
  "kernelspec": {
   "name": "python3",
   "display_name": "Python 3.7.4 64-bit",
   "metadata": {
    "interpreter": {
     "hash": "e534e48711db4d1e1c48977d0d14ff85b1f16d41bcc4fdfd88268a329b3c9d66"
    }
   }
  }
 },
 "nbformat": 4,
 "nbformat_minor": 2,
 "cells": [
  {
   "cell_type": "code",
   "execution_count": 2,
   "metadata": {},
   "outputs": [],
   "source": [
    "from sklearn import model_selection\n",
    "from sklearn.ensemble import StackingClassifier\n",
    "from sklearn.model_selection import RepeatedStratifiedKFold\n",
    "from sklearn.model_selection import cross_val_score\n",
    "from mlxtend.classifier import StackingCVClassifier\n",
    "import warnings\n",
    "import pickle\n",
    "import pandas as pd\n",
    "warnings.simplefilter('ignore')\n",
    "RANDOM_SEED = 42"
   ]
  },
  {
   "source": [
    "# Import your models first"
   ],
   "cell_type": "markdown",
   "metadata": {}
  },
  {
   "cell_type": "code",
   "execution_count": 3,
   "metadata": {},
   "outputs": [],
   "source": [
    "# Logistic Regression\n",
    "f = open('logreg.pckl', 'rb')\n",
    "logreg = pickle.load(f)\n",
    "f.close()"
   ]
  },
  {
   "cell_type": "code",
   "execution_count": 4,
   "metadata": {},
   "outputs": [],
   "source": [
    "# Decision Tree\n",
    "f = open('decisiontree.pckl', 'rb')\n",
    "decisiontree = pickle.load(f)\n",
    "f.close()"
   ]
  },
  {
   "cell_type": "code",
   "execution_count": 5,
   "metadata": {},
   "outputs": [],
   "source": [
    "# Random Forest\n",
    "f = open('randomforest.pckl', 'rb')\n",
    "randomforest = pickle.load(f)\n",
    "f.close()"
   ]
  },
  {
   "cell_type": "code",
   "execution_count": 6,
   "metadata": {},
   "outputs": [],
   "source": [
    "# SVM\n",
    "f = open('svm.pckl', 'rb')\n",
    "svm = pickle.load(f)\n",
    "f.close()"
   ]
  },
  {
   "cell_type": "code",
   "execution_count": 7,
   "metadata": {},
   "outputs": [
    {
     "output_type": "stream",
     "name": "stdout",
     "text": [
      "LogisticRegression(random_state=42)\nDecisionTreeClassifier(criterion='entropy', max_depth=6, max_features=45,\n                       min_samples_leaf=75, min_samples_split=45, presort=None,\n                       random_state=40)\nRandomForestClassifier(criterion='entropy', min_samples_split=12,\n                       n_estimators=200)\nSVC(gamma='auto', kernel='linear')\n"
     ]
    }
   ],
   "source": [
    "# Inspect models\n",
    "print(logreg)\n",
    "print(decisiontree)\n",
    "print(randomforest)\n",
    "print(svm)"
   ]
  },
  {
   "source": [
    "## Reintroduce X and y"
   ],
   "cell_type": "markdown",
   "metadata": {}
  },
  {
   "cell_type": "code",
   "execution_count": 8,
   "metadata": {},
   "outputs": [],
   "source": [
    "df = pd.read_csv(\"./Output/data_clean&processed_addedsentiment.csv\")\n",
    "X = df['goal'].values.reshape(-1,1)\n",
    "# X = df.drop('state', axis=1)\n",
    "y = df['state']"
   ]
  },
  {
   "cell_type": "code",
   "execution_count": 9,
   "metadata": {},
   "outputs": [],
   "source": [
    "models = [('lr',logreg),('svm',svm),('decisiontree',decisiontree),('randomforest',randomforest)]\n",
    "stacking = StackingClassifier(estimators=models)"
   ]
  },
  {
   "source": [
    "# Create stacking model"
   ],
   "cell_type": "markdown",
   "metadata": {}
  },
  {
   "cell_type": "code",
   "execution_count": 10,
   "metadata": {},
   "outputs": [
    {
     "output_type": "stream",
     "name": "stdout",
     "text": [
      "10-fold cross validation:\n",
      "\n",
      "AUC: nan (+/- nan) [Decision Tree]\n",
      "AUC: 0.6538 (+/- 0.0188) [Log Reg]\n",
      "AUC: 0.6039 (+/- 0.0124) [Random Forest]\n",
      "AUC: nan (+/- nan) [Stacked Model]\n"
     ]
    }
   ],
   "source": [
    "sclf = StackingCVClassifier(classifiers=[decisiontree, logreg, randomforest, svm], \n",
    "                          meta_classifier=svm)\n",
    "\n",
    "print('10-fold cross validation:\\n')\n",
    "\n",
    "for clf, label in zip([decisiontree, logreg, randomforest, sclf], \n",
    "                      ['Decision Tree',\n",
    "                       'Log Reg', \n",
    "                        'Random Forest','Stacked Model']):\n",
    "\n",
    "    sclf_scores = model_selection.cross_val_score(clf, X, y,\n",
    "                                              cv=5, scoring='roc_auc')\n",
    "    print(\"AUC: %0.4f (+/- %0.4f) [%s]\" % (sclf_scores.mean(), sclf_scores.std(), label))"
   ]
  },
  {
   "cell_type": "code",
   "execution_count": null,
   "metadata": {},
   "outputs": [],
   "source": []
  },
  {
   "cell_type": "code",
   "execution_count": null,
   "metadata": {},
   "outputs": [],
   "source": []
  }
 ]
}