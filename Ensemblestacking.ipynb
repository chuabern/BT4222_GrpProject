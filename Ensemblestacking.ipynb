{
 "cells": [
  {
   "cell_type": "code",
   "execution_count": 17,
   "metadata": {},
   "outputs": [],
   "source": [
    "from sklearn import model_selection\n",
    "from sklearn.ensemble import StackingClassifier\n",
    "from sklearn.model_selection import RepeatedStratifiedKFold\n",
    "from pandas.api.types import CategoricalDtype \n",
    "from sklearn.model_selection import cross_val_score\n",
    "from mlxtend.classifier import StackingCVClassifier\n",
    "import warnings\n",
    "import pickle\n",
    "import pandas as pd\n",
    "from pandas.api.types import CategoricalDtype \n",
    "warnings.simplefilter('ignore')\n",
    "RANDOM_SEED = 42"
   ]
  },
  {
   "cell_type": "markdown",
   "metadata": {},
   "source": [
    "# Import your models first"
   ]
  },
  {
   "cell_type": "code",
   "execution_count": 18,
   "metadata": {},
   "outputs": [],
   "source": [
    "# Logistic Regression\n",
    "f = open('logreg.pckl', 'rb')\n",
    "logreg = pickle.load(f)\n",
    "f.close()"
   ]
  },
  {
   "cell_type": "code",
   "execution_count": 19,
   "metadata": {},
   "outputs": [],
   "source": [
    "# Decision Tree\n",
    "f = open('decisiontree.pckl', 'rb')\n",
    "decisiontree = pickle.load(f)\n",
    "f.close()"
   ]
  },
  {
   "cell_type": "code",
   "execution_count": 20,
   "metadata": {},
   "outputs": [],
   "source": [
    "# Random Forest\n",
    "f = open('randomforest.pckl', 'rb')\n",
    "randomforest = pickle.load(f)\n",
    "f.close()"
   ]
  },
  {
   "cell_type": "code",
   "execution_count": 21,
   "metadata": {},
   "outputs": [],
   "source": [
    "# SVM\n",
    "f = open('svm.pckl', 'rb')\n",
    "svm = pickle.load(f)\n",
    "f.close()"
   ]
  },
  {
   "cell_type": "code",
   "execution_count": 22,
   "metadata": {},
   "outputs": [
    {
     "output_type": "stream",
     "name": "stdout",
     "text": [
      "LogisticRegression(C=0.01, intercept_scaling=1.0, penalty='l1', random_state=42,\n                   solver='liblinear')\nDecisionTreeClassifier(criterion='entropy', max_depth=6, min_samples_leaf=10,\n                       min_samples_split=5, presort=None, random_state=40)\nRandomForestClassifier(random_state=42)\nSVC(gamma='auto', kernel='linear')\n"
     ]
    }
   ],
   "source": [
    "# Inspect models\n",
    "print(logreg)\n",
    "print(decisiontree)\n",
    "print(randomforest)\n",
    "print(svm)"
   ]
  },
  {
   "cell_type": "code",
   "execution_count": 23,
   "metadata": {},
   "outputs": [],
   "source": [
    "df = pd.read_csv(\"./Output/data_clean&processed_addedsentiment.csv\")"
   ]
  },
  {
   "cell_type": "markdown",
   "metadata": {},
   "source": [
    "## Drop Text Columns"
   ]
  },
  {
   "cell_type": "code",
   "execution_count": 24,
   "metadata": {},
   "outputs": [],
   "source": [
    "cols_to_drop = ['profile', 'category', 'created_at', 'location', 'current_currency', 'deadline', 'id', \n",
    "                'launched_at', 'slug', 'source_url', 'state_changed_at', 'urls', 'static_usd_rate', \n",
    "                'usd_pledged', 'converted_pledged_amount', 'spotlight', 'name_afinn', 'blurb_afinn','comments_afinn']\n",
    "\n",
    "data_new = df.drop(cols_to_drop, axis=1)\n",
    "\n",
    "text_to_drop = ['blurb','name','story','faq','comments','blurb_name','faq_comments']\n",
    "data_new = data_new.drop(text_to_drop , axis=1)"
   ]
  },
  {
   "cell_type": "code",
   "execution_count": 25,
   "metadata": {},
   "outputs": [],
   "source": [
    "categorical_cols = [\"country\",\"staff_pick\",\"usd_type\",\"parent_category\",\"num_faq_bool\",\"category_name\"]\n",
    "\n",
    "# Split dataset\n",
    "X = data_new.drop(['state','backers_count','pledged','pledged_log','duration','n_comments','num_faq','goal','location_name'], axis=1)\n",
    "y = data_new.state\n",
    "\n",
    "# set stratify = y to maintain ratio of successful:failed for train and test\n",
    "X_train, X_test, y_train, y_test = model_selection.train_test_split(X, y, test_size=0.2, random_state=2019, stratify = y)"
   ]
  },
  {
   "cell_type": "code",
   "execution_count": 26,
   "metadata": {},
   "outputs": [],
   "source": [
    "OHE_df = pd.DataFrame()\n",
    "\n",
    "for i in categorical_cols:\n",
    "    OHE_df[i] = X_train[i].astype(CategoricalDtype(list(set(X[i]))))\n",
    "    \n",
    "    OHE_df = pd.concat([OHE_df, pd.get_dummies(X[i], prefix=i)],axis=1)\n",
    "    \n",
    "OHE_df = OHE_df.drop(categorical_cols, axis= 1)\n",
    "\n",
    "X_no_cat = X.drop(categorical_cols, axis= 1)\n",
    "OHE_df = pd.concat([X_no_cat, OHE_df],axis=1)\n",
    "\n",
    "#OHE_train, OHE_test, y_train, y_test = model_selection.train_test_split(OHE_df, y, test_size=0.2, random_state=2019)"
   ]
  },
  {
   "cell_type": "markdown",
   "metadata": {},
   "source": [
    "# Create stacking model"
   ]
  },
  {
   "cell_type": "code",
   "execution_count": 27,
   "metadata": {},
   "outputs": [
    {
     "output_type": "stream",
     "name": "stdout",
     "text": [
      "5-fold cross validation:\n",
      "\n",
      "Accuracy: 0.9561 (+/- 0.0093) [Decision Tree]\n",
      "Accuracy: 0.9389 (+/- 0.0087) [Logistic Regression]\n",
      "Accuracy: 0.9205 (+/- 0.0285) [Random Forest]\n",
      "Accuracy: 0.9588 (+/- 0.0074) [Stacked Model]\n"
     ]
    }
   ],
   "source": [
    "sclf = StackingCVClassifier(classifiers=[decisiontree, logreg, randomforest], \n",
    "                          meta_classifier=svm)\n",
    "\n",
    "print('5-fold cross validation:\\n')\n",
    "\n",
    "for clf, label in zip([decisiontree, logreg, randomforest, sclf], \n",
    "                      ['Decision Tree',\n",
    "                      'Logistic Regression',\n",
    "                        'Random Forest',\n",
    "                        'Stacked Model']):\n",
    "\n",
    "    sclf_scores = model_selection.cross_val_score(clf, OHE_df, y,\n",
    "                                              cv=5, scoring='accuracy')\n",
    "    print(\"Accuracy: %0.4f (+/- %0.4f) [%s]\" % (sclf_scores.mean(), sclf_scores.std(), label))"
   ]
  },
  {
   "cell_type": "code",
   "execution_count": null,
   "metadata": {},
   "outputs": [],
   "source": []
  }
 ],
 "metadata": {
  "kernelspec": {
   "name": "python3",
   "display_name": "Python 3.7.4 64-bit",
   "metadata": {
    "interpreter": {
     "hash": "70b38d7a306a849643e446cd70466270a13445e5987dfa1344ef2b127438fa4d"
    }
   }
  },
  "language_info": {
   "codemirror_mode": {
    "name": "ipython",
    "version": 3
   },
   "file_extension": ".py",
   "mimetype": "text/x-python",
   "name": "python",
   "nbconvert_exporter": "python",
   "pygments_lexer": "ipython3",
   "version": "3.7.4"
  }
 },
 "nbformat": 4,
 "nbformat_minor": 2
}