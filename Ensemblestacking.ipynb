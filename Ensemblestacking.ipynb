{
 "metadata": {
  "language_info": {
   "codemirror_mode": {
    "name": "ipython",
    "version": 3
   },
   "file_extension": ".py",
   "mimetype": "text/x-python",
   "name": "python",
   "nbconvert_exporter": "python",
   "pygments_lexer": "ipython3",
   "version": "3.7.4-final"
  },
  "orig_nbformat": 2,
  "kernelspec": {
   "name": "python3",
   "display_name": "Python 3.7.4 64-bit",
   "metadata": {
    "interpreter": {
     "hash": "e534e48711db4d1e1c48977d0d14ff85b1f16d41bcc4fdfd88268a329b3c9d66"
    }
   }
  }
 },
 "nbformat": 4,
 "nbformat_minor": 2,
 "cells": [
  {
   "cell_type": "code",
   "execution_count": 2,
   "metadata": {},
   "outputs": [],
   "source": [
    "from sklearn import model_selection\n",
    "from mlxtend.classifier import StackingCVClassifier\n",
    "import warnings\n",
    "\n",
    "warnings.simplefilter('ignore')\n",
    "RANDOM_SEED = 42"
   ]
  },
  {
   "source": [
    "# Import your models first"
   ],
   "cell_type": "markdown",
   "metadata": {}
  },
  {
   "cell_type": "code",
   "execution_count": null,
   "metadata": {},
   "outputs": [],
   "source": [
    "# lr = LogisticRegression(random_state = 42,solver='lbfgs') # LR Model goes here\n",
    "\n",
    "# DT = DecisionTreeClassifier(criterion='gini', random_state=42, max_depth = 8, min_samples_split = 45, min_samples_leaf = 75, max_features = 45) # Decision Tree Model goes here\n",
    "\n",
    "# RF = RandomForestClassifier(n_estimators=100, random_state = 42, criterion = 'gini', max_depth=15, min_samples_split=38, min_samples_leaf=12, max_features=23) # Random Forest Model goes here\n",
    "\n",
    "# XGB = XGBClassifier( # XGB Model goes here\n",
    "#  learning_rate =0.1,\n",
    "#  n_estimators=150,\n",
    "#  max_depth=5,\n",
    "#  min_child_weight=5,\n",
    "#  gamma=0.9,\n",
    "#  subsample=0.8,\n",
    "#  colsample_bytree=0.8,\n",
    "#  reg_alpha=1.05,\n",
    "#  objective= 'binary:logistic',\n",
    "#  nthread=4,\n",
    "#  scale_pos_weight=1,\n",
    "#  seed=42)"
   ]
  },
  {
   "cell_type": "code",
   "execution_count": null,
   "metadata": {},
   "outputs": [],
   "source": [
    "sclf = StackingCVClassifier(classifiers=[RF, lr, XGB], \n",
    "                          meta_classifier=XGB)\n",
    "\n",
    "print('10-fold cross validation:\\n')\n",
    "\n",
    "for clf, label in zip([RF, lr, XGB, sclf], \n",
    "                      ['Random Forest',\n",
    "                       'Log Reg', \n",
    "                        'XGB','Stacked Model']):\n",
    "\n",
    "    sclf_scores = model_selection.cross_val_score(clf, X_full, y_full,\n",
    "                                              cv=10, scoring='roc_auc')\n",
    "    print(\"AUC: %0.4f (+/- %0.4f) [%s]\" % (sclf_scores.mean(), sclf_scores.std(), label))"
   ]
  }
 ]
}