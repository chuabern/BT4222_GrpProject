{
  "nbformat": 4,
  "nbformat_minor": 0,
  "metadata": {
    "colab": {
      "name": "Untitled1.ipynb",
      "provenance": [],
      "collapsed_sections": []
    },
    "kernelspec": {
      "name": "python3",
      "display_name": "Python 3"
    },
    "language_info": {
      "name": "python"
    },
    "accelerator": "TPU"
  },
  "cells": [
    {
      "cell_type": "code",
      "metadata": {
        "colab": {
          "base_uri": "https://localhost:8080/"
        },
        "id": "NWjGasm-RCFL",
        "outputId": "ea2b082f-cca4-48d5-f0db-e8afab07e646"
      },
      "source": [
        "  from google.colab import drive\n",
        "drive.mount('/content/gdrive')"
      ],
      "execution_count": 1,
      "outputs": [
        {
          "output_type": "stream",
          "text": [
            "Mounted at /content/gdrive\n"
          ],
          "name": "stdout"
        }
      ]
    },
    {
      "cell_type": "code",
      "metadata": {
        "colab": {
          "base_uri": "https://localhost:8080/"
        },
        "id": "1m6cc5tbRCqX",
        "outputId": "e758372e-60cf-4be2-8fa1-78a7cb048d8f"
      },
      "source": [
        "import nltk\n",
        "import string\n",
        "import re\n",
        "import pandas as pd\n",
        "import numpy as np\n",
        "from nltk.tokenize import word_tokenize\n",
        "from nltk.corpus import stopwords\n",
        "\n",
        "from sklearn.model_selection import train_test_split\n",
        "from sklearn.preprocessing import LabelEncoder\n",
        "\n",
        "import tensorflow as tf\n",
        "\n",
        "from tensorflow.keras.preprocessing.text import Tokenizer\n",
        "from tensorflow.keras.preprocessing.sequence import pad_sequences\n",
        "\n",
        "from tensorflow.keras.models import Sequential\n",
        "from tensorflow.keras.layers import Embedding, LSTM, Input, Dense, Dropout, concatenate, Reshape\n",
        "from tensorflow.keras.initializers import Constant\n",
        "from tensorflow.keras.optimizers import Adam\n",
        "\n",
        "nltk.download('stopwords')\n",
        "nltk.download('words')\n",
        "nltk.download('punkt')\n",
        "\n",
        "stop = set(stopwords.words(\"english\"))\n",
        "words = set(nltk.corpus.words.words())\n",
        "\n",
        "# max_len = 2000"
      ],
      "execution_count": 2,
      "outputs": [
        {
          "output_type": "stream",
          "text": [
            "[nltk_data] Downloading package stopwords to /root/nltk_data...\n",
            "[nltk_data]   Unzipping corpora/stopwords.zip.\n",
            "[nltk_data] Downloading package words to /root/nltk_data...\n",
            "[nltk_data]   Unzipping corpora/words.zip.\n",
            "[nltk_data] Downloading package punkt to /root/nltk_data...\n",
            "[nltk_data]   Unzipping tokenizers/punkt.zip.\n"
          ],
          "name": "stdout"
        }
      ]
    },
    {
      "cell_type": "code",
      "metadata": {
        "colab": {
          "base_uri": "https://localhost:8080/"
        },
        "id": "VK9XOraSXCLH",
        "outputId": "8063706b-5187-4998-8c33-1765e189c471"
      },
      "source": [
        "resolver = tf.distribute.cluster_resolver.TPUClusterResolver(tpu='')\n",
        "tf.config.experimental_connect_to_cluster(resolver)\n",
        "# This is the TPU initialization code that has to be at the beginning.\n",
        "tf.tpu.experimental.initialize_tpu_system(resolver)\n",
        "print(\"All devices: \", tf.config.list_logical_devices('TPU'))\n"
      ],
      "execution_count": 3,
      "outputs": [
        {
          "output_type": "stream",
          "text": [
            "INFO:tensorflow:Initializing the TPU system: grpc://10.92.166.82:8470\n"
          ],
          "name": "stdout"
        },
        {
          "output_type": "stream",
          "text": [
            "INFO:tensorflow:Initializing the TPU system: grpc://10.92.166.82:8470\n"
          ],
          "name": "stderr"
        },
        {
          "output_type": "stream",
          "text": [
            "INFO:tensorflow:Clearing out eager caches\n"
          ],
          "name": "stdout"
        },
        {
          "output_type": "stream",
          "text": [
            "INFO:tensorflow:Clearing out eager caches\n"
          ],
          "name": "stderr"
        },
        {
          "output_type": "stream",
          "text": [
            "INFO:tensorflow:Finished initializing TPU system.\n"
          ],
          "name": "stdout"
        },
        {
          "output_type": "stream",
          "text": [
            "INFO:tensorflow:Finished initializing TPU system.\n"
          ],
          "name": "stderr"
        },
        {
          "output_type": "stream",
          "text": [
            "All devices:  [LogicalDevice(name='/job:worker/replica:0/task:0/device:TPU:7', device_type='TPU'), LogicalDevice(name='/job:worker/replica:0/task:0/device:TPU:6', device_type='TPU'), LogicalDevice(name='/job:worker/replica:0/task:0/device:TPU:5', device_type='TPU'), LogicalDevice(name='/job:worker/replica:0/task:0/device:TPU:4', device_type='TPU'), LogicalDevice(name='/job:worker/replica:0/task:0/device:TPU:3', device_type='TPU'), LogicalDevice(name='/job:worker/replica:0/task:0/device:TPU:0', device_type='TPU'), LogicalDevice(name='/job:worker/replica:0/task:0/device:TPU:1', device_type='TPU'), LogicalDevice(name='/job:worker/replica:0/task:0/device:TPU:2', device_type='TPU')]\n"
          ],
          "name": "stdout"
        }
      ]
    },
    {
      "cell_type": "code",
      "metadata": {
        "colab": {
          "base_uri": "https://localhost:8080/",
          "height": 257
        },
        "id": "xONBIhzrREXc",
        "outputId": "503fba17-9983-4b9c-9a63-854c8be50315"
      },
      "source": [
        "pd.set_option('display.max_columns', None)\n",
        "df = pd.read_csv(\"/content/gdrive/MyDrive/data_clean&processed.csv\")\n",
        "df.head(1)\n"
      ],
      "execution_count": 4,
      "outputs": [
        {
          "output_type": "execute_result",
          "data": {
            "text/html": [
              "<div>\n",
              "<style scoped>\n",
              "    .dataframe tbody tr th:only-of-type {\n",
              "        vertical-align: middle;\n",
              "    }\n",
              "\n",
              "    .dataframe tbody tr th {\n",
              "        vertical-align: top;\n",
              "    }\n",
              "\n",
              "    .dataframe thead th {\n",
              "        text-align: right;\n",
              "    }\n",
              "</style>\n",
              "<table border=\"1\" class=\"dataframe\">\n",
              "  <thead>\n",
              "    <tr style=\"text-align: right;\">\n",
              "      <th></th>\n",
              "      <th>Unnamed: 0</th>\n",
              "      <th>backers_count</th>\n",
              "      <th>blurb</th>\n",
              "      <th>category</th>\n",
              "      <th>converted_pledged_amount</th>\n",
              "      <th>country</th>\n",
              "      <th>created_at</th>\n",
              "      <th>current_currency</th>\n",
              "      <th>deadline</th>\n",
              "      <th>fx_rate</th>\n",
              "      <th>goal</th>\n",
              "      <th>id</th>\n",
              "      <th>launched_at</th>\n",
              "      <th>location</th>\n",
              "      <th>name</th>\n",
              "      <th>pledged</th>\n",
              "      <th>profile</th>\n",
              "      <th>slug</th>\n",
              "      <th>source_url</th>\n",
              "      <th>spotlight</th>\n",
              "      <th>staff_pick</th>\n",
              "      <th>state</th>\n",
              "      <th>state_changed_at</th>\n",
              "      <th>static_usd_rate</th>\n",
              "      <th>urls</th>\n",
              "      <th>usd_pledged</th>\n",
              "      <th>usd_type</th>\n",
              "      <th>story</th>\n",
              "      <th>faq</th>\n",
              "      <th>num_faq</th>\n",
              "      <th>comments</th>\n",
              "      <th>n_comments</th>\n",
              "      <th>duration</th>\n",
              "      <th>parent_category</th>\n",
              "      <th>category_name</th>\n",
              "      <th>location_name</th>\n",
              "      <th>month_launched</th>\n",
              "      <th>year_launched</th>\n",
              "      <th>backers_count_log</th>\n",
              "      <th>goal_log</th>\n",
              "      <th>pledged_log</th>\n",
              "      <th>duration_log</th>\n",
              "      <th>n_comments_log</th>\n",
              "      <th>num_faq_bool</th>\n",
              "      <th>avg_fund_per_backer</th>\n",
              "      <th>comments_afinn</th>\n",
              "      <th>blurb_name</th>\n",
              "      <th>faq_comments</th>\n",
              "    </tr>\n",
              "  </thead>\n",
              "  <tbody>\n",
              "    <tr>\n",
              "      <th>0</th>\n",
              "      <td>0</td>\n",
              "      <td>1</td>\n",
              "      <td>With your help we will create this device that...</td>\n",
              "      <td>{'id': 331, 'name': '3D Printing', 'slug': 'te...</td>\n",
              "      <td>1</td>\n",
              "      <td>ES</td>\n",
              "      <td>2015-08-18 21:01</td>\n",
              "      <td>USD</td>\n",
              "      <td>2016-07-09 20:11</td>\n",
              "      <td>1.212886</td>\n",
              "      <td>15000</td>\n",
              "      <td>1662798399</td>\n",
              "      <td>2016-06-09 20:11</td>\n",
              "      <td>{\"id\":55897673,\"name\":\"Mexico\",\"slug\":\"mexico-...</td>\n",
              "      <td>Save water 100% liquid downloads in toilets at...</td>\n",
              "      <td>1.0</td>\n",
              "      <td>{\"id\":2075449,\"project_id\":2075449,\"state\":\"in...</td>\n",
              "      <td>save-water-100-liquid-downloads-in-toilets</td>\n",
              "      <td>https://www.kickstarter.com/discover/categorie...</td>\n",
              "      <td>False</td>\n",
              "      <td>False</td>\n",
              "      <td>0</td>\n",
              "      <td>2016-07-09 20:11</td>\n",
              "      <td>1.13693</td>\n",
              "      <td>{\"web\":{\"project\":\"https://www.kickstarter.com...</td>\n",
              "      <td>1.13693</td>\n",
              "      <td>domestic</td>\n",
              "      <td>Producto Final\\r\\nHi! The funds we will used t...</td>\n",
              "      <td>['   ']</td>\n",
              "      <td>0</td>\n",
              "      <td>No comments yet.</td>\n",
              "      <td>0.0</td>\n",
              "      <td>30</td>\n",
              "      <td>Technology</td>\n",
              "      <td>3D Printing</td>\n",
              "      <td>Mexico</td>\n",
              "      <td>6</td>\n",
              "      <td>2016</td>\n",
              "      <td>-1.390561</td>\n",
              "      <td>0.689521</td>\n",
              "      <td>-1.915118</td>\n",
              "      <td>-0.012145</td>\n",
              "      <td>-0.710711</td>\n",
              "      <td>0</td>\n",
              "      <td>1.0</td>\n",
              "      <td>-1.0</td>\n",
              "      <td>With your help we will create this device that...</td>\n",
              "      <td>['   ']No comments yet.</td>\n",
              "    </tr>\n",
              "  </tbody>\n",
              "</table>\n",
              "</div>"
            ],
            "text/plain": [
              "   Unnamed: 0  backers_count  \\\n",
              "0           0              1   \n",
              "\n",
              "                                               blurb  \\\n",
              "0  With your help we will create this device that...   \n",
              "\n",
              "                                            category  \\\n",
              "0  {'id': 331, 'name': '3D Printing', 'slug': 'te...   \n",
              "\n",
              "   converted_pledged_amount country        created_at current_currency  \\\n",
              "0                         1      ES  2015-08-18 21:01              USD   \n",
              "\n",
              "           deadline   fx_rate   goal          id       launched_at  \\\n",
              "0  2016-07-09 20:11  1.212886  15000  1662798399  2016-06-09 20:11   \n",
              "\n",
              "                                            location  \\\n",
              "0  {\"id\":55897673,\"name\":\"Mexico\",\"slug\":\"mexico-...   \n",
              "\n",
              "                                                name  pledged  \\\n",
              "0  Save water 100% liquid downloads in toilets at...      1.0   \n",
              "\n",
              "                                             profile  \\\n",
              "0  {\"id\":2075449,\"project_id\":2075449,\"state\":\"in...   \n",
              "\n",
              "                                         slug  \\\n",
              "0  save-water-100-liquid-downloads-in-toilets   \n",
              "\n",
              "                                          source_url  spotlight  staff_pick  \\\n",
              "0  https://www.kickstarter.com/discover/categorie...      False       False   \n",
              "\n",
              "   state  state_changed_at  static_usd_rate  \\\n",
              "0      0  2016-07-09 20:11          1.13693   \n",
              "\n",
              "                                                urls  usd_pledged  usd_type  \\\n",
              "0  {\"web\":{\"project\":\"https://www.kickstarter.com...      1.13693  domestic   \n",
              "\n",
              "                                               story      faq  num_faq  \\\n",
              "0  Producto Final\\r\\nHi! The funds we will used t...  ['   ']        0   \n",
              "\n",
              "           comments  n_comments  duration parent_category category_name  \\\n",
              "0  No comments yet.         0.0        30      Technology   3D Printing   \n",
              "\n",
              "  location_name  month_launched  year_launched  backers_count_log  goal_log  \\\n",
              "0        Mexico               6           2016          -1.390561  0.689521   \n",
              "\n",
              "   pledged_log  duration_log  n_comments_log  num_faq_bool  \\\n",
              "0    -1.915118     -0.012145       -0.710711             0   \n",
              "\n",
              "   avg_fund_per_backer  comments_afinn  \\\n",
              "0                  1.0            -1.0   \n",
              "\n",
              "                                          blurb_name             faq_comments  \n",
              "0  With your help we will create this device that...  ['   ']No comments yet.  "
            ]
          },
          "metadata": {
            "tags": []
          },
          "execution_count": 4
        }
      ]
    },
    {
      "cell_type": "code",
      "metadata": {
        "id": "VZXpX-r8_Fl8"
      },
      "source": [
        "le = LabelEncoder()\n",
        "\n",
        "le.fit(df[\"parent_category\"])\n",
        "df[\"parent_category\"] = le.transform(df[\"parent_category\"])\n",
        "\n",
        "le.fit(df[\"category_name\"])\n",
        "df[\"category_name\"] = le.transform(df[\"category_name\"])\n",
        "\n",
        "le.fit(df[\"location_name\"])\n",
        "df[\"location_name\"] = le.transform(df[\"location_name\"])\n"
      ],
      "execution_count": 5,
      "outputs": []
    },
    {
      "cell_type": "code",
      "metadata": {
        "id": "O1v7t1RRXmL6"
      },
      "source": [
        "columns_categorical = [\"parent_category\",\"category_name\",\"location_name\"]\n",
        "columns_numeric = [ \"duration_log\", \"n_comments_log\",\"month_launched\"]"
      ],
      "execution_count": 6,
      "outputs": []
    },
    {
      "cell_type": "code",
      "metadata": {
        "id": "ZN4AG52MaDpX"
      },
      "source": [
        "def clean_text(text):\n",
        "  table = str.maketrans(\"\",\"\",string.punctuation)\n",
        "  text = \" \".join(word.lower() for word in nltk.wordpunct_tokenize(text) \\\n",
        "                   if word.lower() in word or not word.isalpha()) \n",
        "  text = text.translate(table)\n",
        "  text = \" \".join([word for word in text.split() if len(word)>1])\n",
        "  return \" \".join([word for word in text.split() if word.lower() not in stop])"
      ],
      "execution_count": 7,
      "outputs": []
    },
    {
      "cell_type": "code",
      "metadata": {
        "id": "WE6G3oRPRI5l"
      },
      "source": [
        "df['story'] = list(map(\n",
        "    lambda x : clean_text(x),\n",
        "    df[\"story\"]\n",
        "))"
      ],
      "execution_count": 8,
      "outputs": []
    },
    {
      "cell_type": "code",
      "metadata": {
        "id": "aO1hb2racnX5"
      },
      "source": [
        "def create_corpus(df):\n",
        "    corpus = []\n",
        "    for text in df[\"story\"]:\n",
        "        words = [word for word in word_tokenize(text)]\n",
        "        corpus.append(words)\n",
        "    return corpus\n",
        "corpus = create_corpus(df)"
      ],
      "execution_count": 9,
      "outputs": []
    },
    {
      "cell_type": "code",
      "metadata": {
        "colab": {
          "base_uri": "https://localhost:8080/"
        },
        "id": "Z-JtmVDjgmxT",
        "outputId": "67bd9736-200b-4386-aa76-ce29197f242c"
      },
      "source": [
        "max_len = max([len(x) for x in df[\"story\"]])\n",
        "num_words = len(corpus)\n",
        "num_words"
      ],
      "execution_count": 10,
      "outputs": [
        {
          "output_type": "execute_result",
          "data": {
            "text/plain": [
              "985"
            ]
          },
          "metadata": {
            "tags": []
          },
          "execution_count": 10
        }
      ]
    },
    {
      "cell_type": "code",
      "metadata": {
        "id": "R6qADwwLlbY2"
      },
      "source": [
        "X = df[columns_categorical + columns_numeric + [\"story\"]]\n",
        "y = df[\"state\"]"
      ],
      "execution_count": 11,
      "outputs": []
    },
    {
      "cell_type": "code",
      "metadata": {
        "id": "yF5TNQ2Dg2wJ"
      },
      "source": [
        "X_train, X_test, y_train, y_test = train_test_split(X, y, test_size=0.2, random_state=42)"
      ],
      "execution_count": 12,
      "outputs": []
    },
    {
      "cell_type": "code",
      "metadata": {
        "id": "mFrhy-X-g-bM"
      },
      "source": [
        "tokenizer = Tokenizer(num_words = num_words)\n",
        "tokenizer.fit_on_texts(X_train[\"story\"])"
      ],
      "execution_count": 13,
      "outputs": []
    },
    {
      "cell_type": "code",
      "metadata": {
        "id": "iirZ6jzZmlX0"
      },
      "source": [
        "X_train_seq = tokenizer.texts_to_sequences(X_train[\"story\"])\n",
        "X_train_padded = pad_sequences(\n",
        "    X_train_seq, maxlen = max_len, truncating = \"post\", padding = \"post\"\n",
        ")\n",
        "\n",
        "X_test_seq = tokenizer.texts_to_sequences(X_test[\"story\"])\n",
        "X_test_padded = pad_sequences(\n",
        "    X_test_seq, maxlen = max_len, truncating = \"post\", padding = \"post\"\n",
        ")"
      ],
      "execution_count": 14,
      "outputs": []
    },
    {
      "cell_type": "code",
      "metadata": {
        "id": "avWiX97YnFIe"
      },
      "source": [
        "embedding_dict = {}\n",
        "with open(\"/content/gdrive/MyDrive/glove.6B.100d.txt\", encoding='utf-8') as f:\n",
        "    for line in f:\n",
        "        values = line.split()\n",
        "        word = values[0]\n",
        "        vectors = np.asarray(values[1:],\"float32\")\n",
        "        embedding_dict[word] = vectors\n",
        "f.close()"
      ],
      "execution_count": 15,
      "outputs": []
    },
    {
      "cell_type": "code",
      "metadata": {
        "id": "nBWw2Xy2nW6v"
      },
      "source": [
        "word_index = tokenizer.word_index"
      ],
      "execution_count": 16,
      "outputs": []
    },
    {
      "cell_type": "code",
      "metadata": {
        "id": "Tmk7z1uAnY3J"
      },
      "source": [
        "num_words = len(word_index) + 1\n",
        "embedding_matrix = np.zeros((num_words,100))\n",
        "\n",
        "for word, i in word_index.items():\n",
        "    if i < num_words:\n",
        "        emb_vec = embedding_dict.get(word)\n",
        "        if emb_vec is not None:\n",
        "            embedding_matrix[i] = emb_vec"
      ],
      "execution_count": 17,
      "outputs": []
    },
    {
      "cell_type": "code",
      "metadata": {
        "id": "u54CqasunZ76"
      },
      "source": [
        "model_lstm = Sequential()\n",
        "\n",
        "model_lstm.add(\n",
        "    Embedding(\n",
        "    num_words,\n",
        "    100,\n",
        "    embeddings_initializer = Constant(embedding_matrix),\n",
        "        input_length = max_len,\n",
        "        trainable = False,\n",
        "    )\n",
        ")\n",
        "model_lstm.add(LSTM(100, dropout = 0.2))\n",
        "model_lstm.add(Dense(1, activation = \"sigmoid\"))\n",
        "optimizer_lstm = Adam(learning_rate = 5e-2)\n",
        "\n",
        "model_lstm.compile(loss = \"binary_crossentropy\", optimizer = optimizer_lstm, metrics = [\"accuracy\"])"
      ],
      "execution_count": 18,
      "outputs": []
    },
    {
      "cell_type": "code",
      "metadata": {
        "id": "hjviy4rNna97"
      },
      "source": [
        ""
      ],
      "execution_count": null,
      "outputs": []
    },
    {
      "cell_type": "code",
      "metadata": {
        "id": "MjQMk3Gkno2v"
      },
      "source": [
        ""
      ],
      "execution_count": null,
      "outputs": []
    },
    {
      "cell_type": "code",
      "metadata": {
        "id": "0aUW2FJqrPtG"
      },
      "source": [
        ""
      ],
      "execution_count": null,
      "outputs": []
    },
    {
      "cell_type": "code",
      "metadata": {
        "id": "Dd0zXu63uHtY"
      },
      "source": [
        "text_input = Input(\n",
        "    shape=(None, ), name = \"text\")\n",
        "\n",
        "text_features =Embedding(\n",
        "    num_words,\n",
        "    100,\n",
        "    embeddings_initializer =  Constant(embedding_matrix),\n",
        "    input_length = max_len,\n",
        "    trainable = False,\n",
        "    )(text_input)\n",
        "\n",
        "text_features = LSTM(100)(text_features)\n",
        "\n"
      ],
      "execution_count": 19,
      "outputs": []
    },
    {
      "cell_type": "code",
      "metadata": {
        "colab": {
          "base_uri": "https://localhost:8080/"
        },
        "id": "JQgB1stGY9EY",
        "outputId": "143b9838-a42f-4bb8-9601-94b2d65a71cd"
      },
      "source": [
        "columns_categorical"
      ],
      "execution_count": 20,
      "outputs": [
        {
          "output_type": "execute_result",
          "data": {
            "text/plain": [
              "['parent_category', 'category_name', 'location_name']"
            ]
          },
          "metadata": {
            "tags": []
          },
          "execution_count": 20
        }
      ]
    },
    {
      "cell_type": "code",
      "metadata": {
        "id": "jIMpqHstBR8p"
      },
      "source": [
        "pcat_input = Input(\n",
        "    shape=(None, ), name = \"parent category\")\n",
        "\n",
        "cat_input = Input(\n",
        "    shape=(None, ), name = \"category\")\n",
        "\n",
        "loc_input = Input(\n",
        "    shape=(None, ), name = \"location\")\n",
        "\n",
        "\n",
        "embedding_size_pcat = max(df[\"parent_category\"])\n",
        "\n",
        "embedding_size_cat = max(df[\"category_name\"])\n",
        "\n",
        "embedding_size_loc = max(df[\"location_name\"])\n",
        "\n",
        "\n",
        "pcat_features = Embedding(\n",
        "    embedding_size_pcat + 1 ,\n",
        "    embedding_size_pcat, \n",
        "    input_length = 1)(pcat_input)\n",
        "\n",
        "cat_features = Embedding(\n",
        "    embedding_size_cat + 1 ,\n",
        "    embedding_size_cat, \n",
        "    input_length = 1)(cat_input)\n",
        "\n",
        "loc_features = Embedding(\n",
        "    embedding_size_loc + 1 ,\n",
        "    embedding_size_loc, \n",
        "    input_length = 1)(loc_input)\n",
        "\n",
        "pcat_features = Reshape(\n",
        "    target_shape=(embedding_size_pcat,)\n",
        "    )(pcat_features)\n",
        "\n",
        "\n",
        "cat_features = Reshape(\n",
        "    target_shape=(embedding_size_cat,)\n",
        "    )(cat_features)\n",
        "\n",
        "\n",
        "loc_features = Reshape(\n",
        "    target_shape=(embedding_size_loc,)\n",
        "    )(loc_features)\n"
      ],
      "execution_count": 21,
      "outputs": []
    },
    {
      "cell_type": "code",
      "metadata": {
        "id": "bDKNdyNnDudt"
      },
      "source": [
        "numeric_input = Input(\n",
        "    shape=(3, ), name = \"numeric\")\n",
        "\n",
        "numeric_features = Dense(units = len(columns_numeric),\n",
        "                         activation='relu', name = \"hidden_1\")(numeric_input)\n",
        "\n"
      ],
      "execution_count": 22,
      "outputs": []
    },
    {
      "cell_type": "code",
      "metadata": {
        "id": "pr56Dcjw5Y3v"
      },
      "source": [
        "merge_layer = concatenate([text_features, pcat_features, cat_features,loc_features,numeric_features])\n",
        "\n",
        "predict_layer = Dense(1, name = \"status\",activation='sigmoid')(merge_layer)"
      ],
      "execution_count": 31,
      "outputs": []
    },
    {
      "cell_type": "code",
      "metadata": {
        "colab": {
          "base_uri": "https://localhost:8080/",
          "height": 271
        },
        "id": "jk-g3XsgHzez",
        "outputId": "91119a9f-f057-4e93-e50c-f2e79c565ad8"
      },
      "source": [
        "model = tf.keras.Model(\n",
        "    inputs=[text_input, pcat_input, cat_input,loc_input,numeric_input],\n",
        "    outputs=[predict_layer],\n",
        ")\n",
        "\n",
        "tf.keras.utils.plot_model(model, \"model.png\", show_shapes=True)\n"
      ],
      "execution_count": 32,
      "outputs": [
        {
          "output_type": "execute_result",
          "data": {
            "image/png": "[encoded data removed]",
            "text/plain": [
              "<IPython.core.display.Image object>"
            ]
          },
          "metadata": {
            "tags": []
          },
          "execution_count": 32
        }
      ]
    },
    {
      "cell_type": "code",
      "metadata": {
        "id": "HkJ5ZybWRSAI"
      },
      "source": [
        "model.compile(\n",
        "    optimizer=Adam(1e-3),\n",
        "    loss={\n",
        "        \"status\" : tf.keras.losses.BinaryCrossentropy(from_logits=True)\n",
        "    },\n",
        "    loss_weights=[1.0],\n",
        "    metrics=[\"accuracy\"]\n",
        ")\n"
      ],
      "execution_count": 33,
      "outputs": []
    },
    {
      "cell_type": "code",
      "metadata": {
        "colab": {
          "base_uri": "https://localhost:8080/"
        },
        "id": "eqg2jq3VRut1",
        "outputId": "2af769af-15c5-4700-c5c4-eb769056c083"
      },
      "source": [
        "model.fit(\n",
        "    {\"text\" : X_train_padded, \n",
        "     \"parent category\" : X_train[\"parent_category\"],\n",
        "     \"category\" : X_train[\"category_name\"],\n",
        "     \"location\" : X_train[\"location_name\"],\n",
        "     \"numeric\" : X_train[columns_numeric]},\n",
        "    y_train,\n",
        "    epochs=20,\n",
        "    batch_size=8,\n",
        "    validation_split = 0.1\n",
        ")\n"
      ],
      "execution_count": 35,
      "outputs": [
        {
          "output_type": "stream",
          "text": [
            "Epoch 1/20\n",
            "89/89 [==============================] - 552s 6s/step - loss: 0.4378 - accuracy: 0.8829 - val_loss: 0.5081 - val_accuracy: 0.7342\n",
            "Epoch 2/20\n",
            "89/89 [==============================] - 562s 6s/step - loss: 0.2420 - accuracy: 0.9027 - val_loss: 0.4684 - val_accuracy: 0.7595\n",
            "Epoch 3/20\n",
            "89/89 [==============================] - 577s 6s/step - loss: 0.1882 - accuracy: 0.9182 - val_loss: 0.4459 - val_accuracy: 0.7595\n",
            "Epoch 4/20\n",
            "89/89 [==============================] - 572s 6s/step - loss: 0.1623 - accuracy: 0.9365 - val_loss: 0.4478 - val_accuracy: 0.7722\n",
            "Epoch 5/20\n",
            "89/89 [==============================] - 575s 6s/step - loss: 0.1481 - accuracy: 0.9394 - val_loss: 0.4450 - val_accuracy: 0.7595\n",
            "Epoch 6/20\n",
            "89/89 [==============================] - 577s 6s/step - loss: 0.1400 - accuracy: 0.9379 - val_loss: 0.4430 - val_accuracy: 0.7848\n",
            "Epoch 7/20\n",
            "89/89 [==============================] - 584s 7s/step - loss: 0.1319 - accuracy: 0.9520 - val_loss: 0.4415 - val_accuracy: 0.7975\n",
            "Epoch 8/20\n",
            "89/89 [==============================] - 579s 7s/step - loss: 0.1272 - accuracy: 0.9464 - val_loss: 0.4375 - val_accuracy: 0.7975\n",
            "Epoch 9/20\n",
            "89/89 [==============================] - 570s 6s/step - loss: 0.1217 - accuracy: 0.9450 - val_loss: 0.4510 - val_accuracy: 0.7975\n",
            "Epoch 10/20\n",
            "89/89 [==============================] - 589s 7s/step - loss: 0.1167 - accuracy: 0.9478 - val_loss: 0.4524 - val_accuracy: 0.7975\n",
            "Epoch 11/20\n",
            "89/89 [==============================] - 588s 7s/step - loss: 0.1142 - accuracy: 0.9492 - val_loss: 0.4447 - val_accuracy: 0.7975\n",
            "Epoch 12/20\n",
            "89/89 [==============================] - 578s 7s/step - loss: 0.1108 - accuracy: 0.9478 - val_loss: 0.4404 - val_accuracy: 0.8101\n",
            "Epoch 13/20\n",
            "89/89 [==============================] - 594s 7s/step - loss: 0.1072 - accuracy: 0.9450 - val_loss: 0.4453 - val_accuracy: 0.7975\n",
            "Epoch 14/20\n",
            "89/89 [==============================] - 581s 7s/step - loss: 0.1056 - accuracy: 0.9492 - val_loss: 0.4413 - val_accuracy: 0.7975\n",
            "Epoch 15/20\n",
            "89/89 [==============================] - 567s 6s/step - loss: 0.1025 - accuracy: 0.9478 - val_loss: 0.4355 - val_accuracy: 0.8101\n",
            "Epoch 16/20\n",
            "89/89 [==============================] - 577s 6s/step - loss: 0.1008 - accuracy: 0.9478 - val_loss: 0.4444 - val_accuracy: 0.8101\n",
            "Epoch 17/20\n",
            "89/89 [==============================] - 592s 7s/step - loss: 0.0999 - accuracy: 0.9478 - val_loss: 0.4413 - val_accuracy: 0.8101\n",
            "Epoch 18/20\n",
            "89/89 [==============================] - 580s 7s/step - loss: 0.0967 - accuracy: 0.9563 - val_loss: 0.4333 - val_accuracy: 0.8228\n",
            "Epoch 19/20\n",
            "89/89 [==============================] - 588s 7s/step - loss: 0.0960 - accuracy: 0.9535 - val_loss: 0.4420 - val_accuracy: 0.8101\n",
            "Epoch 20/20\n",
            "89/89 [==============================] - 564s 6s/step - loss: 0.0948 - accuracy: 0.9492 - val_loss: 0.4408 - val_accuracy: 0.8101\n"
          ],
          "name": "stdout"
        },
        {
          "output_type": "execute_result",
          "data": {
            "text/plain": [
              "<tensorflow.python.keras.callbacks.History at 0x7f26114b25d0>"
            ]
          },
          "metadata": {
            "tags": []
          },
          "execution_count": 35
        }
      ]
    },
    {
      "cell_type": "code",
      "metadata": {
        "id": "ZT8ToiKGR2Jd"
      },
      "source": [
        "y_predict = model.predict({\"text\" : X_test_padded, \n",
        "     \"parent category\" : X_test[\"parent_category\"],\n",
        "     \"category\" : X_test[\"category_name\"],\n",
        "     \"location\" : X_test[\"location_name\"],\n",
        "     \"numeric\" : X_test[columns_numeric]})"
      ],
      "execution_count": 36,
      "outputs": []
    },
    {
      "cell_type": "code",
      "metadata": {
        "colab": {
          "base_uri": "https://localhost:8080/"
        },
        "id": "JTQxnZv7R2rR",
        "outputId": "bc788210-8c4c-45d0-aa7a-f74f2e965d96"
      },
      "source": [
        "results = model.evaluate({\"text\" : X_test_padded, \n",
        "     \"parent category\" : X_test[\"parent_category\"],\n",
        "     \"category\" : X_test[\"category_name\"],\n",
        "     \"location\" : X_test[\"location_name\"],\n",
        "     \"numeric\" : X_test[columns_numeric]}, y_test, batch_size=8)\n"
      ],
      "execution_count": 40,
      "outputs": [
        {
          "output_type": "stream",
          "text": [
            "25/25 [==============================] - 19s 740ms/step - loss: 0.9101 - accuracy: 0.7563\n"
          ],
          "name": "stdout"
        }
      ]
    },
    {
      "cell_type": "code",
      "metadata": {
        "colab": {
          "base_uri": "https://localhost:8080/"
        },
        "id": "_ID3wlcza8-G",
        "outputId": "494cae87-367e-4dba-9edd-738ebc8e12d3"
      },
      "source": [
        "print(\" loss = {}\\n accuracy ={}\".format(results[0],results[1]))"
      ],
      "execution_count": 44,
      "outputs": [
        {
          "output_type": "stream",
          "text": [
            " loss = 0.910125195980072\n",
            " accuracy =0.7563451528549194\n"
          ],
          "name": "stdout"
        }
      ]
    }
  ]
}