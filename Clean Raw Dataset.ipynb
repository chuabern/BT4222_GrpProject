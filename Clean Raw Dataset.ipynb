{
 "metadata": {
  "language_info": {
   "codemirror_mode": {
    "name": "ipython",
    "version": 3
   },
   "file_extension": ".py",
   "mimetype": "text/x-python",
   "name": "python",
   "nbconvert_exporter": "python",
   "pygments_lexer": "ipython3",
   "version": "3.7.4-final"
  },
  "orig_nbformat": 2,
  "kernelspec": {
   "name": "python3",
   "display_name": "Python 3.7.4 64-bit",
   "metadata": {
    "interpreter": {
     "hash": "e534e48711db4d1e1c48977d0d14ff85b1f16d41bcc4fdfd88268a329b3c9d66"
    }
   }
  }
 },
 "nbformat": 4,
 "nbformat_minor": 2,
 "cells": [
  {
   "cell_type": "code",
   "execution_count": 5,
   "metadata": {},
   "outputs": [],
   "source": [
    "import pandas as pd\n",
    "import os\n",
    "import datetime"
   ]
  },
  {
   "cell_type": "code",
   "execution_count": 6,
   "metadata": {},
   "outputs": [],
   "source": [
    "def clean_data(dataset):\n",
    "    not_required_columns = [\n",
    "        'country_displayable_name',\n",
    "        'creator',\n",
    "        'currency', # current_currency will be used instead\n",
    "        'currency_symbol',\n",
    "        'currency_trailing_code',\n",
    "        'disable_communication',\n",
    "        'friends',\n",
    "        'is_backing',\n",
    "        'is_starrable',\n",
    "        'is_starred',\n",
    "        'permissions',\n",
    "        'photo',\n",
    "    ]\n",
    "    dataset = dataset.drop(not_required_columns, axis=1)  \n",
    "    # Remove live projects and cancelled projects\n",
    "    dataset = dataset[(dataset['state'] != 'live')&(dataset['state'] != 'canceled')]\n",
    "    datetime_columns = [\n",
    "        'created_at',\n",
    "        'deadline',\n",
    "        'launched_at',\n",
    "        'state_changed_at'\n",
    "    ]\n",
    "    for column in datetime_columns:\n",
    "        dataset[column] = dataset[column].apply(datetime.datetime.fromtimestamp)\n",
    "    return dataset"
   ]
  },
  {
   "cell_type": "code",
   "execution_count": 7,
   "metadata": {},
   "outputs": [],
   "source": [
    "# List all the files in the dataset\n",
    "files = os.listdir('Raw Data')"
   ]
  },
  {
   "cell_type": "code",
   "execution_count": 8,
   "metadata": {},
   "outputs": [
    {
     "output_type": "stream",
     "name": "stdout",
     "text": [
      "Kickstarter.csv\n"
     ]
    }
   ],
   "source": [
    "for file in files:\n",
    "    print(file)\n",
    "    dataset = pd.read_csv(f\"Raw Data/{file}\")\n",
    "    dataset = clean_data(dataset)\n",
    "    dataset.to_csv(f\"Clean_data/{file}\")"
   ]
  },
  {
   "cell_type": "code",
   "execution_count": null,
   "metadata": {},
   "outputs": [],
   "source": []
  }
 ]
}