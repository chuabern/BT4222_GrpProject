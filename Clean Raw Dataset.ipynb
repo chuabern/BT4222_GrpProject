{
 "metadata": {
  "language_info": {
   "codemirror_mode": {
    "name": "ipython",
    "version": 3
   },
   "file_extension": ".py",
   "mimetype": "text/x-python",
   "name": "python",
   "nbconvert_exporter": "python",
   "pygments_lexer": "ipython3",
   "version": "3.7.4-final"
  },
  "orig_nbformat": 2,
  "kernelspec": {
   "name": "python3",
   "display_name": "Python 3.7.4 64-bit",
   "metadata": {
    "interpreter": {
     "hash": "e534e48711db4d1e1c48977d0d14ff85b1f16d41bcc4fdfd88268a329b3c9d66"
    }
   }
  }
 },
 "nbformat": 4,
 "nbformat_minor": 2,
 "cells": [
  {
   "cell_type": "code",
   "execution_count": 79,
   "metadata": {},
   "outputs": [],
   "source": [
    "import pandas as pd\n",
    "import os\n",
    "import datetime"
   ]
  },
  {
   "cell_type": "code",
   "execution_count": 101,
   "metadata": {},
   "outputs": [],
   "source": [
    "def clean_data(dataset):\n",
    "    not_required_columns = [\n",
    "        'country_displayable_name',\n",
    "        'creator',\n",
    "        'currency', # current_currency will be used instead\n",
    "        'currency_symbol',\n",
    "        'currency_trailing_code',\n",
    "        'disable_communication',\n",
    "        'friends',\n",
    "        'is_backing',\n",
    "        'is_starrable',\n",
    "        'is_starred',\n",
    "        'permissions',\n",
    "        'photo',\n",
    "    ]\n",
    "    dataset = dataset.drop(not_required_columns, axis=1)  \n",
    "    # Remove live projects and cancelled projects\n",
    "    dataset = dataset[(dataset['state'] != 'live')&(dataset['state'] != 'canceled')]\n",
    "    datetime_columns = [\n",
    "        'created_at',\n",
    "        'deadline',\n",
    "        'launched_at',\n",
    "        'state_changed_at'\n",
    "    ]\n",
    "    for column in datetime_columns:\n",
    "        dataset[column] = dataset[column].apply(datetime.datetime.fromtimestamp)\n",
    "    return dataset"
   ]
  },
  {
   "cell_type": "code",
   "execution_count": 102,
   "metadata": {},
   "outputs": [],
   "source": [
    "# List all the files in the dataset\n",
    "files = os.listdir('Raw Data')"
   ]
  },
  {
   "cell_type": "code",
   "execution_count": 103,
   "metadata": {},
   "outputs": [
    {
     "output_type": "stream",
     "name": "stdout",
     "text": [
      "Kickstarter040.csv\n",
      "Kickstarter054.csv\n",
      "Kickstarter055.csv\n",
      "Kickstarter041.csv\n",
      "Kickstarter057.csv\n",
      "Kickstarter043.csv\n",
      "Kickstarter042.csv\n",
      "Kickstarter056.csv\n",
      "Kickstarter052.csv\n",
      "Kickstarter046.csv\n",
      "Kickstarter.csv\n",
      "Kickstarter047.csv\n",
      "Kickstarter053.csv\n",
      "Kickstarter045.csv\n",
      "Kickstarter051.csv\n",
      "Kickstarter050.csv\n",
      "Kickstarter044.csv\n",
      "Kickstarter023.csv\n",
      "Kickstarter037.csv\n",
      "Kickstarter036.csv\n",
      "Kickstarter022.csv\n",
      "Kickstarter008.csv\n",
      "Kickstarter034.csv\n",
      "Kickstarter020.csv\n",
      "Kickstarter021.csv\n",
      "Kickstarter035.csv\n",
      "Kickstarter009.csv\n",
      "Kickstarter031.csv\n",
      "Kickstarter025.csv\n",
      "Kickstarter019.csv\n",
      "Kickstarter018.csv\n",
      "Kickstarter024.csv\n",
      "Kickstarter030.csv\n",
      "Kickstarter026.csv\n",
      "Kickstarter032.csv\n",
      "Kickstarter033.csv\n",
      "Kickstarter027.csv\n",
      "Kickstarter002.csv\n",
      "Kickstarter016.csv\n",
      "Kickstarter017.csv\n",
      "Kickstarter003.csv\n",
      "Kickstarter029.csv\n",
      "Kickstarter015.csv\n",
      "Kickstarter001.csv\n",
      "Kickstarter014.csv\n",
      "Kickstarter028.csv\n",
      "Kickstarter010.csv\n",
      "Kickstarter004.csv\n",
      "Kickstarter038.csv\n",
      "Kickstarter039.csv\n",
      "Kickstarter005.csv\n",
      "Kickstarter011.csv\n",
      "Kickstarter007.csv\n",
      "Kickstarter013.csv\n",
      "Kickstarter012.csv\n",
      "Kickstarter006.csv\n",
      "Kickstarter049.csv\n",
      "Kickstarter048.csv\n"
     ]
    }
   ],
   "source": [
    "for file in files:\n",
    "    print(file)\n",
    "    dataset = pd.read_csv(f\"Raw Data/{file}\")\n",
    "    dataset = clean_data(dataset)\n",
    "    dataset.to_csv(f\"Clean_data/{file}\")"
   ]
  },
  {
   "cell_type": "code",
   "execution_count": null,
   "metadata": {},
   "outputs": [],
   "source": []
  }
 ]
}