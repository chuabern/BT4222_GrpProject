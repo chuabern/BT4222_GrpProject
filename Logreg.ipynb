{
 "metadata": {
  "language_info": {
   "codemirror_mode": {
    "name": "ipython",
    "version": 3
   },
   "file_extension": ".py",
   "mimetype": "text/x-python",
   "name": "python",
   "nbconvert_exporter": "python",
   "pygments_lexer": "ipython3",
   "version": "3.7.4-final"
  },
  "orig_nbformat": 2,
  "kernelspec": {
   "name": "python3",
   "display_name": "Python 3",
   "language": "python"
  }
 },
 "nbformat": 4,
 "nbformat_minor": 2,
 "cells": [
  {
   "cell_type": "code",
   "execution_count": 13,
   "metadata": {},
   "outputs": [],
   "source": [
    "import pandas as pd\n",
    "from sklearn.linear_model import LogisticRegression\n",
    "import numpy as np\n",
    "from scipy.sparse import vstack, hstack\n",
    "import matplotlib.pyplot as plt\n",
    "\n",
    "from sklearn.model_selection import train_test_split\n",
    "from sklearn.feature_extraction.text import CountVectorizer\n",
    "from sklearn.dummy import DummyClassifier\n",
    "from sklearn import metrics\n",
    "from sklearn.preprocessing import OneHotEncoder"
   ]
  },
  {
   "cell_type": "code",
   "execution_count": 14,
   "metadata": {},
   "outputs": [
    {
     "output_type": "execute_result",
     "data": {
      "text/plain": [
       "Index(['id_row', 'backers_count', 'blurb', 'category',\n",
       "       'converted_pledged_amount', 'country', 'created_at', 'current_currency',\n",
       "       'deadline', 'fx_rate', 'goal', 'id', 'launched_at', 'location', 'name',\n",
       "       'pledged', 'profile', 'slug', 'source_url', 'spotlight', 'staff_pick',\n",
       "       'state', 'state_changed_at', 'static_usd_rate', 'urls', 'usd_pledged',\n",
       "       'usd_type', 'story', 'faq', 'num_faq', 'comments', 'n_comments',\n",
       "       'duration', 'parent_category', 'category_name', 'location_name',\n",
       "       'month_launched', 'year_launched', 'backers_count_log', 'goal_log',\n",
       "       'pledged_log', 'duration_log', 'n_comments_log', 'num_faq_bool',\n",
       "       'avg_fund_per_backer', 'comments_afinn', 'blurb_name', 'faq_comments',\n",
       "       'story_afinn', 'faq_comments_afinn', 'blurb_name_afinn', 'blurb_afinn',\n",
       "       'name_afinn'],\n",
       "      dtype='object')"
      ]
     },
     "metadata": {},
     "execution_count": 14
    }
   ],
   "source": [
    "dataset = pd.read_csv('Output/data_clean&processed_addedsentiment.csv')\n",
    "# dataset = dataset.drop('Unnamed: 0', axis = 1)\n",
    "\n",
    "dataset.columns"
   ]
  },
  {
   "cell_type": "code",
   "execution_count": 15,
   "metadata": {},
   "outputs": [],
   "source": [
    "numerical_features = ['goal','converted_pledged_amount','backers_count','backers_count_log','goal_log','pledged_log','duration_log', 'avg_fund_per_backer', 'blurb_afinn','name_afinn']"
   ]
  },
  {
   "cell_type": "code",
   "execution_count": 16,
   "metadata": {},
   "outputs": [
    {
     "output_type": "stream",
     "name": "stdout",
     "text": [
      "Accuracy:  0.9157894736842105\nConfusion Matrix: \n [[281  31]\n [ 41 502]]\n"
     ]
    },
    {
     "output_type": "execute_result",
     "data": {
      "text/plain": [
       "                   features  coefficients\n",
       "5               pledged_log      0.752619\n",
       "3         backers_count_log      0.721604\n",
       "4                  goal_log     -0.515935\n",
       "6              duration_log     -0.302962\n",
       "8               blurb_afinn     -0.136756\n",
       "9                name_afinn     -0.086673\n",
       "2             backers_count      0.012102\n",
       "7       avg_fund_per_backer      0.000727\n",
       "1  converted_pledged_amount      0.000367\n",
       "0                      goal     -0.000009"
      ],
      "text/html": "<div>\n<style scoped>\n    .dataframe tbody tr th:only-of-type {\n        vertical-align: middle;\n    }\n\n    .dataframe tbody tr th {\n        vertical-align: top;\n    }\n\n    .dataframe thead th {\n        text-align: right;\n    }\n</style>\n<table border=\"1\" class=\"dataframe\">\n  <thead>\n    <tr style=\"text-align: right;\">\n      <th></th>\n      <th>features</th>\n      <th>coefficients</th>\n    </tr>\n  </thead>\n  <tbody>\n    <tr>\n      <th>5</th>\n      <td>pledged_log</td>\n      <td>0.752619</td>\n    </tr>\n    <tr>\n      <th>3</th>\n      <td>backers_count_log</td>\n      <td>0.721604</td>\n    </tr>\n    <tr>\n      <th>4</th>\n      <td>goal_log</td>\n      <td>-0.515935</td>\n    </tr>\n    <tr>\n      <th>6</th>\n      <td>duration_log</td>\n      <td>-0.302962</td>\n    </tr>\n    <tr>\n      <th>8</th>\n      <td>blurb_afinn</td>\n      <td>-0.136756</td>\n    </tr>\n    <tr>\n      <th>9</th>\n      <td>name_afinn</td>\n      <td>-0.086673</td>\n    </tr>\n    <tr>\n      <th>2</th>\n      <td>backers_count</td>\n      <td>0.012102</td>\n    </tr>\n    <tr>\n      <th>7</th>\n      <td>avg_fund_per_backer</td>\n      <td>0.000727</td>\n    </tr>\n    <tr>\n      <th>1</th>\n      <td>converted_pledged_amount</td>\n      <td>0.000367</td>\n    </tr>\n    <tr>\n      <th>0</th>\n      <td>goal</td>\n      <td>-0.000009</td>\n    </tr>\n  </tbody>\n</table>\n</div>"
     },
     "metadata": {},
     "execution_count": 16
    }
   ],
   "source": [
    "X = dataset[numerical_features]\n",
    "y = dataset.state\n",
    "X_train, X_test, y_train, y_test = train_test_split(X, y, random_state=1)\n",
    "\n",
    "\n",
    "numerical_logreg = LogisticRegression()\n",
    "numerical_logreg.fit(X_train, y_train)\n",
    "y_pred_class = numerical_logreg.predict(X_test)\n",
    "y_pred_class.sum()\n",
    "print('Accuracy: ', metrics.accuracy_score(y_test, y_pred_class))\n",
    "print('Confusion Matrix: \\n', metrics.confusion_matrix(y_test, y_pred_class))\n",
    "pd.DataFrame(\n",
    "        [x for x in zip(list(X_train.columns) + [str(x) for x in range(len(X_train.columns))], numerical_logreg.coef_[0])], \n",
    "        columns=['features', 'coefficients']\n",
    "    ).sort_values(\n",
    "        by = 'coefficients', \n",
    "        ascending = False, \n",
    "        key = lambda x: abs(x)\n",
    "        )"
   ]
  },
  {
   "cell_type": "code",
   "execution_count": 17,
   "metadata": {},
   "outputs": [
    {
     "output_type": "stream",
     "name": "stdout",
     "text": [
      "Accuracy:  0.9461988304093567\nConfusion Matrix: \n [[267  45]\n [  1 542]]\n"
     ]
    },
    {
     "output_type": "execute_result",
     "data": {
      "text/plain": [
       "                   features  coefficients\n",
       "4                  goal_log     -0.947880\n",
       "3         backers_count_log      0.849272\n",
       "5               pledged_log      0.795388\n",
       "8               blurb_afinn     -0.024368\n",
       "2             backers_count      0.023356\n",
       "7       avg_fund_per_backer      0.001126\n",
       "1  converted_pledged_amount     -0.000011\n",
       "0                      goal     -0.000008\n",
       "6              duration_log      0.000000\n",
       "9                name_afinn      0.000000"
      ],
      "text/html": "<div>\n<style scoped>\n    .dataframe tbody tr th:only-of-type {\n        vertical-align: middle;\n    }\n\n    .dataframe tbody tr th {\n        vertical-align: top;\n    }\n\n    .dataframe thead th {\n        text-align: right;\n    }\n</style>\n<table border=\"1\" class=\"dataframe\">\n  <thead>\n    <tr style=\"text-align: right;\">\n      <th></th>\n      <th>features</th>\n      <th>coefficients</th>\n    </tr>\n  </thead>\n  <tbody>\n    <tr>\n      <th>4</th>\n      <td>goal_log</td>\n      <td>-0.947880</td>\n    </tr>\n    <tr>\n      <th>3</th>\n      <td>backers_count_log</td>\n      <td>0.849272</td>\n    </tr>\n    <tr>\n      <th>5</th>\n      <td>pledged_log</td>\n      <td>0.795388</td>\n    </tr>\n    <tr>\n      <th>8</th>\n      <td>blurb_afinn</td>\n      <td>-0.024368</td>\n    </tr>\n    <tr>\n      <th>2</th>\n      <td>backers_count</td>\n      <td>0.023356</td>\n    </tr>\n    <tr>\n      <th>7</th>\n      <td>avg_fund_per_backer</td>\n      <td>0.001126</td>\n    </tr>\n    <tr>\n      <th>1</th>\n      <td>converted_pledged_amount</td>\n      <td>-0.000011</td>\n    </tr>\n    <tr>\n      <th>0</th>\n      <td>goal</td>\n      <td>-0.000008</td>\n    </tr>\n    <tr>\n      <th>6</th>\n      <td>duration_log</td>\n      <td>0.000000</td>\n    </tr>\n    <tr>\n      <th>9</th>\n      <td>name_afinn</td>\n      <td>0.000000</td>\n    </tr>\n  </tbody>\n</table>\n</div>"
     },
     "metadata": {},
     "execution_count": 17
    }
   ],
   "source": [
    "X = dataset[numerical_features]\n",
    "y = dataset.state\n",
    "X_train, X_test, y_train, y_test = train_test_split(X, y, random_state=1)\n",
    "\n",
    "c_values = [100, 10, 1.0, 0.5, 0.1, 0.01]\n",
    "\n",
    "numerical_logreg = LogisticRegression(random_state=42, solver='liblinear', penalty='l1', dual=False, tol=0.0001, C=0.01, fit_intercept=True, intercept_scaling=1.0, class_weight=None)\n",
    "numerical_logreg.fit(X_train, y_train)\n",
    "y_pred_class = numerical_logreg.predict(X_test)\n",
    "y_pred_class.sum()\n",
    "print('Accuracy: ', metrics.accuracy_score(y_test, y_pred_class))\n",
    "print('Confusion Matrix: \\n', metrics.confusion_matrix(y_test, y_pred_class))\n",
    "pd.DataFrame(\n",
    "        [x for x in zip(list(X_train.columns) + [str(x) for x in range(len(X_train.columns))], numerical_logreg.coef_[0])], \n",
    "        columns=['features', 'coefficients']\n",
    "    ).sort_values(\n",
    "        by = 'coefficients', \n",
    "        ascending = False, \n",
    "        key = lambda x: abs(x)\n",
    "        )"
   ]
  },
  {
   "cell_type": "code",
   "execution_count": 18,
   "metadata": {},
   "outputs": [],
   "source": [
    "import pickle\n",
    "\n",
    "f = open('logreg.pckl', 'wb')\n",
    "pickle.dump(numerical_logreg, f)\n",
    "f.close()"
   ]
  }
 ]
}