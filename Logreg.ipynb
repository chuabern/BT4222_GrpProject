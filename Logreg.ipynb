{
 "metadata": {
  "language_info": {
   "codemirror_mode": {
    "name": "ipython",
    "version": 3
   },
   "file_extension": ".py",
   "mimetype": "text/x-python",
   "name": "python",
   "nbconvert_exporter": "python",
   "pygments_lexer": "ipython3",
   "version": "3.7.4-final"
  },
  "orig_nbformat": 2,
  "kernelspec": {
   "name": "python3",
   "display_name": "Python 3",
   "language": "python"
  }
 },
 "nbformat": 4,
 "nbformat_minor": 2,
 "cells": [
  {
   "cell_type": "code",
   "execution_count": 2,
   "metadata": {},
   "outputs": [],
   "source": [
    "import pandas as pd\n",
    "from sklearn.linear_model import LogisticRegression\n",
    "import numpy as np\n",
    "from scipy.sparse import vstack, hstack\n",
    "import matplotlib.pyplot as plt\n",
    "\n",
    "from sklearn.model_selection import train_test_split\n",
    "from sklearn.feature_extraction.text import CountVectorizer\n",
    "from sklearn.dummy import DummyClassifier\n",
    "from sklearn import metrics\n",
    "from sklearn.preprocessing import OneHotEncoder"
   ]
  },
  {
   "cell_type": "code",
   "execution_count": 3,
   "metadata": {},
   "outputs": [
    {
     "output_type": "execute_result",
     "data": {
      "text/plain": [
       "Index(['id_row', 'backers_count', 'blurb', 'category',\n",
       "       'converted_pledged_amount', 'country', 'created_at', 'current_currency',\n",
       "       'deadline', 'fx_rate', 'goal', 'id', 'launched_at', 'location', 'name',\n",
       "       'pledged', 'profile', 'slug', 'source_url', 'spotlight', 'staff_pick',\n",
       "       'state', 'state_changed_at', 'static_usd_rate', 'urls', 'usd_pledged',\n",
       "       'usd_type', 'story', 'faq', 'num_faq', 'comments', 'n_comments',\n",
       "       'duration', 'parent_category', 'category_name', 'location_name',\n",
       "       'month_launched', 'year_launched', 'backers_count_log', 'goal_log',\n",
       "       'pledged_log', 'duration_log', 'n_comments_log', 'num_faq_bool',\n",
       "       'avg_fund_per_backer', 'comments_afinn', 'blurb_name', 'faq_comments',\n",
       "       'story_afinn', 'faq_comments_afinn', 'blurb_name_afinn', 'blurb_afinn',\n",
       "       'name_afinn'],\n",
       "      dtype='object')"
      ]
     },
     "metadata": {},
     "execution_count": 3
    }
   ],
   "source": [
    "dataset = pd.read_csv('Output/data_clean&processed_addedsentiment.csv')\n",
    "# dataset = dataset.drop('Unnamed: 0', axis = 1)\n",
    "\n",
    "dataset.columns"
   ]
  },
  {
   "cell_type": "code",
   "execution_count": 4,
   "metadata": {},
   "outputs": [
    {
     "output_type": "execute_result",
     "data": {
      "text/plain": [
       "   id_row  backers_count                                              blurb  \\\n",
       "0       0              1  With your help we will create this device that...   \n",
       "1       1              2  We at Ormiston Primary are looking at starting...   \n",
       "2       2              0  Self-taught aspiring metalsmith Looking for he...   \n",
       "3       3              0  So many women believe they are past their prim...   \n",
       "4       4             10  The Horror Zine's Jeani Rector brings us anoth...   \n",
       "\n",
       "                                            category  \\\n",
       "0  {'id': 331, 'name': '3D Printing', 'slug': 'te...   \n",
       "1  {'id': 309, 'name': 'Farms', 'slug': 'food/far...   \n",
       "2  {'id': 54, 'name': 'Mixed Media', 'slug': 'art...   \n",
       "3  {'id': 278, 'name': 'People', 'slug': 'photogr...   \n",
       "4  {'id': 324, 'name': 'Anthologies', 'slug': 'pu...   \n",
       "\n",
       "   converted_pledged_amount country           created_at current_currency  \\\n",
       "0                         1      ES  2015-08-18 21:01:19              USD   \n",
       "1                         9      NZ  2015-08-11 18:04:21              USD   \n",
       "2                         0      US  2015-04-28 21:14:03              USD   \n",
       "3                         0      US  2014-07-07 01:30:52              USD   \n",
       "4                       340      US  2014-11-04 16:30:58              USD   \n",
       "\n",
       "              deadline   fx_rate  ...  num_faq_bool  avg_fund_per_backer  \\\n",
       "0  2016-07-09 20:11:23  1.212886  ...             0                  1.0   \n",
       "1  2015-09-11 15:55:41  0.723585  ...             0                  7.5   \n",
       "2  2015-05-28 21:14:00  1.000000  ...             0                  0.0   \n",
       "3  2014-10-26 00:00:48  1.000000  ...             0                  0.0   \n",
       "4  2014-12-09 09:20:35  1.000000  ...             0                 34.0   \n",
       "\n",
       "  comments_afinn                                         blurb_name  \\\n",
       "0            8.0  With your help we will create this device that...   \n",
       "1           -1.0  We at Ormiston Primary are looking at starting...   \n",
       "2            7.0  Self-taught aspiring metalsmith Looking for he...   \n",
       "3          139.0  So many women believe they are past their prim...   \n",
       "4           -1.0  The Horror Zine's Jeani Rector brings us anoth...   \n",
       "\n",
       "                                        faq_comments  story_afinn  \\\n",
       "0  ['   ']AnaTalifi Wall Nazur\\nabout 2 years ago...        -10.0   \n",
       "1                            ['   ']No comments yet.        -10.0   \n",
       "2  ['   ']Bambi Lewis\\nover 7 years ago\\nBeautifu...        -10.0   \n",
       "3  ['   ']paul wheatonCreator\\nover 2 years ago\\n...        -10.0   \n",
       "4                            ['   ']No comments yet.        -10.0   \n",
       "\n",
       "  faq_comments_afinn blurb_name_afinn blurb_afinn  name_afinn  \n",
       "0                8.0              4.0         2.0         2.0  \n",
       "1               -1.0              1.0         1.0         0.0  \n",
       "2                7.0              4.0         2.0         2.0  \n",
       "3              139.0              3.0         0.0         3.0  \n",
       "4               -1.0              4.0         4.0         0.0  \n",
       "\n",
       "[5 rows x 53 columns]"
      ],
      "text/html": "<div>\n<style scoped>\n    .dataframe tbody tr th:only-of-type {\n        vertical-align: middle;\n    }\n\n    .dataframe tbody tr th {\n        vertical-align: top;\n    }\n\n    .dataframe thead th {\n        text-align: right;\n    }\n</style>\n<table border=\"1\" class=\"dataframe\">\n  <thead>\n    <tr style=\"text-align: right;\">\n      <th></th>\n      <th>id_row</th>\n      <th>backers_count</th>\n      <th>blurb</th>\n      <th>category</th>\n      <th>converted_pledged_amount</th>\n      <th>country</th>\n      <th>created_at</th>\n      <th>current_currency</th>\n      <th>deadline</th>\n      <th>fx_rate</th>\n      <th>...</th>\n      <th>num_faq_bool</th>\n      <th>avg_fund_per_backer</th>\n      <th>comments_afinn</th>\n      <th>blurb_name</th>\n      <th>faq_comments</th>\n      <th>story_afinn</th>\n      <th>faq_comments_afinn</th>\n      <th>blurb_name_afinn</th>\n      <th>blurb_afinn</th>\n      <th>name_afinn</th>\n    </tr>\n  </thead>\n  <tbody>\n    <tr>\n      <th>0</th>\n      <td>0</td>\n      <td>1</td>\n      <td>With your help we will create this device that...</td>\n      <td>{'id': 331, 'name': '3D Printing', 'slug': 'te...</td>\n      <td>1</td>\n      <td>ES</td>\n      <td>2015-08-18 21:01:19</td>\n      <td>USD</td>\n      <td>2016-07-09 20:11:23</td>\n      <td>1.212886</td>\n      <td>...</td>\n      <td>0</td>\n      <td>1.0</td>\n      <td>8.0</td>\n      <td>With your help we will create this device that...</td>\n      <td>['   ']AnaTalifi Wall Nazur\\nabout 2 years ago...</td>\n      <td>-10.0</td>\n      <td>8.0</td>\n      <td>4.0</td>\n      <td>2.0</td>\n      <td>2.0</td>\n    </tr>\n    <tr>\n      <th>1</th>\n      <td>1</td>\n      <td>2</td>\n      <td>We at Ormiston Primary are looking at starting...</td>\n      <td>{'id': 309, 'name': 'Farms', 'slug': 'food/far...</td>\n      <td>9</td>\n      <td>NZ</td>\n      <td>2015-08-11 18:04:21</td>\n      <td>USD</td>\n      <td>2015-09-11 15:55:41</td>\n      <td>0.723585</td>\n      <td>...</td>\n      <td>0</td>\n      <td>7.5</td>\n      <td>-1.0</td>\n      <td>We at Ormiston Primary are looking at starting...</td>\n      <td>['   ']No comments yet.</td>\n      <td>-10.0</td>\n      <td>-1.0</td>\n      <td>1.0</td>\n      <td>1.0</td>\n      <td>0.0</td>\n    </tr>\n    <tr>\n      <th>2</th>\n      <td>2</td>\n      <td>0</td>\n      <td>Self-taught aspiring metalsmith Looking for he...</td>\n      <td>{'id': 54, 'name': 'Mixed Media', 'slug': 'art...</td>\n      <td>0</td>\n      <td>US</td>\n      <td>2015-04-28 21:14:03</td>\n      <td>USD</td>\n      <td>2015-05-28 21:14:00</td>\n      <td>1.000000</td>\n      <td>...</td>\n      <td>0</td>\n      <td>0.0</td>\n      <td>7.0</td>\n      <td>Self-taught aspiring metalsmith Looking for he...</td>\n      <td>['   ']Bambi Lewis\\nover 7 years ago\\nBeautifu...</td>\n      <td>-10.0</td>\n      <td>7.0</td>\n      <td>4.0</td>\n      <td>2.0</td>\n      <td>2.0</td>\n    </tr>\n    <tr>\n      <th>3</th>\n      <td>3</td>\n      <td>0</td>\n      <td>So many women believe they are past their prim...</td>\n      <td>{'id': 278, 'name': 'People', 'slug': 'photogr...</td>\n      <td>0</td>\n      <td>US</td>\n      <td>2014-07-07 01:30:52</td>\n      <td>USD</td>\n      <td>2014-10-26 00:00:48</td>\n      <td>1.000000</td>\n      <td>...</td>\n      <td>0</td>\n      <td>0.0</td>\n      <td>139.0</td>\n      <td>So many women believe they are past their prim...</td>\n      <td>['   ']paul wheatonCreator\\nover 2 years ago\\n...</td>\n      <td>-10.0</td>\n      <td>139.0</td>\n      <td>3.0</td>\n      <td>0.0</td>\n      <td>3.0</td>\n    </tr>\n    <tr>\n      <th>4</th>\n      <td>4</td>\n      <td>10</td>\n      <td>The Horror Zine's Jeani Rector brings us anoth...</td>\n      <td>{'id': 324, 'name': 'Anthologies', 'slug': 'pu...</td>\n      <td>340</td>\n      <td>US</td>\n      <td>2014-11-04 16:30:58</td>\n      <td>USD</td>\n      <td>2014-12-09 09:20:35</td>\n      <td>1.000000</td>\n      <td>...</td>\n      <td>0</td>\n      <td>34.0</td>\n      <td>-1.0</td>\n      <td>The Horror Zine's Jeani Rector brings us anoth...</td>\n      <td>['   ']No comments yet.</td>\n      <td>-10.0</td>\n      <td>-1.0</td>\n      <td>4.0</td>\n      <td>4.0</td>\n      <td>0.0</td>\n    </tr>\n  </tbody>\n</table>\n<p>5 rows × 53 columns</p>\n</div>"
     },
     "metadata": {},
     "execution_count": 4
    }
   ],
   "source": [
    "dataset.head()"
   ]
  },
  {
   "cell_type": "code",
   "execution_count": 5,
   "metadata": {},
   "outputs": [],
   "source": [
    "# numerical_features = ['goal','converted_pledged_amount','backers_count','backers_count_log','goal_log','pledged_log','duration_log','n_comments_log','avg_fund_per_backer','comments_afinn','num_faq_bool','story_afinn','faq_comments_afinn', 'blurb_name_afinn', 'blurb_afinn','name_afinn']"
   ]
  },
  {
   "cell_type": "code",
   "execution_count": 6,
   "metadata": {},
   "outputs": [],
   "source": [
    "numerical_features = ['goal','converted_pledged_amount','backers_count','backers_count_log','goal_log','pledged_log','duration_log', 'avg_fund_per_backer', 'blurb_afinn','name_afinn']"
   ]
  },
  {
   "cell_type": "code",
   "execution_count": null,
   "metadata": {},
   "outputs": [],
   "source": []
  },
  {
   "cell_type": "code",
   "execution_count": 19,
   "metadata": {},
   "outputs": [
    {
     "output_type": "stream",
     "name": "stdout",
     "text": [
      "Accuracy:  0.9157894736842105\nConfusion Matrix: \n [[281  31]\n [ 41 502]]\n"
     ]
    },
    {
     "output_type": "execute_result",
     "data": {
      "text/plain": [
       "                   features  coefficients\n",
       "5               pledged_log      0.752619\n",
       "3         backers_count_log      0.721604\n",
       "4                  goal_log     -0.515935\n",
       "6              duration_log     -0.302962\n",
       "8               blurb_afinn     -0.136756\n",
       "9                name_afinn     -0.086673\n",
       "2             backers_count      0.012102\n",
       "7       avg_fund_per_backer      0.000727\n",
       "1  converted_pledged_amount      0.000367\n",
       "0                      goal     -0.000009"
      ],
      "text/html": "<div>\n<style scoped>\n    .dataframe tbody tr th:only-of-type {\n        vertical-align: middle;\n    }\n\n    .dataframe tbody tr th {\n        vertical-align: top;\n    }\n\n    .dataframe thead th {\n        text-align: right;\n    }\n</style>\n<table border=\"1\" class=\"dataframe\">\n  <thead>\n    <tr style=\"text-align: right;\">\n      <th></th>\n      <th>features</th>\n      <th>coefficients</th>\n    </tr>\n  </thead>\n  <tbody>\n    <tr>\n      <th>5</th>\n      <td>pledged_log</td>\n      <td>0.752619</td>\n    </tr>\n    <tr>\n      <th>3</th>\n      <td>backers_count_log</td>\n      <td>0.721604</td>\n    </tr>\n    <tr>\n      <th>4</th>\n      <td>goal_log</td>\n      <td>-0.515935</td>\n    </tr>\n    <tr>\n      <th>6</th>\n      <td>duration_log</td>\n      <td>-0.302962</td>\n    </tr>\n    <tr>\n      <th>8</th>\n      <td>blurb_afinn</td>\n      <td>-0.136756</td>\n    </tr>\n    <tr>\n      <th>9</th>\n      <td>name_afinn</td>\n      <td>-0.086673</td>\n    </tr>\n    <tr>\n      <th>2</th>\n      <td>backers_count</td>\n      <td>0.012102</td>\n    </tr>\n    <tr>\n      <th>7</th>\n      <td>avg_fund_per_backer</td>\n      <td>0.000727</td>\n    </tr>\n    <tr>\n      <th>1</th>\n      <td>converted_pledged_amount</td>\n      <td>0.000367</td>\n    </tr>\n    <tr>\n      <th>0</th>\n      <td>goal</td>\n      <td>-0.000009</td>\n    </tr>\n  </tbody>\n</table>\n</div>"
     },
     "metadata": {},
     "execution_count": 19
    }
   ],
   "source": [
    "X = dataset[numerical_features]\n",
    "y = dataset.state\n",
    "X_train, X_test, y_train, y_test = train_test_split(X, y, random_state=1)\n",
    "\n",
    "\n",
    "numerical_logreg = LogisticRegression()\n",
    "numerical_logreg.fit(X_train, y_train)\n",
    "y_pred_class = numerical_logreg.predict(X_test)\n",
    "y_pred_class.sum()\n",
    "print('Accuracy: ', metrics.accuracy_score(y_test, y_pred_class))\n",
    "print('Confusion Matrix: \\n', metrics.confusion_matrix(y_test, y_pred_class))\n",
    "pd.DataFrame(\n",
    "        [x for x in zip(list(X_train.columns) + [str(x) for x in range(len(X_train.columns))], numerical_logreg.coef_[0])], \n",
    "        columns=['features', 'coefficients']\n",
    "    ).sort_values(\n",
    "        by = 'coefficients', \n",
    "        ascending = False, \n",
    "        key = lambda x: abs(x)\n",
    "        )"
   ]
  },
  {
   "cell_type": "code",
   "execution_count": 28,
   "metadata": {},
   "outputs": [
    {
     "output_type": "stream",
     "name": "stdout",
     "text": [
      "Accuracy:  0.9368421052631579\nConfusion Matrix: \n [[275  37]\n [ 17 526]]\n"
     ]
    },
    {
     "output_type": "execute_result",
     "data": {
      "text/plain": [
       "                   features  coefficients\n",
       "5               pledged_log      0.796668\n",
       "3         backers_count_log      0.763932\n",
       "4                  goal_log     -0.591608\n",
       "6              duration_log     -0.330946\n",
       "9                name_afinn     -0.063041\n",
       "2             backers_count      0.032329\n",
       "8               blurb_afinn      0.018799\n",
       "7       avg_fund_per_backer      0.002637\n",
       "1  converted_pledged_amount     -0.000023\n",
       "0                      goal     -0.000014"
      ],
      "text/html": "<div>\n<style scoped>\n    .dataframe tbody tr th:only-of-type {\n        vertical-align: middle;\n    }\n\n    .dataframe tbody tr th {\n        vertical-align: top;\n    }\n\n    .dataframe thead th {\n        text-align: right;\n    }\n</style>\n<table border=\"1\" class=\"dataframe\">\n  <thead>\n    <tr style=\"text-align: right;\">\n      <th></th>\n      <th>features</th>\n      <th>coefficients</th>\n    </tr>\n  </thead>\n  <tbody>\n    <tr>\n      <th>5</th>\n      <td>pledged_log</td>\n      <td>0.796668</td>\n    </tr>\n    <tr>\n      <th>3</th>\n      <td>backers_count_log</td>\n      <td>0.763932</td>\n    </tr>\n    <tr>\n      <th>4</th>\n      <td>goal_log</td>\n      <td>-0.591608</td>\n    </tr>\n    <tr>\n      <th>6</th>\n      <td>duration_log</td>\n      <td>-0.330946</td>\n    </tr>\n    <tr>\n      <th>9</th>\n      <td>name_afinn</td>\n      <td>-0.063041</td>\n    </tr>\n    <tr>\n      <th>2</th>\n      <td>backers_count</td>\n      <td>0.032329</td>\n    </tr>\n    <tr>\n      <th>8</th>\n      <td>blurb_afinn</td>\n      <td>0.018799</td>\n    </tr>\n    <tr>\n      <th>7</th>\n      <td>avg_fund_per_backer</td>\n      <td>0.002637</td>\n    </tr>\n    <tr>\n      <th>1</th>\n      <td>converted_pledged_amount</td>\n      <td>-0.000023</td>\n    </tr>\n    <tr>\n      <th>0</th>\n      <td>goal</td>\n      <td>-0.000014</td>\n    </tr>\n  </tbody>\n</table>\n</div>"
     },
     "metadata": {},
     "execution_count": 28
    }
   ],
   "source": [
    "X = dataset[numerical_features]\n",
    "y = dataset.state\n",
    "X_train, X_test, y_train, y_test = train_test_split(X, y, random_state=1)\n",
    "\n",
    "c_values = [100, 10, 1.0, 0.5, 0.1, 0.01]\n",
    "\n",
    "numerical_logreg = LogisticRegression(random_state=42, penalty='l2', dual=False, tol=0.0001, C=0.01, fit_intercept=True, intercept_scaling=1.0, class_weight=None)\n",
    "numerical_logreg.fit(X_train, y_train)\n",
    "y_pred_class = numerical_logreg.predict(X_test)\n",
    "y_pred_class.sum()\n",
    "print('Accuracy: ', metrics.accuracy_score(y_test, y_pred_class))\n",
    "print('Confusion Matrix: \\n', metrics.confusion_matrix(y_test, y_pred_class))\n",
    "pd.DataFrame(\n",
    "        [x for x in zip(list(X_train.columns) + [str(x) for x in range(len(X_train.columns))], numerical_logreg.coef_[0])], \n",
    "        columns=['features', 'coefficients']\n",
    "    ).sort_values(\n",
    "        by = 'coefficients', \n",
    "        ascending = False, \n",
    "        key = lambda x: abs(x)\n",
    "        )"
   ]
  },
  {
   "cell_type": "code",
   "execution_count": 29,
   "metadata": {},
   "outputs": [],
   "source": [
    "import pickle\n",
    "\n",
    "f = open('logreg.pckl', 'wb')\n",
    "pickle.dump(numerical_logreg, f)\n",
    "f.close()"
   ]
  },
  {
   "cell_type": "code",
   "execution_count": null,
   "metadata": {},
   "outputs": [],
   "source": []
  }
 ]
}