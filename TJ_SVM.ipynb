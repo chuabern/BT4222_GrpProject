{
 "cells": [
  {
   "cell_type": "code",
   "execution_count": 1,
   "metadata": {},
   "outputs": [],
   "source": [
    "import pandas as pd\n",
    "import numpy as np\n",
    "import seaborn as sns\n",
    "import matplotlib.pyplot as plt"
   ]
  },
  {
   "cell_type": "code",
   "execution_count": 2,
   "metadata": {},
   "outputs": [
    {
     "data": {
      "text/plain": [
       "'D:\\\\NUS\\\\GitHub\\\\BT4222_GrpProject'"
      ]
     },
     "execution_count": 2,
     "metadata": {},
     "output_type": "execute_result"
    }
   ],
   "source": [
    "import os\n",
    "os.getcwd()"
   ]
  },
  {
   "cell_type": "code",
   "execution_count": 3,
   "metadata": {},
   "outputs": [],
   "source": [
    "data = pd.read_csv(\"./Output/data_clean&processed.csv\")"
   ]
  },
  {
   "cell_type": "code",
   "execution_count": 4,
   "metadata": {},
   "outputs": [
    {
     "data": {
      "text/html": [
       "<div>\n",
       "<style scoped>\n",
       "    .dataframe tbody tr th:only-of-type {\n",
       "        vertical-align: middle;\n",
       "    }\n",
       "\n",
       "    .dataframe tbody tr th {\n",
       "        vertical-align: top;\n",
       "    }\n",
       "\n",
       "    .dataframe thead th {\n",
       "        text-align: right;\n",
       "    }\n",
       "</style>\n",
       "<table border=\"1\" class=\"dataframe\">\n",
       "  <thead>\n",
       "    <tr style=\"text-align: right;\">\n",
       "      <th></th>\n",
       "      <th>Unnamed: 0</th>\n",
       "      <th>backers_count</th>\n",
       "      <th>blurb</th>\n",
       "      <th>category</th>\n",
       "      <th>converted_pledged_amount</th>\n",
       "      <th>country</th>\n",
       "      <th>created_at</th>\n",
       "      <th>current_currency</th>\n",
       "      <th>deadline</th>\n",
       "      <th>fx_rate</th>\n",
       "      <th>...</th>\n",
       "      <th>backers_count_log</th>\n",
       "      <th>goal_log</th>\n",
       "      <th>pledged_log</th>\n",
       "      <th>duration_log</th>\n",
       "      <th>n_comments_log</th>\n",
       "      <th>num_faq_bool</th>\n",
       "      <th>avg_fund_per_backer</th>\n",
       "      <th>comments_afinn</th>\n",
       "      <th>blurb_name</th>\n",
       "      <th>faq_comments</th>\n",
       "    </tr>\n",
       "  </thead>\n",
       "  <tbody>\n",
       "    <tr>\n",
       "      <th>872</th>\n",
       "      <td>887</td>\n",
       "      <td>1</td>\n",
       "      <td>Troop Life is an interactive online community ...</td>\n",
       "      <td>{'id': 361, 'name': 'Web', 'slug': 'journalism...</td>\n",
       "      <td>58</td>\n",
       "      <td>US</td>\n",
       "      <td>2017-02-10 12:13</td>\n",
       "      <td>USD</td>\n",
       "      <td>2017-03-17 15:03</td>\n",
       "      <td>1.000000</td>\n",
       "      <td>...</td>\n",
       "      <td>-1.390561</td>\n",
       "      <td>1.735923</td>\n",
       "      <td>-0.844212</td>\n",
       "      <td>-0.012145</td>\n",
       "      <td>-0.710711</td>\n",
       "      <td>0</td>\n",
       "      <td>58.000000</td>\n",
       "      <td>-1.0</td>\n",
       "      <td>Troop Life is an interactive online community ...</td>\n",
       "      <td>['   ']No comments yet.</td>\n",
       "    </tr>\n",
       "    <tr>\n",
       "      <th>632</th>\n",
       "      <td>638</td>\n",
       "      <td>118</td>\n",
       "      <td>Re-stock of the most desired Bretonian team in...</td>\n",
       "      <td>{'id': 34, 'name': 'Tabletop Games', 'slug': '...</td>\n",
       "      <td>11448</td>\n",
       "      <td>ES</td>\n",
       "      <td>2020-10-06 14:07</td>\n",
       "      <td>USD</td>\n",
       "      <td>2020-10-27 3:43</td>\n",
       "      <td>1.212209</td>\n",
       "      <td>...</td>\n",
       "      <td>0.846693</td>\n",
       "      <td>0.107232</td>\n",
       "      <td>0.769842</td>\n",
       "      <td>-1.780581</td>\n",
       "      <td>1.479805</td>\n",
       "      <td>0</td>\n",
       "      <td>82.076271</td>\n",
       "      <td>23.0</td>\n",
       "      <td>Re-stock of the most desired Bretonian team in...</td>\n",
       "      <td>['   ']Andrew Creedy\\nabout 1 month ago\\nGreet...</td>\n",
       "    </tr>\n",
       "    <tr>\n",
       "      <th>276</th>\n",
       "      <td>276</td>\n",
       "      <td>48</td>\n",
       "      <td>A retelling of the classic Greek myth by C.K. ...</td>\n",
       "      <td>{'id': 22, 'name': 'Illustration', 'slug': 'ar...</td>\n",
       "      <td>8663</td>\n",
       "      <td>US</td>\n",
       "      <td>2020-09-04 12:41</td>\n",
       "      <td>USD</td>\n",
       "      <td>2020-11-01 18:00</td>\n",
       "      <td>1.000000</td>\n",
       "      <td>...</td>\n",
       "      <td>0.360855</td>\n",
       "      <td>0.246284</td>\n",
       "      <td>0.734559</td>\n",
       "      <td>0.072745</td>\n",
       "      <td>-0.710711</td>\n",
       "      <td>0</td>\n",
       "      <td>180.479167</td>\n",
       "      <td>-1.0</td>\n",
       "      <td>A retelling of the classic Greek myth by C.K. ...</td>\n",
       "      <td>['   ']No comments yet.</td>\n",
       "    </tr>\n",
       "  </tbody>\n",
       "</table>\n",
       "<p>3 rows × 48 columns</p>\n",
       "</div>"
      ],
      "text/plain": [
       "     Unnamed: 0  backers_count  \\\n",
       "872         887              1   \n",
       "632         638            118   \n",
       "276         276             48   \n",
       "\n",
       "                                                 blurb  \\\n",
       "872  Troop Life is an interactive online community ...   \n",
       "632  Re-stock of the most desired Bretonian team in...   \n",
       "276  A retelling of the classic Greek myth by C.K. ...   \n",
       "\n",
       "                                              category  \\\n",
       "872  {'id': 361, 'name': 'Web', 'slug': 'journalism...   \n",
       "632  {'id': 34, 'name': 'Tabletop Games', 'slug': '...   \n",
       "276  {'id': 22, 'name': 'Illustration', 'slug': 'ar...   \n",
       "\n",
       "     converted_pledged_amount country        created_at current_currency  \\\n",
       "872                        58      US  2017-02-10 12:13              USD   \n",
       "632                     11448      ES  2020-10-06 14:07              USD   \n",
       "276                      8663      US  2020-09-04 12:41              USD   \n",
       "\n",
       "             deadline   fx_rate  ...  backers_count_log  goal_log pledged_log  \\\n",
       "872  2017-03-17 15:03  1.000000  ...          -1.390561  1.735923   -0.844212   \n",
       "632   2020-10-27 3:43  1.212209  ...           0.846693  0.107232    0.769842   \n",
       "276  2020-11-01 18:00  1.000000  ...           0.360855  0.246284    0.734559   \n",
       "\n",
       "    duration_log n_comments_log  num_faq_bool avg_fund_per_backer  \\\n",
       "872    -0.012145      -0.710711             0           58.000000   \n",
       "632    -1.780581       1.479805             0           82.076271   \n",
       "276     0.072745      -0.710711             0          180.479167   \n",
       "\n",
       "    comments_afinn                                         blurb_name  \\\n",
       "872           -1.0  Troop Life is an interactive online community ...   \n",
       "632           23.0  Re-stock of the most desired Bretonian team in...   \n",
       "276           -1.0  A retelling of the classic Greek myth by C.K. ...   \n",
       "\n",
       "                                          faq_comments  \n",
       "872                            ['   ']No comments yet.  \n",
       "632  ['   ']Andrew Creedy\\nabout 1 month ago\\nGreet...  \n",
       "276                            ['   ']No comments yet.  \n",
       "\n",
       "[3 rows x 48 columns]"
      ]
     },
     "execution_count": 4,
     "metadata": {},
     "output_type": "execute_result"
    }
   ],
   "source": [
    "data.sample(3)"
   ]
  },
  {
   "cell_type": "code",
   "execution_count": 5,
   "metadata": {},
   "outputs": [
    {
     "data": {
      "text/plain": [
       "Index(['Unnamed: 0', 'backers_count', 'blurb', 'category',\n",
       "       'converted_pledged_amount', 'country', 'created_at', 'current_currency',\n",
       "       'deadline', 'fx_rate', 'goal', 'id', 'launched_at', 'location', 'name',\n",
       "       'pledged', 'profile', 'slug', 'source_url', 'spotlight', 'staff_pick',\n",
       "       'state', 'state_changed_at', 'static_usd_rate', 'urls', 'usd_pledged',\n",
       "       'usd_type', 'story', 'faq', 'num_faq', 'comments', 'n_comments',\n",
       "       'duration', 'parent_category', 'category_name', 'location_name',\n",
       "       'month_launched', 'year_launched', 'backers_count_log', 'goal_log',\n",
       "       'pledged_log', 'duration_log', 'n_comments_log', 'num_faq_bool',\n",
       "       'avg_fund_per_backer', 'comments_afinn', 'blurb_name', 'faq_comments'],\n",
       "      dtype='object')"
      ]
     },
     "execution_count": 5,
     "metadata": {},
     "output_type": "execute_result"
    }
   ],
   "source": [
    "data.columns"
   ]
  },
  {
   "cell_type": "code",
   "execution_count": 6,
   "metadata": {},
   "outputs": [
    {
     "data": {
      "text/plain": [
       "Unnamed: 0                  0\n",
       "backers_count               0\n",
       "blurb                       0\n",
       "category                    0\n",
       "converted_pledged_amount    0\n",
       "country                     0\n",
       "created_at                  0\n",
       "current_currency            0\n",
       "deadline                    0\n",
       "fx_rate                     0\n",
       "goal                        0\n",
       "id                          0\n",
       "launched_at                 0\n",
       "location                    0\n",
       "name                        0\n",
       "pledged                     0\n",
       "profile                     0\n",
       "slug                        0\n",
       "source_url                  0\n",
       "spotlight                   0\n",
       "staff_pick                  0\n",
       "state                       0\n",
       "state_changed_at            0\n",
       "static_usd_rate             0\n",
       "urls                        0\n",
       "usd_pledged                 0\n",
       "usd_type                    0\n",
       "story                       0\n",
       "faq                         0\n",
       "num_faq                     0\n",
       "comments                    0\n",
       "n_comments                  0\n",
       "duration                    0\n",
       "parent_category             0\n",
       "category_name               0\n",
       "location_name               0\n",
       "month_launched              0\n",
       "year_launched               0\n",
       "backers_count_log           0\n",
       "goal_log                    0\n",
       "pledged_log                 0\n",
       "duration_log                0\n",
       "n_comments_log              0\n",
       "num_faq_bool                0\n",
       "avg_fund_per_backer         0\n",
       "comments_afinn              0\n",
       "blurb_name                  0\n",
       "faq_comments                0\n",
       "dtype: int64"
      ]
     },
     "execution_count": 6,
     "metadata": {},
     "output_type": "execute_result"
    }
   ],
   "source": [
    "data.isna().sum()"
   ]
  },
  {
   "cell_type": "markdown",
   "metadata": {},
   "source": [
    "### Clean Data"
   ]
  },
  {
   "cell_type": "code",
   "execution_count": 6,
   "metadata": {},
   "outputs": [],
   "source": [
    "import json\n",
    "category_dict = data.category.map(lambda x: json.loads(x))\n",
    "data[[\"category_name\"]] = category_dict.map(lambda x: x.get('parent_name'))\n",
    "data = data.drop(\"category\", axis=1)"
   ]
  },
  {
   "cell_type": "code",
   "execution_count": 7,
   "metadata": {},
   "outputs": [
    {
     "data": {
      "text/html": [
       "<div>\n",
       "<style scoped>\n",
       "    .dataframe tbody tr th:only-of-type {\n",
       "        vertical-align: middle;\n",
       "    }\n",
       "\n",
       "    .dataframe tbody tr th {\n",
       "        vertical-align: top;\n",
       "    }\n",
       "\n",
       "    .dataframe thead th {\n",
       "        text-align: right;\n",
       "    }\n",
       "</style>\n",
       "<table border=\"1\" class=\"dataframe\">\n",
       "  <thead>\n",
       "    <tr style=\"text-align: right;\">\n",
       "      <th></th>\n",
       "      <th>category_name</th>\n",
       "    </tr>\n",
       "  </thead>\n",
       "  <tbody>\n",
       "    <tr>\n",
       "      <th>0</th>\n",
       "      <td>Technology</td>\n",
       "    </tr>\n",
       "    <tr>\n",
       "      <th>1</th>\n",
       "      <td>Food</td>\n",
       "    </tr>\n",
       "    <tr>\n",
       "      <th>2</th>\n",
       "      <td>Art</td>\n",
       "    </tr>\n",
       "    <tr>\n",
       "      <th>3</th>\n",
       "      <td>Photography</td>\n",
       "    </tr>\n",
       "    <tr>\n",
       "      <th>4</th>\n",
       "      <td>Publishing</td>\n",
       "    </tr>\n",
       "  </tbody>\n",
       "</table>\n",
       "</div>"
      ],
      "text/plain": [
       "  category_name\n",
       "0    Technology\n",
       "1          Food\n",
       "2           Art\n",
       "3   Photography\n",
       "4    Publishing"
      ]
     },
     "execution_count": 7,
     "metadata": {},
     "output_type": "execute_result"
    }
   ],
   "source": [
    "data[[\"category_name\"]].head()"
   ]
  },
  {
   "cell_type": "code",
   "execution_count": 8,
   "metadata": {},
   "outputs": [],
   "source": [
    "data[[\"duration_days\"]] = data[\"duration\"].map(lambda x: x.split(' ')[0])\n",
    "data = data.drop(\"duration\", axis=1)"
   ]
  },
  {
   "cell_type": "code",
   "execution_count": 9,
   "metadata": {},
   "outputs": [
    {
     "data": {
      "text/html": [
       "<div>\n",
       "<style scoped>\n",
       "    .dataframe tbody tr th:only-of-type {\n",
       "        vertical-align: middle;\n",
       "    }\n",
       "\n",
       "    .dataframe tbody tr th {\n",
       "        vertical-align: top;\n",
       "    }\n",
       "\n",
       "    .dataframe thead th {\n",
       "        text-align: right;\n",
       "    }\n",
       "</style>\n",
       "<table border=\"1\" class=\"dataframe\">\n",
       "  <thead>\n",
       "    <tr style=\"text-align: right;\">\n",
       "      <th></th>\n",
       "      <th>duration_days</th>\n",
       "    </tr>\n",
       "  </thead>\n",
       "  <tbody>\n",
       "    <tr>\n",
       "      <th>0</th>\n",
       "      <td>30</td>\n",
       "    </tr>\n",
       "    <tr>\n",
       "      <th>1</th>\n",
       "      <td>30</td>\n",
       "    </tr>\n",
       "    <tr>\n",
       "      <th>2</th>\n",
       "      <td>29</td>\n",
       "    </tr>\n",
       "    <tr>\n",
       "      <th>3</th>\n",
       "      <td>30</td>\n",
       "    </tr>\n",
       "    <tr>\n",
       "      <th>4</th>\n",
       "      <td>30</td>\n",
       "    </tr>\n",
       "  </tbody>\n",
       "</table>\n",
       "</div>"
      ],
      "text/plain": [
       "  duration_days\n",
       "0            30\n",
       "1            30\n",
       "2            29\n",
       "3            30\n",
       "4            30"
      ]
     },
     "execution_count": 9,
     "metadata": {},
     "output_type": "execute_result"
    }
   ],
   "source": [
    "data[[\"duration_days\"]].head()"
   ]
  },
  {
   "cell_type": "code",
   "execution_count": 10,
   "metadata": {},
   "outputs": [
    {
     "data": {
      "text/plain": [
       "Index(['backers_count', 'converted_pledged_amount', 'country', 'created_at',\n",
       "       'current_currency', 'deadline', 'fx_rate', 'goal', 'id', 'launched_at',\n",
       "       'location', 'pledged', 'profile', 'slug', 'source_url', 'spotlight',\n",
       "       'staff_pick', 'state', 'state_changed_at', 'static_usd_rate', 'urls',\n",
       "       'usd_pledged', 'usd_type', 'story', 'num_faq', 'n_comments',\n",
       "       'title_blurb', 'comments_clean', 'faq_clean', 'comment_sentiment',\n",
       "       'comment_afinn', 'category_name', 'duration_days'],\n",
       "      dtype='object')"
      ]
     },
     "execution_count": 10,
     "metadata": {},
     "output_type": "execute_result"
    }
   ],
   "source": [
    "data.columns"
   ]
  },
  {
   "cell_type": "markdown",
   "metadata": {},
   "source": [
    "### Check for variables with high correlations with each other"
   ]
  },
  {
   "cell_type": "code",
   "execution_count": 11,
   "metadata": {},
   "outputs": [],
   "source": [
    "data_corr = data[['backers_count', 'converted_pledged_amount', 'country',\n",
    "        'current_currency', 'fx_rate', 'goal',\n",
    "       'pledged',\n",
    "       'spotlight', 'staff_pick', 'state',\n",
    "       'usd_pledged', 'usd_type', \n",
    "       'num_faq', 'n_comments', 'comment_sentiment', 'comment_afinn', 'category_name',\n",
    "       'duration_days']]"
   ]
  },
  {
   "cell_type": "code",
   "execution_count": 12,
   "metadata": {},
   "outputs": [
    {
     "data": {
      "text/html": [
       "<div>\n",
       "<style scoped>\n",
       "    .dataframe tbody tr th:only-of-type {\n",
       "        vertical-align: middle;\n",
       "    }\n",
       "\n",
       "    .dataframe tbody tr th {\n",
       "        vertical-align: top;\n",
       "    }\n",
       "\n",
       "    .dataframe thead th {\n",
       "        text-align: right;\n",
       "    }\n",
       "</style>\n",
       "<table border=\"1\" class=\"dataframe\">\n",
       "  <thead>\n",
       "    <tr style=\"text-align: right;\">\n",
       "      <th></th>\n",
       "      <th>backers_count</th>\n",
       "      <th>converted_pledged_amount</th>\n",
       "      <th>country</th>\n",
       "      <th>current_currency</th>\n",
       "      <th>fx_rate</th>\n",
       "      <th>goal</th>\n",
       "      <th>pledged</th>\n",
       "      <th>spotlight</th>\n",
       "      <th>staff_pick</th>\n",
       "      <th>state</th>\n",
       "      <th>usd_pledged</th>\n",
       "      <th>usd_type</th>\n",
       "      <th>num_faq</th>\n",
       "      <th>n_comments</th>\n",
       "      <th>comment_sentiment</th>\n",
       "      <th>comment_afinn</th>\n",
       "      <th>category_name</th>\n",
       "      <th>duration_days</th>\n",
       "    </tr>\n",
       "  </thead>\n",
       "  <tbody>\n",
       "    <tr>\n",
       "      <th>0</th>\n",
       "      <td>1</td>\n",
       "      <td>1</td>\n",
       "      <td>ES</td>\n",
       "      <td>USD</td>\n",
       "      <td>1.212886</td>\n",
       "      <td>15000</td>\n",
       "      <td>1.0</td>\n",
       "      <td>False</td>\n",
       "      <td>False</td>\n",
       "      <td>0</td>\n",
       "      <td>1.136930</td>\n",
       "      <td>domestic</td>\n",
       "      <td>0</td>\n",
       "      <td>0</td>\n",
       "      <td>0.000000</td>\n",
       "      <td>-1.0</td>\n",
       "      <td>Technology</td>\n",
       "      <td>30</td>\n",
       "    </tr>\n",
       "    <tr>\n",
       "      <th>1</th>\n",
       "      <td>2</td>\n",
       "      <td>9</td>\n",
       "      <td>NZ</td>\n",
       "      <td>USD</td>\n",
       "      <td>0.723585</td>\n",
       "      <td>5000</td>\n",
       "      <td>15.0</td>\n",
       "      <td>False</td>\n",
       "      <td>False</td>\n",
       "      <td>0</td>\n",
       "      <td>9.829555</td>\n",
       "      <td>domestic</td>\n",
       "      <td>0</td>\n",
       "      <td>0</td>\n",
       "      <td>0.000000</td>\n",
       "      <td>-1.0</td>\n",
       "      <td>Food</td>\n",
       "      <td>30</td>\n",
       "    </tr>\n",
       "    <tr>\n",
       "      <th>2</th>\n",
       "      <td>0</td>\n",
       "      <td>0</td>\n",
       "      <td>US</td>\n",
       "      <td>USD</td>\n",
       "      <td>1.000000</td>\n",
       "      <td>10000</td>\n",
       "      <td>0.0</td>\n",
       "      <td>False</td>\n",
       "      <td>False</td>\n",
       "      <td>0</td>\n",
       "      <td>0.000000</td>\n",
       "      <td>domestic</td>\n",
       "      <td>0</td>\n",
       "      <td>0</td>\n",
       "      <td>0.000000</td>\n",
       "      <td>-1.0</td>\n",
       "      <td>Art</td>\n",
       "      <td>29</td>\n",
       "    </tr>\n",
       "    <tr>\n",
       "      <th>3</th>\n",
       "      <td>0</td>\n",
       "      <td>0</td>\n",
       "      <td>US</td>\n",
       "      <td>USD</td>\n",
       "      <td>1.000000</td>\n",
       "      <td>2000</td>\n",
       "      <td>0.0</td>\n",
       "      <td>False</td>\n",
       "      <td>False</td>\n",
       "      <td>0</td>\n",
       "      <td>0.000000</td>\n",
       "      <td>domestic</td>\n",
       "      <td>0</td>\n",
       "      <td>0</td>\n",
       "      <td>0.000000</td>\n",
       "      <td>-1.0</td>\n",
       "      <td>Photography</td>\n",
       "      <td>30</td>\n",
       "    </tr>\n",
       "    <tr>\n",
       "      <th>4</th>\n",
       "      <td>10</td>\n",
       "      <td>340</td>\n",
       "      <td>US</td>\n",
       "      <td>USD</td>\n",
       "      <td>1.000000</td>\n",
       "      <td>2500</td>\n",
       "      <td>340.0</td>\n",
       "      <td>False</td>\n",
       "      <td>False</td>\n",
       "      <td>0</td>\n",
       "      <td>340.000000</td>\n",
       "      <td>international</td>\n",
       "      <td>0</td>\n",
       "      <td>1</td>\n",
       "      <td>0.140625</td>\n",
       "      <td>2.0</td>\n",
       "      <td>Publishing</td>\n",
       "      <td>30</td>\n",
       "    </tr>\n",
       "  </tbody>\n",
       "</table>\n",
       "</div>"
      ],
      "text/plain": [
       "   backers_count  converted_pledged_amount country current_currency   fx_rate  \\\n",
       "0              1                         1      ES              USD  1.212886   \n",
       "1              2                         9      NZ              USD  0.723585   \n",
       "2              0                         0      US              USD  1.000000   \n",
       "3              0                         0      US              USD  1.000000   \n",
       "4             10                       340      US              USD  1.000000   \n",
       "\n",
       "    goal  pledged  spotlight  staff_pick  state  usd_pledged       usd_type  \\\n",
       "0  15000      1.0      False       False      0     1.136930       domestic   \n",
       "1   5000     15.0      False       False      0     9.829555       domestic   \n",
       "2  10000      0.0      False       False      0     0.000000       domestic   \n",
       "3   2000      0.0      False       False      0     0.000000       domestic   \n",
       "4   2500    340.0      False       False      0   340.000000  international   \n",
       "\n",
       "   num_faq n_comments  comment_sentiment  comment_afinn category_name  \\\n",
       "0        0          0           0.000000           -1.0    Technology   \n",
       "1        0          0           0.000000           -1.0          Food   \n",
       "2        0          0           0.000000           -1.0           Art   \n",
       "3        0          0           0.000000           -1.0   Photography   \n",
       "4        0          1           0.140625            2.0    Publishing   \n",
       "\n",
       "  duration_days  \n",
       "0            30  \n",
       "1            30  \n",
       "2            29  \n",
       "3            30  \n",
       "4            30  "
      ]
     },
     "execution_count": 12,
     "metadata": {},
     "output_type": "execute_result"
    }
   ],
   "source": [
    "data_corr.head()"
   ]
  },
  {
   "cell_type": "code",
   "execution_count": 13,
   "metadata": {},
   "outputs": [
    {
     "data": {
      "image/png": "[encoded data removed]",
      "text/plain": [
       "<Figure size 864x864 with 2 Axes>"
      ]
     },
     "metadata": {
      "needs_background": "light"
     },
     "output_type": "display_data"
    }
   ],
   "source": [
    "plt.figure(figsize=(12,12))\n",
    "\n",
    "corrMatrix = data_corr.corr()\n",
    "sns.heatmap(corrMatrix, annot=True)\n",
    "\n",
    "plt.show()"
   ]
  },
  {
   "cell_type": "markdown",
   "metadata": {},
   "source": [
    "#### 1) Keep converted pledge amt (drop usd_pledge)"
   ]
  },
  {
   "cell_type": "code",
   "execution_count": 14,
   "metadata": {},
   "outputs": [],
   "source": [
    "data_new = data.drop([\"usd_pledged\"], axis=1)"
   ]
  },
  {
   "cell_type": "markdown",
   "metadata": {},
   "source": [
    "#### 2) Check state and spotlight reason for high corr"
   ]
  },
  {
   "cell_type": "code",
   "execution_count": 15,
   "metadata": {},
   "outputs": [
    {
     "data": {
      "text/plain": [
       "0    367\n",
       "Name: state, dtype: int64"
      ]
     },
     "execution_count": 15,
     "metadata": {},
     "output_type": "execute_result"
    }
   ],
   "source": [
    "data[data[\"spotlight\"]==0].state.value_counts()"
   ]
  },
  {
   "cell_type": "code",
   "execution_count": 16,
   "metadata": {},
   "outputs": [
    {
     "data": {
      "text/plain": [
       "1    633\n",
       "Name: state, dtype: int64"
      ]
     },
     "execution_count": 16,
     "metadata": {},
     "output_type": "execute_result"
    }
   ],
   "source": [
    "data[data[\"spotlight\"]==1].state.value_counts()"
   ]
  },
  {
   "cell_type": "markdown",
   "metadata": {},
   "source": [
    "##### This shows that all project having spotlight will be successful, while those without will not be successful. Hence we cannot use spotlight as a variable. "
   ]
  },
  {
   "cell_type": "code",
   "execution_count": 17,
   "metadata": {},
   "outputs": [],
   "source": [
    "data_new = data_new.drop([\"spotlight\"], axis=1) "
   ]
  },
  {
   "cell_type": "markdown",
   "metadata": {},
   "source": [
    "#### 3) Converted pledge amt and backers count has a high correlation (0.89). More investors = more money. Combine these two features into avg amt per backer."
   ]
  },
  {
   "cell_type": "code",
   "execution_count": 18,
   "metadata": {},
   "outputs": [],
   "source": [
    "data_new[[\"amt_per_backer\"]] = data_new[\"converted_pledged_amount\"] / data_new[\"backers_count\"]"
   ]
  },
  {
   "cell_type": "code",
   "execution_count": 19,
   "metadata": {},
   "outputs": [
    {
     "data": {
      "text/html": [
       "<div>\n",
       "<style scoped>\n",
       "    .dataframe tbody tr th:only-of-type {\n",
       "        vertical-align: middle;\n",
       "    }\n",
       "\n",
       "    .dataframe tbody tr th {\n",
       "        vertical-align: top;\n",
       "    }\n",
       "\n",
       "    .dataframe thead th {\n",
       "        text-align: right;\n",
       "    }\n",
       "</style>\n",
       "<table border=\"1\" class=\"dataframe\">\n",
       "  <thead>\n",
       "    <tr style=\"text-align: right;\">\n",
       "      <th></th>\n",
       "      <th>amt_per_backer</th>\n",
       "    </tr>\n",
       "  </thead>\n",
       "  <tbody>\n",
       "    <tr>\n",
       "      <th>0</th>\n",
       "      <td>1.0</td>\n",
       "    </tr>\n",
       "    <tr>\n",
       "      <th>1</th>\n",
       "      <td>4.5</td>\n",
       "    </tr>\n",
       "    <tr>\n",
       "      <th>2</th>\n",
       "      <td>NaN</td>\n",
       "    </tr>\n",
       "    <tr>\n",
       "      <th>3</th>\n",
       "      <td>NaN</td>\n",
       "    </tr>\n",
       "    <tr>\n",
       "      <th>4</th>\n",
       "      <td>34.0</td>\n",
       "    </tr>\n",
       "  </tbody>\n",
       "</table>\n",
       "</div>"
      ],
      "text/plain": [
       "   amt_per_backer\n",
       "0             1.0\n",
       "1             4.5\n",
       "2             NaN\n",
       "3             NaN\n",
       "4            34.0"
      ]
     },
     "execution_count": 19,
     "metadata": {},
     "output_type": "execute_result"
    }
   ],
   "source": [
    "data_new[[\"amt_per_backer\"]].head()"
   ]
  },
  {
   "cell_type": "code",
   "execution_count": 20,
   "metadata": {},
   "outputs": [],
   "source": [
    "# convert NAN to 0\n",
    "data_new[[\"amt_per_backer\"]] = data_new[[\"amt_per_backer\"]].fillna(0).round(2)"
   ]
  },
  {
   "cell_type": "code",
   "execution_count": 21,
   "metadata": {},
   "outputs": [
    {
     "data": {
      "text/html": [
       "<div>\n",
       "<style scoped>\n",
       "    .dataframe tbody tr th:only-of-type {\n",
       "        vertical-align: middle;\n",
       "    }\n",
       "\n",
       "    .dataframe tbody tr th {\n",
       "        vertical-align: top;\n",
       "    }\n",
       "\n",
       "    .dataframe thead th {\n",
       "        text-align: right;\n",
       "    }\n",
       "</style>\n",
       "<table border=\"1\" class=\"dataframe\">\n",
       "  <thead>\n",
       "    <tr style=\"text-align: right;\">\n",
       "      <th></th>\n",
       "      <th>amt_per_backer</th>\n",
       "    </tr>\n",
       "  </thead>\n",
       "  <tbody>\n",
       "    <tr>\n",
       "      <th>0</th>\n",
       "      <td>1.00</td>\n",
       "    </tr>\n",
       "    <tr>\n",
       "      <th>1</th>\n",
       "      <td>4.50</td>\n",
       "    </tr>\n",
       "    <tr>\n",
       "      <th>2</th>\n",
       "      <td>0.00</td>\n",
       "    </tr>\n",
       "    <tr>\n",
       "      <th>3</th>\n",
       "      <td>0.00</td>\n",
       "    </tr>\n",
       "    <tr>\n",
       "      <th>4</th>\n",
       "      <td>34.00</td>\n",
       "    </tr>\n",
       "    <tr>\n",
       "      <th>5</th>\n",
       "      <td>37.21</td>\n",
       "    </tr>\n",
       "    <tr>\n",
       "      <th>6</th>\n",
       "      <td>35.66</td>\n",
       "    </tr>\n",
       "    <tr>\n",
       "      <th>7</th>\n",
       "      <td>26.10</td>\n",
       "    </tr>\n",
       "    <tr>\n",
       "      <th>8</th>\n",
       "      <td>41.50</td>\n",
       "    </tr>\n",
       "    <tr>\n",
       "      <th>9</th>\n",
       "      <td>16.67</td>\n",
       "    </tr>\n",
       "  </tbody>\n",
       "</table>\n",
       "</div>"
      ],
      "text/plain": [
       "   amt_per_backer\n",
       "0            1.00\n",
       "1            4.50\n",
       "2            0.00\n",
       "3            0.00\n",
       "4           34.00\n",
       "5           37.21\n",
       "6           35.66\n",
       "7           26.10\n",
       "8           41.50\n",
       "9           16.67"
      ]
     },
     "execution_count": 21,
     "metadata": {},
     "output_type": "execute_result"
    }
   ],
   "source": [
    "data_new[[\"amt_per_backer\"]].head(10)"
   ]
  },
  {
   "cell_type": "code",
   "execution_count": 22,
   "metadata": {},
   "outputs": [],
   "source": [
    "# drop backers and amt pledge\n",
    "data_new = data_new.drop([\"converted_pledged_amount\",\"backers_count\"], axis=1) "
   ]
  },
  {
   "cell_type": "code",
   "execution_count": 23,
   "metadata": {},
   "outputs": [
    {
     "data": {
      "text/html": [
       "<div>\n",
       "<style scoped>\n",
       "    .dataframe tbody tr th:only-of-type {\n",
       "        vertical-align: middle;\n",
       "    }\n",
       "\n",
       "    .dataframe tbody tr th {\n",
       "        vertical-align: top;\n",
       "    }\n",
       "\n",
       "    .dataframe thead th {\n",
       "        text-align: right;\n",
       "    }\n",
       "</style>\n",
       "<table border=\"1\" class=\"dataframe\">\n",
       "  <thead>\n",
       "    <tr style=\"text-align: right;\">\n",
       "      <th></th>\n",
       "      <th>country</th>\n",
       "      <th>created_at</th>\n",
       "      <th>current_currency</th>\n",
       "      <th>deadline</th>\n",
       "      <th>fx_rate</th>\n",
       "      <th>goal</th>\n",
       "      <th>id</th>\n",
       "      <th>launched_at</th>\n",
       "      <th>location</th>\n",
       "      <th>pledged</th>\n",
       "      <th>...</th>\n",
       "      <th>num_faq</th>\n",
       "      <th>n_comments</th>\n",
       "      <th>title_blurb</th>\n",
       "      <th>comments_clean</th>\n",
       "      <th>faq_clean</th>\n",
       "      <th>comment_sentiment</th>\n",
       "      <th>comment_afinn</th>\n",
       "      <th>category_name</th>\n",
       "      <th>duration_days</th>\n",
       "      <th>amt_per_backer</th>\n",
       "    </tr>\n",
       "  </thead>\n",
       "  <tbody>\n",
       "    <tr>\n",
       "      <th>0</th>\n",
       "      <td>ES</td>\n",
       "      <td>2015-08-18 21:01</td>\n",
       "      <td>USD</td>\n",
       "      <td>2016-07-09 20:11</td>\n",
       "      <td>1.212886</td>\n",
       "      <td>15000</td>\n",
       "      <td>1662798399</td>\n",
       "      <td>2016-06-09 20:11</td>\n",
       "      <td>{\"id\":55897673,\"name\":\"Mexico\",\"slug\":\"mexico-...</td>\n",
       "      <td>1.0</td>\n",
       "      <td>...</td>\n",
       "      <td>0</td>\n",
       "      <td>0</td>\n",
       "      <td>Save water 100% liquid downloads in toilets at...</td>\n",
       "      <td>No comments yet.</td>\n",
       "      <td>No faq</td>\n",
       "      <td>0.000000</td>\n",
       "      <td>-1.0</td>\n",
       "      <td>Technology</td>\n",
       "      <td>30</td>\n",
       "      <td>1.0</td>\n",
       "    </tr>\n",
       "    <tr>\n",
       "      <th>1</th>\n",
       "      <td>NZ</td>\n",
       "      <td>2015-08-11 18:04</td>\n",
       "      <td>USD</td>\n",
       "      <td>2015-09-11 15:55</td>\n",
       "      <td>0.723585</td>\n",
       "      <td>5000</td>\n",
       "      <td>1316288919</td>\n",
       "      <td>2015-08-12 15:55</td>\n",
       "      <td>{\"id\":22726370,\"name\":\"Flat Bush\",\"slug\":\"flat...</td>\n",
       "      <td>15.0</td>\n",
       "      <td>...</td>\n",
       "      <td>0</td>\n",
       "      <td>0</td>\n",
       "      <td>Ormiston Primary Community Garden.We at Ormist...</td>\n",
       "      <td>No comments yet.</td>\n",
       "      <td>No faq</td>\n",
       "      <td>0.000000</td>\n",
       "      <td>-1.0</td>\n",
       "      <td>Food</td>\n",
       "      <td>30</td>\n",
       "      <td>4.5</td>\n",
       "    </tr>\n",
       "    <tr>\n",
       "      <th>2</th>\n",
       "      <td>US</td>\n",
       "      <td>2015-04-28 21:14</td>\n",
       "      <td>USD</td>\n",
       "      <td>2015-05-28 21:14</td>\n",
       "      <td>1.000000</td>\n",
       "      <td>10000</td>\n",
       "      <td>818890122</td>\n",
       "      <td>2015-04-29 20:57</td>\n",
       "      <td>{\"id\":2428184,\"name\":\"Jackson\",\"slug\":\"jackson...</td>\n",
       "      <td>0.0</td>\n",
       "      <td>...</td>\n",
       "      <td>0</td>\n",
       "      <td>0</td>\n",
       "      <td>Aspiring metalsmith in need of better tools, a...</td>\n",
       "      <td>No comments yet.</td>\n",
       "      <td>No faq</td>\n",
       "      <td>0.000000</td>\n",
       "      <td>-1.0</td>\n",
       "      <td>Art</td>\n",
       "      <td>29</td>\n",
       "      <td>0.0</td>\n",
       "    </tr>\n",
       "    <tr>\n",
       "      <th>3</th>\n",
       "      <td>US</td>\n",
       "      <td>2014-07-07 1:30</td>\n",
       "      <td>USD</td>\n",
       "      <td>2014-10-26 0:00</td>\n",
       "      <td>1.000000</td>\n",
       "      <td>2000</td>\n",
       "      <td>1934517401</td>\n",
       "      <td>2014-09-26 0:00</td>\n",
       "      <td>{\"id\":2357536,\"name\":\"Austin\",\"slug\":\"austin-t...</td>\n",
       "      <td>0.0</td>\n",
       "      <td>...</td>\n",
       "      <td>0</td>\n",
       "      <td>0</td>\n",
       "      <td>Beauty At Any Age.So many women believe they a...</td>\n",
       "      <td>No comments yet.</td>\n",
       "      <td>No faq</td>\n",
       "      <td>0.000000</td>\n",
       "      <td>-1.0</td>\n",
       "      <td>Photography</td>\n",
       "      <td>30</td>\n",
       "      <td>0.0</td>\n",
       "    </tr>\n",
       "    <tr>\n",
       "      <th>4</th>\n",
       "      <td>US</td>\n",
       "      <td>2014-11-04 16:30</td>\n",
       "      <td>USD</td>\n",
       "      <td>2014-12-09 9:20</td>\n",
       "      <td>1.000000</td>\n",
       "      <td>2500</td>\n",
       "      <td>1449353867</td>\n",
       "      <td>2014-11-09 9:20</td>\n",
       "      <td>{\"id\":2380358,\"name\":\"Cincinnati\",\"slug\":\"cinc...</td>\n",
       "      <td>340.0</td>\n",
       "      <td>...</td>\n",
       "      <td>0</td>\n",
       "      <td>1</td>\n",
       "      <td>Shrieks and Shivers from the Horror Zine.The H...</td>\n",
       "      <td>Paula Limbaugh. over 6 years ago. So sorry yo...</td>\n",
       "      <td>No faq</td>\n",
       "      <td>0.140625</td>\n",
       "      <td>2.0</td>\n",
       "      <td>Publishing</td>\n",
       "      <td>30</td>\n",
       "      <td>34.0</td>\n",
       "    </tr>\n",
       "  </tbody>\n",
       "</table>\n",
       "<p>5 rows × 30 columns</p>\n",
       "</div>"
      ],
      "text/plain": [
       "  country        created_at current_currency          deadline   fx_rate  \\\n",
       "0      ES  2015-08-18 21:01              USD  2016-07-09 20:11  1.212886   \n",
       "1      NZ  2015-08-11 18:04              USD  2015-09-11 15:55  0.723585   \n",
       "2      US  2015-04-28 21:14              USD  2015-05-28 21:14  1.000000   \n",
       "3      US   2014-07-07 1:30              USD   2014-10-26 0:00  1.000000   \n",
       "4      US  2014-11-04 16:30              USD   2014-12-09 9:20  1.000000   \n",
       "\n",
       "    goal          id       launched_at  \\\n",
       "0  15000  1662798399  2016-06-09 20:11   \n",
       "1   5000  1316288919  2015-08-12 15:55   \n",
       "2  10000   818890122  2015-04-29 20:57   \n",
       "3   2000  1934517401   2014-09-26 0:00   \n",
       "4   2500  1449353867   2014-11-09 9:20   \n",
       "\n",
       "                                            location  pledged  ... num_faq  \\\n",
       "0  {\"id\":55897673,\"name\":\"Mexico\",\"slug\":\"mexico-...      1.0  ...       0   \n",
       "1  {\"id\":22726370,\"name\":\"Flat Bush\",\"slug\":\"flat...     15.0  ...       0   \n",
       "2  {\"id\":2428184,\"name\":\"Jackson\",\"slug\":\"jackson...      0.0  ...       0   \n",
       "3  {\"id\":2357536,\"name\":\"Austin\",\"slug\":\"austin-t...      0.0  ...       0   \n",
       "4  {\"id\":2380358,\"name\":\"Cincinnati\",\"slug\":\"cinc...    340.0  ...       0   \n",
       "\n",
       "  n_comments                                        title_blurb  \\\n",
       "0          0  Save water 100% liquid downloads in toilets at...   \n",
       "1          0  Ormiston Primary Community Garden.We at Ormist...   \n",
       "2          0  Aspiring metalsmith in need of better tools, a...   \n",
       "3          0  Beauty At Any Age.So many women believe they a...   \n",
       "4          1  Shrieks and Shivers from the Horror Zine.The H...   \n",
       "\n",
       "                                      comments_clean  faq_clean  \\\n",
       "0                                   No comments yet.     No faq   \n",
       "1                                   No comments yet.     No faq   \n",
       "2                                   No comments yet.     No faq   \n",
       "3                                   No comments yet.     No faq   \n",
       "4   Paula Limbaugh. over 6 years ago. So sorry yo...     No faq   \n",
       "\n",
       "  comment_sentiment  comment_afinn category_name duration_days amt_per_backer  \n",
       "0          0.000000           -1.0    Technology            30            1.0  \n",
       "1          0.000000           -1.0          Food            30            4.5  \n",
       "2          0.000000           -1.0           Art            29            0.0  \n",
       "3          0.000000           -1.0   Photography            30            0.0  \n",
       "4          0.140625            2.0    Publishing            30           34.0  \n",
       "\n",
       "[5 rows x 30 columns]"
      ]
     },
     "execution_count": 23,
     "metadata": {},
     "output_type": "execute_result"
    }
   ],
   "source": [
    "data_new.head()"
   ]
  },
  {
   "cell_type": "code",
   "execution_count": 24,
   "metadata": {},
   "outputs": [
    {
     "data": {
      "text/plain": [
       "Index(['country', 'created_at', 'current_currency', 'deadline', 'fx_rate',\n",
       "       'goal', 'id', 'launched_at', 'location', 'pledged', 'profile', 'slug',\n",
       "       'source_url', 'staff_pick', 'state', 'state_changed_at',\n",
       "       'static_usd_rate', 'urls', 'usd_type', 'story', 'num_faq', 'n_comments',\n",
       "       'title_blurb', 'comments_clean', 'faq_clean', 'comment_sentiment',\n",
       "       'comment_afinn', 'category_name', 'duration_days', 'amt_per_backer'],\n",
       "      dtype='object')"
      ]
     },
     "execution_count": 24,
     "metadata": {},
     "output_type": "execute_result"
    }
   ],
   "source": [
    "data_new.columns"
   ]
  },
  {
   "cell_type": "code",
   "execution_count": null,
   "metadata": {},
   "outputs": [],
   "source": []
  }
 ],
 "metadata": {
  "kernelspec": {
   "display_name": "Python 3",
   "language": "python",
   "name": "python3"
  },
  "language_info": {
   "codemirror_mode": {
    "name": "ipython",
    "version": 3
   },
   "file_extension": ".py",
   "mimetype": "text/x-python",
   "name": "python",
   "nbconvert_exporter": "python",
   "pygments_lexer": "ipython3",
   "version": "3.8.5"
  }
 },
 "nbformat": 4,
 "nbformat_minor": 4
}
