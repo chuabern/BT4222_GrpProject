{
 "cells": [
  {
   "cell_type": "code",
   "execution_count": 1,
   "metadata": {},
   "outputs": [],
   "source": [
    "import pandas as pd\n",
    "import re\n",
    "import json\n",
    "import glob\n",
    "from tqdm import tqdm\n",
    "\n",
    "from selenium import webdriver\n",
    "from selenium.webdriver.common.by import By\n",
    "from selenium.webdriver.support.ui import WebDriverWait\n",
    "from selenium.webdriver.support import expected_conditions as EC"
   ]
  },
  {
   "cell_type": "code",
   "execution_count": 2,
   "metadata": {},
   "outputs": [],
   "source": [
    "files = glob.glob(\"Clean_data/*.csv\")\n",
    "\n",
    "csv = []\n",
    "\n",
    "for file in files:\n",
    "    df = pd.read_csv(file, index_col=None, header=0)\n",
    "    csv.append(df)\n",
    "\n",
    "df = pd.concat(csv, axis=0, ignore_index=True)"
   ]
  },
  {
   "cell_type": "code",
   "execution_count": 3,
   "metadata": {},
   "outputs": [
    {
     "data": {
      "text/html": [
       "<div>\n",
       "<style scoped>\n",
       "    .dataframe tbody tr th:only-of-type {\n",
       "        vertical-align: middle;\n",
       "    }\n",
       "\n",
       "    .dataframe tbody tr th {\n",
       "        vertical-align: top;\n",
       "    }\n",
       "\n",
       "    .dataframe thead th {\n",
       "        text-align: right;\n",
       "    }\n",
       "</style>\n",
       "<table border=\"1\" class=\"dataframe\">\n",
       "  <thead>\n",
       "    <tr style=\"text-align: right;\">\n",
       "      <th></th>\n",
       "      <th>Unnamed: 0</th>\n",
       "      <th>backers_count</th>\n",
       "      <th>blurb</th>\n",
       "      <th>category</th>\n",
       "      <th>converted_pledged_amount</th>\n",
       "      <th>country</th>\n",
       "      <th>created_at</th>\n",
       "      <th>current_currency</th>\n",
       "      <th>deadline</th>\n",
       "      <th>fx_rate</th>\n",
       "      <th>...</th>\n",
       "      <th>slug</th>\n",
       "      <th>source_url</th>\n",
       "      <th>spotlight</th>\n",
       "      <th>staff_pick</th>\n",
       "      <th>state</th>\n",
       "      <th>state_changed_at</th>\n",
       "      <th>static_usd_rate</th>\n",
       "      <th>urls</th>\n",
       "      <th>usd_pledged</th>\n",
       "      <th>usd_type</th>\n",
       "    </tr>\n",
       "  </thead>\n",
       "  <tbody>\n",
       "    <tr>\n",
       "      <th>0</th>\n",
       "      <td>1</td>\n",
       "      <td>1</td>\n",
       "      <td>With your help we will create this device that...</td>\n",
       "      <td>{\"id\":331,\"name\":\"3D Printing\",\"slug\":\"technol...</td>\n",
       "      <td>1</td>\n",
       "      <td>ES</td>\n",
       "      <td>2015-08-18 21:01:19</td>\n",
       "      <td>USD</td>\n",
       "      <td>2016-07-09 20:11:23</td>\n",
       "      <td>1.212886</td>\n",
       "      <td>...</td>\n",
       "      <td>save-water-100-liquid-downloads-in-toilets</td>\n",
       "      <td>https://www.kickstarter.com/discover/categorie...</td>\n",
       "      <td>False</td>\n",
       "      <td>False</td>\n",
       "      <td>failed</td>\n",
       "      <td>2016-07-09 20:11:24</td>\n",
       "      <td>1.136930</td>\n",
       "      <td>{\"web\":{\"project\":\"https://www.kickstarter.com...</td>\n",
       "      <td>1.136930</td>\n",
       "      <td>domestic</td>\n",
       "    </tr>\n",
       "    <tr>\n",
       "      <th>1</th>\n",
       "      <td>2</td>\n",
       "      <td>2</td>\n",
       "      <td>We at Ormiston Primary are looking at starting...</td>\n",
       "      <td>{\"id\":309,\"name\":\"Farms\",\"slug\":\"food/farms\",\"...</td>\n",
       "      <td>9</td>\n",
       "      <td>NZ</td>\n",
       "      <td>2015-08-11 18:04:21</td>\n",
       "      <td>USD</td>\n",
       "      <td>2015-09-11 15:55:41</td>\n",
       "      <td>0.723585</td>\n",
       "      <td>...</td>\n",
       "      <td>ormiston-primary-community-garden</td>\n",
       "      <td>https://www.kickstarter.com/discover/categorie...</td>\n",
       "      <td>False</td>\n",
       "      <td>False</td>\n",
       "      <td>failed</td>\n",
       "      <td>2015-09-11 15:55:41</td>\n",
       "      <td>0.655304</td>\n",
       "      <td>{\"web\":{\"project\":\"https://www.kickstarter.com...</td>\n",
       "      <td>9.829555</td>\n",
       "      <td>domestic</td>\n",
       "    </tr>\n",
       "    <tr>\n",
       "      <th>2</th>\n",
       "      <td>3</td>\n",
       "      <td>0</td>\n",
       "      <td>Self-taught aspiring metalsmith Looking for he...</td>\n",
       "      <td>{\"id\":54,\"name\":\"Mixed Media\",\"slug\":\"art/mixe...</td>\n",
       "      <td>0</td>\n",
       "      <td>US</td>\n",
       "      <td>2015-04-28 21:14:03</td>\n",
       "      <td>USD</td>\n",
       "      <td>2015-05-28 21:14:00</td>\n",
       "      <td>1.000000</td>\n",
       "      <td>...</td>\n",
       "      <td>aspiring-metalsmith-in-need-of-better-tools-an...</td>\n",
       "      <td>https://www.kickstarter.com/discover/categorie...</td>\n",
       "      <td>False</td>\n",
       "      <td>False</td>\n",
       "      <td>failed</td>\n",
       "      <td>2015-05-28 21:14:04</td>\n",
       "      <td>1.000000</td>\n",
       "      <td>{\"web\":{\"project\":\"https://www.kickstarter.com...</td>\n",
       "      <td>0.000000</td>\n",
       "      <td>domestic</td>\n",
       "    </tr>\n",
       "    <tr>\n",
       "      <th>3</th>\n",
       "      <td>4</td>\n",
       "      <td>0</td>\n",
       "      <td>So many women believe they are past their prim...</td>\n",
       "      <td>{\"id\":278,\"name\":\"People\",\"slug\":\"photography/...</td>\n",
       "      <td>0</td>\n",
       "      <td>US</td>\n",
       "      <td>2014-07-07 01:30:52</td>\n",
       "      <td>USD</td>\n",
       "      <td>2014-10-26 00:00:48</td>\n",
       "      <td>1.000000</td>\n",
       "      <td>...</td>\n",
       "      <td>beauty-at-any-age</td>\n",
       "      <td>https://www.kickstarter.com/discover/categorie...</td>\n",
       "      <td>False</td>\n",
       "      <td>False</td>\n",
       "      <td>failed</td>\n",
       "      <td>2014-10-26 00:00:48</td>\n",
       "      <td>1.000000</td>\n",
       "      <td>{\"web\":{\"project\":\"https://www.kickstarter.com...</td>\n",
       "      <td>0.000000</td>\n",
       "      <td>domestic</td>\n",
       "    </tr>\n",
       "    <tr>\n",
       "      <th>4</th>\n",
       "      <td>5</td>\n",
       "      <td>10</td>\n",
       "      <td>The Horror Zine's Jeani Rector brings us anoth...</td>\n",
       "      <td>{\"id\":324,\"name\":\"Anthologies\",\"slug\":\"publish...</td>\n",
       "      <td>340</td>\n",
       "      <td>US</td>\n",
       "      <td>2014-11-04 16:30:58</td>\n",
       "      <td>USD</td>\n",
       "      <td>2014-12-09 09:20:35</td>\n",
       "      <td>1.000000</td>\n",
       "      <td>...</td>\n",
       "      <td>shrieks-and-shivers-from-the-horror-zine</td>\n",
       "      <td>https://www.kickstarter.com/discover/categorie...</td>\n",
       "      <td>False</td>\n",
       "      <td>False</td>\n",
       "      <td>failed</td>\n",
       "      <td>2014-12-09 09:20:35</td>\n",
       "      <td>1.000000</td>\n",
       "      <td>{\"web\":{\"project\":\"https://www.kickstarter.com...</td>\n",
       "      <td>340.000000</td>\n",
       "      <td>international</td>\n",
       "    </tr>\n",
       "  </tbody>\n",
       "</table>\n",
       "<p>5 rows × 27 columns</p>\n",
       "</div>"
      ],
      "text/plain": [
       "   Unnamed: 0  backers_count  \\\n",
       "0           1              1   \n",
       "1           2              2   \n",
       "2           3              0   \n",
       "3           4              0   \n",
       "4           5             10   \n",
       "\n",
       "                                               blurb  \\\n",
       "0  With your help we will create this device that...   \n",
       "1  We at Ormiston Primary are looking at starting...   \n",
       "2  Self-taught aspiring metalsmith Looking for he...   \n",
       "3  So many women believe they are past their prim...   \n",
       "4  The Horror Zine's Jeani Rector brings us anoth...   \n",
       "\n",
       "                                            category  \\\n",
       "0  {\"id\":331,\"name\":\"3D Printing\",\"slug\":\"technol...   \n",
       "1  {\"id\":309,\"name\":\"Farms\",\"slug\":\"food/farms\",\"...   \n",
       "2  {\"id\":54,\"name\":\"Mixed Media\",\"slug\":\"art/mixe...   \n",
       "3  {\"id\":278,\"name\":\"People\",\"slug\":\"photography/...   \n",
       "4  {\"id\":324,\"name\":\"Anthologies\",\"slug\":\"publish...   \n",
       "\n",
       "   converted_pledged_amount country           created_at current_currency  \\\n",
       "0                         1      ES  2015-08-18 21:01:19              USD   \n",
       "1                         9      NZ  2015-08-11 18:04:21              USD   \n",
       "2                         0      US  2015-04-28 21:14:03              USD   \n",
       "3                         0      US  2014-07-07 01:30:52              USD   \n",
       "4                       340      US  2014-11-04 16:30:58              USD   \n",
       "\n",
       "              deadline   fx_rate  ...  \\\n",
       "0  2016-07-09 20:11:23  1.212886  ...   \n",
       "1  2015-09-11 15:55:41  0.723585  ...   \n",
       "2  2015-05-28 21:14:00  1.000000  ...   \n",
       "3  2014-10-26 00:00:48  1.000000  ...   \n",
       "4  2014-12-09 09:20:35  1.000000  ...   \n",
       "\n",
       "                                                slug  \\\n",
       "0         save-water-100-liquid-downloads-in-toilets   \n",
       "1                  ormiston-primary-community-garden   \n",
       "2  aspiring-metalsmith-in-need-of-better-tools-an...   \n",
       "3                                  beauty-at-any-age   \n",
       "4           shrieks-and-shivers-from-the-horror-zine   \n",
       "\n",
       "                                          source_url spotlight staff_pick  \\\n",
       "0  https://www.kickstarter.com/discover/categorie...     False      False   \n",
       "1  https://www.kickstarter.com/discover/categorie...     False      False   \n",
       "2  https://www.kickstarter.com/discover/categorie...     False      False   \n",
       "3  https://www.kickstarter.com/discover/categorie...     False      False   \n",
       "4  https://www.kickstarter.com/discover/categorie...     False      False   \n",
       "\n",
       "    state     state_changed_at static_usd_rate  \\\n",
       "0  failed  2016-07-09 20:11:24        1.136930   \n",
       "1  failed  2015-09-11 15:55:41        0.655304   \n",
       "2  failed  2015-05-28 21:14:04        1.000000   \n",
       "3  failed  2014-10-26 00:00:48        1.000000   \n",
       "4  failed  2014-12-09 09:20:35        1.000000   \n",
       "\n",
       "                                                urls usd_pledged  \\\n",
       "0  {\"web\":{\"project\":\"https://www.kickstarter.com...    1.136930   \n",
       "1  {\"web\":{\"project\":\"https://www.kickstarter.com...    9.829555   \n",
       "2  {\"web\":{\"project\":\"https://www.kickstarter.com...    0.000000   \n",
       "3  {\"web\":{\"project\":\"https://www.kickstarter.com...    0.000000   \n",
       "4  {\"web\":{\"project\":\"https://www.kickstarter.com...  340.000000   \n",
       "\n",
       "        usd_type  \n",
       "0       domestic  \n",
       "1       domestic  \n",
       "2       domestic  \n",
       "3       domestic  \n",
       "4  international  \n",
       "\n",
       "[5 rows x 27 columns]"
      ]
     },
     "execution_count": 3,
     "metadata": {},
     "output_type": "execute_result"
    }
   ],
   "source": [
    "df.head()"
   ]
  },
  {
   "cell_type": "code",
   "execution_count": 4,
   "metadata": {},
   "outputs": [
    {
     "name": "stdout",
     "output_type": "stream",
     "text": [
      "(195933, 27) \n",
      " Index(['Unnamed: 0', 'backers_count', 'blurb', 'category',\n",
      "       'converted_pledged_amount', 'country', 'created_at', 'current_currency',\n",
      "       'deadline', 'fx_rate', 'goal', 'id', 'launched_at', 'location', 'name',\n",
      "       'pledged', 'profile', 'slug', 'source_url', 'spotlight', 'staff_pick',\n",
      "       'state', 'state_changed_at', 'static_usd_rate', 'urls', 'usd_pledged',\n",
      "       'usd_type'],\n",
      "      dtype='object')\n"
     ]
    }
   ],
   "source": [
    "print(df.shape, \"\\n\",df.columns)"
   ]
  },
  {
   "cell_type": "code",
   "execution_count": 5,
   "metadata": {},
   "outputs": [],
   "source": [
    "urls = df.urls\n",
    "\n",
    "urls_ = list(map(lambda url:json.loads(url)[\"web\"][\"project\"],urls))\n",
    "urls = urls_"
   ]
  },
  {
   "cell_type": "code",
   "execution_count": 6,
   "metadata": {},
   "outputs": [],
   "source": [
    "### using beautifulsoup instead\n",
    "\n",
    "#from selenium.common.exceptions import TimeoutException\n",
    "#from selenium.webdriver.common.action_chains import ActionChains\n",
    "\n",
    "#from webdriver_manager.chrome import ChromeDriverManager\n",
    "#driver = webdriver.Chrome(ChromeDriverManager().install())\n",
    "\n",
    "#chromeOptions = webdriver.ChromeOptions() \n",
    "#chromeOptions.add_argument(\"--no-sandbox\") \n",
    "#chromeOptions.add_argument(\"--headless\") \n",
    "\n",
    "#driver = webdriver.Chrome(\"D:/NUS/Year4_SEM2/BT4222/Grp_project/BT4222_GrpProject-main/Webdriver/chromedriver88.exe\", chrome_options=chromeOptions)"
   ]
  },
  {
   "cell_type": "code",
   "execution_count": 70,
   "metadata": {},
   "outputs": [
    {
     "data": {
      "text/plain": [
       "195933"
      ]
     },
     "execution_count": 70,
     "metadata": {},
     "output_type": "execute_result"
    }
   ],
   "source": [
    "len(urls)"
   ]
  },
  {
   "cell_type": "code",
   "execution_count": 6,
   "metadata": {},
   "outputs": [],
   "source": [
    "#Edit to FAQ urls\n",
    "\n",
    "faq_urls = []\n",
    "\n",
    "for i in range(0, len(urls)):\n",
    "    split_string = urls[i].split(\"?\", 1)\n",
    "    faq = split_string[0] + \"/faqs\"\n",
    "    faq_urls.append(faq)"
   ]
  },
  {
   "cell_type": "code",
   "execution_count": 7,
   "metadata": {},
   "outputs": [
    {
     "data": {
      "text/plain": [
       "['https://www.kickstarter.com/projects/compagnienarcisse/no-borders/faqs',\n",
       " 'https://www.kickstarter.com/projects/curiouserseries/book-ii-eat-me-drink-me/faqs',\n",
       " 'https://www.kickstarter.com/projects/2045956967/cat-with-hat/faqs',\n",
       " 'https://www.kickstarter.com/projects/kawaiikatstore/mental-health-awareness-enamel-pins/faqs',\n",
       " 'https://www.kickstarter.com/projects/1854710561/nihilist-birthday-balloons/faqs',\n",
       " 'https://www.kickstarter.com/projects/991561780/how-to-make-friends-as-an-adult-the-book/faqs',\n",
       " 'https://www.kickstarter.com/projects/johnjennison/this-deck-is-haunted-an-oracle-of-ghost-and-spirits/faqs',\n",
       " 'https://www.kickstarter.com/projects/515267715/mars-awaits-2015-calendar/faqs',\n",
       " 'https://www.kickstarter.com/projects/1743551060/replacing-my-stolen-equipment/faqs']"
      ]
     },
     "execution_count": 7,
     "metadata": {},
     "output_type": "execute_result"
    }
   ],
   "source": [
    "faq_urls[-9:]"
   ]
  },
  {
   "cell_type": "code",
   "execution_count": 19,
   "metadata": {},
   "outputs": [],
   "source": [
    "#Scrape using beautifulSoup\n",
    "\n",
    "from urllib.request import urlopen\n",
    "from bs4 import BeautifulSoup\n",
    "import re\n",
    "import requests\n",
    "import time\n",
    "import random\n",
    "from time import sleep"
   ]
  },
  {
   "cell_type": "code",
   "execution_count": 9,
   "metadata": {},
   "outputs": [],
   "source": [
    "#Update user agent\n",
    "\n",
    "headers = requests.utils.default_headers()\n",
    "headers.update({\n",
    "    'User-Agent': 'Mozilla/5.0 (X11; Ubuntu; Linux x86_64; rv:52.0) Gecko/20100101 Firefox/52.0',\n",
    "})"
   ]
  },
  {
   "cell_type": "code",
   "execution_count": 10,
   "metadata": {},
   "outputs": [],
   "source": [
    "#find child tags\n",
    "def processChildren(children):\n",
    "    result = [\"\"]\n",
    "    # for each tag process and append result\n",
    "    for child in children:\n",
    "        # checks valid tag type and text content\n",
    "        if checkValidTags(child):\n",
    "            # strip out white space and break characters\n",
    "            divText = child.getText().strip().strip(\"\\n\")\n",
    "            divText = divText.replace(u'\\xa0', \"\")\n",
    "            # If result is not empty append and continue\n",
    "            if len(divText) > 0:\n",
    "                result[0] += (divText + \" \")\n",
    "\n",
    "    return result\n",
    "\n",
    "#check valid elements/html tags\n",
    "def checkValidTags(element):\n",
    "    check = True\n",
    "    if element.find(text=False):\n",
    "        check = False\n",
    "    return check\n",
    "\n",
    "#Get FAQ text\n",
    "def findFAQ(htmlIn):\n",
    "    # select the main description <div>\n",
    "    divs = htmlIn.find(\"div\", {\"class\": \"NS_projects__faqs_section js-project-faqs\"})\n",
    "    result = [\"\"]\n",
    "    \n",
    "    # find all tags inside of main <div>\n",
    "    children = divs.findChildren()\n",
    "    result = processChildren(children)\n",
    "    return result"
   ]
  },
  {
   "cell_type": "code",
   "execution_count": 15,
   "metadata": {},
   "outputs": [],
   "source": [
    "def scrapeFAQ(urlClean):\n",
    "    \n",
    "    html = urlopen(urlClean)\n",
    "    soup = BeautifulSoup(html, 'lxml')\n",
    "\n",
    "    try:\n",
    "        result = re.sub(\"(Frequently Asked Questions)*\"\n",
    "                        \"(Looks like there aren't any frequently asked questions yet. Ask the project creator directly\\.)*\"\n",
    "                        \"(Don't see the answer to your question?)*\"\n",
    "                        \"(Ask the project creator directly. Ask a question)*\"\n",
    "                        \"(Ask a question)*\"\n",
    "                        , \"\"\n",
    "                        , findFAQ(soup)[0])\n",
    "        FAQ_list.append([result])\n",
    "        \n",
    "    except Exception as e:\n",
    "        print(e)\n",
    "        FAQ_list.append(\"could not find faqs\")\n",
    "        print(\"could not find faqs\")"
   ]
  },
  {
   "cell_type": "code",
   "execution_count": 30,
   "metadata": {},
   "outputs": [],
   "source": [
    "#Define start and end int\n",
    "start_int = 200\n",
    "end_int = 1000"
   ]
  },
  {
   "cell_type": "code",
   "execution_count": 31,
   "metadata": {},
   "outputs": [
    {
     "name": "stderr",
     "output_type": "stream",
     "text": [
      "100%|████████████████████████████████████████████████████████████████████████████████| 800/800 [43:43<00:00,  3.28s/it]\n"
     ]
    }
   ],
   "source": [
    "#Scrape all FAQ and append to list\n",
    "\n",
    "FAQ_list = []\n",
    "sleepTimes = [0.1, 0.2, 0.3, 0.5, 0.8, 1]\n",
    "\n",
    "for i in tqdm(range(start_int,end_int)):\n",
    "    scrapeFAQ(faq_urls[i])\n",
    "    sleep(random.choice(sleepTimes))"
   ]
  },
  {
   "cell_type": "code",
   "execution_count": 32,
   "metadata": {},
   "outputs": [
    {
     "data": {
      "text/plain": [
       "800"
      ]
     },
     "execution_count": 32,
     "metadata": {},
     "output_type": "execute_result"
    }
   ],
   "source": [
    "len(FAQ_list)"
   ]
  },
  {
   "cell_type": "code",
   "execution_count": 33,
   "metadata": {},
   "outputs": [
    {
     "data": {
      "text/plain": [
       "[['   '],\n",
       " [' Why use Kickstarter for this project? We’re going back to our roots! Brotherwise Games owes our existence to our original Boss Monster campaign in 2012. Since then, Boss Monster has become one of the best-selling hobby games of the past decade. We haven’t needed to crowdfund a Boss Monster board game since 2014. But we have a lot of ideas for how to upgrade Overlord with stretch goals, and we want to make sure everyone hears about it. So we’re headed back to Kickstarter on June 16! Tue, Jun 16 2020 9:46 am EDT Is this an all-new game? Yes. Overlord is an entirely new game set in Arcadia, the retro-inspired world of Boss Monster. It’s designed by new people, it’s a different genre of game, and it doesn\\'t have some of the hectic \"take that\" elements of Boss Monster. Both games share the theme of controlling a videogame-style villain in a pixel art world. Beyond that, they’re totally unique! Tue, Jun 16 2020 9:46 am EDT What are the core mechanics? Each turn, you’ll draft one tile and one token from the market. To maximize your Power, you’ll need to find the optimal placement for your terrain tiles, monsters, and dungeon entrances!  As you fill your map, use Portals to move your monsters and Crystals to multiply your Power. With smart placement and clever combos, you can build a truly dangerous map. Many Bosses will compete, but only one will be declared the ultimate Overlord! Tue, Jun 16 2020 9:46 am EDT That sounds cool, but what if I want more Boss Monster? We have good news for Boss Monster fans! This October, we’ll also be releasing Vault of Villains, a 64-card “unifying expansion” that allows you to combine any Boss Monster sets you own. Add Minibosses to any big set, add Explorer cards to a Miniboss game, and add tons of new variety to your game. Vault of Villains will be available as an Add-On for the Overlord Kickstarter (at 20% off MSRP), so you can get them both at the same time! Mon, Jul 6 2020 10:45 pm EDT What is Brotherwise doing to make shipping costs more affordable? This is a large, heavy game packed with tiles and tokens. We\\'ve done what we can to limit international shipping costs in regions where we have local fulfillment partners: Canada, EU, UK, Australia, and Asia. In other regions, the costs reflect shipping fewer units over a longer distance. But in all regions, Brotherwise Games is subsidizing a portion of shipping costs for every unit. Current shipping costs are our best estimates; final shipping costs will be charged in Backerkit, our pledge manager. If you add additional games in BackerKit, shipping costs will go up based on the actual cost of shipping. Wed, Jul 8 2020 8:13 am EDT How will this campaign handle \"backer exclusive\" content? Based on our experiences with past campaigns, we want to reward backers with special content, but we also want to avoid creating gameplay exclusives that are never available again. With this in mind, we are offering one true \"backer exclusive\" (the Original Backer token bag) that will be inserted (instead of a black bag) in every copy of Overlord pre-ordered through Kickstarter and Backerkit. Our final stretch goals unlocked the Limited Edition bonus pack. This content will not be included in the standard edition of the game. Any content marked \"Limited Edition\" may still be available in the future (at conventions, on BrotherwiseGames.com, and as part of retailer incentive kits) but will not be included in the majority of our print run. Backers get it first, and get it free! Mon, Jul 6 2020 3:26 pm EDT Are there plans to publish non-English language versions of the game? This campaign is for the English-language edition of Overlord. It is likely that Overlord will be translated by some of our publishing partners around the world, such as Pegasus-Spiele in Germany and Asmodee in France. However, they will probably wait to see US sales before making those commitments, so the earliest we might see such a version would be mid-2021. If you\\'re planning to play the game with non-English speakers, it\\'s worth noting that the game is not very language-dependent. The only English text is on the (optional) Boss cards. Everything else is communicated with numerals and icons. Mon, Jun 29 2020 2:56 pm EDT Can the tile tower fit in the box? Yes! The tile tower from the Tower Edition is flat-packed. It\\'s designed to be easily assembled and disassembled between sessions, and there will be room in the box to accommodate it. Mon, Jul 6 2020 10:45 pm EDT How will Add-Ons work? What is the pricing? Add-Ons are added at the same time you pay for shipping, in our BackerKit pledge manager. It will open 1-2 weeks after the end of the campaign, and will allow you to purchase extra copies of the game, the new Vault of Villains expansion for Boss Monster, and more! All Brotherwise Games titles currently in print, as well as some out-of-print Boss Monster card packs, will be available via BackerKit. Pricing will be shared after the campaign closes, but many items will be discounted. For more details about Add-Ons, check out Update #13: https://www.kickstarter.com/projects/brotherwise/overlord-a-boss-monster-adventure/posts/2882815 Wed, Jul 8 2020 8:15 am EDT Can I get the market board separately as an Add-On? Yes, you may. The tile tower and market board will each be available in BackerKit as Add-Ons, though the price to get them as a bundle is lower than purchasing them separately. Wed, Jul 8 2020 8:16 am EDT Can I pledge just $1 to gain access to the BackerKit pledge manager? Yes. In BackerKit, you will be able to upgrade your pledge by adding The Game ($40) or the Tower Edition ($55). You can also add other Brotherwise products at that time. However, you may not downgrade your pledge in BackerKit. Wed, Jul 8 2020 8:15 am EDT ?  '],\n",
       " ['   '],\n",
       " ['   '],\n",
       " ['   '],\n",
       " ['   '],\n",
       " ['   '],\n",
       " ['   '],\n",
       " [' Can the jacket be used in cold weather? The Cubed Travel Jacket™ is a 4-season waterproof shell. You can wear it as a standalone jacket in temperatures as low as 50°F. For best results in cold weather, use the traditional layering method. Depending on the insulation underneath the jacket, it can be worn comfortably in freezing temperatures. Thu, Apr 7 2016 1:36 pm EDT What are the patent pending Napoleon Pockets  INT/EXT PKTS™? Patent pending twin Napoleon INT/EXT PKTS™ (Interior/Exterior accessible pockets) make it easier than ever for you to access important items, like your phone or wallet, in inclement weather. The pockets have zippers that open on the front of the jacket as well as in the interior. Keep your valuables close to your chest and access them without unzipping your whole jacket. Thu, Apr 7 2016 1:36 pm EDT Are there international custom fees? In the case of shipments outside of the US - duty/taxes if applicable will be the responsibility of the receiver. Thu, Apr 7 2016 1:36 pm EDT What are care / cleaning guidelines Care and cleaning are very minimal.  The jacket is highly durable and coated with a DWR (Durable Water Repellant) finish, so most things will roll right off.  Every so often you throw the jacket into the wash / dryer to clean off the jacket for maximum breathability. Here is a link to eVent care information: http://www.eventfabrics.com/fabric-care Sun, Apr 17 2016 12:23 pm EDT ?  '],\n",
       " ['   '],\n",
       " ['   '],\n",
       " ['   '],\n",
       " ['   '],\n",
       " ['   '],\n",
       " ['   '],\n",
       " ['   '],\n",
       " ['   '],\n",
       " [' How tall and what is the capacity? These fine tiki mugs will stand proudly on your shelf at 7\" tall, and hold plenty of frosty beverage with 18oz capacity! Mon, Mar 30 2020 11:05 am EDT ?  '],\n",
       " ['   '],\n",
       " ['   '],\n",
       " ['   '],\n",
       " ['   '],\n",
       " ['   '],\n",
       " ['   '],\n",
       " ['   '],\n",
       " ['   '],\n",
       " ['   '],\n",
       " ['   '],\n",
       " ['   '],\n",
       " ['   '],\n",
       " ['   '],\n",
       " ['   '],\n",
       " ['   '],\n",
       " ['   '],\n",
       " [' Can I hear a sample of the music from the \"Painting at Night\" Compilation? Here are links to five of the songs (there will be about 13 songs total).  Hopefully these will give you a good sense of the music on the compilation!  While you are on bandcamp, I also encourage you to check out the full albums of the awesome (and generous) artists supporting this project!  Bandcamp is a GREAT way to buy music and support musicians. https://edisonwoods.bandcamp.com/track/muted-thunderstorms https://ulver.bandcamp.com/track/vigil https://current931.bandcamp.com/track/the-cloud-of-the-unknowing https://missymazzoli.bandcamp.com/track/vespers-for-a-new-dark-age-postlude https://ingowanring.bandcamp.com/track/thousands-of-bees Sun, Nov 6 2016 9:18 am EST Are the limited edition prints signed by the artist? Are they numbered? YES. The prints are numbered and signed by me, Madeline (the artist who painted the original artworks from which the prints are made). In each case, I work closely with the printmaker for a result that is as close to the original painting as possible. I think they look great. Please let me know if you need any further information regarding these prints! Mon, Nov 7 2016 7:12 pm EST ?  '],\n",
       " ['   '],\n",
       " ['   '],\n",
       " ['   '],\n",
       " ['   '],\n",
       " [\" Can you please clarify the 'All items from 'Introductory Level' tier' in Elite Adventurer It includes all items from the 'I want to see THIS!' reward.   Sticker, 2 passes for friends, 2 free drinks (nonalcoholic), and enthusiastic welcome. Wed, Jun 26 2019 9:43 am EDT ?  \"],\n",
       " ['   '],\n",
       " ['   '],\n",
       " ['   '],\n",
       " ['   '],\n",
       " ['   '],\n",
       " ['   '],\n",
       " ['   '],\n",
       " ['   '],\n",
       " ['   '],\n",
       " ['   ']]"
      ]
     },
     "execution_count": 33,
     "metadata": {},
     "output_type": "execute_result"
    }
   ],
   "source": [
    "FAQ_list[-50:]"
   ]
  },
  {
   "cell_type": "code",
   "execution_count": 34,
   "metadata": {},
   "outputs": [],
   "source": [
    "df_export = pd.DataFrame({\"index\":list(range(start_int,end_int)),\n",
    "                         \"faq\":FAQ_list}, index = None)\n",
    "filename = \"FAQ_text_\" + str(start_int) + \"-\" + str(end_int)\n",
    "df_export.to_csv(\"Output/FAQ/{}.csv\".format(filename))"
   ]
  },
  {
   "cell_type": "code",
   "execution_count": null,
   "metadata": {},
   "outputs": [],
   "source": []
  },
  {
   "cell_type": "code",
   "execution_count": 117,
   "metadata": {},
   "outputs": [],
   "source": [
    "#Get number of FAQs\n",
    "\n",
    "def scrapeFAQ_num(urlClean):\n",
    "    html = urlopen(urlClean)\n",
    "    soup = BeautifulSoup(html, 'lxml')\n",
    "    \n",
    "    try:\n",
    "        num = soup.select(\"#faq-emoji .count\")\n",
    "        if len(num) > 0:\n",
    "            for div in num:\n",
    "                FAQ_num.append(div.text)\n",
    "        else:\n",
    "            FAQ_num.append(0)\n",
    "        \n",
    "    except Exception as e:\n",
    "        FAQ_num.append(0)"
   ]
  },
  {
   "cell_type": "code",
   "execution_count": 135,
   "metadata": {},
   "outputs": [
    {
     "name": "stderr",
     "output_type": "stream",
     "text": [
      "100%|████████████████████████████████████████████████████████████████████████████████| 500/500 [19:35<00:00,  2.35s/it]\n"
     ]
    }
   ],
   "source": [
    "start_int = 500\n",
    "end_int = 1000\n",
    "\n",
    "FAQ_num = []\n",
    "sleepTimes = [0.05, 0.1, 0.2, 0.3]\n",
    "\n",
    "for i in tqdm(range(start_int,end_int)):\n",
    "    scrapeFAQ_num(faq_urls[i])\n",
    "    sleep(random.choice(sleepTimes))"
   ]
  },
  {
   "cell_type": "code",
   "execution_count": 136,
   "metadata": {},
   "outputs": [],
   "source": [
    "FAQ_num = list(map(int, FAQ_num)) "
   ]
  },
  {
   "cell_type": "code",
   "execution_count": 137,
   "metadata": {},
   "outputs": [
    {
     "data": {
      "text/plain": [
       "[8,\n",
       " 0,\n",
       " 0,\n",
       " 0,\n",
       " 0,\n",
       " 0,\n",
       " 0,\n",
       " 1,\n",
       " 0,\n",
       " 0,\n",
       " 0,\n",
       " 0,\n",
       " 0,\n",
       " 0,\n",
       " 0,\n",
       " 5,\n",
       " 0,\n",
       " 0,\n",
       " 0,\n",
       " 0,\n",
       " 6,\n",
       " 0,\n",
       " 1,\n",
       " 0,\n",
       " 0,\n",
       " 0,\n",
       " 0,\n",
       " 0,\n",
       " 0,\n",
       " 0]"
      ]
     },
     "execution_count": 137,
     "metadata": {},
     "output_type": "execute_result"
    }
   ],
   "source": [
    "FAQ_num[0:30]"
   ]
  },
  {
   "cell_type": "code",
   "execution_count": 138,
   "metadata": {},
   "outputs": [],
   "source": [
    "df_export = pd.DataFrame({\"index\":list(range(start_int,end_int)),\n",
    "                         \"num_faq\":FAQ_num}, index = None)\n",
    "filename = \"FAQ_Num_\" + str(start_int) + \"-\" + str(end_int)\n",
    "df_export.to_csv(\"Output/FAQ/{}.csv\".format(filename))"
   ]
  },
  {
   "cell_type": "code",
   "execution_count": null,
   "metadata": {},
   "outputs": [],
   "source": []
  },
  {
   "cell_type": "markdown",
   "metadata": {},
   "source": [
    "## Merge Files"
   ]
  },
  {
   "cell_type": "code",
   "execution_count": 6,
   "metadata": {},
   "outputs": [],
   "source": [
    "files = glob.glob(\"Output/FAQ/FAQ_text*.csv\")\n",
    "\n",
    "csv = []\n",
    "\n",
    "for file in files:\n",
    "    df = pd.read_csv(file, index_col=0, header=0)\n",
    "    csv.append(df)\n",
    "    \n",
    "FAQ_text_0to1000 = pd.concat(csv, axis=0, ignore_index=True)"
   ]
  },
  {
   "cell_type": "code",
   "execution_count": 10,
   "metadata": {},
   "outputs": [
    {
     "data": {
      "text/html": [
       "<div>\n",
       "<style scoped>\n",
       "    .dataframe tbody tr th:only-of-type {\n",
       "        vertical-align: middle;\n",
       "    }\n",
       "\n",
       "    .dataframe tbody tr th {\n",
       "        vertical-align: top;\n",
       "    }\n",
       "\n",
       "    .dataframe thead th {\n",
       "        text-align: right;\n",
       "    }\n",
       "</style>\n",
       "<table border=\"1\" class=\"dataframe\">\n",
       "  <thead>\n",
       "    <tr style=\"text-align: right;\">\n",
       "      <th></th>\n",
       "      <th>index</th>\n",
       "      <th>faq</th>\n",
       "    </tr>\n",
       "  </thead>\n",
       "  <tbody>\n",
       "    <tr>\n",
       "      <th>0</th>\n",
       "      <td>0</td>\n",
       "      <td>['   ']</td>\n",
       "    </tr>\n",
       "    <tr>\n",
       "      <th>1</th>\n",
       "      <td>1</td>\n",
       "      <td>['   ']</td>\n",
       "    </tr>\n",
       "    <tr>\n",
       "      <th>2</th>\n",
       "      <td>2</td>\n",
       "      <td>['   ']</td>\n",
       "    </tr>\n",
       "    <tr>\n",
       "      <th>3</th>\n",
       "      <td>3</td>\n",
       "      <td>['   ']</td>\n",
       "    </tr>\n",
       "    <tr>\n",
       "      <th>4</th>\n",
       "      <td>4</td>\n",
       "      <td>['   ']</td>\n",
       "    </tr>\n",
       "  </tbody>\n",
       "</table>\n",
       "</div>"
      ],
      "text/plain": [
       "   index      faq\n",
       "0      0  ['   ']\n",
       "1      1  ['   ']\n",
       "2      2  ['   ']\n",
       "3      3  ['   ']\n",
       "4      4  ['   ']"
      ]
     },
     "execution_count": 10,
     "metadata": {},
     "output_type": "execute_result"
    }
   ],
   "source": [
    "FAQ_text_0to1000.head(5)"
   ]
  },
  {
   "cell_type": "code",
   "execution_count": 11,
   "metadata": {},
   "outputs": [],
   "source": [
    "files = glob.glob(\"Output/FAQ/FAQ_Num*.csv\")\n",
    "\n",
    "csv = []\n",
    "\n",
    "for file in files:\n",
    "    df = pd.read_csv(file, index_col=0, header=0)\n",
    "    csv.append(df)\n",
    "    \n",
    "FAQ_Num_0to1000 = pd.concat(csv, axis=0, ignore_index=True)"
   ]
  },
  {
   "cell_type": "code",
   "execution_count": 15,
   "metadata": {},
   "outputs": [
    {
     "data": {
      "text/html": [
       "<div>\n",
       "<style scoped>\n",
       "    .dataframe tbody tr th:only-of-type {\n",
       "        vertical-align: middle;\n",
       "    }\n",
       "\n",
       "    .dataframe tbody tr th {\n",
       "        vertical-align: top;\n",
       "    }\n",
       "\n",
       "    .dataframe thead th {\n",
       "        text-align: right;\n",
       "    }\n",
       "</style>\n",
       "<table border=\"1\" class=\"dataframe\">\n",
       "  <thead>\n",
       "    <tr style=\"text-align: right;\">\n",
       "      <th></th>\n",
       "      <th>index</th>\n",
       "      <th>num_faq</th>\n",
       "    </tr>\n",
       "  </thead>\n",
       "  <tbody>\n",
       "    <tr>\n",
       "      <th>995</th>\n",
       "      <td>995</td>\n",
       "      <td>0</td>\n",
       "    </tr>\n",
       "    <tr>\n",
       "      <th>996</th>\n",
       "      <td>996</td>\n",
       "      <td>0</td>\n",
       "    </tr>\n",
       "    <tr>\n",
       "      <th>997</th>\n",
       "      <td>997</td>\n",
       "      <td>0</td>\n",
       "    </tr>\n",
       "    <tr>\n",
       "      <th>998</th>\n",
       "      <td>998</td>\n",
       "      <td>0</td>\n",
       "    </tr>\n",
       "    <tr>\n",
       "      <th>999</th>\n",
       "      <td>999</td>\n",
       "      <td>0</td>\n",
       "    </tr>\n",
       "  </tbody>\n",
       "</table>\n",
       "</div>"
      ],
      "text/plain": [
       "     index  num_faq\n",
       "995    995        0\n",
       "996    996        0\n",
       "997    997        0\n",
       "998    998        0\n",
       "999    999        0"
      ]
     },
     "execution_count": 15,
     "metadata": {},
     "output_type": "execute_result"
    }
   ],
   "source": [
    "FAQ_Num_0to1000.tail(5)"
   ]
  },
  {
   "cell_type": "code",
   "execution_count": 18,
   "metadata": {},
   "outputs": [],
   "source": [
    "FAQ_combined_0to1000 = pd.concat([FAQ_text_0to1000, FAQ_Num_0to1000], axis=1, ignore_index=False)"
   ]
  },
  {
   "cell_type": "code",
   "execution_count": 29,
   "metadata": {},
   "outputs": [
    {
     "data": {
      "text/html": [
       "<div>\n",
       "<style scoped>\n",
       "    .dataframe tbody tr th:only-of-type {\n",
       "        vertical-align: middle;\n",
       "    }\n",
       "\n",
       "    .dataframe tbody tr th {\n",
       "        vertical-align: top;\n",
       "    }\n",
       "\n",
       "    .dataframe thead th {\n",
       "        text-align: right;\n",
       "    }\n",
       "</style>\n",
       "<table border=\"1\" class=\"dataframe\">\n",
       "  <thead>\n",
       "    <tr style=\"text-align: right;\">\n",
       "      <th></th>\n",
       "      <th>faq</th>\n",
       "      <th>num_faq</th>\n",
       "    </tr>\n",
       "  </thead>\n",
       "  <tbody>\n",
       "    <tr>\n",
       "      <th>0</th>\n",
       "      <td>['   ']</td>\n",
       "      <td>0</td>\n",
       "    </tr>\n",
       "    <tr>\n",
       "      <th>1</th>\n",
       "      <td>['   ']</td>\n",
       "      <td>0</td>\n",
       "    </tr>\n",
       "    <tr>\n",
       "      <th>2</th>\n",
       "      <td>['   ']</td>\n",
       "      <td>0</td>\n",
       "    </tr>\n",
       "    <tr>\n",
       "      <th>3</th>\n",
       "      <td>['   ']</td>\n",
       "      <td>0</td>\n",
       "    </tr>\n",
       "    <tr>\n",
       "      <th>4</th>\n",
       "      <td>['   ']</td>\n",
       "      <td>0</td>\n",
       "    </tr>\n",
       "  </tbody>\n",
       "</table>\n",
       "</div>"
      ],
      "text/plain": [
       "       faq  num_faq\n",
       "0  ['   ']        0\n",
       "1  ['   ']        0\n",
       "2  ['   ']        0\n",
       "3  ['   ']        0\n",
       "4  ['   ']        0"
      ]
     },
     "execution_count": 29,
     "metadata": {},
     "output_type": "execute_result"
    }
   ],
   "source": [
    "FAQ_combined_0to1000.head(5)"
   ]
  },
  {
   "cell_type": "code",
   "execution_count": 21,
   "metadata": {},
   "outputs": [],
   "source": [
    "FAQ_combined_0to1000 = FAQ_combined_0to1000.drop(FAQ_combined_0to1000.columns[2], axis=1)"
   ]
  },
  {
   "cell_type": "code",
   "execution_count": 28,
   "metadata": {},
   "outputs": [
    {
     "data": {
      "text/html": [
       "<div>\n",
       "<style scoped>\n",
       "    .dataframe tbody tr th:only-of-type {\n",
       "        vertical-align: middle;\n",
       "    }\n",
       "\n",
       "    .dataframe tbody tr th {\n",
       "        vertical-align: top;\n",
       "    }\n",
       "\n",
       "    .dataframe thead th {\n",
       "        text-align: right;\n",
       "    }\n",
       "</style>\n",
       "<table border=\"1\" class=\"dataframe\">\n",
       "  <thead>\n",
       "    <tr style=\"text-align: right;\">\n",
       "      <th></th>\n",
       "      <th>faq</th>\n",
       "      <th>num_faq</th>\n",
       "    </tr>\n",
       "  </thead>\n",
       "  <tbody>\n",
       "    <tr>\n",
       "      <th>0</th>\n",
       "      <td>['   ']</td>\n",
       "      <td>0</td>\n",
       "    </tr>\n",
       "    <tr>\n",
       "      <th>1</th>\n",
       "      <td>['   ']</td>\n",
       "      <td>0</td>\n",
       "    </tr>\n",
       "    <tr>\n",
       "      <th>2</th>\n",
       "      <td>['   ']</td>\n",
       "      <td>0</td>\n",
       "    </tr>\n",
       "    <tr>\n",
       "      <th>3</th>\n",
       "      <td>['   ']</td>\n",
       "      <td>0</td>\n",
       "    </tr>\n",
       "    <tr>\n",
       "      <th>4</th>\n",
       "      <td>['   ']</td>\n",
       "      <td>0</td>\n",
       "    </tr>\n",
       "    <tr>\n",
       "      <th>5</th>\n",
       "      <td>['   ']</td>\n",
       "      <td>0</td>\n",
       "    </tr>\n",
       "    <tr>\n",
       "      <th>6</th>\n",
       "      <td>['   ']</td>\n",
       "      <td>0</td>\n",
       "    </tr>\n",
       "    <tr>\n",
       "      <th>7</th>\n",
       "      <td>['   ']</td>\n",
       "      <td>0</td>\n",
       "    </tr>\n",
       "    <tr>\n",
       "      <th>8</th>\n",
       "      <td>['   ']</td>\n",
       "      <td>0</td>\n",
       "    </tr>\n",
       "    <tr>\n",
       "      <th>9</th>\n",
       "      <td>['   ']</td>\n",
       "      <td>0</td>\n",
       "    </tr>\n",
       "    <tr>\n",
       "      <th>10</th>\n",
       "      <td>['   ']</td>\n",
       "      <td>0</td>\n",
       "    </tr>\n",
       "    <tr>\n",
       "      <th>11</th>\n",
       "      <td>['   ']</td>\n",
       "      <td>0</td>\n",
       "    </tr>\n",
       "    <tr>\n",
       "      <th>12</th>\n",
       "      <td>[\" What happens to my pledge if you don't meet...</td>\n",
       "      <td>1</td>\n",
       "    </tr>\n",
       "    <tr>\n",
       "      <th>13</th>\n",
       "      <td>['   ']</td>\n",
       "      <td>0</td>\n",
       "    </tr>\n",
       "    <tr>\n",
       "      <th>14</th>\n",
       "      <td>['   ']</td>\n",
       "      <td>0</td>\n",
       "    </tr>\n",
       "    <tr>\n",
       "      <th>15</th>\n",
       "      <td>[\" Who, or What is Razroo? Razroo is a softwar...</td>\n",
       "      <td>1</td>\n",
       "    </tr>\n",
       "    <tr>\n",
       "      <th>16</th>\n",
       "      <td>['   ']</td>\n",
       "      <td>0</td>\n",
       "    </tr>\n",
       "    <tr>\n",
       "      <th>17</th>\n",
       "      <td>['   ']</td>\n",
       "      <td>0</td>\n",
       "    </tr>\n",
       "    <tr>\n",
       "      <th>18</th>\n",
       "      <td>['   ']</td>\n",
       "      <td>0</td>\n",
       "    </tr>\n",
       "    <tr>\n",
       "      <th>19</th>\n",
       "      <td>['   ']</td>\n",
       "      <td>0</td>\n",
       "    </tr>\n",
       "  </tbody>\n",
       "</table>\n",
       "</div>"
      ],
      "text/plain": [
       "                                                  faq  num_faq\n",
       "0                                             ['   ']        0\n",
       "1                                             ['   ']        0\n",
       "2                                             ['   ']        0\n",
       "3                                             ['   ']        0\n",
       "4                                             ['   ']        0\n",
       "5                                             ['   ']        0\n",
       "6                                             ['   ']        0\n",
       "7                                             ['   ']        0\n",
       "8                                             ['   ']        0\n",
       "9                                             ['   ']        0\n",
       "10                                            ['   ']        0\n",
       "11                                            ['   ']        0\n",
       "12  [\" What happens to my pledge if you don't meet...        1\n",
       "13                                            ['   ']        0\n",
       "14                                            ['   ']        0\n",
       "15  [\" Who, or What is Razroo? Razroo is a softwar...        1\n",
       "16                                            ['   ']        0\n",
       "17                                            ['   ']        0\n",
       "18                                            ['   ']        0\n",
       "19                                            ['   ']        0"
      ]
     },
     "execution_count": 28,
     "metadata": {},
     "output_type": "execute_result"
    }
   ],
   "source": [
    "FAQ_combined_0to1000.head(20)"
   ]
  },
  {
   "cell_type": "code",
   "execution_count": 25,
   "metadata": {},
   "outputs": [],
   "source": [
    "FAQ_combined_0to1000.to_csv(\"Output/FAQ/{}.csv\".format(\"FAQ_combined_0to1000\"))"
   ]
  },
  {
   "cell_type": "code",
   "execution_count": null,
   "metadata": {},
   "outputs": [],
   "source": []
  }
 ],
 "metadata": {
  "kernelspec": {
   "display_name": "Python 3",
   "language": "python",
   "name": "python3"
  },
  "language_info": {
   "codemirror_mode": {
    "name": "ipython",
    "version": 3
   },
   "file_extension": ".py",
   "mimetype": "text/x-python",
   "name": "python",
   "nbconvert_exporter": "python",
   "pygments_lexer": "ipython3",
   "version": "3.8.5"
  }
 },
 "nbformat": 4,
 "nbformat_minor": 4
}
